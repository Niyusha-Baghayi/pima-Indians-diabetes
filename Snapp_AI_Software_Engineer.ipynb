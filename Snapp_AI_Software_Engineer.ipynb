{
  "nbformat": 4,
  "nbformat_minor": 0,
  "metadata": {
    "colab": {
      "name": "Snapp-AI-Software-Engineer.ipynb",
      "provenance": [],
      "collapsed_sections": [
        "g2FazVHvubGW",
        "dA_xYWJYx1yl",
        "nFVrsW_kyVnv",
        "PeezbL0IyexV",
        "ExSqcUfbHhN1",
        "JgTrvTC9GJE6",
        "ixjfMTJsPElp",
        "GhfLCEyZPM1T",
        "3aGTTbAWRJm1",
        "xYMegCleRSns",
        "7AExLrG0RY7A",
        "X3zAGbAxRbwx",
        "dBEI-bw_Rdzi",
        "gCRO4dftRfrC",
        "zUYqwXFoRhXJ",
        "CaitG_GhRjQ5",
        "K-AW2YGVeb3m",
        "-l4Jwzs3jB2-",
        "g6vEUlwMjebH",
        "l-sVZVuPjx9O",
        "ZMbJh97MkJST",
        "tck_vaYVn-5m",
        "uWVc-Ww7oKwL",
        "nTIH_OAzkQKU",
        "y3IoL-MpoeOw",
        "QKBiozY0S4xN",
        "Ea8QmaQZWId2",
        "QnZ-ZCcCWzQo",
        "ZXaIQPiDY6Wz",
        "BXJepAnWY_rn",
        "Slty-t9bo8iq",
        "rVZeSt7WagEG"
      ]
    },
    "kernelspec": {
      "name": "python3",
      "display_name": "Python 3"
    },
    "language_info": {
      "name": "python"
    }
  },
  "cells": [
    {
      "cell_type": "markdown",
      "source": [
        "# **Imports**"
      ],
      "metadata": {
        "id": "g2FazVHvubGW"
      }
    },
    {
      "cell_type": "code",
      "source": [
        "import numpy as np\n",
        "import pandas as pd\n",
        "import matplotlib.pyplot as plt\n",
        "import seaborn as sns\n",
        "import plotly.express as px\n",
        "from scipy import stats\n",
        "import collections\n",
        "from sklearn.preprocessing import StandardScaler, RobustScaler, MinMaxScaler\n",
        "from sklearn.metrics import precision_score, recall_score, f1_score, roc_auc_score, accuracy_score, classification_report, roc_curve, confusion_matrix\n",
        "from sklearn.model_selection import train_test_split\n",
        "from sklearn.utils import resample\n",
        "from IPython.core.interactiveshell import InteractiveShell\n",
        "import warnings\n",
        "\n",
        "#importing packages for modeling\n",
        "from sklearn.linear_model import LogisticRegression, RidgeClassifier, SGDClassifier\n",
        "from sklearn.svm import SVC, LinearSVC\n",
        "from sklearn.ensemble import RandomForestClassifier, BaggingClassifier, AdaBoostClassifier, ExtraTreesClassifier, GradientBoostingClassifier, StackingClassifier, VotingClassifier\n",
        "from xgboost import XGBClassifier\n",
        "from sklearn.neural_network import MLPClassifier\n",
        "from sklearn.pipeline import make_pipeline\n",
        "\n",
        "import tensorflow as tf\n",
        "from tensorflow import keras\n",
        "from tensorflow.keras import layers\n",
        "from keras.layers import Dropout\n",
        "from keras.models import Sequential\n",
        "from keras.layers import Dense\n",
        "from keras.layers import BatchNormalization\n",
        "\n",
        "%matplotlib inline\n",
        "InteractiveShell.ast_node_interactivity = \"all\"\n",
        "pd.set_option('display.max_rows', None)\n",
        "pd.set_option('display.max_columns', None)\n",
        "pd.set_option('display.width', None)\n",
        "pd.set_option('display.max_colwidth', None)\n",
        "warnings.filterwarnings('ignore')"
      ],
      "metadata": {
        "id": "p4cxuzKWudnN"
      },
      "execution_count": 1,
      "outputs": []
    },
    {
      "cell_type": "code",
      "source": [
        "target_names=['0', '1']"
      ],
      "metadata": {
        "id": "pcClWiGnkWVX"
      },
      "execution_count": 2,
      "outputs": []
    },
    {
      "cell_type": "markdown",
      "source": [
        "# **Functions**"
      ],
      "metadata": {
        "id": "dA_xYWJYx1yl"
      }
    },
    {
      "cell_type": "code",
      "source": [
        "def evaluation_metrics(y_test, y_pre, target_names):\n",
        "    #scores\n",
        "    print(\"Accuracy :\",accuracy_score(y_test,y_pre))\n",
        "    print(\"Precision :\",precision_score(y_test,y_pre))\n",
        "    print(\"Recall :\",recall_score(y_test,y_pre))\n",
        "    print(\"F1 Score :\",f1_score(y_test,y_pre))\n",
        "\n",
        "    print(classification_report(y_test, y_pre, target_names=target_names))\n",
        "\n",
        "    #AUC\n",
        "    fpr, tpr, _ = roc_curve(y_test,  y_pre)\n",
        "    auc = roc_auc_score(y_test, y_pre)\n",
        "    print(\"AUC :\", auc)\n",
        "\n",
        "    #ROC\n",
        "    plt.plot(fpr,tpr,label=\"uc={:.3f})\".format(auc))\n",
        "    plt.plot([0, 1], [0, 1], 'k--')\n",
        "    plt.xlabel('False positive rate')\n",
        "    plt.ylabel('True positive rate')\n",
        "    plt.title('ROC curve')\n",
        "    plt.legend(loc=4)\n",
        "    plt.show()\n",
        "\n",
        "    #CM matrix\n",
        "    matrix = confusion_matrix(y_test, y_pre)\n",
        "    cm = pd.DataFrame(matrix, index=target_names, columns=target_names)\n",
        "\n",
        "    sns.heatmap(cm, annot=True, cbar=None, cmap=\"Blues\", fmt = 'g')\n",
        "    plt.title(\"Confusion Matrix\"), plt.tight_layout()\n",
        "    plt.ylabel(\"True Class\"), plt.xlabel(\"Predicted Class\")\n",
        "    plt.show()"
      ],
      "metadata": {
        "id": "nnoocwdox5E-"
      },
      "execution_count": 3,
      "outputs": []
    },
    {
      "cell_type": "code",
      "source": [
        "def logistic(X_train,X_test,y_train,y_test):\n",
        "    model=LogisticRegression()\n",
        "    model.fit(X_train,y_train)\n",
        "    y_pre=model.predict(X_test)\n",
        "    evaluation_metrics(y_test, y_pre, target_names)"
      ],
      "metadata": {
        "id": "ndU7jXWzx7i1"
      },
      "execution_count": 4,
      "outputs": []
    },
    {
      "cell_type": "code",
      "source": [
        "def Ridge(X_train,X_test,y_train,y_test):\n",
        "    #train the model\n",
        "    model = RidgeClassifier(random_state=2)\n",
        "    model.fit(X_train, y_train)\n",
        "    #predictions\n",
        "    y_pre = model.predict(X_test)\n",
        "    evaluation_metrics(y_test, y_pre, target_names)"
      ],
      "metadata": {
        "id": "KD62qd8qx9D2"
      },
      "execution_count": 5,
      "outputs": []
    },
    {
      "cell_type": "code",
      "source": [
        "def SGD(X_train,X_test,y_train,y_test):\n",
        "    #train the model\n",
        "    model = SGDClassifier()\n",
        "    model.fit(X_train, y_train)\n",
        "    #predictions\n",
        "    y_pre = model.predict(X_test)\n",
        "    evaluation_metrics(y_test, y_pre, target_names)"
      ],
      "metadata": {
        "id": "GBl0C-lbx_pK"
      },
      "execution_count": 6,
      "outputs": []
    },
    {
      "cell_type": "code",
      "source": [
        "def XGBOOST(X_train,X_test,y_train,y_test):\n",
        "  #train the model\n",
        "  model = XGBClassifier(random_state=2)\n",
        "  model.fit(X_train, y_train)\n",
        "  #predictions\n",
        "  y_pre = model.predict(X_test)\n",
        "  evaluation_metrics(y_test, y_pre, target_names)"
      ],
      "metadata": {
        "id": "ZCU7GbLxyBLG"
      },
      "execution_count": 7,
      "outputs": []
    },
    {
      "cell_type": "code",
      "source": [
        "def RF(X_train,X_test,y_train,y_test):\n",
        "  #train the model\n",
        "  model = RandomForestClassifier(random_state=2)\n",
        "  model.fit(X_train, y_train)\n",
        "  #predictions\n",
        "  y_pre = model.predict(X_test)\n",
        "  evaluation_metrics(y_test, y_pre, target_names)"
      ],
      "metadata": {
        "id": "JpEYRlrVyCpW"
      },
      "execution_count": 8,
      "outputs": []
    },
    {
      "cell_type": "code",
      "source": [
        "def Bagging(X_train,X_test,y_train,y_test):\n",
        "  #train the model\n",
        "  model = BaggingClassifier(base_estimator=SVC(), n_estimators=10, random_state=0)\n",
        "  model.fit(X_train, y_train)\n",
        "  #predictions\n",
        "  y_pre = model.predict(X_test)\n",
        "  evaluation_metrics(y_test, y_pre, target_names)"
      ],
      "metadata": {
        "id": "qo-BqC4ByEHd"
      },
      "execution_count": 9,
      "outputs": []
    },
    {
      "cell_type": "code",
      "source": [
        "def AdaBoost(X_train,X_test,y_train,y_test):\n",
        "  #train the model\n",
        "  model = AdaBoostClassifier(n_estimators=100, random_state=0)\n",
        "  model.fit(X_train, y_train)\n",
        "  #predictions\n",
        "  y_pre = model.predict(X_test)\n",
        "  evaluation_metrics(y_test, y_pre, target_names)"
      ],
      "metadata": {
        "id": "rwBXZPDVyFsN"
      },
      "execution_count": 10,
      "outputs": []
    },
    {
      "cell_type": "code",
      "source": [
        "def ExtraTrees(X_train,X_test,y_train,y_test):\n",
        "  #train the model\n",
        "  model = ExtraTreesClassifier(n_estimators=100, random_state=0)\n",
        "  model.fit(X_train, y_train)\n",
        "  #predictions\n",
        "  y_pre = model.predict(X_test)\n",
        "  evaluation_metrics(y_test, y_pre, target_names)"
      ],
      "metadata": {
        "id": "sTm3dK9oyG80"
      },
      "execution_count": 11,
      "outputs": []
    },
    {
      "cell_type": "code",
      "source": [
        "def GradientBoosting(X_train,X_test,y_train,y_test):\n",
        "  #train the model\n",
        "  model = GradientBoostingClassifier(n_estimators = 600, max_depth = 20, min_samples_split = 4,learning_rate = 0.01, criterion='mse')\n",
        "  model.fit(X_train, y_train)\n",
        "  #predictions\n",
        "  y_pre = model.predict(X_test)\n",
        "  evaluation_metrics(y_test, y_pre, target_names)"
      ],
      "metadata": {
        "id": "XRvD2U5xyIkg"
      },
      "execution_count": 12,
      "outputs": []
    },
    {
      "cell_type": "code",
      "source": [
        "def Stacking(X_train,X_test,y_train,y_test):\n",
        "  #train the model\n",
        "  estimators = [('rf', RandomForestClassifier(n_estimators=10, random_state=42)), ('svr', make_pipeline(StandardScaler(), LinearSVC(random_state=42)))]\n",
        "  model = StackingClassifier(estimators=estimators, final_estimator=LogisticRegression())\n",
        "  model.fit(X_train, y_train)\n",
        "  #predictions\n",
        "  y_pre = model.predict(X_test)\n",
        "  evaluation_metrics(y_test, y_pre, target_names)"
      ],
      "metadata": {
        "id": "Mg6JMssoyKHF"
      },
      "execution_count": 13,
      "outputs": []
    },
    {
      "cell_type": "code",
      "source": [
        "def MLP(X_train,X_test,y_train,y_test):\n",
        "  #train the model\n",
        "  mlp = MLPClassifier(solver='lbfgs', hidden_layer_sizes=(100,100), random_state=2)\n",
        "  mlp.fit(X_train, y_train)\n",
        "  mlp.get_params(deep=True)\n",
        "  #predictions\n",
        "  y_pre = mlp.predict(X_test)\n",
        "  evaluation_metrics(y_test, y_pre, target_names)"
      ],
      "metadata": {
        "id": "1SmfnDR9yMK4"
      },
      "execution_count": 14,
      "outputs": []
    },
    {
      "cell_type": "code",
      "source": [
        "def MNN(X_train,X_test,y_train,y_test):\n",
        "  #train the model\n",
        "  model = Sequential()\n",
        "  model.add(Dense(32, input_shape=(X_train.shape[1],), activation='relu')),\n",
        "  model.add(Dropout(0.2)),\n",
        "  model.add(Dense(16, activation='relu')),\n",
        "  model.add(Dropout(0.2)),\n",
        "  model.add(Dense(8, activation='relu')),\n",
        "  model.add(Dropout(0.2)),\n",
        "  model.add(Dense(4, activation='relu')),\n",
        "  model.add(Dropout(0.2)),\n",
        "  model.add(Dense(1, activation='sigmoid'))\n",
        "\n",
        "  opt = tf.keras.optimizers.Adam(learning_rate=0.0001) #optimizer\n",
        "\n",
        "  model.compile(optimizer=opt, loss=tf.keras.losses.BinaryCrossentropy(), metrics=['accuracy']) #metrics\n",
        "\n",
        "  earlystopper = tf.keras.callbacks.EarlyStopping(monitor='val_accuracy', min_delta=0, patience=15, verbose=1, mode='auto', baseline=None, restore_best_weights=False)\n",
        "\n",
        "  history = model.fit(X_train.values, y_train.values, epochs = 8, batch_size=10, validation_split = 0.20, verbose = 1, callbacks = [earlystopper])\n",
        "  history_dict = history.history\n",
        "\n",
        "  loss_values = history_dict['loss']\n",
        "  val_loss_values=history_dict['val_loss']\n",
        "  plt.plot(loss_values,'b',label='training loss')\n",
        "  plt.plot(val_loss_values,'r',label='val training loss')\n",
        "  plt.legend()\n",
        "  plt.xlabel(\"Epochs\")\n",
        "  plt.show()  \n",
        "\n",
        "  accuracy_values = history_dict['accuracy']\n",
        "  val_accuracy_values=history_dict['val_accuracy']\n",
        "  plt.plot(val_accuracy_values,'-r',label='val_accuracy')\n",
        "  plt.plot(accuracy_values,'-b',label='accuracy')\n",
        "  plt.legend()\n",
        "  plt.xlabel(\"Epochs\")\n",
        "  plt.show()\n",
        "\n",
        "  #predictions\n",
        "  y_pre = model.predict_classes(X_test)\n",
        "\n",
        "  evaluation_metrics(y_test, y_pre, target_names)"
      ],
      "metadata": {
        "id": "hEZzKcVJyNdK"
      },
      "execution_count": 15,
      "outputs": []
    },
    {
      "cell_type": "markdown",
      "source": [
        "# **Reading data**"
      ],
      "metadata": {
        "id": "nFVrsW_kyVnv"
      }
    },
    {
      "cell_type": "code",
      "source": [
        "df = pd.read_csv(\"https://raw.githubusercontent.com/jbrownlee/Datasets/master/pima-indians-diabetes.csv\", header=None)"
      ],
      "metadata": {
        "id": "k4KyvNW6uf0U"
      },
      "execution_count": 16,
      "outputs": []
    },
    {
      "cell_type": "code",
      "source": [
        "df.columns = [\"A\", \"B\", \"C\", \"D\", \"E\", \"F\", \"G\", \"H\", \"target\"]"
      ],
      "metadata": {
        "id": "UXlNuXcx0F6-"
      },
      "execution_count": 17,
      "outputs": []
    },
    {
      "cell_type": "markdown",
      "source": [
        "# **Data Understanding**"
      ],
      "metadata": {
        "id": "PeezbL0IyexV"
      }
    },
    {
      "cell_type": "markdown",
      "source": [
        "### **Init**"
      ],
      "metadata": {
        "id": "ExSqcUfbHhN1"
      }
    },
    {
      "cell_type": "code",
      "source": [
        "df.head()"
      ],
      "metadata": {
        "colab": {
          "base_uri": "https://localhost:8080/",
          "height": 0
        },
        "id": "RAi1T-aQyeNE",
        "outputId": "1ae3564d-2429-4838-ee02-4869f02bfc10"
      },
      "execution_count": 18,
      "outputs": [
        {
          "output_type": "execute_result",
          "data": {
            "text/plain": [
              "   A    B   C   D    E     F      G   H  target\n",
              "0  6  148  72  35    0  33.6  0.627  50       1\n",
              "1  1   85  66  29    0  26.6  0.351  31       0\n",
              "2  8  183  64   0    0  23.3  0.672  32       1\n",
              "3  1   89  66  23   94  28.1  0.167  21       0\n",
              "4  0  137  40  35  168  43.1  2.288  33       1"
            ],
            "text/html": [
              "\n",
              "  <div id=\"df-2205589c-53d0-4c5c-b644-400918ebd301\">\n",
              "    <div class=\"colab-df-container\">\n",
              "      <div>\n",
              "<style scoped>\n",
              "    .dataframe tbody tr th:only-of-type {\n",
              "        vertical-align: middle;\n",
              "    }\n",
              "\n",
              "    .dataframe tbody tr th {\n",
              "        vertical-align: top;\n",
              "    }\n",
              "\n",
              "    .dataframe thead th {\n",
              "        text-align: right;\n",
              "    }\n",
              "</style>\n",
              "<table border=\"1\" class=\"dataframe\">\n",
              "  <thead>\n",
              "    <tr style=\"text-align: right;\">\n",
              "      <th></th>\n",
              "      <th>A</th>\n",
              "      <th>B</th>\n",
              "      <th>C</th>\n",
              "      <th>D</th>\n",
              "      <th>E</th>\n",
              "      <th>F</th>\n",
              "      <th>G</th>\n",
              "      <th>H</th>\n",
              "      <th>target</th>\n",
              "    </tr>\n",
              "  </thead>\n",
              "  <tbody>\n",
              "    <tr>\n",
              "      <th>0</th>\n",
              "      <td>6</td>\n",
              "      <td>148</td>\n",
              "      <td>72</td>\n",
              "      <td>35</td>\n",
              "      <td>0</td>\n",
              "      <td>33.6</td>\n",
              "      <td>0.627</td>\n",
              "      <td>50</td>\n",
              "      <td>1</td>\n",
              "    </tr>\n",
              "    <tr>\n",
              "      <th>1</th>\n",
              "      <td>1</td>\n",
              "      <td>85</td>\n",
              "      <td>66</td>\n",
              "      <td>29</td>\n",
              "      <td>0</td>\n",
              "      <td>26.6</td>\n",
              "      <td>0.351</td>\n",
              "      <td>31</td>\n",
              "      <td>0</td>\n",
              "    </tr>\n",
              "    <tr>\n",
              "      <th>2</th>\n",
              "      <td>8</td>\n",
              "      <td>183</td>\n",
              "      <td>64</td>\n",
              "      <td>0</td>\n",
              "      <td>0</td>\n",
              "      <td>23.3</td>\n",
              "      <td>0.672</td>\n",
              "      <td>32</td>\n",
              "      <td>1</td>\n",
              "    </tr>\n",
              "    <tr>\n",
              "      <th>3</th>\n",
              "      <td>1</td>\n",
              "      <td>89</td>\n",
              "      <td>66</td>\n",
              "      <td>23</td>\n",
              "      <td>94</td>\n",
              "      <td>28.1</td>\n",
              "      <td>0.167</td>\n",
              "      <td>21</td>\n",
              "      <td>0</td>\n",
              "    </tr>\n",
              "    <tr>\n",
              "      <th>4</th>\n",
              "      <td>0</td>\n",
              "      <td>137</td>\n",
              "      <td>40</td>\n",
              "      <td>35</td>\n",
              "      <td>168</td>\n",
              "      <td>43.1</td>\n",
              "      <td>2.288</td>\n",
              "      <td>33</td>\n",
              "      <td>1</td>\n",
              "    </tr>\n",
              "  </tbody>\n",
              "</table>\n",
              "</div>\n",
              "      <button class=\"colab-df-convert\" onclick=\"convertToInteractive('df-2205589c-53d0-4c5c-b644-400918ebd301')\"\n",
              "              title=\"Convert this dataframe to an interactive table.\"\n",
              "              style=\"display:none;\">\n",
              "        \n",
              "  <svg xmlns=\"http://www.w3.org/2000/svg\" height=\"24px\"viewBox=\"0 0 24 24\"\n",
              "       width=\"24px\">\n",
              "    <path d=\"M0 0h24v24H0V0z\" fill=\"none\"/>\n",
              "    <path d=\"M18.56 5.44l.94 2.06.94-2.06 2.06-.94-2.06-.94-.94-2.06-.94 2.06-2.06.94zm-11 1L8.5 8.5l.94-2.06 2.06-.94-2.06-.94L8.5 2.5l-.94 2.06-2.06.94zm10 10l.94 2.06.94-2.06 2.06-.94-2.06-.94-.94-2.06-.94 2.06-2.06.94z\"/><path d=\"M17.41 7.96l-1.37-1.37c-.4-.4-.92-.59-1.43-.59-.52 0-1.04.2-1.43.59L10.3 9.45l-7.72 7.72c-.78.78-.78 2.05 0 2.83L4 21.41c.39.39.9.59 1.41.59.51 0 1.02-.2 1.41-.59l7.78-7.78 2.81-2.81c.8-.78.8-2.07 0-2.86zM5.41 20L4 18.59l7.72-7.72 1.47 1.35L5.41 20z\"/>\n",
              "  </svg>\n",
              "      </button>\n",
              "      \n",
              "  <style>\n",
              "    .colab-df-container {\n",
              "      display:flex;\n",
              "      flex-wrap:wrap;\n",
              "      gap: 12px;\n",
              "    }\n",
              "\n",
              "    .colab-df-convert {\n",
              "      background-color: #E8F0FE;\n",
              "      border: none;\n",
              "      border-radius: 50%;\n",
              "      cursor: pointer;\n",
              "      display: none;\n",
              "      fill: #1967D2;\n",
              "      height: 32px;\n",
              "      padding: 0 0 0 0;\n",
              "      width: 32px;\n",
              "    }\n",
              "\n",
              "    .colab-df-convert:hover {\n",
              "      background-color: #E2EBFA;\n",
              "      box-shadow: 0px 1px 2px rgba(60, 64, 67, 0.3), 0px 1px 3px 1px rgba(60, 64, 67, 0.15);\n",
              "      fill: #174EA6;\n",
              "    }\n",
              "\n",
              "    [theme=dark] .colab-df-convert {\n",
              "      background-color: #3B4455;\n",
              "      fill: #D2E3FC;\n",
              "    }\n",
              "\n",
              "    [theme=dark] .colab-df-convert:hover {\n",
              "      background-color: #434B5C;\n",
              "      box-shadow: 0px 1px 3px 1px rgba(0, 0, 0, 0.15);\n",
              "      filter: drop-shadow(0px 1px 2px rgba(0, 0, 0, 0.3));\n",
              "      fill: #FFFFFF;\n",
              "    }\n",
              "  </style>\n",
              "\n",
              "      <script>\n",
              "        const buttonEl =\n",
              "          document.querySelector('#df-2205589c-53d0-4c5c-b644-400918ebd301 button.colab-df-convert');\n",
              "        buttonEl.style.display =\n",
              "          google.colab.kernel.accessAllowed ? 'block' : 'none';\n",
              "\n",
              "        async function convertToInteractive(key) {\n",
              "          const element = document.querySelector('#df-2205589c-53d0-4c5c-b644-400918ebd301');\n",
              "          const dataTable =\n",
              "            await google.colab.kernel.invokeFunction('convertToInteractive',\n",
              "                                                     [key], {});\n",
              "          if (!dataTable) return;\n",
              "\n",
              "          const docLinkHtml = 'Like what you see? Visit the ' +\n",
              "            '<a target=\"_blank\" href=https://colab.research.google.com/notebooks/data_table.ipynb>data table notebook</a>'\n",
              "            + ' to learn more about interactive tables.';\n",
              "          element.innerHTML = '';\n",
              "          dataTable['output_type'] = 'display_data';\n",
              "          await google.colab.output.renderOutput(dataTable, element);\n",
              "          const docLink = document.createElement('div');\n",
              "          docLink.innerHTML = docLinkHtml;\n",
              "          element.appendChild(docLink);\n",
              "        }\n",
              "      </script>\n",
              "    </div>\n",
              "  </div>\n",
              "  "
            ]
          },
          "metadata": {},
          "execution_count": 18
        }
      ]
    },
    {
      "cell_type": "code",
      "source": [
        "df.shape"
      ],
      "metadata": {
        "colab": {
          "base_uri": "https://localhost:8080/"
        },
        "id": "AGg7ecUJyhY2",
        "outputId": "146b3a76-c0f8-4ec0-ebee-9679a3e519cd"
      },
      "execution_count": 19,
      "outputs": [
        {
          "output_type": "execute_result",
          "data": {
            "text/plain": [
              "(768, 9)"
            ]
          },
          "metadata": {},
          "execution_count": 19
        }
      ]
    },
    {
      "cell_type": "code",
      "source": [
        "df.dtypes"
      ],
      "metadata": {
        "colab": {
          "base_uri": "https://localhost:8080/"
        },
        "id": "lOvi2FEyzKyU",
        "outputId": "305a8829-3480-48ee-f42e-cbd6be8587f4"
      },
      "execution_count": 20,
      "outputs": [
        {
          "output_type": "execute_result",
          "data": {
            "text/plain": [
              "A           int64\n",
              "B           int64\n",
              "C           int64\n",
              "D           int64\n",
              "E           int64\n",
              "F         float64\n",
              "G         float64\n",
              "H           int64\n",
              "target      int64\n",
              "dtype: object"
            ]
          },
          "metadata": {},
          "execution_count": 20
        }
      ]
    },
    {
      "cell_type": "code",
      "source": [
        "df.info()"
      ],
      "metadata": {
        "colab": {
          "base_uri": "https://localhost:8080/"
        },
        "id": "k6uFxeAPzNuT",
        "outputId": "83bfcb11-d232-40c8-c959-92731133f91e"
      },
      "execution_count": 21,
      "outputs": [
        {
          "output_type": "stream",
          "name": "stdout",
          "text": [
            "<class 'pandas.core.frame.DataFrame'>\n",
            "RangeIndex: 768 entries, 0 to 767\n",
            "Data columns (total 9 columns):\n",
            " #   Column  Non-Null Count  Dtype  \n",
            "---  ------  --------------  -----  \n",
            " 0   A       768 non-null    int64  \n",
            " 1   B       768 non-null    int64  \n",
            " 2   C       768 non-null    int64  \n",
            " 3   D       768 non-null    int64  \n",
            " 4   E       768 non-null    int64  \n",
            " 5   F       768 non-null    float64\n",
            " 6   G       768 non-null    float64\n",
            " 7   H       768 non-null    int64  \n",
            " 8   target  768 non-null    int64  \n",
            "dtypes: float64(2), int64(7)\n",
            "memory usage: 54.1 KB\n"
          ]
        }
      ]
    },
    {
      "cell_type": "markdown",
      "source": [
        "### **Make the dataset imbalance with 10% of the True (1) label**"
      ],
      "metadata": {
        "id": "JgTrvTC9GJE6"
      }
    },
    {
      "cell_type": "code",
      "source": [
        "classes=df[\"target\"].value_counts()\n",
        "true_ones=round(classes[0]/df[\"target\"].count()*100,2)\n",
        "false_ones=round(classes[1]/df[\"target\"].count()*100, 2)\n",
        "print(\"False : {} %\".format(true_ones))\n",
        "print(\"True : {} %\".format(false_ones))"
      ],
      "metadata": {
        "colab": {
          "base_uri": "https://localhost:8080/"
        },
        "id": "TWA40np2zVDm",
        "outputId": "4a082b26-dcd7-4099-ea50-8bac02c8ab26"
      },
      "execution_count": 22,
      "outputs": [
        {
          "output_type": "stream",
          "name": "stdout",
          "text": [
            "False : 65.1 %\n",
            "True : 34.9 %\n"
          ]
        }
      ]
    },
    {
      "cell_type": "code",
      "source": [
        "df[df[\"target\"] == 1].shape[0], df[\"target\"].shape[0]"
      ],
      "metadata": {
        "colab": {
          "base_uri": "https://localhost:8080/"
        },
        "id": "dxp6aziNAxKb",
        "outputId": "1950ac86-c94a-4d6c-8881-61e99d273a59"
      },
      "execution_count": 23,
      "outputs": [
        {
          "output_type": "execute_result",
          "data": {
            "text/plain": [
              "(268, 768)"
            ]
          },
          "metadata": {},
          "execution_count": 23
        }
      ]
    },
    {
      "cell_type": "code",
      "source": [
        "remove_n = round((df[df[\"target\"] == 1].shape[0] - df[\"target\"].shape[0]*0.1) / 0.9)\n",
        "remove_n"
      ],
      "metadata": {
        "colab": {
          "base_uri": "https://localhost:8080/"
        },
        "id": "tt9SgK5EDYYS",
        "outputId": "1561a78b-d25e-426b-be73-67a6434adb68"
      },
      "execution_count": 24,
      "outputs": [
        {
          "output_type": "execute_result",
          "data": {
            "text/plain": [
              "212"
            ]
          },
          "metadata": {},
          "execution_count": 24
        }
      ]
    },
    {
      "cell_type": "code",
      "source": [
        "np.random.seed(10)\n",
        "drop_indices = np.random.choice(df[df[\"target\"] == 1].index, remove_n, replace=False)\n",
        "df = df.drop(drop_indices)"
      ],
      "metadata": {
        "id": "DMkrFx4ZCDsD"
      },
      "execution_count": 25,
      "outputs": []
    },
    {
      "cell_type": "code",
      "source": [
        "df = df.reindex(sorted(df.columns), axis=1)\n",
        "df = df.reset_index(drop=True)\n",
        "df.head()"
      ],
      "metadata": {
        "colab": {
          "base_uri": "https://localhost:8080/",
          "height": 0
        },
        "id": "rDdYk5CyGeYa",
        "outputId": "9a306647-abb8-453e-c395-3131ed547271"
      },
      "execution_count": 26,
      "outputs": [
        {
          "output_type": "execute_result",
          "data": {
            "text/plain": [
              "    A    B   C   D   E     F      G   H  target\n",
              "0   1   85  66  29   0  26.6  0.351  31       0\n",
              "1   1   89  66  23  94  28.1  0.167  21       0\n",
              "2   5  116  74   0   0  25.6  0.201  30       0\n",
              "3  10  115   0   0   0  35.3  0.134  29       0\n",
              "4   4  110  92   0   0  37.6  0.191  30       0"
            ],
            "text/html": [
              "\n",
              "  <div id=\"df-d19e5e5d-4494-4068-a3e9-ec0f0609fdde\">\n",
              "    <div class=\"colab-df-container\">\n",
              "      <div>\n",
              "<style scoped>\n",
              "    .dataframe tbody tr th:only-of-type {\n",
              "        vertical-align: middle;\n",
              "    }\n",
              "\n",
              "    .dataframe tbody tr th {\n",
              "        vertical-align: top;\n",
              "    }\n",
              "\n",
              "    .dataframe thead th {\n",
              "        text-align: right;\n",
              "    }\n",
              "</style>\n",
              "<table border=\"1\" class=\"dataframe\">\n",
              "  <thead>\n",
              "    <tr style=\"text-align: right;\">\n",
              "      <th></th>\n",
              "      <th>A</th>\n",
              "      <th>B</th>\n",
              "      <th>C</th>\n",
              "      <th>D</th>\n",
              "      <th>E</th>\n",
              "      <th>F</th>\n",
              "      <th>G</th>\n",
              "      <th>H</th>\n",
              "      <th>target</th>\n",
              "    </tr>\n",
              "  </thead>\n",
              "  <tbody>\n",
              "    <tr>\n",
              "      <th>0</th>\n",
              "      <td>1</td>\n",
              "      <td>85</td>\n",
              "      <td>66</td>\n",
              "      <td>29</td>\n",
              "      <td>0</td>\n",
              "      <td>26.6</td>\n",
              "      <td>0.351</td>\n",
              "      <td>31</td>\n",
              "      <td>0</td>\n",
              "    </tr>\n",
              "    <tr>\n",
              "      <th>1</th>\n",
              "      <td>1</td>\n",
              "      <td>89</td>\n",
              "      <td>66</td>\n",
              "      <td>23</td>\n",
              "      <td>94</td>\n",
              "      <td>28.1</td>\n",
              "      <td>0.167</td>\n",
              "      <td>21</td>\n",
              "      <td>0</td>\n",
              "    </tr>\n",
              "    <tr>\n",
              "      <th>2</th>\n",
              "      <td>5</td>\n",
              "      <td>116</td>\n",
              "      <td>74</td>\n",
              "      <td>0</td>\n",
              "      <td>0</td>\n",
              "      <td>25.6</td>\n",
              "      <td>0.201</td>\n",
              "      <td>30</td>\n",
              "      <td>0</td>\n",
              "    </tr>\n",
              "    <tr>\n",
              "      <th>3</th>\n",
              "      <td>10</td>\n",
              "      <td>115</td>\n",
              "      <td>0</td>\n",
              "      <td>0</td>\n",
              "      <td>0</td>\n",
              "      <td>35.3</td>\n",
              "      <td>0.134</td>\n",
              "      <td>29</td>\n",
              "      <td>0</td>\n",
              "    </tr>\n",
              "    <tr>\n",
              "      <th>4</th>\n",
              "      <td>4</td>\n",
              "      <td>110</td>\n",
              "      <td>92</td>\n",
              "      <td>0</td>\n",
              "      <td>0</td>\n",
              "      <td>37.6</td>\n",
              "      <td>0.191</td>\n",
              "      <td>30</td>\n",
              "      <td>0</td>\n",
              "    </tr>\n",
              "  </tbody>\n",
              "</table>\n",
              "</div>\n",
              "      <button class=\"colab-df-convert\" onclick=\"convertToInteractive('df-d19e5e5d-4494-4068-a3e9-ec0f0609fdde')\"\n",
              "              title=\"Convert this dataframe to an interactive table.\"\n",
              "              style=\"display:none;\">\n",
              "        \n",
              "  <svg xmlns=\"http://www.w3.org/2000/svg\" height=\"24px\"viewBox=\"0 0 24 24\"\n",
              "       width=\"24px\">\n",
              "    <path d=\"M0 0h24v24H0V0z\" fill=\"none\"/>\n",
              "    <path d=\"M18.56 5.44l.94 2.06.94-2.06 2.06-.94-2.06-.94-.94-2.06-.94 2.06-2.06.94zm-11 1L8.5 8.5l.94-2.06 2.06-.94-2.06-.94L8.5 2.5l-.94 2.06-2.06.94zm10 10l.94 2.06.94-2.06 2.06-.94-2.06-.94-.94-2.06-.94 2.06-2.06.94z\"/><path d=\"M17.41 7.96l-1.37-1.37c-.4-.4-.92-.59-1.43-.59-.52 0-1.04.2-1.43.59L10.3 9.45l-7.72 7.72c-.78.78-.78 2.05 0 2.83L4 21.41c.39.39.9.59 1.41.59.51 0 1.02-.2 1.41-.59l7.78-7.78 2.81-2.81c.8-.78.8-2.07 0-2.86zM5.41 20L4 18.59l7.72-7.72 1.47 1.35L5.41 20z\"/>\n",
              "  </svg>\n",
              "      </button>\n",
              "      \n",
              "  <style>\n",
              "    .colab-df-container {\n",
              "      display:flex;\n",
              "      flex-wrap:wrap;\n",
              "      gap: 12px;\n",
              "    }\n",
              "\n",
              "    .colab-df-convert {\n",
              "      background-color: #E8F0FE;\n",
              "      border: none;\n",
              "      border-radius: 50%;\n",
              "      cursor: pointer;\n",
              "      display: none;\n",
              "      fill: #1967D2;\n",
              "      height: 32px;\n",
              "      padding: 0 0 0 0;\n",
              "      width: 32px;\n",
              "    }\n",
              "\n",
              "    .colab-df-convert:hover {\n",
              "      background-color: #E2EBFA;\n",
              "      box-shadow: 0px 1px 2px rgba(60, 64, 67, 0.3), 0px 1px 3px 1px rgba(60, 64, 67, 0.15);\n",
              "      fill: #174EA6;\n",
              "    }\n",
              "\n",
              "    [theme=dark] .colab-df-convert {\n",
              "      background-color: #3B4455;\n",
              "      fill: #D2E3FC;\n",
              "    }\n",
              "\n",
              "    [theme=dark] .colab-df-convert:hover {\n",
              "      background-color: #434B5C;\n",
              "      box-shadow: 0px 1px 3px 1px rgba(0, 0, 0, 0.15);\n",
              "      filter: drop-shadow(0px 1px 2px rgba(0, 0, 0, 0.3));\n",
              "      fill: #FFFFFF;\n",
              "    }\n",
              "  </style>\n",
              "\n",
              "      <script>\n",
              "        const buttonEl =\n",
              "          document.querySelector('#df-d19e5e5d-4494-4068-a3e9-ec0f0609fdde button.colab-df-convert');\n",
              "        buttonEl.style.display =\n",
              "          google.colab.kernel.accessAllowed ? 'block' : 'none';\n",
              "\n",
              "        async function convertToInteractive(key) {\n",
              "          const element = document.querySelector('#df-d19e5e5d-4494-4068-a3e9-ec0f0609fdde');\n",
              "          const dataTable =\n",
              "            await google.colab.kernel.invokeFunction('convertToInteractive',\n",
              "                                                     [key], {});\n",
              "          if (!dataTable) return;\n",
              "\n",
              "          const docLinkHtml = 'Like what you see? Visit the ' +\n",
              "            '<a target=\"_blank\" href=https://colab.research.google.com/notebooks/data_table.ipynb>data table notebook</a>'\n",
              "            + ' to learn more about interactive tables.';\n",
              "          element.innerHTML = '';\n",
              "          dataTable['output_type'] = 'display_data';\n",
              "          await google.colab.output.renderOutput(dataTable, element);\n",
              "          const docLink = document.createElement('div');\n",
              "          docLink.innerHTML = docLinkHtml;\n",
              "          element.appendChild(docLink);\n",
              "        }\n",
              "      </script>\n",
              "    </div>\n",
              "  </div>\n",
              "  "
            ]
          },
          "metadata": {},
          "execution_count": 26
        }
      ]
    },
    {
      "cell_type": "code",
      "source": [
        "classes=df[\"target\"].value_counts()\n",
        "true_ones=round(classes[0]/df[\"target\"].count()*100,2)\n",
        "false_ones=round(classes[1]/df[\"target\"].count()*100, 2)\n",
        "print(\"False : {} %\".format(true_ones))\n",
        "print(\"True : {} %\".format(false_ones))"
      ],
      "metadata": {
        "colab": {
          "base_uri": "https://localhost:8080/"
        },
        "id": "W1sl9wu7DQ16",
        "outputId": "e6751c5e-8810-437b-ecab-3549cd33c072"
      },
      "execution_count": 27,
      "outputs": [
        {
          "output_type": "stream",
          "name": "stdout",
          "text": [
            "False : 89.93 %\n",
            "True : 10.07 %\n"
          ]
        }
      ]
    },
    {
      "cell_type": "markdown",
      "source": [
        "## **Missing Values**"
      ],
      "metadata": {
        "id": "ixjfMTJsPElp"
      }
    },
    {
      "cell_type": "code",
      "source": [
        "df.isnull().sum()"
      ],
      "metadata": {
        "colab": {
          "base_uri": "https://localhost:8080/"
        },
        "id": "l1ZVuT2nO_3L",
        "outputId": "2e4426c4-bf27-49de-dffe-15dfff21c5e7"
      },
      "execution_count": 28,
      "outputs": [
        {
          "output_type": "execute_result",
          "data": {
            "text/plain": [
              "A         0\n",
              "B         0\n",
              "C         0\n",
              "D         0\n",
              "E         0\n",
              "F         0\n",
              "G         0\n",
              "H         0\n",
              "target    0\n",
              "dtype: int64"
            ]
          },
          "metadata": {},
          "execution_count": 28
        }
      ]
    },
    {
      "cell_type": "markdown",
      "source": [
        "## **Outlier Analysis**"
      ],
      "metadata": {
        "id": "GhfLCEyZPM1T"
      }
    },
    {
      "cell_type": "markdown",
      "source": [
        "### ***A***"
      ],
      "metadata": {
        "id": "3aGTTbAWRJm1"
      }
    },
    {
      "cell_type": "code",
      "source": [
        "fig = px.histogram(df, x=\"A\",\n",
        "                   marginal=\"box\", # or violin, rug\n",
        "                   hover_data=df.columns)\n",
        "fig.show()"
      ],
      "metadata": {
        "colab": {
          "base_uri": "https://localhost:8080/",
          "height": 0
        },
        "id": "w7JhrnbjPNRg",
        "outputId": "02be5911-a1ee-48b3-9078-3fbf46df1120"
      },
      "execution_count": 29,
      "outputs": [
        {
          "output_type": "display_data",
          "data": {
            "text/html": [
              "<html>\n",
              "<head><meta charset=\"utf-8\" /></head>\n",
              "<body>\n",
              "    <div>            <script src=\"https://cdnjs.cloudflare.com/ajax/libs/mathjax/2.7.5/MathJax.js?config=TeX-AMS-MML_SVG\"></script><script type=\"text/javascript\">if (window.MathJax) {MathJax.Hub.Config({SVG: {font: \"STIX-Web\"}});}</script>                <script type=\"text/javascript\">window.PlotlyConfig = {MathJaxConfig: 'local'};</script>\n",
              "        <script src=\"https://cdn.plot.ly/plotly-2.8.3.min.js\"></script>                <div id=\"aea5d1b5-d812-4c42-ad36-607f6f55af9e\" class=\"plotly-graph-div\" style=\"height:525px; width:100%;\"></div>            <script type=\"text/javascript\">                                    window.PLOTLYENV=window.PLOTLYENV || {};                                    if (document.getElementById(\"aea5d1b5-d812-4c42-ad36-607f6f55af9e\")) {                    Plotly.newPlot(                        \"aea5d1b5-d812-4c42-ad36-607f6f55af9e\",                        [{\"alignmentgroup\":\"True\",\"bingroup\":\"x\",\"hovertemplate\":\"A=%{x}<br>count=%{y}<extra></extra>\",\"legendgroup\":\"\",\"marker\":{\"color\":\"#636efa\",\"pattern\":{\"shape\":\"\"}},\"name\":\"\",\"offsetgroup\":\"\",\"orientation\":\"v\",\"showlegend\":false,\"x\":[1,1,5,10,4,10,5,1,3,8,7,11,10,1,13,5,5,3,3,6,10,4,11,3,7,7,7,1,2,7,1,1,5,7,1,0,0,0,2,8,5,2,5,2,1,4,2,5,13,4,1,1,7,5,2,3,2,7,0,5,2,13,2,1,1,4,7,2,6,2,1,6,1,1,0,1,2,1,1,4,3,8,1,4,5,4,4,6,2,5,3,1,8,2,2,0,0,0,5,3,5,2,4,0,9,2,5,2,1,4,1,8,2,1,2,4,7,0,2,0,3,4,4,3,2,1,2,6,0,5,6,0,1,5,4,8,3,9,8,1,4,4,0,1,0,2,6,5,1,7,2,0,7,6,7,7,1,1,0,3,4,0,6,1,4,3,4,9,0,1,4,3,6,2,10,0,9,1,9,2,2,0,3,2,1,3,4,3,4,5,2,0,2,3,1,13,2,0,5,2,10,7,2,7,5,4,5,0,0,6,0,8,5,3,2,0,6,0,3,2,3,3,3,6,4,0,13,2,1,10,6,8,2,12,1,0,0,1,1,1,5,8,8,1,3,3,4,4,3,1,3,12,1,5,5,4,4,5,6,0,3,1,0,0,2,2,0,1,0,1,0,1,1,1,1,3,1,1,4,2,3,0,3,3,6,5,9,2,0,8,6,1,1,1,0,1,1,1,2,0,2,0,0,2,3,1,2,1,12,5,1,6,2,4,1,0,0,1,0,2,2,1,5,9,9,1,8,5,10,0,0,0,6,1,0,0,7,4,0,7,8,4,3,0,4,0,0,1,0,4,8,2,2,4,3,6,5,2,6,2,3,7,3,10,1,2,8,0,9,2,3,7,13,6,2,3,6,3,3,1,3,0,0,2,0,1,6,1,0,0,0,4,1,4,1,4,1,3,6,1,1,7,1,8,11,11,1,6,0,2,1,6,4,0,3,2,3,2,1,1,6,10,0,6,12,8,1,6,0,2,2,6,0,0,1,1,1,6,1,7,1,1,0,1,3,6,3,6,2,2,2,6,0,2,4,0,0,5,4,7,0,2,1,10,5,2,1,0,4,4,3,2,0,0,1,1,5,2,1,2,1,11,10,1,1,6,9,6,1,10,3,8,0,2,2,0,5,2,3,1,1,8,2,2,7,0,4,4,2,1,2,4,6,2,3,5,0,3,10,1,4,1,5,1,4,1,0,2,2,2,2,4,0,8,2,1,11,3,1,9,13,12,1,1,3,1,7,1,6,2,9,10,2,5,1,1],\"xaxis\":\"x\",\"yaxis\":\"y\",\"type\":\"histogram\"},{\"alignmentgroup\":\"True\",\"customdata\":[[85.0,66.0,29.0,0.0,26.6,0.351,31.0,0.0],[89.0,66.0,23.0,94.0,28.1,0.167,21.0,0.0],[116.0,74.0,0.0,0.0,25.6,0.201,30.0,0.0],[115.0,0.0,0.0,0.0,35.3,0.134,29.0,0.0],[110.0,92.0,0.0,0.0,37.6,0.191,30.0,0.0],[139.0,80.0,0.0,0.0,27.1,1.441,57.0,0.0],[166.0,72.0,19.0,175.0,25.8,0.587,51.0,1.0],[103.0,30.0,38.0,83.0,43.3,0.183,33.0,0.0],[126.0,88.0,41.0,235.0,39.3,0.704,27.0,0.0],[99.0,84.0,0.0,0.0,35.4,0.388,50.0,0.0],[196.0,90.0,0.0,0.0,39.8,0.451,41.0,1.0],[143.0,94.0,33.0,146.0,36.6,0.254,51.0,1.0],[125.0,70.0,26.0,115.0,31.1,0.205,41.0,1.0],[97.0,66.0,15.0,140.0,23.2,0.487,22.0,0.0],[145.0,82.0,19.0,110.0,22.2,0.245,57.0,0.0],[117.0,92.0,0.0,0.0,34.1,0.337,38.0,0.0],[109.0,75.0,26.0,0.0,36.0,0.546,60.0,0.0],[158.0,76.0,36.0,245.0,31.6,0.851,28.0,1.0],[88.0,58.0,11.0,54.0,24.8,0.267,22.0,0.0],[92.0,92.0,0.0,0.0,19.9,0.188,28.0,0.0],[122.0,78.0,31.0,0.0,27.6,0.512,45.0,0.0],[103.0,60.0,33.0,192.0,24.0,0.966,33.0,0.0],[138.0,76.0,0.0,0.0,33.2,0.42,35.0,0.0],[180.0,64.0,25.0,70.0,34.0,0.271,26.0,0.0],[133.0,84.0,0.0,0.0,40.2,0.696,37.0,0.0],[106.0,92.0,18.0,0.0,22.7,0.235,48.0,0.0],[159.0,64.0,0.0,0.0,27.4,0.294,40.0,0.0],[146.0,56.0,0.0,0.0,29.7,0.564,29.0,0.0],[71.0,70.0,27.0,0.0,28.0,0.586,22.0,0.0],[105.0,0.0,0.0,0.0,0.0,0.305,24.0,0.0],[103.0,80.0,11.0,82.0,19.4,0.491,22.0,0.0],[101.0,50.0,15.0,36.0,24.2,0.526,26.0,0.0],[88.0,66.0,21.0,23.0,24.4,0.342,30.0,0.0],[150.0,66.0,42.0,342.0,34.7,0.718,42.0,0.0],[73.0,50.0,10.0,0.0,23.0,0.248,21.0,0.0],[100.0,88.0,60.0,110.0,46.8,0.962,31.0,0.0],[146.0,82.0,0.0,0.0,40.5,1.781,44.0,0.0],[105.0,64.0,41.0,142.0,41.5,0.173,22.0,0.0],[84.0,0.0,0.0,0.0,0.0,0.304,21.0,0.0],[133.0,72.0,0.0,0.0,32.9,0.27,39.0,1.0],[44.0,62.0,0.0,0.0,25.0,0.587,36.0,0.0],[141.0,58.0,34.0,128.0,25.4,0.699,24.0,0.0],[99.0,74.0,27.0,0.0,29.0,0.203,32.0,0.0],[109.0,92.0,0.0,0.0,42.7,0.845,54.0,0.0],[95.0,66.0,13.0,38.0,19.6,0.334,25.0,0.0],[146.0,85.0,27.0,100.0,28.9,0.189,27.0,0.0],[100.0,66.0,20.0,90.0,32.9,0.867,28.0,1.0],[139.0,64.0,35.0,140.0,28.6,0.411,26.0,0.0],[126.0,90.0,0.0,0.0,43.4,0.583,42.0,1.0],[129.0,86.0,20.0,270.0,35.1,0.231,23.0,0.0],[79.0,75.0,30.0,0.0,32.0,0.396,22.0,0.0],[0.0,48.0,20.0,0.0,24.7,0.14,22.0,0.0],[62.0,78.0,0.0,0.0,32.6,0.391,41.0,0.0],[95.0,72.0,33.0,0.0,37.7,0.37,27.0,0.0],[112.0,66.0,22.0,0.0,25.0,0.307,24.0,0.0],[113.0,44.0,13.0,0.0,22.4,0.14,22.0,0.0],[74.0,0.0,0.0,0.0,0.0,0.102,22.0,0.0],[83.0,78.0,26.0,71.0,29.3,0.767,36.0,0.0],[101.0,65.0,28.0,0.0,24.6,0.237,22.0,0.0],[137.0,108.0,0.0,0.0,48.8,0.227,37.0,1.0],[110.0,74.0,29.0,125.0,32.4,0.698,27.0,0.0],[106.0,72.0,54.0,0.0,36.6,0.178,45.0,0.0],[100.0,68.0,25.0,71.0,38.5,0.324,26.0,0.0],[107.0,68.0,19.0,0.0,26.5,0.165,24.0,0.0],[80.0,55.0,0.0,0.0,19.1,0.258,21.0,0.0],[123.0,80.0,15.0,176.0,32.0,0.443,34.0,0.0],[81.0,78.0,40.0,48.0,46.7,0.261,42.0,0.0],[142.0,82.0,18.0,64.0,24.7,0.761,21.0,0.0],[144.0,72.0,27.0,228.0,33.9,0.255,40.0,0.0],[92.0,62.0,28.0,0.0,31.6,0.13,24.0,0.0],[71.0,48.0,18.0,76.0,20.4,0.323,22.0,0.0],[93.0,50.0,30.0,64.0,28.7,0.356,23.0,0.0],[122.0,90.0,51.0,220.0,49.7,0.325,31.0,1.0],[151.0,60.0,0.0,0.0,26.1,0.179,22.0,0.0],[125.0,96.0,0.0,0.0,22.5,0.262,21.0,0.0],[81.0,72.0,18.0,40.0,26.6,0.283,24.0,0.0],[85.0,65.0,0.0,0.0,39.6,0.93,27.0,0.0],[126.0,56.0,29.0,152.0,28.7,0.801,21.0,0.0],[96.0,122.0,0.0,0.0,22.4,0.207,27.0,0.0],[144.0,58.0,28.0,140.0,29.5,0.287,37.0,0.0],[83.0,58.0,31.0,18.0,34.3,0.336,25.0,0.0],[155.0,62.0,26.0,495.0,34.0,0.543,46.0,1.0],[89.0,76.0,34.0,37.0,31.2,0.192,23.0,0.0],[76.0,62.0,0.0,0.0,34.0,0.391,25.0,0.0],[78.0,48.0,0.0,0.0,33.7,0.654,25.0,0.0],[97.0,60.0,23.0,0.0,28.2,0.443,22.0,0.0],[99.0,76.0,15.0,51.0,23.2,0.223,21.0,0.0],[111.0,64.0,39.0,0.0,34.2,0.26,24.0,0.0],[107.0,74.0,30.0,100.0,33.6,0.404,23.0,0.0],[132.0,80.0,0.0,0.0,26.8,0.186,69.0,0.0],[120.0,70.0,30.0,135.0,42.9,0.452,30.0,0.0],[118.0,58.0,36.0,94.0,33.3,0.261,23.0,0.0],[84.0,74.0,31.0,0.0,38.3,0.457,39.0,0.0],[96.0,68.0,13.0,49.0,21.1,0.647,26.0,0.0],[125.0,60.0,20.0,140.0,33.8,0.088,31.0,0.0],[100.0,70.0,26.0,50.0,30.8,0.597,21.0,0.0],[93.0,60.0,25.0,92.0,28.7,0.532,22.0,0.0],[129.0,80.0,0.0,0.0,31.2,0.703,29.0,0.0],[105.0,72.0,29.0,325.0,36.9,0.159,28.0,0.0],[128.0,78.0,0.0,0.0,21.1,0.268,55.0,0.0],[106.0,82.0,30.0,0.0,39.5,0.286,38.0,0.0],[108.0,52.0,26.0,63.0,32.5,0.318,22.0,0.0],[154.0,62.0,31.0,284.0,32.8,0.237,23.0,0.0],[102.0,75.0,23.0,0.0,0.0,0.572,21.0,0.0],[57.0,80.0,37.0,0.0,32.8,0.096,41.0,0.0],[106.0,64.0,35.0,119.0,30.5,1.4,34.0,0.0],[147.0,78.0,0.0,0.0,33.7,0.218,65.0,0.0],[90.0,70.0,17.0,0.0,27.3,0.085,22.0,0.0],[136.0,74.0,50.0,204.0,37.4,0.399,24.0,0.0],[114.0,65.0,0.0,0.0,21.9,0.432,37.0,0.0],[153.0,82.0,42.0,485.0,40.6,0.687,23.0,0.0],[188.0,78.0,0.0,0.0,47.9,0.137,43.0,1.0],[99.0,52.0,15.0,94.0,24.6,0.637,21.0,0.0],[109.0,56.0,21.0,135.0,25.2,0.833,23.0,0.0],[88.0,74.0,19.0,53.0,29.0,0.229,22.0,0.0],[151.0,90.0,38.0,0.0,29.7,0.294,36.0,0.0],[102.0,74.0,40.0,105.0,37.2,0.204,45.0,0.0],[114.0,80.0,34.0,285.0,44.2,0.167,27.0,0.0],[100.0,64.0,23.0,0.0,29.7,0.368,21.0,0.0],[131.0,88.0,0.0,0.0,31.6,0.743,32.0,1.0],[148.0,66.0,25.0,0.0,32.5,0.256,22.0,0.0],[120.0,68.0,0.0,0.0,29.6,0.709,34.0,0.0],[110.0,66.0,0.0,0.0,31.9,0.471,29.0,0.0],[111.0,90.0,12.0,78.0,28.4,0.495,29.0,0.0],[87.0,0.0,23.0,0.0,28.9,0.773,25.0,0.0],[79.0,60.0,42.0,48.0,43.5,0.678,23.0,0.0],[75.0,64.0,24.0,55.0,29.7,0.37,33.0,0.0],[85.0,78.0,0.0,0.0,31.2,0.382,42.0,0.0],[129.0,110.0,46.0,130.0,67.1,0.319,26.0,1.0],[143.0,78.0,0.0,0.0,45.0,0.19,47.0,0.0],[87.0,80.0,0.0,0.0,23.2,0.084,32.0,0.0],[119.0,64.0,18.0,92.0,34.9,0.725,23.0,0.0],[0.0,74.0,20.0,23.0,27.7,0.299,21.0,0.0],[73.0,60.0,0.0,0.0,26.8,0.268,27.0,0.0],[141.0,74.0,0.0,0.0,27.6,0.244,40.0,0.0],[181.0,68.0,36.0,495.0,30.1,0.615,60.0,1.0],[111.0,62.0,0.0,0.0,22.6,0.142,21.0,0.0],[123.0,70.0,44.0,94.0,33.1,0.374,40.0,0.0],[85.0,55.0,20.0,0.0,24.4,0.136,42.0,0.0],[105.0,58.0,0.0,0.0,24.3,0.187,21.0,0.0],[109.0,64.0,44.0,99.0,34.8,0.905,26.0,1.0],[148.0,60.0,27.0,318.0,30.9,0.15,29.0,1.0],[113.0,80.0,16.0,0.0,31.0,0.874,21.0,0.0],[138.0,82.0,0.0,0.0,40.1,0.236,28.0,0.0],[108.0,68.0,20.0,0.0,27.3,0.787,32.0,0.0],[99.0,70.0,16.0,44.0,20.4,0.235,27.0,0.0],[103.0,72.0,32.0,190.0,37.7,0.324,55.0,0.0],[111.0,72.0,28.0,0.0,23.9,0.407,27.0,0.0],[96.0,64.0,27.0,87.0,33.2,0.289,21.0,0.0],[184.0,84.0,33.0,0.0,35.5,0.355,41.0,1.0],[81.0,60.0,22.0,0.0,27.7,0.29,25.0,0.0],[147.0,85.0,54.0,0.0,42.8,0.375,24.0,0.0],[179.0,95.0,31.0,0.0,34.2,0.164,60.0,0.0],[125.0,68.0,30.0,120.0,30.0,0.464,32.0,0.0],[119.0,0.0,0.0,0.0,25.2,0.209,37.0,0.0],[142.0,60.0,33.0,190.0,28.8,0.687,61.0,0.0],[100.0,66.0,15.0,56.0,23.6,0.666,26.0,0.0],[87.0,78.0,27.0,32.0,34.6,0.101,22.0,0.0],[101.0,76.0,0.0,0.0,35.7,0.198,26.0,0.0],[162.0,52.0,38.0,0.0,37.2,0.652,24.0,1.0],[197.0,70.0,39.0,744.0,36.7,2.329,31.0,0.0],[117.0,80.0,31.0,53.0,45.2,0.089,24.0,0.0],[134.0,80.0,37.0,370.0,46.2,0.238,46.0,1.0],[79.0,80.0,25.0,37.0,25.4,0.583,22.0,0.0],[122.0,68.0,0.0,0.0,35.0,0.394,29.0,0.0],[74.0,68.0,28.0,45.0,29.7,0.293,23.0,0.0],[171.0,72.0,0.0,0.0,43.6,0.479,26.0,1.0],[164.0,84.0,21.0,0.0,30.8,0.831,32.0,1.0],[104.0,76.0,0.0,0.0,18.4,0.582,27.0,0.0],[91.0,64.0,24.0,0.0,29.2,0.192,21.0,0.0],[91.0,70.0,32.0,88.0,33.1,0.446,22.0,0.0],[139.0,54.0,0.0,0.0,25.6,0.402,22.0,1.0],[119.0,50.0,22.0,176.0,27.1,1.318,33.0,1.0],[146.0,76.0,35.0,194.0,38.2,0.329,29.0,0.0],[122.0,68.0,0.0,0.0,31.2,0.258,41.0,0.0],[165.0,90.0,33.0,680.0,52.3,0.427,23.0,0.0],[124.0,70.0,33.0,402.0,35.4,0.282,34.0,0.0],[111.0,86.0,19.0,0.0,30.1,0.143,23.0,0.0],[106.0,52.0,0.0,0.0,31.2,0.38,42.0,0.0],[129.0,84.0,0.0,0.0,28.0,0.284,27.0,0.0],[90.0,80.0,14.0,55.0,24.4,0.249,24.0,0.0],[86.0,68.0,32.0,0.0,35.8,0.238,25.0,0.0],[111.0,56.0,39.0,0.0,30.1,0.557,30.0,0.0],[114.0,68.0,22.0,0.0,28.7,0.092,25.0,0.0],[193.0,50.0,16.0,375.0,25.9,0.655,24.0,0.0],[191.0,68.0,15.0,130.0,30.9,0.299,34.0,0.0],[95.0,70.0,32.0,0.0,32.1,0.612,24.0,0.0],[142.0,80.0,15.0,0.0,32.4,0.2,63.0,0.0],[123.0,62.0,0.0,0.0,32.0,0.226,35.0,1.0],[96.0,74.0,18.0,67.0,33.6,0.997,43.0,0.0],[128.0,64.0,42.0,0.0,40.0,1.101,24.0,0.0],[102.0,52.0,0.0,0.0,25.1,0.078,21.0,0.0],[108.0,62.0,32.0,56.0,25.2,0.128,21.0,0.0],[122.0,78.0,0.0,0.0,23.0,0.254,40.0,0.0],[71.0,78.0,50.0,45.0,33.2,0.422,21.0,0.0],[106.0,70.0,0.0,0.0,34.2,0.251,52.0,0.0],[100.0,70.0,52.0,57.0,40.5,0.677,25.0,0.0],[104.0,64.0,23.0,116.0,27.8,0.454,23.0,0.0],[114.0,74.0,0.0,0.0,24.9,0.744,57.0,0.0],[108.0,62.0,10.0,278.0,25.3,0.881,22.0,0.0],[129.0,76.0,28.0,122.0,35.9,0.28,39.0,0.0],[133.0,88.0,15.0,155.0,32.4,0.262,37.0,0.0],[108.0,80.0,0.0,0.0,27.0,0.259,52.0,1.0],[136.0,74.0,26.0,135.0,26.0,0.647,51.0,0.0],[155.0,84.0,44.0,545.0,38.7,0.619,34.0,0.0],[96.0,56.0,17.0,49.0,20.8,0.34,26.0,0.0],[108.0,72.0,43.0,75.0,36.1,0.263,33.0,0.0],[78.0,88.0,29.0,40.0,36.9,0.434,21.0,0.0],[161.0,50.0,0.0,0.0,21.9,0.254,65.0,0.0],[151.0,62.0,31.0,120.0,35.5,0.692,28.0,0.0],[126.0,84.0,29.0,215.0,30.7,0.52,24.0,0.0],[112.0,72.0,0.0,0.0,23.6,0.84,58.0,0.0],[77.0,82.0,41.0,42.0,35.8,0.156,35.0,0.0],[150.0,76.0,0.0,0.0,21.0,0.207,37.0,0.0],[120.0,76.0,37.0,105.0,39.7,0.215,29.0,0.0],[137.0,68.0,14.0,148.0,24.8,0.143,21.0,0.0],[80.0,66.0,30.0,0.0,26.2,0.313,41.0,0.0],[106.0,70.0,37.0,148.0,39.4,0.605,22.0,0.0],[113.0,50.0,10.0,85.0,29.5,0.626,25.0,0.0],[112.0,68.0,22.0,94.0,34.1,0.315,26.0,0.0],[99.0,80.0,11.0,64.0,19.3,0.284,30.0,0.0],[182.0,74.0,0.0,0.0,30.5,0.345,29.0,1.0],[115.0,66.0,39.0,140.0,38.1,0.15,28.0,0.0],[194.0,78.0,0.0,0.0,23.5,0.129,59.0,1.0],[129.0,60.0,12.0,231.0,27.5,0.527,31.0,0.0],[124.0,70.0,20.0,0.0,27.4,0.254,36.0,1.0],[152.0,90.0,33.0,29.0,26.8,0.731,43.0,1.0],[112.0,75.0,32.0,0.0,35.7,0.148,21.0,0.0],[157.0,72.0,21.0,168.0,25.6,0.123,24.0,0.0],[179.0,70.0,0.0,0.0,35.1,0.2,37.0,0.0],[105.0,70.0,32.0,68.0,30.8,0.122,37.0,0.0],[118.0,72.0,19.0,0.0,23.1,1.476,46.0,0.0],[87.0,58.0,16.0,52.0,32.7,0.166,25.0,0.0],[106.0,80.0,0.0,0.0,23.6,0.137,44.0,0.0],[95.0,60.0,18.0,58.0,23.9,0.26,22.0,0.0],[165.0,76.0,43.0,255.0,47.9,0.259,26.0,0.0],[117.0,0.0,0.0,0.0,33.8,0.932,44.0,0.0],[130.0,70.0,13.0,105.0,25.9,0.472,22.0,0.0],[95.0,74.0,21.0,73.0,25.9,0.673,36.0,0.0],[0.0,68.0,35.0,0.0,32.0,0.389,22.0,0.0],[122.0,86.0,0.0,0.0,34.7,0.29,33.0,0.0],[95.0,72.0,0.0,0.0,36.8,0.485,57.0,0.0],[126.0,88.0,36.0,108.0,38.5,0.349,49.0,0.0],[139.0,46.0,19.0,83.0,28.7,0.654,22.0,0.0],[116.0,0.0,0.0,0.0,23.5,0.187,23.0,0.0],[99.0,62.0,19.0,74.0,21.8,0.279,26.0,0.0],[92.0,80.0,0.0,0.0,42.2,0.237,29.0,0.0],[137.0,84.0,0.0,0.0,31.2,0.252,30.0,0.0],[61.0,82.0,28.0,0.0,34.4,0.243,46.0,0.0],[90.0,62.0,12.0,43.0,27.2,0.58,24.0,0.0],[90.0,78.0,0.0,0.0,42.7,0.559,21.0,0.0],[88.0,74.0,40.0,54.0,35.3,0.378,48.0,0.0],[196.0,76.0,36.0,249.0,36.5,0.875,29.0,1.0],[158.0,70.0,0.0,0.0,29.8,0.207,63.0,0.0],[103.0,108.0,37.0,0.0,39.2,0.305,65.0,0.0],[146.0,78.0,0.0,0.0,38.5,0.52,67.0,1.0],[147.0,74.0,25.0,293.0,34.9,0.385,30.0,0.0],[99.0,54.0,28.0,83.0,34.0,0.499,30.0,0.0],[124.0,72.0,0.0,0.0,27.6,0.368,29.0,1.0],[101.0,64.0,17.0,0.0,21.0,0.252,21.0,0.0],[81.0,86.0,16.0,66.0,27.5,0.306,22.0,0.0],[133.0,102.0,28.0,140.0,32.8,0.234,45.0,1.0],[118.0,64.0,23.0,89.0,0.0,1.731,21.0,0.0],[84.0,64.0,22.0,66.0,35.8,0.545,21.0,0.0],[105.0,58.0,40.0,94.0,34.9,0.225,25.0,0.0],[122.0,52.0,43.0,158.0,36.2,0.816,28.0,0.0],[98.0,82.0,15.0,84.0,25.2,0.299,22.0,0.0],[87.0,60.0,37.0,75.0,37.2,0.509,22.0,0.0],[93.0,100.0,39.0,72.0,43.4,1.021,35.0,0.0],[107.0,72.0,30.0,82.0,30.8,0.821,24.0,0.0],[105.0,68.0,22.0,0.0,20.0,0.236,22.0,0.0],[109.0,60.0,8.0,182.0,25.4,0.947,21.0,0.0],[90.0,62.0,18.0,59.0,25.1,1.268,25.0,0.0],[125.0,70.0,24.0,110.0,24.3,0.221,25.0,0.0],[119.0,54.0,13.0,50.0,22.3,0.205,24.0,0.0],[100.0,68.0,23.0,81.0,31.6,0.949,28.0,0.0],[100.0,66.0,29.0,196.0,32.0,0.444,42.0,0.0],[131.0,64.0,14.0,415.0,23.7,0.389,21.0,0.0],[116.0,72.0,12.0,87.0,22.1,0.463,37.0,0.0],[127.0,58.0,24.0,275.0,27.7,1.6,25.0,0.0],[96.0,56.0,34.0,115.0,24.7,0.944,39.0,0.0],[131.0,66.0,40.0,0.0,34.3,0.196,22.0,1.0],[82.0,70.0,0.0,0.0,21.1,0.389,25.0,0.0],[193.0,70.0,31.0,0.0,34.9,0.241,25.0,1.0],[137.0,61.0,0.0,0.0,24.2,0.151,55.0,0.0],[136.0,84.0,41.0,88.0,35.0,0.286,35.0,1.0],[72.0,78.0,25.0,0.0,31.6,0.28,38.0,0.0],[123.0,48.0,32.0,165.0,42.1,0.52,26.0,0.0],[101.0,62.0,0.0,0.0,21.9,0.336,25.0,0.0],[197.0,74.0,0.0,0.0,25.9,1.191,39.0,1.0],[102.0,90.0,39.0,0.0,35.7,0.674,28.0,0.0],[112.0,72.0,30.0,176.0,34.4,0.528,25.0,0.0],[143.0,84.0,23.0,310.0,42.4,1.076,22.0,0.0],[143.0,74.0,22.0,61.0,26.2,0.256,21.0,0.0],[138.0,60.0,35.0,167.0,34.6,0.534,21.0,1.0],[97.0,68.0,21.0,0.0,27.2,1.095,22.0,0.0],[83.0,68.0,0.0,0.0,18.2,0.624,27.0,0.0],[119.0,88.0,41.0,170.0,45.3,0.507,26.0,0.0],[94.0,68.0,18.0,76.0,26.0,0.561,21.0,0.0],[102.0,64.0,46.0,78.0,40.6,0.496,21.0,0.0],[115.0,64.0,22.0,0.0,30.8,0.421,21.0,0.0],[94.0,0.0,0.0,0.0,0.0,0.256,25.0,0.0],[135.0,94.0,46.0,145.0,40.6,0.284,26.0,0.0],[99.0,0.0,0.0,0.0,22.2,0.108,23.0,0.0],[89.0,74.0,16.0,85.0,30.4,0.551,38.0,0.0],[80.0,74.0,11.0,60.0,30.0,0.527,22.0,0.0],[139.0,75.0,0.0,0.0,25.6,0.167,29.0,0.0],[90.0,68.0,8.0,0.0,24.5,1.138,36.0,0.0],[140.0,85.0,33.0,0.0,37.4,0.244,41.0,0.0],[147.0,75.0,0.0,0.0,29.9,0.434,28.0,0.0],[97.0,70.0,15.0,0.0,18.2,0.147,21.0,0.0],[107.0,88.0,0.0,0.0,36.8,0.727,31.0,0.0],[83.0,66.0,23.0,50.0,32.2,0.497,22.0,0.0],[117.0,64.0,27.0,120.0,33.2,0.23,24.0,0.0],[100.0,72.0,12.0,70.0,25.3,0.658,28.0,0.0],[95.0,80.0,45.0,92.0,36.5,0.33,26.0,0.0],[120.0,74.0,18.0,63.0,30.5,0.285,26.0,0.0],[82.0,64.0,13.0,95.0,21.2,0.415,23.0,0.0],[91.0,68.0,32.0,210.0,39.9,0.381,25.0,0.0],[119.0,0.0,0.0,0.0,19.6,0.832,72.0,0.0],[100.0,54.0,28.0,105.0,37.8,0.498,24.0,0.0],[135.0,54.0,0.0,0.0,26.7,0.687,62.0,0.0],[86.0,68.0,28.0,71.0,30.2,0.364,24.0,0.0],[134.0,74.0,33.0,60.0,25.9,0.46,81.0,0.0],[120.0,72.0,22.0,56.0,20.8,0.733,48.0,0.0],[71.0,62.0,0.0,0.0,21.8,0.416,26.0,0.0],[74.0,70.0,40.0,49.0,35.3,0.705,39.0,0.0],[88.0,78.0,30.0,0.0,27.6,0.258,37.0,0.0],[115.0,98.0,0.0,0.0,24.0,1.022,34.0,0.0],[124.0,56.0,13.0,105.0,21.8,0.452,21.0,0.0],[74.0,52.0,10.0,36.0,27.8,0.269,22.0,0.0],[97.0,64.0,36.0,100.0,36.8,0.6,25.0,0.0],[154.0,78.0,41.0,140.0,46.1,0.571,27.0,0.0],[144.0,82.0,40.0,0.0,41.3,0.607,28.0,0.0],[137.0,70.0,38.0,0.0,33.2,0.17,22.0,0.0],[119.0,66.0,27.0,0.0,38.8,0.259,22.0,0.0],[136.0,90.0,0.0,0.0,29.9,0.21,50.0,0.0],[114.0,64.0,0.0,0.0,28.9,0.126,24.0,0.0],[137.0,84.0,27.0,0.0,27.3,0.231,59.0,0.0],[114.0,76.0,17.0,110.0,23.8,0.466,31.0,0.0],[126.0,74.0,38.0,75.0,25.9,0.162,39.0,0.0],[132.0,86.0,31.0,0.0,28.0,0.419,63.0,0.0],[158.0,70.0,30.0,328.0,35.5,0.344,35.0,1.0],[123.0,88.0,37.0,0.0,35.2,0.197,29.0,0.0],[85.0,58.0,22.0,49.0,27.8,0.306,28.0,0.0],[84.0,82.0,31.0,125.0,38.2,0.233,23.0,0.0],[135.0,68.0,42.0,250.0,42.3,0.365,24.0,1.0],[139.0,62.0,41.0,480.0,40.7,0.536,21.0,0.0],[173.0,78.0,32.0,265.0,46.5,1.159,58.0,0.0],[99.0,72.0,17.0,0.0,25.6,0.294,28.0,0.0],[194.0,80.0,0.0,0.0,26.1,0.551,67.0,0.0],[83.0,65.0,28.0,66.0,36.8,0.629,24.0,0.0],[89.0,90.0,30.0,0.0,33.5,0.292,42.0,0.0],[99.0,68.0,38.0,0.0,32.8,0.145,33.0,0.0],[80.0,0.0,0.0,0.0,0.0,0.174,22.0,0.0],[166.0,74.0,0.0,0.0,26.6,0.304,66.0,0.0],[110.0,68.0,0.0,0.0,26.0,0.292,30.0,0.0],[81.0,72.0,15.0,76.0,30.1,0.547,25.0,0.0],[154.0,74.0,32.0,193.0,29.3,0.839,39.0,0.0],[117.0,90.0,19.0,71.0,25.2,0.313,21.0,0.0],[84.0,72.0,32.0,0.0,37.2,0.267,28.0,0.0],[94.0,64.0,25.0,79.0,33.3,0.738,41.0,0.0],[96.0,78.0,39.0,0.0,37.3,0.238,40.0,0.0],[75.0,82.0,0.0,0.0,33.3,0.263,38.0,0.0],[130.0,60.0,23.0,170.0,28.6,0.692,21.0,0.0],[84.0,50.0,23.0,76.0,30.4,0.968,21.0,0.0],[120.0,78.0,0.0,0.0,25.0,0.409,64.0,0.0],[139.0,62.0,17.0,210.0,22.1,0.207,21.0,0.0],[91.0,68.0,0.0,0.0,24.2,0.2,58.0,0.0],[91.0,62.0,0.0,0.0,27.3,0.525,22.0,0.0],[99.0,54.0,19.0,86.0,25.6,0.154,24.0,0.0],[125.0,86.0,0.0,0.0,37.6,0.304,51.0,0.0],[76.0,60.0,0.0,0.0,32.8,0.18,41.0,0.0],[129.0,90.0,7.0,326.0,19.6,0.582,60.0,0.0],[68.0,70.0,32.0,66.0,25.0,0.187,25.0,0.0],[124.0,80.0,33.0,130.0,33.2,0.305,26.0,0.0],[114.0,0.0,0.0,0.0,0.0,0.189,26.0,0.0],[125.0,58.0,0.0,0.0,31.6,0.151,24.0,0.0],[87.0,60.0,18.0,0.0,21.8,0.444,21.0,0.0],[97.0,64.0,19.0,82.0,18.2,0.299,21.0,0.0],[116.0,74.0,15.0,105.0,26.3,0.107,24.0,0.0],[117.0,66.0,31.0,188.0,30.8,0.493,22.0,0.0],[111.0,65.0,0.0,0.0,24.6,0.66,31.0,0.0],[122.0,60.0,18.0,106.0,29.8,0.717,22.0,0.0],[107.0,76.0,0.0,0.0,45.3,0.686,24.0,0.0],[86.0,66.0,52.0,65.0,41.3,0.917,29.0,0.0],[91.0,0.0,0.0,0.0,29.8,0.501,31.0,0.0],[77.0,56.0,30.0,56.0,33.3,1.251,24.0,0.0],[105.0,90.0,0.0,0.0,29.6,0.197,46.0,0.0],[57.0,60.0,0.0,0.0,21.7,0.735,67.0,0.0],[127.0,80.0,37.0,210.0,36.3,0.804,23.0,0.0],[84.0,90.0,23.0,56.0,39.5,0.159,25.0,0.0],[88.0,78.0,29.0,76.0,32.0,0.365,29.0,0.0],[131.0,68.0,21.0,166.0,33.1,0.16,28.0,0.0],[164.0,82.0,43.0,67.0,32.8,0.341,50.0,0.0],[189.0,110.0,31.0,0.0,28.5,0.68,37.0,0.0],[116.0,70.0,28.0,0.0,27.4,0.204,21.0,0.0],[84.0,68.0,30.0,106.0,31.9,0.591,25.0,0.0],[114.0,88.0,0.0,0.0,27.8,0.247,66.0,0.0],[88.0,62.0,24.0,44.0,29.9,0.422,23.0,0.0],[84.0,64.0,23.0,115.0,36.9,0.471,28.0,0.0],[124.0,70.0,33.0,215.0,25.5,0.161,37.0,0.0],[97.0,70.0,40.0,0.0,38.1,0.218,30.0,0.0],[110.0,76.0,0.0,0.0,27.8,0.237,58.0,0.0],[103.0,68.0,40.0,0.0,46.2,0.126,42.0,0.0],[85.0,74.0,0.0,0.0,30.1,0.3,35.0,0.0],[87.0,68.0,34.0,77.0,37.6,0.401,24.0,0.0],[99.0,60.0,19.0,54.0,26.9,0.497,32.0,0.0],[91.0,80.0,0.0,0.0,32.4,0.601,27.0,0.0],[95.0,54.0,14.0,88.0,26.1,0.748,22.0,0.0],[99.0,72.0,30.0,18.0,38.6,0.412,21.0,0.0],[92.0,62.0,32.0,126.0,32.0,0.085,46.0,0.0],[154.0,72.0,29.0,126.0,31.3,0.338,37.0,0.0],[121.0,66.0,30.0,165.0,34.3,0.203,33.0,1.0],[78.0,70.0,0.0,0.0,32.5,0.27,39.0,0.0],[130.0,96.0,0.0,0.0,22.6,0.268,21.0,0.0],[111.0,58.0,31.0,44.0,29.5,0.43,22.0,0.0],[98.0,60.0,17.0,120.0,34.7,0.198,22.0,0.0],[143.0,86.0,30.0,330.0,30.1,0.892,23.0,0.0],[119.0,44.0,47.0,63.0,35.5,0.28,25.0,0.0],[108.0,44.0,20.0,130.0,24.0,0.813,35.0,0.0],[133.0,68.0,0.0,0.0,27.0,0.245,36.0,0.0],[151.0,90.0,46.0,0.0,42.1,0.371,21.0,1.0],[109.0,60.0,27.0,0.0,25.0,0.206,27.0,0.0],[121.0,78.0,17.0,0.0,26.5,0.259,62.0,0.0],[100.0,76.0,0.0,0.0,38.7,0.19,42.0,0.0],[93.0,56.0,11.0,0.0,22.5,0.417,22.0,0.0],[103.0,66.0,0.0,0.0,24.3,0.249,29.0,0.0],[73.0,0.0,0.0,0.0,21.1,0.342,25.0,0.0],[112.0,78.0,50.0,140.0,39.4,0.175,24.0,0.0],[82.0,52.0,22.0,115.0,28.5,1.699,25.0,0.0],[123.0,72.0,45.0,230.0,33.6,0.733,34.0,0.0],[188.0,82.0,14.0,185.0,32.0,0.682,22.0,1.0],[67.0,76.0,0.0,0.0,45.3,0.194,46.0,0.0],[89.0,24.0,19.0,25.0,27.8,0.559,21.0,0.0],[109.0,38.0,18.0,120.0,23.1,0.407,26.0,0.0],[108.0,88.0,19.0,0.0,27.1,0.4,24.0,0.0],[96.0,0.0,0.0,0.0,23.7,0.19,28.0,0.0],[124.0,74.0,36.0,0.0,27.8,0.1,30.0,0.0],[150.0,78.0,29.0,126.0,35.2,0.692,54.0,1.0],[124.0,60.0,32.0,0.0,35.8,0.514,21.0,0.0],[92.0,62.0,25.0,41.0,19.5,0.482,25.0,0.0],[152.0,82.0,39.0,272.0,41.5,0.27,27.0,0.0],[111.0,62.0,13.0,182.0,24.0,0.138,23.0,0.0],[106.0,54.0,21.0,158.0,30.9,0.292,24.0,0.0],[105.0,80.0,28.0,0.0,32.5,0.878,26.0,0.0],[106.0,72.0,0.0,0.0,25.8,0.207,27.0,0.0],[117.0,96.0,0.0,0.0,28.7,0.157,30.0,0.0],[68.0,62.0,13.0,15.0,20.1,0.257,23.0,0.0],[112.0,86.0,42.0,160.0,38.4,0.246,28.0,0.0],[92.0,76.0,20.0,0.0,24.2,1.698,28.0,0.0],[183.0,94.0,0.0,0.0,40.8,1.461,45.0,0.0],[94.0,70.0,27.0,115.0,43.5,0.347,21.0,0.0],[108.0,64.0,0.0,0.0,30.8,0.158,21.0,0.0],[90.0,88.0,47.0,54.0,37.7,0.362,29.0,0.0],[125.0,68.0,0.0,0.0,24.7,0.206,21.0,0.0],[132.0,78.0,0.0,0.0,32.4,0.393,21.0,0.0],[128.0,80.0,0.0,0.0,34.6,0.144,45.0,0.0],[94.0,65.0,22.0,0.0,24.7,0.148,21.0,0.0],[114.0,64.0,0.0,0.0,27.4,0.732,34.0,1.0],[102.0,78.0,40.0,90.0,34.5,0.238,24.0,0.0],[111.0,60.0,0.0,0.0,26.2,0.343,23.0,0.0],[128.0,82.0,17.0,183.0,27.5,0.115,22.0,0.0],[92.0,62.0,0.0,0.0,25.9,0.167,31.0,0.0],[104.0,74.0,0.0,0.0,28.8,0.153,48.0,0.0],[94.0,76.0,18.0,66.0,31.6,0.649,23.0,0.0],[100.0,74.0,12.0,46.0,19.5,0.149,28.0,0.0],[102.0,86.0,17.0,105.0,29.3,0.695,27.0,0.0],[128.0,70.0,0.0,0.0,34.3,0.303,24.0,0.0],[90.0,0.0,0.0,0.0,28.0,0.61,31.0,0.0],[103.0,72.0,30.0,152.0,27.6,0.73,27.0,0.0],[157.0,74.0,35.0,440.0,39.4,0.134,30.0,0.0],[179.0,50.0,36.0,159.0,37.8,0.455,22.0,1.0],[107.0,60.0,25.0,0.0,26.4,0.133,23.0,0.0],[91.0,54.0,25.0,100.0,25.2,0.234,23.0,0.0],[117.0,60.0,23.0,106.0,33.8,0.466,27.0,0.0],[123.0,74.0,40.0,77.0,34.1,0.269,28.0,0.0],[120.0,54.0,0.0,0.0,26.8,0.455,27.0,0.0],[106.0,70.0,28.0,135.0,34.2,0.142,22.0,0.0],[101.0,58.0,35.0,90.0,21.8,0.155,22.0,0.0],[120.0,80.0,48.0,200.0,38.9,1.162,41.0,0.0],[127.0,106.0,0.0,0.0,39.0,0.19,51.0,0.0],[162.0,84.0,0.0,0.0,27.7,0.182,54.0,0.0],[199.0,76.0,43.0,0.0,42.9,1.394,22.0,1.0],[112.0,80.0,45.0,132.0,34.8,0.217,24.0,0.0],[98.0,58.0,33.0,190.0,34.0,0.43,43.0,0.0],[154.0,78.0,30.0,100.0,30.9,0.164,45.0,0.0],[165.0,68.0,26.0,168.0,33.6,0.631,49.0,0.0],[99.0,58.0,10.0,0.0,25.4,0.551,21.0,0.0],[68.0,106.0,23.0,49.0,35.5,0.285,47.0,0.0],[123.0,100.0,35.0,240.0,57.3,0.88,22.0,0.0],[91.0,82.0,0.0,0.0,35.6,0.587,68.0,0.0],[93.0,60.0,0.0,0.0,35.3,0.263,25.0,0.0],[101.0,58.0,17.0,265.0,24.2,0.614,23.0,0.0],[56.0,56.0,28.0,45.0,24.2,0.332,22.0,0.0],[95.0,64.0,39.0,105.0,44.6,0.366,22.0,0.0],[136.0,82.0,0.0,0.0,0.0,0.64,69.0,0.0],[129.0,74.0,26.0,205.0,33.2,0.591,25.0,0.0],[130.0,64.0,0.0,0.0,23.1,0.314,22.0,0.0],[107.0,50.0,19.0,0.0,28.3,0.181,29.0,0.0],[140.0,74.0,26.0,180.0,24.1,0.828,23.0,0.0],[107.0,80.0,0.0,0.0,24.6,0.856,34.0,0.0],[121.0,70.0,32.0,95.0,39.1,0.886,23.0,0.0],[90.0,60.0,0.0,0.0,23.5,0.191,25.0,0.0],[142.0,90.0,24.0,480.0,30.4,0.128,43.0,1.0],[99.0,0.0,0.0,0.0,25.0,0.253,22.0,0.0],[127.0,88.0,11.0,155.0,34.5,0.598,28.0,0.0],[118.0,70.0,0.0,0.0,44.5,0.904,26.0,0.0],[122.0,76.0,27.0,200.0,35.9,0.483,26.0,0.0],[168.0,88.0,29.0,0.0,35.0,0.905,52.0,1.0],[129.0,0.0,0.0,0.0,38.5,0.304,41.0,0.0],[110.0,76.0,20.0,100.0,28.4,0.118,27.0,0.0],[80.0,80.0,36.0,0.0,39.8,0.177,28.0,0.0],[127.0,46.0,21.0,335.0,34.4,0.176,22.0,0.0],[158.0,64.0,13.0,387.0,31.2,0.295,24.0,0.0],[126.0,78.0,27.0,22.0,29.6,0.439,40.0,0.0],[134.0,58.0,20.0,291.0,26.4,0.352,21.0,0.0],[102.0,74.0,0.0,0.0,29.5,0.121,32.0,0.0],[94.0,72.0,18.0,0.0,23.1,0.595,56.0,0.0],[108.0,60.0,46.0,178.0,35.5,0.415,24.0,0.0],[83.0,86.0,19.0,0.0,29.3,0.317,34.0,0.0],[114.0,66.0,36.0,200.0,38.1,0.289,21.0,0.0],[117.0,86.0,30.0,105.0,39.1,0.251,42.0,0.0],[111.0,94.0,0.0,0.0,32.8,0.265,45.0,0.0],[112.0,78.0,40.0,0.0,39.4,0.236,38.0,0.0],[116.0,78.0,29.0,180.0,36.1,0.496,25.0,0.0],[141.0,84.0,26.0,0.0,32.4,0.433,22.0,0.0],[175.0,88.0,0.0,0.0,22.9,0.326,22.0,0.0],[92.0,52.0,0.0,0.0,30.1,0.141,22.0,0.0],[106.0,56.0,27.0,165.0,29.0,0.426,22.0,0.0],[105.0,75.0,0.0,0.0,23.3,0.56,53.0,0.0],[95.0,60.0,32.0,0.0,35.4,0.284,28.0,0.0],[126.0,86.0,27.0,120.0,27.4,0.515,21.0,0.0],[65.0,72.0,23.0,0.0,32.0,0.6,42.0,0.0],[99.0,60.0,17.0,160.0,36.6,0.453,21.0,0.0],[102.0,74.0,0.0,0.0,39.5,0.293,42.0,1.0],[120.0,80.0,37.0,150.0,42.3,0.785,48.0,1.0],[102.0,44.0,20.0,94.0,30.8,0.4,26.0,0.0],[109.0,58.0,18.0,116.0,28.5,0.219,22.0,0.0],[140.0,94.0,0.0,0.0,32.7,0.734,45.0,1.0],[153.0,88.0,37.0,140.0,40.6,1.174,39.0,0.0],[100.0,84.0,33.0,105.0,30.0,0.488,46.0,0.0],[81.0,74.0,41.0,57.0,46.3,1.096,32.0,0.0],[121.0,78.0,39.0,74.0,39.0,0.261,28.0,0.0],[108.0,62.0,24.0,0.0,26.0,0.223,25.0,0.0],[128.0,88.0,39.0,110.0,36.5,1.057,37.0,1.0],[137.0,90.0,41.0,0.0,32.0,0.391,39.0,0.0],[106.0,76.0,0.0,0.0,37.5,0.197,26.0,0.0],[190.0,92.0,0.0,0.0,35.5,0.278,66.0,1.0],[88.0,58.0,26.0,16.0,28.4,0.766,22.0,0.0],[89.0,62.0,0.0,0.0,22.5,0.142,33.0,0.0],[101.0,76.0,48.0,180.0,32.9,0.171,63.0,0.0],[122.0,70.0,27.0,0.0,36.8,0.34,27.0,0.0],[121.0,72.0,23.0,112.0,26.2,0.245,30.0,0.0],[126.0,60.0,0.0,0.0,30.1,0.349,47.0,1.0],[93.0,70.0,31.0,0.0,30.4,0.315,23.0,0.0]],\"hovertemplate\":\"A=%{x}<br>B=%{customdata[0]}<br>C=%{customdata[1]}<br>D=%{customdata[2]}<br>E=%{customdata[3]}<br>F=%{customdata[4]}<br>G=%{customdata[5]}<br>H=%{customdata[6]}<br>target=%{customdata[7]}<extra></extra>\",\"legendgroup\":\"\",\"marker\":{\"color\":\"#636efa\"},\"name\":\"\",\"notched\":true,\"offsetgroup\":\"\",\"showlegend\":false,\"x\":[1,1,5,10,4,10,5,1,3,8,7,11,10,1,13,5,5,3,3,6,10,4,11,3,7,7,7,1,2,7,1,1,5,7,1,0,0,0,2,8,5,2,5,2,1,4,2,5,13,4,1,1,7,5,2,3,2,7,0,5,2,13,2,1,1,4,7,2,6,2,1,6,1,1,0,1,2,1,1,4,3,8,1,4,5,4,4,6,2,5,3,1,8,2,2,0,0,0,5,3,5,2,4,0,9,2,5,2,1,4,1,8,2,1,2,4,7,0,2,0,3,4,4,3,2,1,2,6,0,5,6,0,1,5,4,8,3,9,8,1,4,4,0,1,0,2,6,5,1,7,2,0,7,6,7,7,1,1,0,3,4,0,6,1,4,3,4,9,0,1,4,3,6,2,10,0,9,1,9,2,2,0,3,2,1,3,4,3,4,5,2,0,2,3,1,13,2,0,5,2,10,7,2,7,5,4,5,0,0,6,0,8,5,3,2,0,6,0,3,2,3,3,3,6,4,0,13,2,1,10,6,8,2,12,1,0,0,1,1,1,5,8,8,1,3,3,4,4,3,1,3,12,1,5,5,4,4,5,6,0,3,1,0,0,2,2,0,1,0,1,0,1,1,1,1,3,1,1,4,2,3,0,3,3,6,5,9,2,0,8,6,1,1,1,0,1,1,1,2,0,2,0,0,2,3,1,2,1,12,5,1,6,2,4,1,0,0,1,0,2,2,1,5,9,9,1,8,5,10,0,0,0,6,1,0,0,7,4,0,7,8,4,3,0,4,0,0,1,0,4,8,2,2,4,3,6,5,2,6,2,3,7,3,10,1,2,8,0,9,2,3,7,13,6,2,3,6,3,3,1,3,0,0,2,0,1,6,1,0,0,0,4,1,4,1,4,1,3,6,1,1,7,1,8,11,11,1,6,0,2,1,6,4,0,3,2,3,2,1,1,6,10,0,6,12,8,1,6,0,2,2,6,0,0,1,1,1,6,1,7,1,1,0,1,3,6,3,6,2,2,2,6,0,2,4,0,0,5,4,7,0,2,1,10,5,2,1,0,4,4,3,2,0,0,1,1,5,2,1,2,1,11,10,1,1,6,9,6,1,10,3,8,0,2,2,0,5,2,3,1,1,8,2,2,7,0,4,4,2,1,2,4,6,2,3,5,0,3,10,1,4,1,5,1,4,1,0,2,2,2,2,4,0,8,2,1,11,3,1,9,13,12,1,1,3,1,7,1,6,2,9,10,2,5,1,1],\"xaxis\":\"x2\",\"yaxis\":\"y2\",\"type\":\"box\"}],                        {\"template\":{\"data\":{\"bar\":[{\"error_x\":{\"color\":\"#2a3f5f\"},\"error_y\":{\"color\":\"#2a3f5f\"},\"marker\":{\"line\":{\"color\":\"#E5ECF6\",\"width\":0.5},\"pattern\":{\"fillmode\":\"overlay\",\"size\":10,\"solidity\":0.2}},\"type\":\"bar\"}],\"barpolar\":[{\"marker\":{\"line\":{\"color\":\"#E5ECF6\",\"width\":0.5},\"pattern\":{\"fillmode\":\"overlay\",\"size\":10,\"solidity\":0.2}},\"type\":\"barpolar\"}],\"carpet\":[{\"aaxis\":{\"endlinecolor\":\"#2a3f5f\",\"gridcolor\":\"white\",\"linecolor\":\"white\",\"minorgridcolor\":\"white\",\"startlinecolor\":\"#2a3f5f\"},\"baxis\":{\"endlinecolor\":\"#2a3f5f\",\"gridcolor\":\"white\",\"linecolor\":\"white\",\"minorgridcolor\":\"white\",\"startlinecolor\":\"#2a3f5f\"},\"type\":\"carpet\"}],\"choropleth\":[{\"colorbar\":{\"outlinewidth\":0,\"ticks\":\"\"},\"type\":\"choropleth\"}],\"contour\":[{\"colorbar\":{\"outlinewidth\":0,\"ticks\":\"\"},\"colorscale\":[[0.0,\"#0d0887\"],[0.1111111111111111,\"#46039f\"],[0.2222222222222222,\"#7201a8\"],[0.3333333333333333,\"#9c179e\"],[0.4444444444444444,\"#bd3786\"],[0.5555555555555556,\"#d8576b\"],[0.6666666666666666,\"#ed7953\"],[0.7777777777777778,\"#fb9f3a\"],[0.8888888888888888,\"#fdca26\"],[1.0,\"#f0f921\"]],\"type\":\"contour\"}],\"contourcarpet\":[{\"colorbar\":{\"outlinewidth\":0,\"ticks\":\"\"},\"type\":\"contourcarpet\"}],\"heatmap\":[{\"colorbar\":{\"outlinewidth\":0,\"ticks\":\"\"},\"colorscale\":[[0.0,\"#0d0887\"],[0.1111111111111111,\"#46039f\"],[0.2222222222222222,\"#7201a8\"],[0.3333333333333333,\"#9c179e\"],[0.4444444444444444,\"#bd3786\"],[0.5555555555555556,\"#d8576b\"],[0.6666666666666666,\"#ed7953\"],[0.7777777777777778,\"#fb9f3a\"],[0.8888888888888888,\"#fdca26\"],[1.0,\"#f0f921\"]],\"type\":\"heatmap\"}],\"heatmapgl\":[{\"colorbar\":{\"outlinewidth\":0,\"ticks\":\"\"},\"colorscale\":[[0.0,\"#0d0887\"],[0.1111111111111111,\"#46039f\"],[0.2222222222222222,\"#7201a8\"],[0.3333333333333333,\"#9c179e\"],[0.4444444444444444,\"#bd3786\"],[0.5555555555555556,\"#d8576b\"],[0.6666666666666666,\"#ed7953\"],[0.7777777777777778,\"#fb9f3a\"],[0.8888888888888888,\"#fdca26\"],[1.0,\"#f0f921\"]],\"type\":\"heatmapgl\"}],\"histogram\":[{\"marker\":{\"pattern\":{\"fillmode\":\"overlay\",\"size\":10,\"solidity\":0.2}},\"type\":\"histogram\"}],\"histogram2d\":[{\"colorbar\":{\"outlinewidth\":0,\"ticks\":\"\"},\"colorscale\":[[0.0,\"#0d0887\"],[0.1111111111111111,\"#46039f\"],[0.2222222222222222,\"#7201a8\"],[0.3333333333333333,\"#9c179e\"],[0.4444444444444444,\"#bd3786\"],[0.5555555555555556,\"#d8576b\"],[0.6666666666666666,\"#ed7953\"],[0.7777777777777778,\"#fb9f3a\"],[0.8888888888888888,\"#fdca26\"],[1.0,\"#f0f921\"]],\"type\":\"histogram2d\"}],\"histogram2dcontour\":[{\"colorbar\":{\"outlinewidth\":0,\"ticks\":\"\"},\"colorscale\":[[0.0,\"#0d0887\"],[0.1111111111111111,\"#46039f\"],[0.2222222222222222,\"#7201a8\"],[0.3333333333333333,\"#9c179e\"],[0.4444444444444444,\"#bd3786\"],[0.5555555555555556,\"#d8576b\"],[0.6666666666666666,\"#ed7953\"],[0.7777777777777778,\"#fb9f3a\"],[0.8888888888888888,\"#fdca26\"],[1.0,\"#f0f921\"]],\"type\":\"histogram2dcontour\"}],\"mesh3d\":[{\"colorbar\":{\"outlinewidth\":0,\"ticks\":\"\"},\"type\":\"mesh3d\"}],\"parcoords\":[{\"line\":{\"colorbar\":{\"outlinewidth\":0,\"ticks\":\"\"}},\"type\":\"parcoords\"}],\"pie\":[{\"automargin\":true,\"type\":\"pie\"}],\"scatter\":[{\"marker\":{\"colorbar\":{\"outlinewidth\":0,\"ticks\":\"\"}},\"type\":\"scatter\"}],\"scatter3d\":[{\"line\":{\"colorbar\":{\"outlinewidth\":0,\"ticks\":\"\"}},\"marker\":{\"colorbar\":{\"outlinewidth\":0,\"ticks\":\"\"}},\"type\":\"scatter3d\"}],\"scattercarpet\":[{\"marker\":{\"colorbar\":{\"outlinewidth\":0,\"ticks\":\"\"}},\"type\":\"scattercarpet\"}],\"scattergeo\":[{\"marker\":{\"colorbar\":{\"outlinewidth\":0,\"ticks\":\"\"}},\"type\":\"scattergeo\"}],\"scattergl\":[{\"marker\":{\"colorbar\":{\"outlinewidth\":0,\"ticks\":\"\"}},\"type\":\"scattergl\"}],\"scattermapbox\":[{\"marker\":{\"colorbar\":{\"outlinewidth\":0,\"ticks\":\"\"}},\"type\":\"scattermapbox\"}],\"scatterpolar\":[{\"marker\":{\"colorbar\":{\"outlinewidth\":0,\"ticks\":\"\"}},\"type\":\"scatterpolar\"}],\"scatterpolargl\":[{\"marker\":{\"colorbar\":{\"outlinewidth\":0,\"ticks\":\"\"}},\"type\":\"scatterpolargl\"}],\"scatterternary\":[{\"marker\":{\"colorbar\":{\"outlinewidth\":0,\"ticks\":\"\"}},\"type\":\"scatterternary\"}],\"surface\":[{\"colorbar\":{\"outlinewidth\":0,\"ticks\":\"\"},\"colorscale\":[[0.0,\"#0d0887\"],[0.1111111111111111,\"#46039f\"],[0.2222222222222222,\"#7201a8\"],[0.3333333333333333,\"#9c179e\"],[0.4444444444444444,\"#bd3786\"],[0.5555555555555556,\"#d8576b\"],[0.6666666666666666,\"#ed7953\"],[0.7777777777777778,\"#fb9f3a\"],[0.8888888888888888,\"#fdca26\"],[1.0,\"#f0f921\"]],\"type\":\"surface\"}],\"table\":[{\"cells\":{\"fill\":{\"color\":\"#EBF0F8\"},\"line\":{\"color\":\"white\"}},\"header\":{\"fill\":{\"color\":\"#C8D4E3\"},\"line\":{\"color\":\"white\"}},\"type\":\"table\"}]},\"layout\":{\"annotationdefaults\":{\"arrowcolor\":\"#2a3f5f\",\"arrowhead\":0,\"arrowwidth\":1},\"autotypenumbers\":\"strict\",\"coloraxis\":{\"colorbar\":{\"outlinewidth\":0,\"ticks\":\"\"}},\"colorscale\":{\"diverging\":[[0,\"#8e0152\"],[0.1,\"#c51b7d\"],[0.2,\"#de77ae\"],[0.3,\"#f1b6da\"],[0.4,\"#fde0ef\"],[0.5,\"#f7f7f7\"],[0.6,\"#e6f5d0\"],[0.7,\"#b8e186\"],[0.8,\"#7fbc41\"],[0.9,\"#4d9221\"],[1,\"#276419\"]],\"sequential\":[[0.0,\"#0d0887\"],[0.1111111111111111,\"#46039f\"],[0.2222222222222222,\"#7201a8\"],[0.3333333333333333,\"#9c179e\"],[0.4444444444444444,\"#bd3786\"],[0.5555555555555556,\"#d8576b\"],[0.6666666666666666,\"#ed7953\"],[0.7777777777777778,\"#fb9f3a\"],[0.8888888888888888,\"#fdca26\"],[1.0,\"#f0f921\"]],\"sequentialminus\":[[0.0,\"#0d0887\"],[0.1111111111111111,\"#46039f\"],[0.2222222222222222,\"#7201a8\"],[0.3333333333333333,\"#9c179e\"],[0.4444444444444444,\"#bd3786\"],[0.5555555555555556,\"#d8576b\"],[0.6666666666666666,\"#ed7953\"],[0.7777777777777778,\"#fb9f3a\"],[0.8888888888888888,\"#fdca26\"],[1.0,\"#f0f921\"]]},\"colorway\":[\"#636efa\",\"#EF553B\",\"#00cc96\",\"#ab63fa\",\"#FFA15A\",\"#19d3f3\",\"#FF6692\",\"#B6E880\",\"#FF97FF\",\"#FECB52\"],\"font\":{\"color\":\"#2a3f5f\"},\"geo\":{\"bgcolor\":\"white\",\"lakecolor\":\"white\",\"landcolor\":\"#E5ECF6\",\"showlakes\":true,\"showland\":true,\"subunitcolor\":\"white\"},\"hoverlabel\":{\"align\":\"left\"},\"hovermode\":\"closest\",\"mapbox\":{\"style\":\"light\"},\"paper_bgcolor\":\"white\",\"plot_bgcolor\":\"#E5ECF6\",\"polar\":{\"angularaxis\":{\"gridcolor\":\"white\",\"linecolor\":\"white\",\"ticks\":\"\"},\"bgcolor\":\"#E5ECF6\",\"radialaxis\":{\"gridcolor\":\"white\",\"linecolor\":\"white\",\"ticks\":\"\"}},\"scene\":{\"xaxis\":{\"backgroundcolor\":\"#E5ECF6\",\"gridcolor\":\"white\",\"gridwidth\":2,\"linecolor\":\"white\",\"showbackground\":true,\"ticks\":\"\",\"zerolinecolor\":\"white\"},\"yaxis\":{\"backgroundcolor\":\"#E5ECF6\",\"gridcolor\":\"white\",\"gridwidth\":2,\"linecolor\":\"white\",\"showbackground\":true,\"ticks\":\"\",\"zerolinecolor\":\"white\"},\"zaxis\":{\"backgroundcolor\":\"#E5ECF6\",\"gridcolor\":\"white\",\"gridwidth\":2,\"linecolor\":\"white\",\"showbackground\":true,\"ticks\":\"\",\"zerolinecolor\":\"white\"}},\"shapedefaults\":{\"line\":{\"color\":\"#2a3f5f\"}},\"ternary\":{\"aaxis\":{\"gridcolor\":\"white\",\"linecolor\":\"white\",\"ticks\":\"\"},\"baxis\":{\"gridcolor\":\"white\",\"linecolor\":\"white\",\"ticks\":\"\"},\"bgcolor\":\"#E5ECF6\",\"caxis\":{\"gridcolor\":\"white\",\"linecolor\":\"white\",\"ticks\":\"\"}},\"title\":{\"x\":0.05},\"xaxis\":{\"automargin\":true,\"gridcolor\":\"white\",\"linecolor\":\"white\",\"ticks\":\"\",\"title\":{\"standoff\":15},\"zerolinecolor\":\"white\",\"zerolinewidth\":2},\"yaxis\":{\"automargin\":true,\"gridcolor\":\"white\",\"linecolor\":\"white\",\"ticks\":\"\",\"title\":{\"standoff\":15},\"zerolinecolor\":\"white\",\"zerolinewidth\":2}}},\"xaxis\":{\"anchor\":\"y\",\"domain\":[0.0,1.0],\"title\":{\"text\":\"A\"}},\"yaxis\":{\"anchor\":\"x\",\"domain\":[0.0,0.8316],\"title\":{\"text\":\"count\"}},\"xaxis2\":{\"anchor\":\"y2\",\"domain\":[0.0,1.0],\"matches\":\"x\",\"showticklabels\":false,\"showgrid\":true},\"yaxis2\":{\"anchor\":\"x2\",\"domain\":[0.8416,1.0],\"matches\":\"y2\",\"showticklabels\":false,\"showline\":false,\"ticks\":\"\",\"showgrid\":false},\"legend\":{\"tracegroupgap\":0},\"margin\":{\"t\":60},\"barmode\":\"relative\"},                        {\"responsive\": true}                    ).then(function(){\n",
              "                            \n",
              "var gd = document.getElementById('aea5d1b5-d812-4c42-ad36-607f6f55af9e');\n",
              "var x = new MutationObserver(function (mutations, observer) {{\n",
              "        var display = window.getComputedStyle(gd).display;\n",
              "        if (!display || display === 'none') {{\n",
              "            console.log([gd, 'removed!']);\n",
              "            Plotly.purge(gd);\n",
              "            observer.disconnect();\n",
              "        }}\n",
              "}});\n",
              "\n",
              "// Listen for the removal of the full notebook cells\n",
              "var notebookContainer = gd.closest('#notebook-container');\n",
              "if (notebookContainer) {{\n",
              "    x.observe(notebookContainer, {childList: true});\n",
              "}}\n",
              "\n",
              "// Listen for the clearing of the current output cell\n",
              "var outputEl = gd.closest('.output');\n",
              "if (outputEl) {{\n",
              "    x.observe(outputEl, {childList: true});\n",
              "}}\n",
              "\n",
              "                        })                };                            </script>        </div>\n",
              "</body>\n",
              "</html>"
            ]
          },
          "metadata": {}
        }
      ]
    },
    {
      "cell_type": "code",
      "source": [
        "print(\"skweness: \",df[\"A\"].skew())\n",
        "print(\"Kurtosis: \",df[\"A\"].kurt())"
      ],
      "metadata": {
        "colab": {
          "base_uri": "https://localhost:8080/"
        },
        "id": "OEhPQ4RgQI_O",
        "outputId": "9882dac1-f776-424f-ff6b-2ea4930e2fec"
      },
      "execution_count": 30,
      "outputs": [
        {
          "output_type": "stream",
          "name": "stdout",
          "text": [
            "skweness:  1.0488812300857546\n",
            "Kurtosis:  0.48068892028550714\n"
          ]
        }
      ]
    },
    {
      "cell_type": "code",
      "source": [
        "#standardizing dexa_freq_during_rx df\n",
        "scaled = StandardScaler().fit_transform(df['A'][:,np.newaxis]);\n",
        "low_range = scaled[scaled[:,0].argsort()][:10]\n",
        "high_range= scaled[scaled[:,0].argsort()][-10:]\n",
        "print('outer range (low) of the distribution:')\n",
        "print(low_range)\n",
        "print('\\nouter range (high) of the distribution:')\n",
        "print(high_range)"
      ],
      "metadata": {
        "colab": {
          "base_uri": "https://localhost:8080/"
        },
        "id": "nsjTBe8DQtG1",
        "outputId": "99c8410f-cff1-4e1f-d3ab-b2bec6027a02"
      },
      "execution_count": 31,
      "outputs": [
        {
          "output_type": "stream",
          "name": "stdout",
          "text": [
            "outer range (low) of the distribution:\n",
            "[[-1.10035344]\n",
            " [-1.10035344]\n",
            " [-1.10035344]\n",
            " [-1.10035344]\n",
            " [-1.10035344]\n",
            " [-1.10035344]\n",
            " [-1.10035344]\n",
            " [-1.10035344]\n",
            " [-1.10035344]\n",
            " [-1.10035344]]\n",
            "\n",
            "outer range (high) of the distribution:\n",
            "[[2.77381974]\n",
            " [2.77381974]\n",
            " [2.77381974]\n",
            " [3.0966675 ]\n",
            " [3.0966675 ]\n",
            " [3.0966675 ]\n",
            " [3.0966675 ]\n",
            " [3.0966675 ]\n",
            " [3.0966675 ]\n",
            " [3.0966675 ]]\n"
          ]
        }
      ]
    },
    {
      "cell_type": "code",
      "source": [
        "scaler = RobustScaler()\n",
        "df['A'] = scaler.fit_transform(df['A'].values.reshape(-1,1))"
      ],
      "metadata": {
        "id": "xyuvSU0TRmrA"
      },
      "execution_count": 32,
      "outputs": []
    },
    {
      "cell_type": "code",
      "source": [
        "''' Detection '''\n",
        "# IQR\n",
        "Q1 = np.percentile(df['A'], 25, \n",
        "                   interpolation = 'midpoint') \n",
        "  \n",
        "Q3 = np.percentile(df['A'], 75,\n",
        "                   interpolation = 'midpoint') \n",
        "IQR = Q3 - Q1 \n",
        "  \n",
        "print(\"Old Shape: \", df.shape) \n",
        "  \n",
        "# Upper bound\n",
        "upper = np.where(df['A'] >= (Q3+1.5*IQR))\n",
        "# Lower bound\n",
        "lower = np.where(df['A'] <= (Q1-1.5*IQR))\n",
        "  \n",
        "print(\"lower\",lower[0])\n",
        "print(\"Upper\",upper[0])\n",
        "\n",
        "''' Removing the Outliers '''\n",
        "df.drop(upper[0], inplace = True)\n",
        "df.drop(lower[0], inplace = True)\n",
        "\n",
        "print(\"New Shape: \", df.shape)\n",
        "\n",
        "df = df.reset_index(drop=True)"
      ],
      "metadata": {
        "colab": {
          "base_uri": "https://localhost:8080/",
          "height": 0
        },
        "id": "Qv_T9Q85cvlX",
        "outputId": "f3c0f427-6363-4668-e3c5-f6ee319093d2"
      },
      "execution_count": 33,
      "outputs": [
        {
          "output_type": "execute_result",
          "data": {
            "text/plain": [
              "' Detection '"
            ],
            "application/vnd.google.colaboratory.intrinsic+json": {
              "type": "string"
            }
          },
          "metadata": {},
          "execution_count": 33
        },
        {
          "output_type": "stream",
          "name": "stdout",
          "text": [
            "Old Shape:  (556, 9)\n",
            "lower []\n",
            "Upper [ 11  14  22  48  61 195 226 233 251 308 372 404 405 424 481 536 540 541]\n"
          ]
        },
        {
          "output_type": "execute_result",
          "data": {
            "text/plain": [
              "' Removing the Outliers '"
            ],
            "application/vnd.google.colaboratory.intrinsic+json": {
              "type": "string"
            }
          },
          "metadata": {},
          "execution_count": 33
        },
        {
          "output_type": "stream",
          "name": "stdout",
          "text": [
            "New Shape:  (538, 9)\n"
          ]
        }
      ]
    },
    {
      "cell_type": "markdown",
      "source": [
        "### ***B***"
      ],
      "metadata": {
        "id": "xYMegCleRSns"
      }
    },
    {
      "cell_type": "code",
      "source": [
        "fig = px.histogram(df, x=\"B\",\n",
        "                   marginal=\"box\", # or violin, rug\n",
        "                   hover_data=df.columns)\n",
        "fig.show()"
      ],
      "metadata": {
        "colab": {
          "base_uri": "https://localhost:8080/",
          "height": 0
        },
        "id": "kggoPMp5POjS",
        "outputId": "4caf184b-a736-478b-cc78-2bb89c55fb9c"
      },
      "execution_count": 34,
      "outputs": [
        {
          "output_type": "display_data",
          "data": {
            "text/html": [
              "<html>\n",
              "<head><meta charset=\"utf-8\" /></head>\n",
              "<body>\n",
              "    <div>            <script src=\"https://cdnjs.cloudflare.com/ajax/libs/mathjax/2.7.5/MathJax.js?config=TeX-AMS-MML_SVG\"></script><script type=\"text/javascript\">if (window.MathJax) {MathJax.Hub.Config({SVG: {font: \"STIX-Web\"}});}</script>                <script type=\"text/javascript\">window.PlotlyConfig = {MathJaxConfig: 'local'};</script>\n",
              "        <script src=\"https://cdn.plot.ly/plotly-2.8.3.min.js\"></script>                <div id=\"4eaa6b4c-33c3-4729-a23c-e9ef0dcc6414\" class=\"plotly-graph-div\" style=\"height:525px; width:100%;\"></div>            <script type=\"text/javascript\">                                    window.PLOTLYENV=window.PLOTLYENV || {};                                    if (document.getElementById(\"4eaa6b4c-33c3-4729-a23c-e9ef0dcc6414\")) {                    Plotly.newPlot(                        \"4eaa6b4c-33c3-4729-a23c-e9ef0dcc6414\",                        [{\"alignmentgroup\":\"True\",\"bingroup\":\"x\",\"hovertemplate\":\"B=%{x}<br>count=%{y}<extra></extra>\",\"legendgroup\":\"\",\"marker\":{\"color\":\"#636efa\",\"pattern\":{\"shape\":\"\"}},\"name\":\"\",\"offsetgroup\":\"\",\"orientation\":\"v\",\"showlegend\":false,\"x\":[85,89,116,115,110,139,166,103,126,99,196,125,97,117,109,158,88,92,122,103,180,133,106,159,146,71,105,103,101,88,150,73,100,146,105,84,133,44,141,99,109,95,146,100,139,129,79,0,62,95,112,113,74,83,101,137,110,100,107,80,123,81,142,144,92,71,93,122,151,125,81,85,126,96,144,83,155,89,76,78,97,99,111,107,132,120,118,84,96,125,100,93,129,105,128,106,108,154,102,57,106,147,90,136,114,153,188,99,109,88,151,102,114,100,131,148,120,110,111,87,79,75,85,129,143,87,119,0,73,141,181,111,123,85,105,109,148,113,138,108,99,103,111,96,184,81,147,179,125,119,142,100,87,101,162,197,117,134,79,122,74,171,164,104,91,91,139,119,146,122,165,124,111,106,129,90,86,111,114,193,191,95,142,123,96,128,102,108,122,71,100,104,114,108,129,133,108,136,155,96,108,78,161,151,126,112,77,150,120,137,80,106,113,112,99,182,115,194,129,124,112,157,179,105,118,87,95,165,117,130,95,0,122,95,126,139,116,99,92,137,61,90,90,196,158,103,146,147,99,124,101,81,133,118,84,105,122,98,87,93,107,105,109,90,125,119,100,100,131,116,127,96,131,82,193,137,136,72,123,101,197,102,112,143,143,138,97,83,119,94,102,115,94,135,99,89,80,139,90,147,97,107,83,117,100,95,120,82,91,119,100,135,86,134,120,71,74,88,115,124,74,97,154,144,137,119,136,114,137,114,126,132,158,123,85,84,135,139,173,99,194,83,89,99,80,166,110,81,154,117,84,94,96,75,130,84,120,139,91,91,99,125,129,68,124,114,125,87,97,116,117,111,122,107,86,91,77,105,57,127,84,88,131,164,189,116,84,114,88,84,124,97,110,87,99,91,95,99,92,154,121,78,130,111,98,143,119,108,133,151,109,100,93,103,73,112,82,123,188,67,89,109,108,96,124,150,124,92,152,111,106,105,106,117,68,112,92,183,94,108,90,125,132,128,94,114,102,111,128,92,104,94,100,102,128,90,103,157,179,107,91,117,123,120,106,101,120,162,199,112,98,154,165,99,68,123,91,93,101,56,95,136,129,130,107,140,107,121,90,142,99,127,118,122,168,129,110,80,127,158,126,134,102,94,108,83,114,117,111,112,116,141,175,92,106,105,95,126,65,99,102,102,109,140,81,121,108,128,137,106,190,88,89,101,122,121,126,93],\"xaxis\":\"x\",\"yaxis\":\"y\",\"type\":\"histogram\"},{\"alignmentgroup\":\"True\",\"customdata\":[[-0.25,66.0,29.0,0.0,26.6,0.351,31.0,0.0],[-0.25,66.0,23.0,94.0,28.1,0.167,21.0,0.0],[0.75,74.0,0.0,0.0,25.6,0.201,30.0,0.0],[2.0,0.0,0.0,0.0,35.3,0.134,29.0,0.0],[0.5,92.0,0.0,0.0,37.6,0.191,30.0,0.0],[2.0,80.0,0.0,0.0,27.1,1.441,57.0,0.0],[0.75,72.0,19.0,175.0,25.8,0.587,51.0,1.0],[-0.25,30.0,38.0,83.0,43.3,0.183,33.0,0.0],[0.25,88.0,41.0,235.0,39.3,0.704,27.0,0.0],[1.5,84.0,0.0,0.0,35.4,0.388,50.0,0.0],[1.25,90.0,0.0,0.0,39.8,0.451,41.0,1.0],[2.0,70.0,26.0,115.0,31.1,0.205,41.0,1.0],[-0.25,66.0,15.0,140.0,23.2,0.487,22.0,0.0],[0.75,92.0,0.0,0.0,34.1,0.337,38.0,0.0],[0.75,75.0,26.0,0.0,36.0,0.546,60.0,0.0],[0.25,76.0,36.0,245.0,31.6,0.851,28.0,1.0],[0.25,58.0,11.0,54.0,24.8,0.267,22.0,0.0],[1.0,92.0,0.0,0.0,19.9,0.188,28.0,0.0],[2.0,78.0,31.0,0.0,27.6,0.512,45.0,0.0],[0.5,60.0,33.0,192.0,24.0,0.966,33.0,0.0],[0.25,64.0,25.0,70.0,34.0,0.271,26.0,0.0],[1.25,84.0,0.0,0.0,40.2,0.696,37.0,0.0],[1.25,92.0,18.0,0.0,22.7,0.235,48.0,0.0],[1.25,64.0,0.0,0.0,27.4,0.294,40.0,0.0],[-0.25,56.0,0.0,0.0,29.7,0.564,29.0,0.0],[0.0,70.0,27.0,0.0,28.0,0.586,22.0,0.0],[1.25,0.0,0.0,0.0,0.0,0.305,24.0,0.0],[-0.25,80.0,11.0,82.0,19.4,0.491,22.0,0.0],[-0.25,50.0,15.0,36.0,24.2,0.526,26.0,0.0],[0.75,66.0,21.0,23.0,24.4,0.342,30.0,0.0],[1.25,66.0,42.0,342.0,34.7,0.718,42.0,0.0],[-0.25,50.0,10.0,0.0,23.0,0.248,21.0,0.0],[-0.5,88.0,60.0,110.0,46.8,0.962,31.0,0.0],[-0.5,82.0,0.0,0.0,40.5,1.781,44.0,0.0],[-0.5,64.0,41.0,142.0,41.5,0.173,22.0,0.0],[0.0,0.0,0.0,0.0,0.0,0.304,21.0,0.0],[1.5,72.0,0.0,0.0,32.9,0.27,39.0,1.0],[0.75,62.0,0.0,0.0,25.0,0.587,36.0,0.0],[0.0,58.0,34.0,128.0,25.4,0.699,24.0,0.0],[0.75,74.0,27.0,0.0,29.0,0.203,32.0,0.0],[0.0,92.0,0.0,0.0,42.7,0.845,54.0,0.0],[-0.25,66.0,13.0,38.0,19.6,0.334,25.0,0.0],[0.5,85.0,27.0,100.0,28.9,0.189,27.0,0.0],[0.0,66.0,20.0,90.0,32.9,0.867,28.0,1.0],[0.75,64.0,35.0,140.0,28.6,0.411,26.0,0.0],[0.5,86.0,20.0,270.0,35.1,0.231,23.0,0.0],[-0.25,75.0,30.0,0.0,32.0,0.396,22.0,0.0],[-0.25,48.0,20.0,0.0,24.7,0.14,22.0,0.0],[1.25,78.0,0.0,0.0,32.6,0.391,41.0,0.0],[0.75,72.0,33.0,0.0,37.7,0.37,27.0,0.0],[0.0,66.0,22.0,0.0,25.0,0.307,24.0,0.0],[0.25,44.0,13.0,0.0,22.4,0.14,22.0,0.0],[0.0,0.0,0.0,0.0,0.0,0.102,22.0,0.0],[1.25,78.0,26.0,71.0,29.3,0.767,36.0,0.0],[-0.5,65.0,28.0,0.0,24.6,0.237,22.0,0.0],[0.75,108.0,0.0,0.0,48.8,0.227,37.0,1.0],[0.0,74.0,29.0,125.0,32.4,0.698,27.0,0.0],[0.0,68.0,25.0,71.0,38.5,0.324,26.0,0.0],[-0.25,68.0,19.0,0.0,26.5,0.165,24.0,0.0],[-0.25,55.0,0.0,0.0,19.1,0.258,21.0,0.0],[0.5,80.0,15.0,176.0,32.0,0.443,34.0,0.0],[1.25,78.0,40.0,48.0,46.7,0.261,42.0,0.0],[0.0,82.0,18.0,64.0,24.7,0.761,21.0,0.0],[1.0,72.0,27.0,228.0,33.9,0.255,40.0,0.0],[0.0,62.0,28.0,0.0,31.6,0.13,24.0,0.0],[-0.25,48.0,18.0,76.0,20.4,0.323,22.0,0.0],[1.0,50.0,30.0,64.0,28.7,0.356,23.0,0.0],[-0.25,90.0,51.0,220.0,49.7,0.325,31.0,1.0],[-0.25,60.0,0.0,0.0,26.1,0.179,22.0,0.0],[-0.5,96.0,0.0,0.0,22.5,0.262,21.0,0.0],[-0.25,72.0,18.0,40.0,26.6,0.283,24.0,0.0],[0.0,65.0,0.0,0.0,39.6,0.93,27.0,0.0],[-0.25,56.0,29.0,152.0,28.7,0.801,21.0,0.0],[-0.25,122.0,0.0,0.0,22.4,0.207,27.0,0.0],[0.5,58.0,28.0,140.0,29.5,0.287,37.0,0.0],[0.25,58.0,31.0,18.0,34.3,0.336,25.0,0.0],[1.5,62.0,26.0,495.0,34.0,0.543,46.0,1.0],[-0.25,76.0,34.0,37.0,31.2,0.192,23.0,0.0],[0.5,62.0,0.0,0.0,34.0,0.391,25.0,0.0],[0.75,48.0,0.0,0.0,33.7,0.654,25.0,0.0],[0.5,60.0,23.0,0.0,28.2,0.443,22.0,0.0],[0.5,76.0,15.0,51.0,23.2,0.223,21.0,0.0],[1.0,64.0,39.0,0.0,34.2,0.26,24.0,0.0],[0.0,74.0,30.0,100.0,33.6,0.404,23.0,0.0],[0.75,80.0,0.0,0.0,26.8,0.186,69.0,0.0],[0.25,70.0,30.0,135.0,42.9,0.452,30.0,0.0],[-0.25,58.0,36.0,94.0,33.3,0.261,23.0,0.0],[1.5,74.0,31.0,0.0,38.3,0.457,39.0,0.0],[0.0,68.0,13.0,49.0,21.1,0.647,26.0,0.0],[0.0,60.0,20.0,140.0,33.8,0.088,31.0,0.0],[-0.5,70.0,26.0,50.0,30.8,0.597,21.0,0.0],[-0.5,60.0,25.0,92.0,28.7,0.532,22.0,0.0],[-0.5,80.0,0.0,0.0,31.2,0.703,29.0,0.0],[0.75,72.0,29.0,325.0,36.9,0.159,28.0,0.0],[0.25,78.0,0.0,0.0,21.1,0.268,55.0,0.0],[0.75,82.0,30.0,0.0,39.5,0.286,38.0,0.0],[0.0,52.0,26.0,63.0,32.5,0.318,22.0,0.0],[0.5,62.0,31.0,284.0,32.8,0.237,23.0,0.0],[-0.5,75.0,23.0,0.0,0.0,0.572,21.0,0.0],[1.75,80.0,37.0,0.0,32.8,0.096,41.0,0.0],[0.0,64.0,35.0,119.0,30.5,1.4,34.0,0.0],[0.75,78.0,0.0,0.0,33.7,0.218,65.0,0.0],[0.0,70.0,17.0,0.0,27.3,0.085,22.0,0.0],[-0.25,74.0,50.0,204.0,37.4,0.399,24.0,0.0],[0.5,65.0,0.0,0.0,21.9,0.432,37.0,0.0],[-0.25,82.0,42.0,485.0,40.6,0.687,23.0,0.0],[1.5,78.0,0.0,0.0,47.9,0.137,43.0,1.0],[0.0,52.0,15.0,94.0,24.6,0.637,21.0,0.0],[-0.25,56.0,21.0,135.0,25.2,0.833,23.0,0.0],[0.0,74.0,19.0,53.0,29.0,0.229,22.0,0.0],[0.5,90.0,38.0,0.0,29.7,0.294,36.0,0.0],[1.25,74.0,40.0,105.0,37.2,0.204,45.0,0.0],[-0.5,80.0,34.0,285.0,44.2,0.167,27.0,0.0],[0.0,64.0,23.0,0.0,29.7,0.368,21.0,0.0],[-0.5,88.0,0.0,0.0,31.6,0.743,32.0,1.0],[0.25,66.0,25.0,0.0,32.5,0.256,22.0,0.0],[0.5,68.0,0.0,0.0,29.6,0.709,34.0,0.0],[0.5,66.0,0.0,0.0,31.9,0.471,29.0,0.0],[0.25,90.0,12.0,78.0,28.4,0.495,29.0,0.0],[0.0,0.0,23.0,0.0,28.9,0.773,25.0,0.0],[-0.25,60.0,42.0,48.0,43.5,0.678,23.0,0.0],[0.0,64.0,24.0,55.0,29.7,0.37,33.0,0.0],[1.0,78.0,0.0,0.0,31.2,0.382,42.0,0.0],[-0.5,110.0,46.0,130.0,67.1,0.319,26.0,1.0],[0.75,78.0,0.0,0.0,45.0,0.19,47.0,0.0],[1.0,80.0,0.0,0.0,23.2,0.084,32.0,0.0],[-0.5,64.0,18.0,92.0,34.9,0.725,23.0,0.0],[-0.25,74.0,20.0,23.0,27.7,0.299,21.0,0.0],[0.75,60.0,0.0,0.0,26.8,0.268,27.0,0.0],[0.5,74.0,0.0,0.0,27.6,0.244,40.0,0.0],[1.5,68.0,36.0,495.0,30.1,0.615,60.0,1.0],[0.25,62.0,0.0,0.0,22.6,0.142,21.0,0.0],[1.75,70.0,44.0,94.0,33.1,0.374,40.0,0.0],[1.5,55.0,20.0,0.0,24.4,0.136,42.0,0.0],[-0.25,58.0,0.0,0.0,24.3,0.187,21.0,0.0],[0.5,64.0,44.0,99.0,34.8,0.905,26.0,1.0],[0.5,60.0,27.0,318.0,30.9,0.15,29.0,1.0],[-0.5,80.0,16.0,0.0,31.0,0.874,21.0,0.0],[-0.25,82.0,0.0,0.0,40.1,0.236,28.0,0.0],[-0.5,68.0,20.0,0.0,27.3,0.787,32.0,0.0],[0.0,70.0,16.0,44.0,20.4,0.235,27.0,0.0],[1.0,72.0,32.0,190.0,37.7,0.324,55.0,0.0],[0.75,72.0,28.0,0.0,23.9,0.407,27.0,0.0],[-0.25,64.0,27.0,87.0,33.2,0.289,21.0,0.0],[1.25,84.0,33.0,0.0,35.5,0.355,41.0,1.0],[0.0,60.0,22.0,0.0,27.7,0.29,25.0,0.0],[-0.5,85.0,54.0,0.0,42.8,0.375,24.0,0.0],[1.25,95.0,31.0,0.0,34.2,0.164,60.0,0.0],[1.0,68.0,30.0,120.0,30.0,0.464,32.0,0.0],[1.25,0.0,0.0,0.0,25.2,0.209,37.0,0.0],[1.25,60.0,33.0,190.0,28.8,0.687,61.0,0.0],[-0.25,66.0,15.0,56.0,23.6,0.666,26.0,0.0],[-0.25,78.0,27.0,32.0,34.6,0.101,22.0,0.0],[-0.5,76.0,0.0,0.0,35.7,0.198,26.0,0.0],[0.25,52.0,38.0,0.0,37.2,0.652,24.0,1.0],[0.5,70.0,39.0,744.0,36.7,2.329,31.0,0.0],[-0.5,80.0,31.0,53.0,45.2,0.089,24.0,0.0],[1.0,80.0,37.0,370.0,46.2,0.238,46.0,1.0],[-0.25,80.0,25.0,37.0,25.4,0.583,22.0,0.0],[0.5,68.0,0.0,0.0,35.0,0.394,29.0,0.0],[0.25,68.0,28.0,45.0,29.7,0.293,23.0,0.0],[0.5,72.0,0.0,0.0,43.6,0.479,26.0,1.0],[1.75,84.0,21.0,0.0,30.8,0.831,32.0,1.0],[-0.5,76.0,0.0,0.0,18.4,0.582,27.0,0.0],[-0.25,64.0,24.0,0.0,29.2,0.192,21.0,0.0],[0.5,70.0,32.0,88.0,33.1,0.446,22.0,0.0],[0.25,54.0,0.0,0.0,25.6,0.402,22.0,1.0],[1.0,50.0,22.0,176.0,27.1,1.318,33.0,1.0],[0.0,76.0,35.0,194.0,38.2,0.329,29.0,0.0],[2.0,68.0,0.0,0.0,31.2,0.258,41.0,0.0],[-0.5,90.0,33.0,680.0,52.3,0.427,23.0,0.0],[1.75,70.0,33.0,402.0,35.4,0.282,34.0,0.0],[-0.25,86.0,19.0,0.0,30.1,0.143,23.0,0.0],[1.75,52.0,0.0,0.0,31.2,0.38,42.0,0.0],[0.0,84.0,0.0,0.0,28.0,0.284,27.0,0.0],[0.0,80.0,14.0,55.0,24.4,0.249,24.0,0.0],[-0.5,68.0,32.0,0.0,35.8,0.238,25.0,0.0],[0.25,56.0,39.0,0.0,30.1,0.557,30.0,0.0],[0.0,68.0,22.0,0.0,28.7,0.092,25.0,0.0],[-0.25,50.0,16.0,375.0,25.9,0.655,24.0,0.0],[0.25,68.0,15.0,130.0,30.9,0.299,34.0,0.0],[0.5,70.0,32.0,0.0,32.1,0.612,24.0,0.0],[0.25,80.0,15.0,0.0,32.4,0.2,63.0,0.0],[0.5,62.0,0.0,0.0,32.0,0.226,35.0,1.0],[0.75,74.0,18.0,67.0,33.6,0.997,43.0,0.0],[0.0,64.0,42.0,0.0,40.0,1.101,24.0,0.0],[-0.5,52.0,0.0,0.0,25.1,0.078,21.0,0.0],[0.0,62.0,32.0,56.0,25.2,0.128,21.0,0.0],[0.25,78.0,0.0,0.0,23.0,0.254,40.0,0.0],[-0.25,78.0,50.0,45.0,33.2,0.422,21.0,0.0],[0.0,70.0,52.0,57.0,40.5,0.677,25.0,0.0],[-0.5,64.0,23.0,116.0,27.8,0.454,23.0,0.0],[0.75,74.0,0.0,0.0,24.9,0.744,57.0,0.0],[0.0,62.0,10.0,278.0,25.3,0.881,22.0,0.0],[2.0,76.0,28.0,122.0,35.9,0.28,39.0,0.0],[1.25,88.0,15.0,155.0,32.4,0.262,37.0,0.0],[0.0,80.0,0.0,0.0,27.0,0.259,52.0,1.0],[1.25,74.0,26.0,135.0,26.0,0.647,51.0,0.0],[0.75,84.0,44.0,545.0,38.7,0.619,34.0,0.0],[0.5,56.0,17.0,49.0,20.8,0.34,26.0,0.0],[0.75,72.0,43.0,75.0,36.1,0.263,33.0,0.0],[-0.5,88.0,29.0,40.0,36.9,0.434,21.0,0.0],[-0.5,50.0,0.0,0.0,21.9,0.254,65.0,0.0],[1.0,62.0,31.0,120.0,35.5,0.692,28.0,0.0],[-0.5,84.0,29.0,215.0,30.7,0.52,24.0,0.0],[1.5,72.0,0.0,0.0,23.6,0.84,58.0,0.0],[0.75,82.0,41.0,42.0,35.8,0.156,35.0,0.0],[0.25,76.0,0.0,0.0,21.0,0.207,37.0,0.0],[0.0,76.0,37.0,105.0,39.7,0.215,29.0,0.0],[-0.5,68.0,14.0,148.0,24.8,0.143,21.0,0.0],[1.0,66.0,30.0,0.0,26.2,0.313,41.0,0.0],[-0.5,70.0,37.0,148.0,39.4,0.605,22.0,0.0],[0.25,50.0,10.0,85.0,29.5,0.626,25.0,0.0],[0.0,68.0,22.0,94.0,34.1,0.315,26.0,0.0],[0.25,80.0,11.0,64.0,19.3,0.284,30.0,0.0],[0.25,74.0,0.0,0.0,30.5,0.345,29.0,1.0],[0.25,66.0,39.0,140.0,38.1,0.15,28.0,0.0],[1.0,78.0,0.0,0.0,23.5,0.129,59.0,1.0],[0.5,60.0,12.0,231.0,27.5,0.527,31.0,0.0],[-0.5,70.0,20.0,0.0,27.4,0.254,36.0,1.0],[0.0,75.0,32.0,0.0,35.7,0.148,21.0,0.0],[-0.25,72.0,21.0,168.0,25.6,0.123,24.0,0.0],[2.0,70.0,0.0,0.0,35.1,0.2,37.0,0.0],[1.0,70.0,32.0,68.0,30.8,0.122,37.0,0.0],[1.5,72.0,19.0,0.0,23.1,1.476,46.0,0.0],[0.0,58.0,16.0,52.0,32.7,0.166,25.0,0.0],[-0.25,60.0,18.0,58.0,23.9,0.26,22.0,0.0],[-0.5,76.0,43.0,255.0,47.9,0.259,26.0,0.0],[-0.5,0.0,0.0,0.0,33.8,0.932,44.0,0.0],[-0.25,70.0,13.0,105.0,25.9,0.472,22.0,0.0],[-0.25,74.0,21.0,73.0,25.9,0.673,36.0,0.0],[-0.25,68.0,35.0,0.0,32.0,0.389,22.0,0.0],[0.75,86.0,0.0,0.0,34.7,0.29,33.0,0.0],[1.5,72.0,0.0,0.0,36.8,0.485,57.0,0.0],[1.5,88.0,36.0,108.0,38.5,0.349,49.0,0.0],[-0.25,46.0,19.0,83.0,28.7,0.654,22.0,0.0],[0.25,0.0,0.0,0.0,23.5,0.187,23.0,0.0],[0.25,62.0,19.0,74.0,21.8,0.279,26.0,0.0],[0.5,80.0,0.0,0.0,42.2,0.237,29.0,0.0],[0.5,84.0,0.0,0.0,31.2,0.252,30.0,0.0],[0.25,82.0,28.0,0.0,34.4,0.243,46.0,0.0],[-0.25,62.0,12.0,43.0,27.2,0.58,24.0,0.0],[0.25,78.0,0.0,0.0,42.7,0.559,21.0,0.0],[-0.25,76.0,36.0,249.0,36.5,0.875,29.0,1.0],[0.75,70.0,0.0,0.0,29.8,0.207,63.0,0.0],[0.75,108.0,37.0,0.0,39.2,0.305,65.0,0.0],[0.5,78.0,0.0,0.0,38.5,0.52,67.0,1.0],[0.5,74.0,25.0,293.0,34.9,0.385,30.0,0.0],[0.75,54.0,28.0,83.0,34.0,0.499,30.0,0.0],[1.0,72.0,0.0,0.0,27.6,0.368,29.0,1.0],[-0.5,64.0,17.0,0.0,21.0,0.252,21.0,0.0],[0.25,86.0,16.0,66.0,27.5,0.306,22.0,0.0],[-0.25,102.0,28.0,140.0,32.8,0.234,45.0,1.0],[-0.5,64.0,23.0,89.0,0.0,1.731,21.0,0.0],[-0.5,64.0,22.0,66.0,35.8,0.545,21.0,0.0],[0.0,58.0,40.0,94.0,34.9,0.225,25.0,0.0],[0.0,52.0,43.0,158.0,36.2,0.816,28.0,0.0],[-0.5,82.0,15.0,84.0,25.2,0.299,22.0,0.0],[-0.25,60.0,37.0,75.0,37.2,0.509,22.0,0.0],[-0.5,100.0,39.0,72.0,43.4,1.021,35.0,0.0],[-0.25,72.0,30.0,82.0,30.8,0.821,24.0,0.0],[-0.5,68.0,22.0,0.0,20.0,0.236,22.0,0.0],[-0.25,60.0,8.0,182.0,25.4,0.947,21.0,0.0],[-0.25,62.0,18.0,59.0,25.1,1.268,25.0,0.0],[-0.25,70.0,24.0,110.0,24.3,0.221,25.0,0.0],[-0.25,54.0,13.0,50.0,22.3,0.205,24.0,0.0],[0.25,68.0,23.0,81.0,31.6,0.949,28.0,0.0],[-0.25,66.0,29.0,196.0,32.0,0.444,42.0,0.0],[-0.25,64.0,14.0,415.0,23.7,0.389,21.0,0.0],[0.5,72.0,12.0,87.0,22.1,0.463,37.0,0.0],[0.0,58.0,24.0,275.0,27.7,1.6,25.0,0.0],[0.25,56.0,34.0,115.0,24.7,0.944,39.0,0.0],[-0.5,66.0,40.0,0.0,34.3,0.196,22.0,1.0],[0.25,70.0,0.0,0.0,21.1,0.389,25.0,0.0],[0.25,70.0,31.0,0.0,34.9,0.241,25.0,1.0],[1.0,61.0,0.0,0.0,24.2,0.151,55.0,0.0],[0.75,84.0,41.0,88.0,35.0,0.286,35.0,1.0],[1.75,78.0,25.0,0.0,31.6,0.28,38.0,0.0],[0.0,48.0,32.0,165.0,42.1,0.52,26.0,0.0],[-0.5,62.0,0.0,0.0,21.9,0.336,25.0,0.0],[1.5,74.0,0.0,0.0,25.9,1.191,39.0,1.0],[1.0,90.0,39.0,0.0,35.7,0.674,28.0,0.0],[-0.25,72.0,30.0,176.0,34.4,0.528,25.0,0.0],[-0.25,84.0,23.0,310.0,42.4,1.076,22.0,0.0],[-0.25,74.0,22.0,61.0,26.2,0.256,21.0,0.0],[-0.5,60.0,35.0,167.0,34.6,0.534,21.0,1.0],[-0.25,68.0,21.0,0.0,27.2,1.095,22.0,0.0],[-0.25,68.0,0.0,0.0,18.2,0.624,27.0,0.0],[-0.25,88.0,41.0,170.0,45.3,0.507,26.0,0.0],[0.0,68.0,18.0,76.0,26.0,0.561,21.0,0.0],[-0.5,64.0,46.0,78.0,40.6,0.496,21.0,0.0],[0.0,64.0,22.0,0.0,30.8,0.421,21.0,0.0],[-0.5,0.0,0.0,0.0,0.0,0.256,25.0,0.0],[-0.5,94.0,46.0,145.0,40.6,0.284,26.0,0.0],[0.0,0.0,0.0,0.0,22.2,0.108,23.0,0.0],[0.25,74.0,16.0,85.0,30.4,0.551,38.0,0.0],[-0.25,74.0,11.0,60.0,30.0,0.527,22.0,0.0],[0.0,75.0,0.0,0.0,25.6,0.167,29.0,0.0],[-0.25,68.0,8.0,0.0,24.5,1.138,36.0,0.0],[0.75,75.0,0.0,0.0,29.9,0.434,28.0,0.0],[-0.25,70.0,15.0,0.0,18.2,0.147,21.0,0.0],[1.0,88.0,0.0,0.0,36.8,0.727,31.0,0.0],[0.0,66.0,23.0,50.0,32.2,0.497,22.0,0.0],[0.5,64.0,27.0,120.0,33.2,0.23,24.0,0.0],[-0.25,72.0,12.0,70.0,25.3,0.658,28.0,0.0],[-0.5,80.0,45.0,92.0,36.5,0.33,26.0,0.0],[-0.5,74.0,18.0,63.0,30.5,0.285,26.0,0.0],[-0.25,64.0,13.0,95.0,21.2,0.415,23.0,0.0],[-0.5,68.0,32.0,210.0,39.9,0.381,25.0,0.0],[0.0,0.0,0.0,0.0,19.6,0.832,72.0,0.0],[0.0,54.0,28.0,105.0,37.8,0.498,24.0,0.0],[-0.25,54.0,0.0,0.0,26.7,0.687,62.0,0.0],[0.75,68.0,28.0,71.0,30.2,0.364,24.0,0.0],[1.75,74.0,33.0,60.0,25.9,0.46,81.0,0.0],[1.75,72.0,22.0,56.0,20.8,0.733,48.0,0.0],[-0.25,62.0,0.0,0.0,21.8,0.416,26.0,0.0],[1.5,70.0,40.0,49.0,35.3,0.705,39.0,0.0],[0.75,78.0,30.0,0.0,27.6,0.258,37.0,0.0],[2.0,98.0,0.0,0.0,24.0,1.022,34.0,0.0],[-0.5,56.0,13.0,105.0,21.8,0.452,21.0,0.0],[-0.5,52.0,10.0,36.0,27.8,0.269,22.0,0.0],[-0.5,64.0,36.0,100.0,36.8,0.6,25.0,0.0],[1.0,78.0,41.0,140.0,46.1,0.571,27.0,0.0],[-0.25,82.0,40.0,0.0,41.3,0.607,28.0,0.0],[-0.5,70.0,38.0,0.0,33.2,0.17,22.0,0.0],[-0.5,66.0,27.0,0.0,38.8,0.259,22.0,0.0],[1.25,90.0,0.0,0.0,29.9,0.21,50.0,0.0],[0.5,64.0,0.0,0.0,28.9,0.126,24.0,0.0],[-0.5,84.0,27.0,0.0,27.3,0.231,59.0,0.0],[1.25,76.0,17.0,110.0,23.8,0.466,31.0,0.0],[1.5,74.0,38.0,75.0,25.9,0.162,39.0,0.0],[0.5,86.0,31.0,0.0,28.0,0.419,63.0,0.0],[0.25,70.0,30.0,328.0,35.5,0.344,35.0,1.0],[-0.5,88.0,37.0,0.0,35.2,0.197,29.0,0.0],[0.5,58.0,22.0,49.0,27.8,0.306,28.0,0.0],[-0.5,82.0,31.0,125.0,38.2,0.233,23.0,0.0],[-0.5,68.0,42.0,250.0,42.3,0.365,24.0,1.0],[-0.25,62.0,41.0,480.0,40.7,0.536,21.0,0.0],[-0.5,78.0,32.0,265.0,46.5,1.159,58.0,0.0],[0.5,72.0,17.0,0.0,25.6,0.294,28.0,0.0],[1.5,80.0,0.0,0.0,26.1,0.551,67.0,0.0],[0.0,65.0,28.0,66.0,36.8,0.629,24.0,0.0],[0.0,90.0,30.0,0.0,33.5,0.292,42.0,0.0],[0.5,68.0,38.0,0.0,32.8,0.145,33.0,0.0],[0.25,0.0,0.0,0.0,0.0,0.174,22.0,0.0],[1.0,74.0,0.0,0.0,26.6,0.304,66.0,0.0],[0.75,68.0,0.0,0.0,26.0,0.292,30.0,0.0],[0.0,72.0,15.0,76.0,30.1,0.547,25.0,0.0],[1.0,74.0,32.0,193.0,29.3,0.839,39.0,0.0],[0.0,90.0,19.0,71.0,25.2,0.313,21.0,0.0],[0.25,72.0,32.0,0.0,37.2,0.267,28.0,0.0],[1.25,64.0,25.0,79.0,33.3,0.738,41.0,0.0],[0.25,78.0,39.0,0.0,37.3,0.238,40.0,0.0],[2.0,82.0,0.0,0.0,33.3,0.263,38.0,0.0],[-0.25,60.0,23.0,170.0,28.6,0.692,21.0,0.0],[0.0,50.0,23.0,76.0,30.4,0.968,21.0,0.0],[1.5,78.0,0.0,0.0,25.0,0.409,64.0,0.0],[-0.5,62.0,17.0,210.0,22.1,0.207,21.0,0.0],[1.75,68.0,0.0,0.0,24.2,0.2,58.0,0.0],[0.0,62.0,0.0,0.0,27.3,0.525,22.0,0.0],[0.25,54.0,19.0,86.0,25.6,0.154,24.0,0.0],[1.25,86.0,0.0,0.0,37.6,0.304,51.0,0.0],[1.0,90.0,7.0,326.0,19.6,0.582,60.0,0.0],[0.0,70.0,32.0,66.0,25.0,0.187,25.0,0.0],[0.25,80.0,33.0,130.0,33.2,0.305,26.0,0.0],[1.0,0.0,0.0,0.0,0.0,0.189,26.0,0.0],[0.25,58.0,0.0,0.0,31.6,0.151,24.0,0.0],[0.25,60.0,18.0,0.0,21.8,0.444,21.0,0.0],[-0.25,64.0,19.0,82.0,18.2,0.299,21.0,0.0],[0.25,74.0,15.0,105.0,26.3,0.107,24.0,0.0],[-0.5,66.0,31.0,188.0,30.8,0.493,22.0,0.0],[-0.5,65.0,0.0,0.0,24.6,0.66,31.0,0.0],[0.0,60.0,18.0,106.0,29.8,0.717,22.0,0.0],[-0.5,76.0,0.0,0.0,45.3,0.686,24.0,0.0],[-0.25,66.0,52.0,65.0,41.3,0.917,29.0,0.0],[1.0,0.0,0.0,0.0,29.8,0.501,31.0,0.0],[-0.25,56.0,30.0,56.0,33.3,1.251,24.0,0.0],[-0.5,90.0,0.0,0.0,29.6,0.197,46.0,0.0],[-0.5,60.0,0.0,0.0,21.7,0.735,67.0,0.0],[-0.5,80.0,37.0,210.0,36.3,0.804,23.0,0.0],[0.5,90.0,23.0,56.0,39.5,0.159,25.0,0.0],[-0.25,78.0,29.0,76.0,32.0,0.365,29.0,0.0],[0.5,68.0,21.0,166.0,33.1,0.16,28.0,0.0],[-0.25,82.0,43.0,67.0,32.8,0.341,50.0,0.0],[0.5,110.0,31.0,0.0,28.5,0.68,37.0,0.0],[-0.25,70.0,28.0,0.0,27.4,0.204,21.0,0.0],[0.25,68.0,30.0,106.0,31.9,0.591,25.0,0.0],[1.0,88.0,0.0,0.0,27.8,0.247,66.0,0.0],[-0.25,62.0,24.0,44.0,29.9,0.422,23.0,0.0],[-0.25,64.0,23.0,115.0,36.9,0.471,28.0,0.0],[1.25,70.0,33.0,215.0,25.5,0.161,37.0,0.0],[-0.25,70.0,40.0,0.0,38.1,0.218,30.0,0.0],[1.5,76.0,0.0,0.0,27.8,0.237,58.0,0.0],[-0.25,68.0,34.0,77.0,37.6,0.401,24.0,0.0],[1.0,60.0,19.0,54.0,26.9,0.497,32.0,0.0],[-0.5,80.0,0.0,0.0,32.4,0.601,27.0,0.0],[0.0,54.0,14.0,88.0,26.1,0.748,22.0,0.0],[-0.25,72.0,30.0,18.0,38.6,0.412,21.0,0.0],[1.0,62.0,32.0,126.0,32.0,0.085,46.0,0.0],[0.5,72.0,29.0,126.0,31.3,0.338,37.0,0.0],[-0.5,66.0,30.0,165.0,34.3,0.203,33.0,1.0],[0.25,70.0,0.0,0.0,32.5,0.27,39.0,0.0],[0.0,96.0,0.0,0.0,22.6,0.268,21.0,0.0],[0.25,58.0,31.0,44.0,29.5,0.43,22.0,0.0],[0.0,60.0,17.0,120.0,34.7,0.198,22.0,0.0],[-0.25,86.0,30.0,330.0,30.1,0.892,23.0,0.0],[-0.25,44.0,47.0,63.0,35.5,0.28,25.0,0.0],[1.0,44.0,20.0,130.0,24.0,0.813,35.0,0.0],[2.0,68.0,0.0,0.0,27.0,0.245,36.0,0.0],[-0.5,90.0,46.0,0.0,42.1,0.371,21.0,1.0],[1.0,60.0,27.0,0.0,25.0,0.206,27.0,0.0],[1.5,76.0,0.0,0.0,38.7,0.19,42.0,0.0],[-0.25,56.0,11.0,0.0,22.5,0.417,22.0,0.0],[1.0,66.0,0.0,0.0,24.3,0.249,29.0,0.0],[-0.5,0.0,0.0,0.0,21.1,0.342,25.0,0.0],[0.0,78.0,50.0,140.0,39.4,0.175,24.0,0.0],[0.0,52.0,22.0,115.0,28.5,1.699,25.0,0.0],[1.0,72.0,45.0,230.0,33.6,0.733,34.0,0.0],[-0.5,82.0,14.0,185.0,32.0,0.682,22.0,1.0],[-0.5,76.0,0.0,0.0,45.3,0.194,46.0,0.0],[-0.25,24.0,19.0,25.0,27.8,0.559,21.0,0.0],[-0.25,38.0,18.0,120.0,23.1,0.407,26.0,0.0],[-0.25,88.0,19.0,0.0,27.1,0.4,24.0,0.0],[1.0,0.0,0.0,0.0,23.7,0.19,28.0,0.0],[-0.25,74.0,36.0,0.0,27.8,0.1,30.0,0.0],[1.25,78.0,29.0,126.0,35.2,0.692,54.0,1.0],[-0.25,60.0,32.0,0.0,35.8,0.514,21.0,0.0],[-0.25,62.0,25.0,41.0,19.5,0.482,25.0,0.0],[-0.5,82.0,39.0,272.0,41.5,0.27,27.0,0.0],[-0.25,62.0,13.0,182.0,24.0,0.138,23.0,0.0],[0.25,54.0,21.0,158.0,30.9,0.292,24.0,0.0],[1.0,80.0,28.0,0.0,32.5,0.878,26.0,0.0],[0.25,72.0,0.0,0.0,25.8,0.207,27.0,0.0],[1.0,96.0,0.0,0.0,28.7,0.157,30.0,0.0],[0.0,62.0,13.0,15.0,20.1,0.257,23.0,0.0],[0.0,86.0,42.0,160.0,38.4,0.246,28.0,0.0],[0.0,76.0,20.0,0.0,24.2,1.698,28.0,0.0],[1.0,94.0,0.0,0.0,40.8,1.461,45.0,0.0],[-0.5,70.0,27.0,115.0,43.5,0.347,21.0,0.0],[0.0,64.0,0.0,0.0,30.8,0.158,21.0,0.0],[0.5,88.0,47.0,54.0,37.7,0.362,29.0,0.0],[-0.5,68.0,0.0,0.0,24.7,0.206,21.0,0.0],[-0.5,78.0,0.0,0.0,32.4,0.393,21.0,0.0],[0.75,80.0,0.0,0.0,34.6,0.144,45.0,0.0],[0.5,65.0,22.0,0.0,24.7,0.148,21.0,0.0],[1.25,64.0,0.0,0.0,27.4,0.732,34.0,1.0],[-0.5,78.0,40.0,90.0,34.5,0.238,24.0,0.0],[0.0,60.0,0.0,0.0,26.2,0.343,23.0,0.0],[-0.25,82.0,17.0,183.0,27.5,0.115,22.0,0.0],[2.0,62.0,0.0,0.0,25.9,0.167,31.0,0.0],[0.75,74.0,0.0,0.0,28.8,0.153,48.0,0.0],[0.0,76.0,18.0,66.0,31.6,0.649,23.0,0.0],[-0.25,74.0,12.0,46.0,19.5,0.149,28.0,0.0],[-0.5,86.0,17.0,105.0,29.3,0.695,27.0,0.0],[0.5,70.0,0.0,0.0,34.3,0.303,24.0,0.0],[0.5,0.0,0.0,0.0,28.0,0.61,31.0,0.0],[0.25,72.0,30.0,152.0,27.6,0.73,27.0,0.0],[0.0,74.0,35.0,440.0,39.4,0.134,30.0,0.0],[-0.5,50.0,36.0,159.0,37.8,0.455,22.0,1.0],[-0.5,60.0,25.0,0.0,26.4,0.133,23.0,0.0],[-0.25,54.0,25.0,100.0,25.2,0.234,23.0,0.0],[-0.25,60.0,23.0,106.0,33.8,0.466,27.0,0.0],[0.75,74.0,40.0,77.0,34.1,0.269,28.0,0.0],[0.0,54.0,0.0,0.0,26.8,0.455,27.0,0.0],[-0.25,70.0,28.0,135.0,34.2,0.142,22.0,0.0],[0.0,58.0,35.0,90.0,21.8,0.155,22.0,0.0],[-0.25,80.0,48.0,200.0,38.9,1.162,41.0,0.0],[2.0,84.0,0.0,0.0,27.7,0.182,54.0,0.0],[-0.25,76.0,43.0,0.0,42.9,1.394,22.0,1.0],[-0.25,80.0,45.0,132.0,34.8,0.217,24.0,0.0],[1.0,58.0,33.0,190.0,34.0,0.43,43.0,0.0],[1.75,78.0,30.0,100.0,30.9,0.164,45.0,0.0],[1.0,68.0,26.0,168.0,33.6,0.631,49.0,0.0],[-0.25,58.0,10.0,0.0,25.4,0.551,21.0,0.0],[2.0,106.0,23.0,49.0,35.5,0.285,47.0,0.0],[0.25,100.0,35.0,240.0,57.3,0.88,22.0,0.0],[1.5,82.0,0.0,0.0,35.6,0.587,68.0,0.0],[-0.5,60.0,0.0,0.0,35.3,0.263,25.0,0.0],[0.0,58.0,17.0,265.0,24.2,0.614,23.0,0.0],[0.0,56.0,28.0,45.0,24.2,0.332,22.0,0.0],[-0.5,64.0,39.0,105.0,44.6,0.366,22.0,0.0],[0.75,82.0,0.0,0.0,0.0,0.64,69.0,0.0],[0.0,74.0,26.0,205.0,33.2,0.591,25.0,0.0],[0.25,64.0,0.0,0.0,23.1,0.314,22.0,0.0],[-0.25,50.0,19.0,0.0,28.3,0.181,29.0,0.0],[-0.25,74.0,26.0,180.0,24.1,0.828,23.0,0.0],[1.5,80.0,0.0,0.0,24.6,0.856,34.0,0.0],[0.0,70.0,32.0,95.0,39.1,0.886,23.0,0.0],[0.0,60.0,0.0,0.0,23.5,0.191,25.0,0.0],[1.25,90.0,24.0,480.0,30.4,0.128,43.0,1.0],[-0.5,0.0,0.0,0.0,25.0,0.253,22.0,0.0],[0.5,88.0,11.0,155.0,34.5,0.598,28.0,0.0],[0.5,70.0,0.0,0.0,44.5,0.904,26.0,0.0],[0.0,76.0,27.0,200.0,35.9,0.483,26.0,0.0],[-0.25,88.0,29.0,0.0,35.0,0.905,52.0,1.0],[0.0,0.0,0.0,0.0,38.5,0.304,41.0,0.0],[0.5,76.0,20.0,100.0,28.4,0.118,27.0,0.0],[1.0,80.0,36.0,0.0,39.8,0.177,28.0,0.0],[0.0,46.0,21.0,335.0,34.4,0.176,22.0,0.0],[0.25,64.0,13.0,387.0,31.2,0.295,24.0,0.0],[0.75,78.0,27.0,22.0,29.6,0.439,40.0,0.0],[-0.5,58.0,20.0,291.0,26.4,0.352,21.0,0.0],[0.25,74.0,0.0,0.0,29.5,0.121,32.0,0.0],[2.0,72.0,18.0,0.0,23.1,0.595,56.0,0.0],[-0.25,60.0,46.0,178.0,35.5,0.415,24.0,0.0],[0.5,86.0,19.0,0.0,29.3,0.317,34.0,0.0],[-0.25,66.0,36.0,200.0,38.1,0.289,21.0,0.0],[0.75,86.0,30.0,105.0,39.1,0.251,42.0,0.0],[-0.25,94.0,0.0,0.0,32.8,0.265,45.0,0.0],[0.5,78.0,40.0,0.0,39.4,0.236,38.0,0.0],[-0.25,78.0,29.0,180.0,36.1,0.496,25.0,0.0],[-0.5,84.0,26.0,0.0,32.4,0.433,22.0,0.0],[0.0,88.0,0.0,0.0,22.9,0.326,22.0,0.0],[0.0,52.0,0.0,0.0,30.1,0.141,22.0,0.0],[0.0,56.0,27.0,165.0,29.0,0.426,22.0,0.0],[0.0,75.0,0.0,0.0,23.3,0.56,53.0,0.0],[0.5,60.0,32.0,0.0,35.4,0.284,28.0,0.0],[-0.5,86.0,27.0,120.0,27.4,0.515,21.0,0.0],[1.5,72.0,23.0,0.0,32.0,0.6,42.0,0.0],[0.0,60.0,17.0,160.0,36.6,0.453,21.0,0.0],[-0.25,74.0,0.0,0.0,39.5,0.293,42.0,1.0],[0.25,44.0,20.0,94.0,30.8,0.4,26.0,0.0],[-0.25,58.0,18.0,116.0,28.5,0.219,22.0,0.0],[1.75,94.0,0.0,0.0,32.7,0.734,45.0,1.0],[-0.25,74.0,41.0,57.0,46.3,1.096,32.0,0.0],[-0.25,78.0,39.0,74.0,39.0,0.261,28.0,0.0],[0.25,62.0,24.0,0.0,26.0,0.223,25.0,0.0],[-0.25,88.0,39.0,110.0,36.5,1.057,37.0,1.0],[1.25,90.0,41.0,0.0,32.0,0.391,39.0,0.0],[-0.25,76.0,0.0,0.0,37.5,0.197,26.0,0.0],[1.0,92.0,0.0,0.0,35.5,0.278,66.0,1.0],[0.0,58.0,26.0,16.0,28.4,0.766,22.0,0.0],[1.75,62.0,0.0,0.0,22.5,0.142,33.0,0.0],[2.0,76.0,48.0,180.0,32.9,0.171,63.0,0.0],[0.0,70.0,27.0,0.0,36.8,0.34,27.0,0.0],[0.75,72.0,23.0,112.0,26.2,0.245,30.0,0.0],[-0.25,60.0,0.0,0.0,30.1,0.349,47.0,1.0],[-0.25,70.0,31.0,0.0,30.4,0.315,23.0,0.0]],\"hovertemplate\":\"B=%{x}<br>A=%{customdata[0]}<br>C=%{customdata[1]}<br>D=%{customdata[2]}<br>E=%{customdata[3]}<br>F=%{customdata[4]}<br>G=%{customdata[5]}<br>H=%{customdata[6]}<br>target=%{customdata[7]}<extra></extra>\",\"legendgroup\":\"\",\"marker\":{\"color\":\"#636efa\"},\"name\":\"\",\"notched\":true,\"offsetgroup\":\"\",\"showlegend\":false,\"x\":[85,89,116,115,110,139,166,103,126,99,196,125,97,117,109,158,88,92,122,103,180,133,106,159,146,71,105,103,101,88,150,73,100,146,105,84,133,44,141,99,109,95,146,100,139,129,79,0,62,95,112,113,74,83,101,137,110,100,107,80,123,81,142,144,92,71,93,122,151,125,81,85,126,96,144,83,155,89,76,78,97,99,111,107,132,120,118,84,96,125,100,93,129,105,128,106,108,154,102,57,106,147,90,136,114,153,188,99,109,88,151,102,114,100,131,148,120,110,111,87,79,75,85,129,143,87,119,0,73,141,181,111,123,85,105,109,148,113,138,108,99,103,111,96,184,81,147,179,125,119,142,100,87,101,162,197,117,134,79,122,74,171,164,104,91,91,139,119,146,122,165,124,111,106,129,90,86,111,114,193,191,95,142,123,96,128,102,108,122,71,100,104,114,108,129,133,108,136,155,96,108,78,161,151,126,112,77,150,120,137,80,106,113,112,99,182,115,194,129,124,112,157,179,105,118,87,95,165,117,130,95,0,122,95,126,139,116,99,92,137,61,90,90,196,158,103,146,147,99,124,101,81,133,118,84,105,122,98,87,93,107,105,109,90,125,119,100,100,131,116,127,96,131,82,193,137,136,72,123,101,197,102,112,143,143,138,97,83,119,94,102,115,94,135,99,89,80,139,90,147,97,107,83,117,100,95,120,82,91,119,100,135,86,134,120,71,74,88,115,124,74,97,154,144,137,119,136,114,137,114,126,132,158,123,85,84,135,139,173,99,194,83,89,99,80,166,110,81,154,117,84,94,96,75,130,84,120,139,91,91,99,125,129,68,124,114,125,87,97,116,117,111,122,107,86,91,77,105,57,127,84,88,131,164,189,116,84,114,88,84,124,97,110,87,99,91,95,99,92,154,121,78,130,111,98,143,119,108,133,151,109,100,93,103,73,112,82,123,188,67,89,109,108,96,124,150,124,92,152,111,106,105,106,117,68,112,92,183,94,108,90,125,132,128,94,114,102,111,128,92,104,94,100,102,128,90,103,157,179,107,91,117,123,120,106,101,120,162,199,112,98,154,165,99,68,123,91,93,101,56,95,136,129,130,107,140,107,121,90,142,99,127,118,122,168,129,110,80,127,158,126,134,102,94,108,83,114,117,111,112,116,141,175,92,106,105,95,126,65,99,102,102,109,140,81,121,108,128,137,106,190,88,89,101,122,121,126,93],\"xaxis\":\"x2\",\"yaxis\":\"y2\",\"type\":\"box\"}],                        {\"template\":{\"data\":{\"bar\":[{\"error_x\":{\"color\":\"#2a3f5f\"},\"error_y\":{\"color\":\"#2a3f5f\"},\"marker\":{\"line\":{\"color\":\"#E5ECF6\",\"width\":0.5},\"pattern\":{\"fillmode\":\"overlay\",\"size\":10,\"solidity\":0.2}},\"type\":\"bar\"}],\"barpolar\":[{\"marker\":{\"line\":{\"color\":\"#E5ECF6\",\"width\":0.5},\"pattern\":{\"fillmode\":\"overlay\",\"size\":10,\"solidity\":0.2}},\"type\":\"barpolar\"}],\"carpet\":[{\"aaxis\":{\"endlinecolor\":\"#2a3f5f\",\"gridcolor\":\"white\",\"linecolor\":\"white\",\"minorgridcolor\":\"white\",\"startlinecolor\":\"#2a3f5f\"},\"baxis\":{\"endlinecolor\":\"#2a3f5f\",\"gridcolor\":\"white\",\"linecolor\":\"white\",\"minorgridcolor\":\"white\",\"startlinecolor\":\"#2a3f5f\"},\"type\":\"carpet\"}],\"choropleth\":[{\"colorbar\":{\"outlinewidth\":0,\"ticks\":\"\"},\"type\":\"choropleth\"}],\"contour\":[{\"colorbar\":{\"outlinewidth\":0,\"ticks\":\"\"},\"colorscale\":[[0.0,\"#0d0887\"],[0.1111111111111111,\"#46039f\"],[0.2222222222222222,\"#7201a8\"],[0.3333333333333333,\"#9c179e\"],[0.4444444444444444,\"#bd3786\"],[0.5555555555555556,\"#d8576b\"],[0.6666666666666666,\"#ed7953\"],[0.7777777777777778,\"#fb9f3a\"],[0.8888888888888888,\"#fdca26\"],[1.0,\"#f0f921\"]],\"type\":\"contour\"}],\"contourcarpet\":[{\"colorbar\":{\"outlinewidth\":0,\"ticks\":\"\"},\"type\":\"contourcarpet\"}],\"heatmap\":[{\"colorbar\":{\"outlinewidth\":0,\"ticks\":\"\"},\"colorscale\":[[0.0,\"#0d0887\"],[0.1111111111111111,\"#46039f\"],[0.2222222222222222,\"#7201a8\"],[0.3333333333333333,\"#9c179e\"],[0.4444444444444444,\"#bd3786\"],[0.5555555555555556,\"#d8576b\"],[0.6666666666666666,\"#ed7953\"],[0.7777777777777778,\"#fb9f3a\"],[0.8888888888888888,\"#fdca26\"],[1.0,\"#f0f921\"]],\"type\":\"heatmap\"}],\"heatmapgl\":[{\"colorbar\":{\"outlinewidth\":0,\"ticks\":\"\"},\"colorscale\":[[0.0,\"#0d0887\"],[0.1111111111111111,\"#46039f\"],[0.2222222222222222,\"#7201a8\"],[0.3333333333333333,\"#9c179e\"],[0.4444444444444444,\"#bd3786\"],[0.5555555555555556,\"#d8576b\"],[0.6666666666666666,\"#ed7953\"],[0.7777777777777778,\"#fb9f3a\"],[0.8888888888888888,\"#fdca26\"],[1.0,\"#f0f921\"]],\"type\":\"heatmapgl\"}],\"histogram\":[{\"marker\":{\"pattern\":{\"fillmode\":\"overlay\",\"size\":10,\"solidity\":0.2}},\"type\":\"histogram\"}],\"histogram2d\":[{\"colorbar\":{\"outlinewidth\":0,\"ticks\":\"\"},\"colorscale\":[[0.0,\"#0d0887\"],[0.1111111111111111,\"#46039f\"],[0.2222222222222222,\"#7201a8\"],[0.3333333333333333,\"#9c179e\"],[0.4444444444444444,\"#bd3786\"],[0.5555555555555556,\"#d8576b\"],[0.6666666666666666,\"#ed7953\"],[0.7777777777777778,\"#fb9f3a\"],[0.8888888888888888,\"#fdca26\"],[1.0,\"#f0f921\"]],\"type\":\"histogram2d\"}],\"histogram2dcontour\":[{\"colorbar\":{\"outlinewidth\":0,\"ticks\":\"\"},\"colorscale\":[[0.0,\"#0d0887\"],[0.1111111111111111,\"#46039f\"],[0.2222222222222222,\"#7201a8\"],[0.3333333333333333,\"#9c179e\"],[0.4444444444444444,\"#bd3786\"],[0.5555555555555556,\"#d8576b\"],[0.6666666666666666,\"#ed7953\"],[0.7777777777777778,\"#fb9f3a\"],[0.8888888888888888,\"#fdca26\"],[1.0,\"#f0f921\"]],\"type\":\"histogram2dcontour\"}],\"mesh3d\":[{\"colorbar\":{\"outlinewidth\":0,\"ticks\":\"\"},\"type\":\"mesh3d\"}],\"parcoords\":[{\"line\":{\"colorbar\":{\"outlinewidth\":0,\"ticks\":\"\"}},\"type\":\"parcoords\"}],\"pie\":[{\"automargin\":true,\"type\":\"pie\"}],\"scatter\":[{\"marker\":{\"colorbar\":{\"outlinewidth\":0,\"ticks\":\"\"}},\"type\":\"scatter\"}],\"scatter3d\":[{\"line\":{\"colorbar\":{\"outlinewidth\":0,\"ticks\":\"\"}},\"marker\":{\"colorbar\":{\"outlinewidth\":0,\"ticks\":\"\"}},\"type\":\"scatter3d\"}],\"scattercarpet\":[{\"marker\":{\"colorbar\":{\"outlinewidth\":0,\"ticks\":\"\"}},\"type\":\"scattercarpet\"}],\"scattergeo\":[{\"marker\":{\"colorbar\":{\"outlinewidth\":0,\"ticks\":\"\"}},\"type\":\"scattergeo\"}],\"scattergl\":[{\"marker\":{\"colorbar\":{\"outlinewidth\":0,\"ticks\":\"\"}},\"type\":\"scattergl\"}],\"scattermapbox\":[{\"marker\":{\"colorbar\":{\"outlinewidth\":0,\"ticks\":\"\"}},\"type\":\"scattermapbox\"}],\"scatterpolar\":[{\"marker\":{\"colorbar\":{\"outlinewidth\":0,\"ticks\":\"\"}},\"type\":\"scatterpolar\"}],\"scatterpolargl\":[{\"marker\":{\"colorbar\":{\"outlinewidth\":0,\"ticks\":\"\"}},\"type\":\"scatterpolargl\"}],\"scatterternary\":[{\"marker\":{\"colorbar\":{\"outlinewidth\":0,\"ticks\":\"\"}},\"type\":\"scatterternary\"}],\"surface\":[{\"colorbar\":{\"outlinewidth\":0,\"ticks\":\"\"},\"colorscale\":[[0.0,\"#0d0887\"],[0.1111111111111111,\"#46039f\"],[0.2222222222222222,\"#7201a8\"],[0.3333333333333333,\"#9c179e\"],[0.4444444444444444,\"#bd3786\"],[0.5555555555555556,\"#d8576b\"],[0.6666666666666666,\"#ed7953\"],[0.7777777777777778,\"#fb9f3a\"],[0.8888888888888888,\"#fdca26\"],[1.0,\"#f0f921\"]],\"type\":\"surface\"}],\"table\":[{\"cells\":{\"fill\":{\"color\":\"#EBF0F8\"},\"line\":{\"color\":\"white\"}},\"header\":{\"fill\":{\"color\":\"#C8D4E3\"},\"line\":{\"color\":\"white\"}},\"type\":\"table\"}]},\"layout\":{\"annotationdefaults\":{\"arrowcolor\":\"#2a3f5f\",\"arrowhead\":0,\"arrowwidth\":1},\"autotypenumbers\":\"strict\",\"coloraxis\":{\"colorbar\":{\"outlinewidth\":0,\"ticks\":\"\"}},\"colorscale\":{\"diverging\":[[0,\"#8e0152\"],[0.1,\"#c51b7d\"],[0.2,\"#de77ae\"],[0.3,\"#f1b6da\"],[0.4,\"#fde0ef\"],[0.5,\"#f7f7f7\"],[0.6,\"#e6f5d0\"],[0.7,\"#b8e186\"],[0.8,\"#7fbc41\"],[0.9,\"#4d9221\"],[1,\"#276419\"]],\"sequential\":[[0.0,\"#0d0887\"],[0.1111111111111111,\"#46039f\"],[0.2222222222222222,\"#7201a8\"],[0.3333333333333333,\"#9c179e\"],[0.4444444444444444,\"#bd3786\"],[0.5555555555555556,\"#d8576b\"],[0.6666666666666666,\"#ed7953\"],[0.7777777777777778,\"#fb9f3a\"],[0.8888888888888888,\"#fdca26\"],[1.0,\"#f0f921\"]],\"sequentialminus\":[[0.0,\"#0d0887\"],[0.1111111111111111,\"#46039f\"],[0.2222222222222222,\"#7201a8\"],[0.3333333333333333,\"#9c179e\"],[0.4444444444444444,\"#bd3786\"],[0.5555555555555556,\"#d8576b\"],[0.6666666666666666,\"#ed7953\"],[0.7777777777777778,\"#fb9f3a\"],[0.8888888888888888,\"#fdca26\"],[1.0,\"#f0f921\"]]},\"colorway\":[\"#636efa\",\"#EF553B\",\"#00cc96\",\"#ab63fa\",\"#FFA15A\",\"#19d3f3\",\"#FF6692\",\"#B6E880\",\"#FF97FF\",\"#FECB52\"],\"font\":{\"color\":\"#2a3f5f\"},\"geo\":{\"bgcolor\":\"white\",\"lakecolor\":\"white\",\"landcolor\":\"#E5ECF6\",\"showlakes\":true,\"showland\":true,\"subunitcolor\":\"white\"},\"hoverlabel\":{\"align\":\"left\"},\"hovermode\":\"closest\",\"mapbox\":{\"style\":\"light\"},\"paper_bgcolor\":\"white\",\"plot_bgcolor\":\"#E5ECF6\",\"polar\":{\"angularaxis\":{\"gridcolor\":\"white\",\"linecolor\":\"white\",\"ticks\":\"\"},\"bgcolor\":\"#E5ECF6\",\"radialaxis\":{\"gridcolor\":\"white\",\"linecolor\":\"white\",\"ticks\":\"\"}},\"scene\":{\"xaxis\":{\"backgroundcolor\":\"#E5ECF6\",\"gridcolor\":\"white\",\"gridwidth\":2,\"linecolor\":\"white\",\"showbackground\":true,\"ticks\":\"\",\"zerolinecolor\":\"white\"},\"yaxis\":{\"backgroundcolor\":\"#E5ECF6\",\"gridcolor\":\"white\",\"gridwidth\":2,\"linecolor\":\"white\",\"showbackground\":true,\"ticks\":\"\",\"zerolinecolor\":\"white\"},\"zaxis\":{\"backgroundcolor\":\"#E5ECF6\",\"gridcolor\":\"white\",\"gridwidth\":2,\"linecolor\":\"white\",\"showbackground\":true,\"ticks\":\"\",\"zerolinecolor\":\"white\"}},\"shapedefaults\":{\"line\":{\"color\":\"#2a3f5f\"}},\"ternary\":{\"aaxis\":{\"gridcolor\":\"white\",\"linecolor\":\"white\",\"ticks\":\"\"},\"baxis\":{\"gridcolor\":\"white\",\"linecolor\":\"white\",\"ticks\":\"\"},\"bgcolor\":\"#E5ECF6\",\"caxis\":{\"gridcolor\":\"white\",\"linecolor\":\"white\",\"ticks\":\"\"}},\"title\":{\"x\":0.05},\"xaxis\":{\"automargin\":true,\"gridcolor\":\"white\",\"linecolor\":\"white\",\"ticks\":\"\",\"title\":{\"standoff\":15},\"zerolinecolor\":\"white\",\"zerolinewidth\":2},\"yaxis\":{\"automargin\":true,\"gridcolor\":\"white\",\"linecolor\":\"white\",\"ticks\":\"\",\"title\":{\"standoff\":15},\"zerolinecolor\":\"white\",\"zerolinewidth\":2}}},\"xaxis\":{\"anchor\":\"y\",\"domain\":[0.0,1.0],\"title\":{\"text\":\"B\"}},\"yaxis\":{\"anchor\":\"x\",\"domain\":[0.0,0.8316],\"title\":{\"text\":\"count\"}},\"xaxis2\":{\"anchor\":\"y2\",\"domain\":[0.0,1.0],\"matches\":\"x\",\"showticklabels\":false,\"showgrid\":true},\"yaxis2\":{\"anchor\":\"x2\",\"domain\":[0.8416,1.0],\"matches\":\"y2\",\"showticklabels\":false,\"showline\":false,\"ticks\":\"\",\"showgrid\":false},\"legend\":{\"tracegroupgap\":0},\"margin\":{\"t\":60},\"barmode\":\"relative\"},                        {\"responsive\": true}                    ).then(function(){\n",
              "                            \n",
              "var gd = document.getElementById('4eaa6b4c-33c3-4729-a23c-e9ef0dcc6414');\n",
              "var x = new MutationObserver(function (mutations, observer) {{\n",
              "        var display = window.getComputedStyle(gd).display;\n",
              "        if (!display || display === 'none') {{\n",
              "            console.log([gd, 'removed!']);\n",
              "            Plotly.purge(gd);\n",
              "            observer.disconnect();\n",
              "        }}\n",
              "}});\n",
              "\n",
              "// Listen for the removal of the full notebook cells\n",
              "var notebookContainer = gd.closest('#notebook-container');\n",
              "if (notebookContainer) {{\n",
              "    x.observe(notebookContainer, {childList: true});\n",
              "}}\n",
              "\n",
              "// Listen for the clearing of the current output cell\n",
              "var outputEl = gd.closest('.output');\n",
              "if (outputEl) {{\n",
              "    x.observe(outputEl, {childList: true});\n",
              "}}\n",
              "\n",
              "                        })                };                            </script>        </div>\n",
              "</body>\n",
              "</html>"
            ]
          },
          "metadata": {}
        }
      ]
    },
    {
      "cell_type": "code",
      "source": [
        "print(\"skweness: \",df[\"B\"].skew())\n",
        "print(\"Kurtosis: \",df[\"B\"].kurt())"
      ],
      "metadata": {
        "colab": {
          "base_uri": "https://localhost:8080/"
        },
        "id": "-VDmw33cQQMs",
        "outputId": "6ca5b898-59f4-4635-e884-ab6f22066dfe"
      },
      "execution_count": 35,
      "outputs": [
        {
          "output_type": "stream",
          "name": "stdout",
          "text": [
            "skweness:  0.37506656191632587\n",
            "Kurtosis:  1.42694213843636\n"
          ]
        }
      ]
    },
    {
      "cell_type": "code",
      "source": [
        "#standardizing dexa_freq_during_rx df\n",
        "scaled = StandardScaler().fit_transform(df['B'][:,np.newaxis]);\n",
        "low_range = scaled[scaled[:,0].argsort()][:10]\n",
        "high_range= scaled[scaled[:,0].argsort()][-10:]\n",
        "print('outer range (low) of the distribution:')\n",
        "print(low_range)\n",
        "print('\\nouter range (high) of the distribution:')\n",
        "print(high_range)"
      ],
      "metadata": {
        "colab": {
          "base_uri": "https://localhost:8080/"
        },
        "id": "K6FLsVB4Q2Vb",
        "outputId": "2c766d76-5ea9-4ac4-baeb-2925561ce8b8"
      },
      "execution_count": 36,
      "outputs": [
        {
          "output_type": "stream",
          "name": "stdout",
          "text": [
            "outer range (low) of the distribution:\n",
            "[[-3.9389385 ]\n",
            " [-3.9389385 ]\n",
            " [-3.9389385 ]\n",
            " [-2.41444571]\n",
            " [-1.99867495]\n",
            " [-1.96402739]\n",
            " [-1.96402739]\n",
            " [-1.82543714]\n",
            " [-1.79078958]\n",
            " [-1.68684689]]\n",
            "\n",
            "outer range (high) of the distribution:\n",
            "[[2.67874608]\n",
            " [2.74804121]\n",
            " [2.74804121]\n",
            " [2.78268877]\n",
            " [2.78268877]\n",
            " [2.8519839 ]\n",
            " [2.8519839 ]\n",
            " [2.88663146]\n",
            " [2.88663146]\n",
            " [2.95592659]]\n"
          ]
        }
      ]
    },
    {
      "cell_type": "code",
      "source": [
        "scaler = RobustScaler()\n",
        "df['B'] = scaler.fit_transform(df['B'].values.reshape(-1,1))"
      ],
      "metadata": {
        "id": "30NcHTIiRtFM"
      },
      "execution_count": 37,
      "outputs": []
    },
    {
      "cell_type": "code",
      "source": [
        "''' Detection '''\n",
        "# IQR\n",
        "Q1 = np.percentile(df['B'], 25, \n",
        "                   interpolation = 'midpoint') \n",
        "  \n",
        "Q3 = np.percentile(df['B'], 75,\n",
        "                   interpolation = 'midpoint') \n",
        "IQR = Q3 - Q1 \n",
        "  \n",
        "print(\"Old Shape: \", df.shape) \n",
        "  \n",
        "# Upper bound\n",
        "upper = np.where(df['B'] >= (Q3+1.5*IQR))\n",
        "# Lower bound\n",
        "lower = np.where(df['B'] <= (Q1-1.5*IQR))\n",
        "  \n",
        "print(\"lower\",lower[0])\n",
        "print(\"Upper\",upper[0])\n",
        "\n",
        "''' Removing the Outliers '''\n",
        "df.drop(upper[0], inplace = True)\n",
        "df.drop(lower[0], inplace = True)\n",
        "\n",
        "print(\"New Shape: \", df.shape)\n",
        "\n",
        "df = df.reset_index(drop=True)"
      ],
      "metadata": {
        "colab": {
          "base_uri": "https://localhost:8080/",
          "height": 0
        },
        "outputId": "dea05b5f-7e3f-4fa3-d9c2-5fb509032a57",
        "id": "at6jNHzTc7v6"
      },
      "execution_count": 38,
      "outputs": [
        {
          "output_type": "execute_result",
          "data": {
            "text/plain": [
              "' Detection '"
            ],
            "application/vnd.google.colaboratory.intrinsic+json": {
              "type": "string"
            }
          },
          "metadata": {},
          "execution_count": 38
        },
        {
          "output_type": "stream",
          "name": "stdout",
          "text": [
            "Old Shape:  (538, 9)\n",
            "lower [ 37  47 127 231]\n",
            "Upper [ 10  20 106 130 144 155 179 180 215 217 243 274 280 340 384 418 437 468\n",
            " 530]\n"
          ]
        },
        {
          "output_type": "execute_result",
          "data": {
            "text/plain": [
              "' Removing the Outliers '"
            ],
            "application/vnd.google.colaboratory.intrinsic+json": {
              "type": "string"
            }
          },
          "metadata": {},
          "execution_count": 38
        },
        {
          "output_type": "stream",
          "name": "stdout",
          "text": [
            "New Shape:  (515, 9)\n"
          ]
        }
      ]
    },
    {
      "cell_type": "markdown",
      "source": [
        "### ***C***"
      ],
      "metadata": {
        "id": "7AExLrG0RY7A"
      }
    },
    {
      "cell_type": "code",
      "source": [
        "fig = px.histogram(df, x=\"C\",\n",
        "                   marginal=\"box\", # or violin, rug\n",
        "                   hover_data=df.columns)\n",
        "fig.show()"
      ],
      "metadata": {
        "colab": {
          "base_uri": "https://localhost:8080/",
          "height": 0
        },
        "id": "1TirPrfKPbLT",
        "outputId": "dcf711dd-c5cb-4ba4-c41a-b63a69971176"
      },
      "execution_count": 39,
      "outputs": [
        {
          "output_type": "display_data",
          "data": {
            "text/html": [
              "<html>\n",
              "<head><meta charset=\"utf-8\" /></head>\n",
              "<body>\n",
              "    <div>            <script src=\"https://cdnjs.cloudflare.com/ajax/libs/mathjax/2.7.5/MathJax.js?config=TeX-AMS-MML_SVG\"></script><script type=\"text/javascript\">if (window.MathJax) {MathJax.Hub.Config({SVG: {font: \"STIX-Web\"}});}</script>                <script type=\"text/javascript\">window.PlotlyConfig = {MathJaxConfig: 'local'};</script>\n",
              "        <script src=\"https://cdn.plot.ly/plotly-2.8.3.min.js\"></script>                <div id=\"f9c90dad-5541-4775-a36e-30911ebd05e2\" class=\"plotly-graph-div\" style=\"height:525px; width:100%;\"></div>            <script type=\"text/javascript\">                                    window.PLOTLYENV=window.PLOTLYENV || {};                                    if (document.getElementById(\"f9c90dad-5541-4775-a36e-30911ebd05e2\")) {                    Plotly.newPlot(                        \"f9c90dad-5541-4775-a36e-30911ebd05e2\",                        [{\"alignmentgroup\":\"True\",\"bingroup\":\"x\",\"hovertemplate\":\"C=%{x}<br>count=%{y}<extra></extra>\",\"legendgroup\":\"\",\"marker\":{\"color\":\"#636efa\",\"pattern\":{\"shape\":\"\"}},\"name\":\"\",\"offsetgroup\":\"\",\"orientation\":\"v\",\"showlegend\":false,\"x\":[66,66,74,0,92,80,72,30,88,84,70,66,92,75,76,58,92,78,60,84,92,64,56,70,0,80,50,66,66,50,88,82,64,0,72,58,74,92,66,85,66,64,86,75,78,72,66,44,0,78,65,108,74,68,68,55,80,78,82,72,62,48,50,90,60,96,72,65,56,122,58,58,62,76,62,48,60,76,64,74,80,70,58,74,68,60,70,60,80,72,78,82,52,62,75,80,64,78,70,74,65,82,52,56,74,90,74,80,64,88,66,68,66,90,0,60,64,78,110,78,80,64,60,74,62,70,55,58,64,60,80,82,68,70,72,72,64,60,85,95,68,0,60,66,78,76,52,80,80,80,68,68,72,84,76,64,70,54,50,76,68,90,70,86,52,84,80,68,56,68,70,80,62,74,64,52,62,78,78,70,64,74,62,76,88,80,74,84,56,72,88,50,62,84,72,82,76,76,68,66,70,50,68,80,66,60,70,75,72,70,70,72,58,60,76,0,70,74,86,72,88,46,0,62,80,84,82,62,78,70,108,78,74,54,72,64,86,102,64,64,58,52,82,60,100,72,68,60,62,70,54,68,66,64,72,58,56,66,70,61,84,78,48,62,90,72,84,74,60,68,68,88,68,64,64,0,94,0,74,74,75,68,75,70,88,66,64,72,80,74,64,68,0,54,54,68,74,72,62,70,78,98,56,52,64,78,82,70,66,90,64,84,76,74,86,70,88,58,82,68,62,78,72,65,90,68,0,74,68,72,74,90,72,64,78,82,60,50,78,62,68,62,54,86,90,70,80,0,58,60,64,74,66,65,60,76,66,0,56,90,60,80,90,78,68,82,70,68,88,62,64,70,70,76,68,60,80,54,72,62,72,66,70,96,58,60,86,44,44,68,90,60,76,56,66,0,78,52,72,76,24,38,88,0,74,78,60,62,82,62,54,80,72,96,62,86,76,70,64,88,68,78,80,65,64,78,60,82,62,74,76,74,86,70,0,72,74,50,60,54,60,74,54,70,58,80,84,80,58,78,68,58,106,100,82,60,58,56,64,82,74,64,50,74,80,70,60,90,0,88,70,76,88,0,76,80,46,64,78,58,74,72,60,86,66,86,94,78,78,84,88,52,56,75,60,86,72,60,74,44,58,94,74,78,62,88,90,76,58,62,76,70,72,60,70],\"xaxis\":\"x\",\"yaxis\":\"y\",\"type\":\"histogram\"},{\"alignmentgroup\":\"True\",\"customdata\":[[-0.25,-0.7352941176470589,29.0,0.0,26.6,0.351,31.0,0.0],[-0.25,-0.6176470588235294,23.0,94.0,28.1,0.167,21.0,0.0],[0.75,0.17647058823529413,0.0,0.0,25.6,0.201,30.0,0.0],[2.0,0.14705882352941177,0.0,0.0,35.3,0.134,29.0,0.0],[0.5,0.0,0.0,0.0,37.6,0.191,30.0,0.0],[2.0,0.8529411764705882,0.0,0.0,27.1,1.441,57.0,0.0],[0.75,1.6470588235294117,19.0,175.0,25.8,0.587,51.0,1.0],[-0.25,-0.20588235294117646,38.0,83.0,43.3,0.183,33.0,0.0],[0.25,0.47058823529411764,41.0,235.0,39.3,0.704,27.0,0.0],[1.5,-0.3235294117647059,0.0,0.0,35.4,0.388,50.0,0.0],[2.0,0.4411764705882353,26.0,115.0,31.1,0.205,41.0,1.0],[-0.25,-0.38235294117647056,15.0,140.0,23.2,0.487,22.0,0.0],[0.75,0.20588235294117646,0.0,0.0,34.1,0.337,38.0,0.0],[0.75,-0.029411764705882353,26.0,0.0,36.0,0.546,60.0,0.0],[0.25,1.411764705882353,36.0,245.0,31.6,0.851,28.0,1.0],[0.25,-0.6470588235294118,11.0,54.0,24.8,0.267,22.0,0.0],[1.0,-0.5294117647058824,0.0,0.0,19.9,0.188,28.0,0.0],[2.0,0.35294117647058826,31.0,0.0,27.6,0.512,45.0,0.0],[0.5,-0.20588235294117646,33.0,192.0,24.0,0.966,33.0,0.0],[1.25,0.6764705882352942,0.0,0.0,40.2,0.696,37.0,0.0],[1.25,-0.11764705882352941,18.0,0.0,22.7,0.235,48.0,0.0],[1.25,1.4411764705882353,0.0,0.0,27.4,0.294,40.0,0.0],[-0.25,1.0588235294117647,0.0,0.0,29.7,0.564,29.0,0.0],[0.0,-1.1470588235294117,27.0,0.0,28.0,0.586,22.0,0.0],[1.25,-0.14705882352941177,0.0,0.0,0.0,0.305,24.0,0.0],[-0.25,-0.20588235294117646,11.0,82.0,19.4,0.491,22.0,0.0],[-0.25,-0.2647058823529412,15.0,36.0,24.2,0.526,26.0,0.0],[0.75,-0.6470588235294118,21.0,23.0,24.4,0.342,30.0,0.0],[1.25,1.1764705882352942,42.0,342.0,34.7,0.718,42.0,0.0],[-0.25,-1.088235294117647,10.0,0.0,23.0,0.248,21.0,0.0],[-0.5,-0.29411764705882354,60.0,110.0,46.8,0.962,31.0,0.0],[-0.5,1.0588235294117647,0.0,0.0,40.5,1.781,44.0,0.0],[-0.5,-0.14705882352941177,41.0,142.0,41.5,0.173,22.0,0.0],[0.0,-0.7647058823529411,0.0,0.0,0.0,0.304,21.0,0.0],[1.5,0.6764705882352942,0.0,0.0,32.9,0.27,39.0,1.0],[0.0,0.9117647058823529,34.0,128.0,25.4,0.699,24.0,0.0],[0.75,-0.3235294117647059,27.0,0.0,29.0,0.203,32.0,0.0],[0.0,-0.029411764705882353,0.0,0.0,42.7,0.845,54.0,0.0],[-0.25,-0.4411764705882353,13.0,38.0,19.6,0.334,25.0,0.0],[0.5,1.0588235294117647,27.0,100.0,28.9,0.189,27.0,0.0],[0.0,-0.29411764705882354,20.0,90.0,32.9,0.867,28.0,1.0],[0.75,0.8529411764705882,35.0,140.0,28.6,0.411,26.0,0.0],[0.5,0.5588235294117647,20.0,270.0,35.1,0.231,23.0,0.0],[-0.25,-0.9117647058823529,30.0,0.0,32.0,0.396,22.0,0.0],[1.25,-1.411764705882353,0.0,0.0,32.6,0.391,41.0,0.0],[0.75,-0.4411764705882353,33.0,0.0,37.7,0.37,27.0,0.0],[0.0,0.058823529411764705,22.0,0.0,25.0,0.307,24.0,0.0],[0.25,0.08823529411764706,13.0,0.0,22.4,0.14,22.0,0.0],[0.0,-1.0588235294117647,0.0,0.0,0.0,0.102,22.0,0.0],[1.25,-0.7941176470588235,26.0,71.0,29.3,0.767,36.0,0.0],[-0.5,-0.2647058823529412,28.0,0.0,24.6,0.237,22.0,0.0],[0.75,0.7941176470588235,0.0,0.0,48.8,0.227,37.0,1.0],[0.0,0.0,29.0,125.0,32.4,0.698,27.0,0.0],[0.0,-0.29411764705882354,25.0,71.0,38.5,0.324,26.0,0.0],[-0.25,-0.08823529411764706,19.0,0.0,26.5,0.165,24.0,0.0],[-0.25,-0.8823529411764706,0.0,0.0,19.1,0.258,21.0,0.0],[0.5,0.38235294117647056,15.0,176.0,32.0,0.443,34.0,0.0],[1.25,-0.8529411764705882,40.0,48.0,46.7,0.261,42.0,0.0],[0.0,0.9411764705882353,18.0,64.0,24.7,0.761,21.0,0.0],[1.0,1.0,27.0,228.0,33.9,0.255,40.0,0.0],[0.0,-0.5294117647058824,28.0,0.0,31.6,0.13,24.0,0.0],[-0.25,-1.1470588235294117,18.0,76.0,20.4,0.323,22.0,0.0],[1.0,-0.5,30.0,64.0,28.7,0.356,23.0,0.0],[-0.25,0.35294117647058826,51.0,220.0,49.7,0.325,31.0,1.0],[-0.25,1.2058823529411764,0.0,0.0,26.1,0.179,22.0,0.0],[-0.5,0.4411764705882353,0.0,0.0,22.5,0.262,21.0,0.0],[-0.25,-0.8529411764705882,18.0,40.0,26.6,0.283,24.0,0.0],[0.0,-0.7352941176470589,0.0,0.0,39.6,0.93,27.0,0.0],[-0.25,0.47058823529411764,29.0,152.0,28.7,0.801,21.0,0.0],[-0.25,-0.4117647058823529,0.0,0.0,22.4,0.207,27.0,0.0],[0.5,1.0,28.0,140.0,29.5,0.287,37.0,0.0],[0.25,-0.7941176470588235,31.0,18.0,34.3,0.336,25.0,0.0],[1.5,1.3235294117647058,26.0,495.0,34.0,0.543,46.0,1.0],[-0.25,-0.6176470588235294,34.0,37.0,31.2,0.192,23.0,0.0],[0.5,-1.0,0.0,0.0,34.0,0.391,25.0,0.0],[0.75,-0.9411764705882353,0.0,0.0,33.7,0.654,25.0,0.0],[0.5,-0.38235294117647056,23.0,0.0,28.2,0.443,22.0,0.0],[0.5,-0.3235294117647059,15.0,51.0,23.2,0.223,21.0,0.0],[1.0,0.029411764705882353,39.0,0.0,34.2,0.26,24.0,0.0],[0.0,-0.08823529411764706,30.0,100.0,33.6,0.404,23.0,0.0],[0.75,0.6470588235294118,0.0,0.0,26.8,0.186,69.0,0.0],[0.25,0.29411764705882354,30.0,135.0,42.9,0.452,30.0,0.0],[-0.25,0.23529411764705882,36.0,94.0,33.3,0.261,23.0,0.0],[1.5,-0.7647058823529411,31.0,0.0,38.3,0.457,39.0,0.0],[0.0,-0.4117647058823529,13.0,49.0,21.1,0.647,26.0,0.0],[0.0,0.4411764705882353,20.0,140.0,33.8,0.088,31.0,0.0],[-0.5,-0.29411764705882354,26.0,50.0,30.8,0.597,21.0,0.0],[-0.5,-0.5,25.0,92.0,28.7,0.532,22.0,0.0],[-0.5,0.5588235294117647,0.0,0.0,31.2,0.703,29.0,0.0],[0.75,-0.14705882352941177,29.0,325.0,36.9,0.159,28.0,0.0],[0.25,0.5294117647058824,0.0,0.0,21.1,0.268,55.0,0.0],[0.75,-0.11764705882352941,30.0,0.0,39.5,0.286,38.0,0.0],[0.0,-0.058823529411764705,26.0,63.0,32.5,0.318,22.0,0.0],[0.5,1.2941176470588236,31.0,284.0,32.8,0.237,23.0,0.0],[-0.5,-0.23529411764705882,23.0,0.0,0.0,0.572,21.0,0.0],[1.75,-1.5588235294117647,37.0,0.0,32.8,0.096,41.0,0.0],[0.0,-0.11764705882352941,35.0,119.0,30.5,1.4,34.0,0.0],[0.75,1.088235294117647,0.0,0.0,33.7,0.218,65.0,0.0],[0.0,-0.5882352941176471,17.0,0.0,27.3,0.085,22.0,0.0],[-0.25,0.7647058823529411,50.0,204.0,37.4,0.399,24.0,0.0],[0.5,0.11764705882352941,0.0,0.0,21.9,0.432,37.0,0.0],[-0.25,1.2647058823529411,42.0,485.0,40.6,0.687,23.0,0.0],[0.0,-0.3235294117647059,15.0,94.0,24.6,0.637,21.0,0.0],[-0.25,-0.029411764705882353,21.0,135.0,25.2,0.833,23.0,0.0],[0.0,-0.6470588235294118,19.0,53.0,29.0,0.229,22.0,0.0],[0.5,1.2058823529411764,38.0,0.0,29.7,0.294,36.0,0.0],[1.25,-0.23529411764705882,40.0,105.0,37.2,0.204,45.0,0.0],[-0.5,0.11764705882352941,34.0,285.0,44.2,0.167,27.0,0.0],[0.0,-0.29411764705882354,23.0,0.0,29.7,0.368,21.0,0.0],[-0.5,0.6176470588235294,0.0,0.0,31.6,0.743,32.0,1.0],[0.25,1.1176470588235294,25.0,0.0,32.5,0.256,22.0,0.0],[0.5,0.29411764705882354,0.0,0.0,29.6,0.709,34.0,0.0],[0.5,0.0,0.0,0.0,31.9,0.471,29.0,0.0],[0.25,0.029411764705882353,12.0,78.0,28.4,0.495,29.0,0.0],[0.0,-0.6764705882352942,23.0,0.0,28.9,0.773,25.0,0.0],[-0.25,-0.9117647058823529,42.0,48.0,43.5,0.678,23.0,0.0],[0.0,-1.0294117647058822,24.0,55.0,29.7,0.37,33.0,0.0],[1.0,-0.7352941176470589,0.0,0.0,31.2,0.382,42.0,0.0],[-0.5,0.5588235294117647,46.0,130.0,67.1,0.319,26.0,1.0],[0.75,0.9705882352941176,0.0,0.0,45.0,0.19,47.0,0.0],[1.0,-0.6764705882352942,0.0,0.0,23.2,0.084,32.0,0.0],[-0.5,0.2647058823529412,18.0,92.0,34.9,0.725,23.0,0.0],[0.75,-1.088235294117647,0.0,0.0,26.8,0.268,27.0,0.0],[0.5,0.9117647058823529,0.0,0.0,27.6,0.244,40.0,0.0],[0.25,0.029411764705882353,0.0,0.0,22.6,0.142,21.0,0.0],[1.75,0.38235294117647056,44.0,94.0,33.1,0.374,40.0,0.0],[1.5,-0.7352941176470589,20.0,0.0,24.4,0.136,42.0,0.0],[-0.25,-0.14705882352941177,0.0,0.0,24.3,0.187,21.0,0.0],[0.5,-0.029411764705882353,44.0,99.0,34.8,0.905,26.0,1.0],[0.5,1.1176470588235294,27.0,318.0,30.9,0.15,29.0,1.0],[-0.5,0.08823529411764706,16.0,0.0,31.0,0.874,21.0,0.0],[-0.25,0.8235294117647058,0.0,0.0,40.1,0.236,28.0,0.0],[-0.5,-0.058823529411764705,20.0,0.0,27.3,0.787,32.0,0.0],[0.0,-0.3235294117647059,16.0,44.0,20.4,0.235,27.0,0.0],[1.0,-0.20588235294117646,32.0,190.0,37.7,0.324,55.0,0.0],[0.75,0.029411764705882353,28.0,0.0,23.9,0.407,27.0,0.0],[-0.25,-0.4117647058823529,27.0,87.0,33.2,0.289,21.0,0.0],[0.0,-0.8529411764705882,22.0,0.0,27.7,0.29,25.0,0.0],[-0.5,1.088235294117647,54.0,0.0,42.8,0.375,24.0,0.0],[1.25,2.0294117647058822,31.0,0.0,34.2,0.164,60.0,0.0],[1.0,0.4411764705882353,30.0,120.0,30.0,0.464,32.0,0.0],[1.25,0.2647058823529412,0.0,0.0,25.2,0.209,37.0,0.0],[1.25,0.9411764705882353,33.0,190.0,28.8,0.687,61.0,0.0],[-0.25,-0.29411764705882354,15.0,56.0,23.6,0.666,26.0,0.0],[-0.25,-0.6764705882352942,27.0,32.0,34.6,0.101,22.0,0.0],[-0.5,-0.2647058823529412,0.0,0.0,35.7,0.198,26.0,0.0],[0.25,1.5294117647058822,38.0,0.0,37.2,0.652,24.0,1.0],[-0.5,0.20588235294117646,31.0,53.0,45.2,0.089,24.0,0.0],[1.0,0.7058823529411765,37.0,370.0,46.2,0.238,46.0,1.0],[-0.25,-0.9117647058823529,25.0,37.0,25.4,0.583,22.0,0.0],[0.5,0.35294117647058826,0.0,0.0,35.0,0.394,29.0,0.0],[0.25,-1.0588235294117647,28.0,45.0,29.7,0.293,23.0,0.0],[0.5,1.7941176470588236,0.0,0.0,43.6,0.479,26.0,1.0],[1.75,1.588235294117647,21.0,0.0,30.8,0.831,32.0,1.0],[-0.5,-0.17647058823529413,0.0,0.0,18.4,0.582,27.0,0.0],[-0.25,-0.5588235294117647,24.0,0.0,29.2,0.192,21.0,0.0],[0.5,-0.5588235294117647,32.0,88.0,33.1,0.446,22.0,0.0],[0.25,0.8529411764705882,0.0,0.0,25.6,0.402,22.0,1.0],[1.0,0.2647058823529412,22.0,176.0,27.1,1.318,33.0,1.0],[0.0,1.0588235294117647,35.0,194.0,38.2,0.329,29.0,0.0],[2.0,0.35294117647058826,0.0,0.0,31.2,0.258,41.0,0.0],[-0.5,1.6176470588235294,33.0,680.0,52.3,0.427,23.0,0.0],[1.75,0.4117647058823529,33.0,402.0,35.4,0.282,34.0,0.0],[-0.25,0.029411764705882353,19.0,0.0,30.1,0.143,23.0,0.0],[1.75,-0.11764705882352941,0.0,0.0,31.2,0.38,42.0,0.0],[0.0,0.5588235294117647,0.0,0.0,28.0,0.284,27.0,0.0],[0.0,-0.5882352941176471,14.0,55.0,24.4,0.249,24.0,0.0],[-0.5,-0.7058823529411765,32.0,0.0,35.8,0.238,25.0,0.0],[0.25,0.029411764705882353,39.0,0.0,30.1,0.557,30.0,0.0],[0.0,0.11764705882352941,22.0,0.0,28.7,0.092,25.0,0.0],[0.5,-0.4411764705882353,32.0,0.0,32.1,0.612,24.0,0.0],[0.25,0.9411764705882353,15.0,0.0,32.4,0.2,63.0,0.0],[0.5,0.38235294117647056,0.0,0.0,32.0,0.226,35.0,1.0],[0.75,-0.4117647058823529,18.0,67.0,33.6,0.997,43.0,0.0],[0.0,0.5294117647058824,42.0,0.0,40.0,1.101,24.0,0.0],[-0.5,-0.23529411764705882,0.0,0.0,25.1,0.078,21.0,0.0],[0.0,-0.058823529411764705,32.0,56.0,25.2,0.128,21.0,0.0],[0.25,0.35294117647058826,0.0,0.0,23.0,0.254,40.0,0.0],[-0.25,-1.1470588235294117,50.0,45.0,33.2,0.422,21.0,0.0],[0.0,-0.29411764705882354,52.0,57.0,40.5,0.677,25.0,0.0],[-0.5,-0.17647058823529413,23.0,116.0,27.8,0.454,23.0,0.0],[0.75,0.11764705882352941,0.0,0.0,24.9,0.744,57.0,0.0],[0.0,-0.058823529411764705,10.0,278.0,25.3,0.881,22.0,0.0],[2.0,0.5588235294117647,28.0,122.0,35.9,0.28,39.0,0.0],[1.25,0.6764705882352942,15.0,155.0,32.4,0.262,37.0,0.0],[0.0,-0.058823529411764705,0.0,0.0,27.0,0.259,52.0,1.0],[1.25,0.7647058823529411,26.0,135.0,26.0,0.647,51.0,0.0],[0.75,1.3235294117647058,44.0,545.0,38.7,0.619,34.0,0.0],[0.5,-0.4117647058823529,17.0,49.0,20.8,0.34,26.0,0.0],[0.75,-0.058823529411764705,43.0,75.0,36.1,0.263,33.0,0.0],[-0.5,-0.9411764705882353,29.0,40.0,36.9,0.434,21.0,0.0],[-0.5,1.5,0.0,0.0,21.9,0.254,65.0,0.0],[1.0,1.2058823529411764,31.0,120.0,35.5,0.692,28.0,0.0],[-0.5,0.47058823529411764,29.0,215.0,30.7,0.52,24.0,0.0],[1.5,0.058823529411764705,0.0,0.0,23.6,0.84,58.0,0.0],[0.75,-0.9705882352941176,41.0,42.0,35.8,0.156,35.0,0.0],[0.25,1.1764705882352942,0.0,0.0,21.0,0.207,37.0,0.0],[0.0,0.29411764705882354,37.0,105.0,39.7,0.215,29.0,0.0],[-0.5,0.7941176470588235,14.0,148.0,24.8,0.143,21.0,0.0],[1.0,-0.8823529411764706,30.0,0.0,26.2,0.313,41.0,0.0],[-0.5,-0.11764705882352941,37.0,148.0,39.4,0.605,22.0,0.0],[0.25,0.08823529411764706,10.0,85.0,29.5,0.626,25.0,0.0],[0.0,0.058823529411764705,22.0,94.0,34.1,0.315,26.0,0.0],[0.25,-0.3235294117647059,11.0,64.0,19.3,0.284,30.0,0.0],[0.25,0.14705882352941177,39.0,140.0,38.1,0.15,28.0,0.0],[0.5,0.5588235294117647,12.0,231.0,27.5,0.527,31.0,0.0],[-0.5,0.4117647058823529,20.0,0.0,27.4,0.254,36.0,1.0],[0.0,0.058823529411764705,32.0,0.0,35.7,0.148,21.0,0.0],[-0.25,1.3823529411764706,21.0,168.0,25.6,0.123,24.0,0.0],[2.0,2.0294117647058822,0.0,0.0,35.1,0.2,37.0,0.0],[1.0,-0.14705882352941177,32.0,68.0,30.8,0.122,37.0,0.0],[1.5,0.23529411764705882,19.0,0.0,23.1,1.476,46.0,0.0],[0.0,-0.6764705882352942,16.0,52.0,32.7,0.166,25.0,0.0],[-0.25,-0.4411764705882353,18.0,58.0,23.9,0.26,22.0,0.0],[-0.5,1.6176470588235294,43.0,255.0,47.9,0.259,26.0,0.0],[-0.5,0.20588235294117646,0.0,0.0,33.8,0.932,44.0,0.0],[-0.25,0.5882352941176471,13.0,105.0,25.9,0.472,22.0,0.0],[-0.25,-0.4411764705882353,21.0,73.0,25.9,0.673,36.0,0.0],[0.75,0.35294117647058826,0.0,0.0,34.7,0.29,33.0,0.0],[1.5,-0.4411764705882353,0.0,0.0,36.8,0.485,57.0,0.0],[1.5,0.47058823529411764,36.0,108.0,38.5,0.349,49.0,0.0],[-0.25,0.8529411764705882,19.0,83.0,28.7,0.654,22.0,0.0],[0.25,0.17647058823529413,0.0,0.0,23.5,0.187,23.0,0.0],[0.25,-0.3235294117647059,19.0,74.0,21.8,0.279,26.0,0.0],[0.5,-0.5294117647058824,0.0,0.0,42.2,0.237,29.0,0.0],[0.5,0.7941176470588235,0.0,0.0,31.2,0.252,30.0,0.0],[0.25,-1.4411764705882353,28.0,0.0,34.4,0.243,46.0,0.0],[-0.25,-0.5882352941176471,12.0,43.0,27.2,0.58,24.0,0.0],[0.25,-0.5882352941176471,0.0,0.0,42.7,0.559,21.0,0.0],[0.75,1.411764705882353,0.0,0.0,29.8,0.207,63.0,0.0],[0.75,-0.20588235294117646,37.0,0.0,39.2,0.305,65.0,0.0],[0.5,1.0588235294117647,0.0,0.0,38.5,0.52,67.0,1.0],[0.5,1.088235294117647,25.0,293.0,34.9,0.385,30.0,0.0],[0.75,-0.3235294117647059,28.0,83.0,34.0,0.499,30.0,0.0],[1.0,0.4117647058823529,0.0,0.0,27.6,0.368,29.0,1.0],[-0.5,-0.2647058823529412,17.0,0.0,21.0,0.252,21.0,0.0],[0.25,-0.8529411764705882,16.0,66.0,27.5,0.306,22.0,0.0],[-0.25,0.6764705882352942,28.0,140.0,32.8,0.234,45.0,1.0],[-0.5,0.23529411764705882,23.0,89.0,0.0,1.731,21.0,0.0],[-0.5,-0.7647058823529411,22.0,66.0,35.8,0.545,21.0,0.0],[0.0,-0.14705882352941177,40.0,94.0,34.9,0.225,25.0,0.0],[0.0,0.35294117647058826,43.0,158.0,36.2,0.816,28.0,0.0],[-0.5,-0.35294117647058826,15.0,84.0,25.2,0.299,22.0,0.0],[-0.25,-0.6764705882352942,37.0,75.0,37.2,0.509,22.0,0.0],[-0.5,-0.5,39.0,72.0,43.4,1.021,35.0,0.0],[-0.25,-0.08823529411764706,30.0,82.0,30.8,0.821,24.0,0.0],[-0.5,-0.14705882352941177,22.0,0.0,20.0,0.236,22.0,0.0],[-0.25,-0.029411764705882353,8.0,182.0,25.4,0.947,21.0,0.0],[-0.25,-0.5882352941176471,18.0,59.0,25.1,1.268,25.0,0.0],[-0.25,0.4411764705882353,24.0,110.0,24.3,0.221,25.0,0.0],[-0.25,0.2647058823529412,13.0,50.0,22.3,0.205,24.0,0.0],[0.25,-0.29411764705882354,23.0,81.0,31.6,0.949,28.0,0.0],[-0.25,-0.29411764705882354,29.0,196.0,32.0,0.444,42.0,0.0],[-0.25,0.6176470588235294,14.0,415.0,23.7,0.389,21.0,0.0],[0.5,0.17647058823529413,12.0,87.0,22.1,0.463,37.0,0.0],[0.0,0.5,24.0,275.0,27.7,1.6,25.0,0.0],[0.25,-0.4117647058823529,34.0,115.0,24.7,0.944,39.0,0.0],[-0.5,0.6176470588235294,40.0,0.0,34.3,0.196,22.0,1.0],[0.25,-0.8235294117647058,0.0,0.0,21.1,0.389,25.0,0.0],[1.0,0.7941176470588235,0.0,0.0,24.2,0.151,55.0,0.0],[0.75,0.7647058823529411,41.0,88.0,35.0,0.286,35.0,1.0],[1.75,-1.1176470588235294,25.0,0.0,31.6,0.28,38.0,0.0],[0.0,0.38235294117647056,32.0,165.0,42.1,0.52,26.0,0.0],[-0.5,-0.2647058823529412,0.0,0.0,21.9,0.336,25.0,0.0],[1.0,-0.23529411764705882,39.0,0.0,35.7,0.674,28.0,0.0],[-0.25,0.058823529411764705,30.0,176.0,34.4,0.528,25.0,0.0],[-0.25,0.9705882352941176,23.0,310.0,42.4,1.076,22.0,0.0],[-0.25,0.9705882352941176,22.0,61.0,26.2,0.256,21.0,0.0],[-0.5,0.8235294117647058,35.0,167.0,34.6,0.534,21.0,1.0],[-0.25,-0.38235294117647056,21.0,0.0,27.2,1.095,22.0,0.0],[-0.25,-0.7941176470588235,0.0,0.0,18.2,0.624,27.0,0.0],[-0.25,0.2647058823529412,41.0,170.0,45.3,0.507,26.0,0.0],[0.0,-0.47058823529411764,18.0,76.0,26.0,0.561,21.0,0.0],[-0.5,-0.23529411764705882,46.0,78.0,40.6,0.496,21.0,0.0],[0.0,0.14705882352941177,22.0,0.0,30.8,0.421,21.0,0.0],[-0.5,-0.47058823529411764,0.0,0.0,0.0,0.256,25.0,0.0],[-0.5,0.7352941176470589,46.0,145.0,40.6,0.284,26.0,0.0],[0.0,-0.3235294117647059,0.0,0.0,22.2,0.108,23.0,0.0],[0.25,-0.6176470588235294,16.0,85.0,30.4,0.551,38.0,0.0],[-0.25,-0.8823529411764706,11.0,60.0,30.0,0.527,22.0,0.0],[0.0,0.8529411764705882,0.0,0.0,25.6,0.167,29.0,0.0],[-0.25,-0.5882352941176471,8.0,0.0,24.5,1.138,36.0,0.0],[0.75,1.088235294117647,0.0,0.0,29.9,0.434,28.0,0.0],[-0.25,-0.38235294117647056,15.0,0.0,18.2,0.147,21.0,0.0],[1.0,-0.08823529411764706,0.0,0.0,36.8,0.727,31.0,0.0],[0.0,-0.7941176470588235,23.0,50.0,32.2,0.497,22.0,0.0],[0.5,0.20588235294117646,27.0,120.0,33.2,0.23,24.0,0.0],[-0.25,-0.29411764705882354,12.0,70.0,25.3,0.658,28.0,0.0],[-0.5,-0.4411764705882353,45.0,92.0,36.5,0.33,26.0,0.0],[-0.5,0.29411764705882354,18.0,63.0,30.5,0.285,26.0,0.0],[-0.25,-0.8235294117647058,13.0,95.0,21.2,0.415,23.0,0.0],[-0.5,-0.5588235294117647,32.0,210.0,39.9,0.381,25.0,0.0],[0.0,0.2647058823529412,0.0,0.0,19.6,0.832,72.0,0.0],[0.0,-0.29411764705882354,28.0,105.0,37.8,0.498,24.0,0.0],[-0.25,0.7352941176470589,0.0,0.0,26.7,0.687,62.0,0.0],[0.75,-0.7058823529411765,28.0,71.0,30.2,0.364,24.0,0.0],[1.75,0.7058823529411765,33.0,60.0,25.9,0.46,81.0,0.0],[1.75,0.29411764705882354,22.0,56.0,20.8,0.733,48.0,0.0],[-0.25,-1.1470588235294117,0.0,0.0,21.8,0.416,26.0,0.0],[1.5,-1.0588235294117647,40.0,49.0,35.3,0.705,39.0,0.0],[0.75,-0.6470588235294118,30.0,0.0,27.6,0.258,37.0,0.0],[2.0,0.14705882352941177,0.0,0.0,24.0,1.022,34.0,0.0],[-0.5,0.4117647058823529,13.0,105.0,21.8,0.452,21.0,0.0],[-0.5,-1.0588235294117647,10.0,36.0,27.8,0.269,22.0,0.0],[-0.5,-0.38235294117647056,36.0,100.0,36.8,0.6,25.0,0.0],[1.0,1.2941176470588236,41.0,140.0,46.1,0.571,27.0,0.0],[-0.25,1.0,40.0,0.0,41.3,0.607,28.0,0.0],[-0.5,0.7941176470588235,38.0,0.0,33.2,0.17,22.0,0.0],[-0.5,0.2647058823529412,27.0,0.0,38.8,0.259,22.0,0.0],[1.25,0.7647058823529411,0.0,0.0,29.9,0.21,50.0,0.0],[0.5,0.11764705882352941,0.0,0.0,28.9,0.126,24.0,0.0],[-0.5,0.7941176470588235,27.0,0.0,27.3,0.231,59.0,0.0],[1.25,0.11764705882352941,17.0,110.0,23.8,0.466,31.0,0.0],[1.5,0.47058823529411764,38.0,75.0,25.9,0.162,39.0,0.0],[0.5,0.6470588235294118,31.0,0.0,28.0,0.419,63.0,0.0],[0.25,1.411764705882353,30.0,328.0,35.5,0.344,35.0,1.0],[-0.5,0.38235294117647056,37.0,0.0,35.2,0.197,29.0,0.0],[0.5,-0.7352941176470589,22.0,49.0,27.8,0.306,28.0,0.0],[-0.5,-0.7647058823529411,31.0,125.0,38.2,0.233,23.0,0.0],[-0.5,0.7352941176470589,42.0,250.0,42.3,0.365,24.0,1.0],[-0.25,0.8529411764705882,41.0,480.0,40.7,0.536,21.0,0.0],[-0.5,1.8529411764705883,32.0,265.0,46.5,1.159,58.0,0.0],[0.5,-0.3235294117647059,17.0,0.0,25.6,0.294,28.0,0.0],[0.0,-0.7941176470588235,28.0,66.0,36.8,0.629,24.0,0.0],[0.0,-0.6176470588235294,30.0,0.0,33.5,0.292,42.0,0.0],[0.5,-0.3235294117647059,38.0,0.0,32.8,0.145,33.0,0.0],[0.25,-0.8823529411764706,0.0,0.0,0.0,0.174,22.0,0.0],[1.0,1.6470588235294117,0.0,0.0,26.6,0.304,66.0,0.0],[0.75,0.0,0.0,0.0,26.0,0.292,30.0,0.0],[0.0,-0.8529411764705882,15.0,76.0,30.1,0.547,25.0,0.0],[1.0,1.2941176470588236,32.0,193.0,29.3,0.839,39.0,0.0],[0.0,0.20588235294117646,19.0,71.0,25.2,0.313,21.0,0.0],[0.25,-0.7647058823529411,32.0,0.0,37.2,0.267,28.0,0.0],[1.25,-0.47058823529411764,25.0,79.0,33.3,0.738,41.0,0.0],[0.25,-0.4117647058823529,39.0,0.0,37.3,0.238,40.0,0.0],[2.0,-1.0294117647058822,0.0,0.0,33.3,0.263,38.0,0.0],[-0.25,0.5882352941176471,23.0,170.0,28.6,0.692,21.0,0.0],[0.0,-0.7647058823529411,23.0,76.0,30.4,0.968,21.0,0.0],[1.5,0.29411764705882354,0.0,0.0,25.0,0.409,64.0,0.0],[-0.5,0.8529411764705882,17.0,210.0,22.1,0.207,21.0,0.0],[1.75,-0.5588235294117647,0.0,0.0,24.2,0.2,58.0,0.0],[0.0,-0.5588235294117647,0.0,0.0,27.3,0.525,22.0,0.0],[0.25,-0.3235294117647059,19.0,86.0,25.6,0.154,24.0,0.0],[1.25,0.4411764705882353,0.0,0.0,37.6,0.304,51.0,0.0],[1.0,0.5588235294117647,7.0,326.0,19.6,0.582,60.0,0.0],[0.0,-1.2352941176470589,32.0,66.0,25.0,0.187,25.0,0.0],[0.25,0.4117647058823529,33.0,130.0,33.2,0.305,26.0,0.0],[1.0,0.11764705882352941,0.0,0.0,0.0,0.189,26.0,0.0],[0.25,0.4411764705882353,0.0,0.0,31.6,0.151,24.0,0.0],[0.25,-0.6764705882352942,18.0,0.0,21.8,0.444,21.0,0.0],[-0.25,-0.38235294117647056,19.0,82.0,18.2,0.299,21.0,0.0],[0.25,0.17647058823529413,15.0,105.0,26.3,0.107,24.0,0.0],[-0.5,0.20588235294117646,31.0,188.0,30.8,0.493,22.0,0.0],[-0.5,0.029411764705882353,0.0,0.0,24.6,0.66,31.0,0.0],[0.0,0.35294117647058826,18.0,106.0,29.8,0.717,22.0,0.0],[-0.5,-0.08823529411764706,0.0,0.0,45.3,0.686,24.0,0.0],[-0.25,-0.7058823529411765,52.0,65.0,41.3,0.917,29.0,0.0],[1.0,-0.5588235294117647,0.0,0.0,29.8,0.501,31.0,0.0],[-0.25,-0.9705882352941176,30.0,56.0,33.3,1.251,24.0,0.0],[-0.5,-0.14705882352941177,0.0,0.0,29.6,0.197,46.0,0.0],[-0.5,-1.5588235294117647,0.0,0.0,21.7,0.735,67.0,0.0],[-0.5,0.5,37.0,210.0,36.3,0.804,23.0,0.0],[0.5,-0.7647058823529411,23.0,56.0,39.5,0.159,25.0,0.0],[-0.25,-0.6470588235294118,29.0,76.0,32.0,0.365,29.0,0.0],[0.5,0.6176470588235294,21.0,166.0,33.1,0.16,28.0,0.0],[-0.25,1.588235294117647,43.0,67.0,32.8,0.341,50.0,0.0],[-0.25,0.17647058823529413,28.0,0.0,27.4,0.204,21.0,0.0],[0.25,-0.7647058823529411,30.0,106.0,31.9,0.591,25.0,0.0],[1.0,0.11764705882352941,0.0,0.0,27.8,0.247,66.0,0.0],[-0.25,-0.6470588235294118,24.0,44.0,29.9,0.422,23.0,0.0],[-0.25,-0.7647058823529411,23.0,115.0,36.9,0.471,28.0,0.0],[1.25,0.4117647058823529,33.0,215.0,25.5,0.161,37.0,0.0],[-0.25,-0.38235294117647056,40.0,0.0,38.1,0.218,30.0,0.0],[1.5,0.0,0.0,0.0,27.8,0.237,58.0,0.0],[-0.25,-0.6764705882352942,34.0,77.0,37.6,0.401,24.0,0.0],[1.0,-0.3235294117647059,19.0,54.0,26.9,0.497,32.0,0.0],[-0.5,-0.5588235294117647,0.0,0.0,32.4,0.601,27.0,0.0],[0.0,-0.4411764705882353,14.0,88.0,26.1,0.748,22.0,0.0],[-0.25,-0.3235294117647059,30.0,18.0,38.6,0.412,21.0,0.0],[1.0,-0.5294117647058824,32.0,126.0,32.0,0.085,46.0,0.0],[0.5,1.2941176470588236,29.0,126.0,31.3,0.338,37.0,0.0],[-0.5,0.3235294117647059,30.0,165.0,34.3,0.203,33.0,1.0],[0.25,-0.9411764705882353,0.0,0.0,32.5,0.27,39.0,0.0],[0.0,0.5882352941176471,0.0,0.0,22.6,0.268,21.0,0.0],[0.25,0.029411764705882353,31.0,44.0,29.5,0.43,22.0,0.0],[0.0,-0.35294117647058826,17.0,120.0,34.7,0.198,22.0,0.0],[-0.25,0.9705882352941176,30.0,330.0,30.1,0.892,23.0,0.0],[-0.25,0.2647058823529412,47.0,63.0,35.5,0.28,25.0,0.0],[1.0,-0.058823529411764705,20.0,130.0,24.0,0.813,35.0,0.0],[2.0,0.6764705882352942,0.0,0.0,27.0,0.245,36.0,0.0],[-0.5,1.2058823529411764,46.0,0.0,42.1,0.371,21.0,1.0],[1.0,-0.029411764705882353,27.0,0.0,25.0,0.206,27.0,0.0],[1.5,-0.29411764705882354,0.0,0.0,38.7,0.19,42.0,0.0],[-0.25,-0.5,11.0,0.0,22.5,0.417,22.0,0.0],[1.0,-0.20588235294117646,0.0,0.0,24.3,0.249,29.0,0.0],[-0.5,-1.088235294117647,0.0,0.0,21.1,0.342,25.0,0.0],[0.0,0.058823529411764705,50.0,140.0,39.4,0.175,24.0,0.0],[0.0,-0.8235294117647058,22.0,115.0,28.5,1.699,25.0,0.0],[1.0,0.38235294117647056,45.0,230.0,33.6,0.733,34.0,0.0],[-0.5,-1.2647058823529411,0.0,0.0,45.3,0.194,46.0,0.0],[-0.25,-0.6176470588235294,19.0,25.0,27.8,0.559,21.0,0.0],[-0.25,-0.029411764705882353,18.0,120.0,23.1,0.407,26.0,0.0],[-0.25,-0.058823529411764705,19.0,0.0,27.1,0.4,24.0,0.0],[1.0,-0.4117647058823529,0.0,0.0,23.7,0.19,28.0,0.0],[-0.25,0.4117647058823529,36.0,0.0,27.8,0.1,30.0,0.0],[1.25,1.1764705882352942,29.0,126.0,35.2,0.692,54.0,1.0],[-0.25,0.4117647058823529,32.0,0.0,35.8,0.514,21.0,0.0],[-0.25,-0.5294117647058824,25.0,41.0,19.5,0.482,25.0,0.0],[-0.5,1.2352941176470589,39.0,272.0,41.5,0.27,27.0,0.0],[-0.25,0.029411764705882353,13.0,182.0,24.0,0.138,23.0,0.0],[0.25,-0.11764705882352941,21.0,158.0,30.9,0.292,24.0,0.0],[1.0,-0.14705882352941177,28.0,0.0,32.5,0.878,26.0,0.0],[0.25,-0.11764705882352941,0.0,0.0,25.8,0.207,27.0,0.0],[1.0,0.20588235294117646,0.0,0.0,28.7,0.157,30.0,0.0],[0.0,-1.2352941176470589,13.0,15.0,20.1,0.257,23.0,0.0],[0.0,0.058823529411764705,42.0,160.0,38.4,0.246,28.0,0.0],[0.0,-0.5294117647058824,20.0,0.0,24.2,1.698,28.0,0.0],[-0.5,-0.47058823529411764,27.0,115.0,43.5,0.347,21.0,0.0],[0.0,-0.058823529411764705,0.0,0.0,30.8,0.158,21.0,0.0],[0.5,-0.5882352941176471,47.0,54.0,37.7,0.362,29.0,0.0],[-0.5,0.4411764705882353,0.0,0.0,24.7,0.206,21.0,0.0],[-0.5,0.6470588235294118,0.0,0.0,32.4,0.393,21.0,0.0],[0.75,0.5294117647058824,0.0,0.0,34.6,0.144,45.0,0.0],[0.5,-0.47058823529411764,22.0,0.0,24.7,0.148,21.0,0.0],[1.25,0.11764705882352941,0.0,0.0,27.4,0.732,34.0,1.0],[-0.5,-0.23529411764705882,40.0,90.0,34.5,0.238,24.0,0.0],[0.0,0.029411764705882353,0.0,0.0,26.2,0.343,23.0,0.0],[-0.25,0.5294117647058824,17.0,183.0,27.5,0.115,22.0,0.0],[2.0,-0.5294117647058824,0.0,0.0,25.9,0.167,31.0,0.0],[0.75,-0.17647058823529413,0.0,0.0,28.8,0.153,48.0,0.0],[0.0,-0.47058823529411764,18.0,66.0,31.6,0.649,23.0,0.0],[-0.25,-0.29411764705882354,12.0,46.0,19.5,0.149,28.0,0.0],[-0.5,-0.23529411764705882,17.0,105.0,29.3,0.695,27.0,0.0],[0.5,0.5294117647058824,0.0,0.0,34.3,0.303,24.0,0.0],[0.5,-0.5882352941176471,0.0,0.0,28.0,0.61,31.0,0.0],[0.25,-0.20588235294117646,30.0,152.0,27.6,0.73,27.0,0.0],[0.0,1.3823529411764706,35.0,440.0,39.4,0.134,30.0,0.0],[-0.5,2.0294117647058822,36.0,159.0,37.8,0.455,22.0,1.0],[-0.5,-0.08823529411764706,25.0,0.0,26.4,0.133,23.0,0.0],[-0.25,-0.5588235294117647,25.0,100.0,25.2,0.234,23.0,0.0],[-0.25,0.20588235294117646,23.0,106.0,33.8,0.466,27.0,0.0],[0.75,0.38235294117647056,40.0,77.0,34.1,0.269,28.0,0.0],[0.0,0.29411764705882354,0.0,0.0,26.8,0.455,27.0,0.0],[-0.25,-0.11764705882352941,28.0,135.0,34.2,0.142,22.0,0.0],[0.0,-0.2647058823529412,35.0,90.0,21.8,0.155,22.0,0.0],[-0.25,0.29411764705882354,48.0,200.0,38.9,1.162,41.0,0.0],[2.0,1.5294117647058822,0.0,0.0,27.7,0.182,54.0,0.0],[-0.25,0.058823529411764705,45.0,132.0,34.8,0.217,24.0,0.0],[1.0,-0.35294117647058826,33.0,190.0,34.0,0.43,43.0,0.0],[1.75,1.2941176470588236,30.0,100.0,30.9,0.164,45.0,0.0],[1.0,1.6176470588235294,26.0,168.0,33.6,0.631,49.0,0.0],[-0.25,-0.3235294117647059,10.0,0.0,25.4,0.551,21.0,0.0],[2.0,-1.2352941176470589,23.0,49.0,35.5,0.285,47.0,0.0],[0.25,0.38235294117647056,35.0,240.0,57.3,0.88,22.0,0.0],[1.5,-0.5588235294117647,0.0,0.0,35.6,0.587,68.0,0.0],[-0.5,-0.5,0.0,0.0,35.3,0.263,25.0,0.0],[0.0,-0.2647058823529412,17.0,265.0,24.2,0.614,23.0,0.0],[0.0,-1.588235294117647,28.0,45.0,24.2,0.332,22.0,0.0],[-0.5,-0.4411764705882353,39.0,105.0,44.6,0.366,22.0,0.0],[0.75,0.7647058823529411,0.0,0.0,0.0,0.64,69.0,0.0],[0.0,0.5588235294117647,26.0,205.0,33.2,0.591,25.0,0.0],[0.25,0.5882352941176471,0.0,0.0,23.1,0.314,22.0,0.0],[-0.25,-0.08823529411764706,19.0,0.0,28.3,0.181,29.0,0.0],[-0.25,0.8823529411764706,26.0,180.0,24.1,0.828,23.0,0.0],[1.5,-0.08823529411764706,0.0,0.0,24.6,0.856,34.0,0.0],[0.0,0.3235294117647059,32.0,95.0,39.1,0.886,23.0,0.0],[0.0,-0.5882352941176471,0.0,0.0,23.5,0.191,25.0,0.0],[1.25,0.9411764705882353,24.0,480.0,30.4,0.128,43.0,1.0],[-0.5,-0.3235294117647059,0.0,0.0,25.0,0.253,22.0,0.0],[0.5,0.5,11.0,155.0,34.5,0.598,28.0,0.0],[0.5,0.23529411764705882,0.0,0.0,44.5,0.904,26.0,0.0],[0.0,0.35294117647058826,27.0,200.0,35.9,0.483,26.0,0.0],[-0.25,1.7058823529411764,29.0,0.0,35.0,0.905,52.0,1.0],[0.0,0.5588235294117647,0.0,0.0,38.5,0.304,41.0,0.0],[0.5,0.0,20.0,100.0,28.4,0.118,27.0,0.0],[1.0,-0.8823529411764706,36.0,0.0,39.8,0.177,28.0,0.0],[0.0,0.5,21.0,335.0,34.4,0.176,22.0,0.0],[0.25,1.411764705882353,13.0,387.0,31.2,0.295,24.0,0.0],[0.75,0.47058823529411764,27.0,22.0,29.6,0.439,40.0,0.0],[-0.5,0.7058823529411765,20.0,291.0,26.4,0.352,21.0,0.0],[0.25,-0.23529411764705882,0.0,0.0,29.5,0.121,32.0,0.0],[2.0,-0.47058823529411764,18.0,0.0,23.1,0.595,56.0,0.0],[-0.25,-0.058823529411764705,46.0,178.0,35.5,0.415,24.0,0.0],[0.5,-0.7941176470588235,19.0,0.0,29.3,0.317,34.0,0.0],[-0.25,0.11764705882352941,36.0,200.0,38.1,0.289,21.0,0.0],[0.75,0.20588235294117646,30.0,105.0,39.1,0.251,42.0,0.0],[-0.25,0.029411764705882353,0.0,0.0,32.8,0.265,45.0,0.0],[0.5,0.058823529411764705,40.0,0.0,39.4,0.236,38.0,0.0],[-0.25,0.17647058823529413,29.0,180.0,36.1,0.496,25.0,0.0],[-0.5,0.9117647058823529,26.0,0.0,32.4,0.433,22.0,0.0],[0.0,1.911764705882353,0.0,0.0,22.9,0.326,22.0,0.0],[0.0,-0.5294117647058824,0.0,0.0,30.1,0.141,22.0,0.0],[0.0,-0.11764705882352941,27.0,165.0,29.0,0.426,22.0,0.0],[0.0,-0.14705882352941177,0.0,0.0,23.3,0.56,53.0,0.0],[0.5,-0.4411764705882353,32.0,0.0,35.4,0.284,28.0,0.0],[-0.5,0.47058823529411764,27.0,120.0,27.4,0.515,21.0,0.0],[1.5,-1.3235294117647058,23.0,0.0,32.0,0.6,42.0,0.0],[0.0,-0.3235294117647059,17.0,160.0,36.6,0.453,21.0,0.0],[-0.25,-0.23529411764705882,0.0,0.0,39.5,0.293,42.0,1.0],[0.25,-0.23529411764705882,20.0,94.0,30.8,0.4,26.0,0.0],[-0.25,-0.029411764705882353,18.0,116.0,28.5,0.219,22.0,0.0],[1.75,0.8823529411764706,0.0,0.0,32.7,0.734,45.0,1.0],[-0.25,-0.8529411764705882,41.0,57.0,46.3,1.096,32.0,0.0],[-0.25,0.3235294117647059,39.0,74.0,39.0,0.261,28.0,0.0],[0.25,-0.058823529411764705,24.0,0.0,26.0,0.223,25.0,0.0],[-0.25,0.5294117647058824,39.0,110.0,36.5,1.057,37.0,1.0],[1.25,0.7941176470588235,41.0,0.0,32.0,0.391,39.0,0.0],[-0.25,-0.11764705882352941,0.0,0.0,37.5,0.197,26.0,0.0],[0.0,-0.6470588235294118,26.0,16.0,28.4,0.766,22.0,0.0],[1.75,-0.6176470588235294,0.0,0.0,22.5,0.142,33.0,0.0],[2.0,-0.2647058823529412,48.0,180.0,32.9,0.171,63.0,0.0],[0.0,0.35294117647058826,27.0,0.0,36.8,0.34,27.0,0.0],[0.75,0.3235294117647059,23.0,112.0,26.2,0.245,30.0,0.0],[-0.25,0.47058823529411764,0.0,0.0,30.1,0.349,47.0,1.0],[-0.25,-0.5,31.0,0.0,30.4,0.315,23.0,0.0]],\"hovertemplate\":\"C=%{x}<br>A=%{customdata[0]}<br>B=%{customdata[1]}<br>D=%{customdata[2]}<br>E=%{customdata[3]}<br>F=%{customdata[4]}<br>G=%{customdata[5]}<br>H=%{customdata[6]}<br>target=%{customdata[7]}<extra></extra>\",\"legendgroup\":\"\",\"marker\":{\"color\":\"#636efa\"},\"name\":\"\",\"notched\":true,\"offsetgroup\":\"\",\"showlegend\":false,\"x\":[66,66,74,0,92,80,72,30,88,84,70,66,92,75,76,58,92,78,60,84,92,64,56,70,0,80,50,66,66,50,88,82,64,0,72,58,74,92,66,85,66,64,86,75,78,72,66,44,0,78,65,108,74,68,68,55,80,78,82,72,62,48,50,90,60,96,72,65,56,122,58,58,62,76,62,48,60,76,64,74,80,70,58,74,68,60,70,60,80,72,78,82,52,62,75,80,64,78,70,74,65,82,52,56,74,90,74,80,64,88,66,68,66,90,0,60,64,78,110,78,80,64,60,74,62,70,55,58,64,60,80,82,68,70,72,72,64,60,85,95,68,0,60,66,78,76,52,80,80,80,68,68,72,84,76,64,70,54,50,76,68,90,70,86,52,84,80,68,56,68,70,80,62,74,64,52,62,78,78,70,64,74,62,76,88,80,74,84,56,72,88,50,62,84,72,82,76,76,68,66,70,50,68,80,66,60,70,75,72,70,70,72,58,60,76,0,70,74,86,72,88,46,0,62,80,84,82,62,78,70,108,78,74,54,72,64,86,102,64,64,58,52,82,60,100,72,68,60,62,70,54,68,66,64,72,58,56,66,70,61,84,78,48,62,90,72,84,74,60,68,68,88,68,64,64,0,94,0,74,74,75,68,75,70,88,66,64,72,80,74,64,68,0,54,54,68,74,72,62,70,78,98,56,52,64,78,82,70,66,90,64,84,76,74,86,70,88,58,82,68,62,78,72,65,90,68,0,74,68,72,74,90,72,64,78,82,60,50,78,62,68,62,54,86,90,70,80,0,58,60,64,74,66,65,60,76,66,0,56,90,60,80,90,78,68,82,70,68,88,62,64,70,70,76,68,60,80,54,72,62,72,66,70,96,58,60,86,44,44,68,90,60,76,56,66,0,78,52,72,76,24,38,88,0,74,78,60,62,82,62,54,80,72,96,62,86,76,70,64,88,68,78,80,65,64,78,60,82,62,74,76,74,86,70,0,72,74,50,60,54,60,74,54,70,58,80,84,80,58,78,68,58,106,100,82,60,58,56,64,82,74,64,50,74,80,70,60,90,0,88,70,76,88,0,76,80,46,64,78,58,74,72,60,86,66,86,94,78,78,84,88,52,56,75,60,86,72,60,74,44,58,94,74,78,62,88,90,76,58,62,76,70,72,60,70],\"xaxis\":\"x2\",\"yaxis\":\"y2\",\"type\":\"box\"}],                        {\"template\":{\"data\":{\"bar\":[{\"error_x\":{\"color\":\"#2a3f5f\"},\"error_y\":{\"color\":\"#2a3f5f\"},\"marker\":{\"line\":{\"color\":\"#E5ECF6\",\"width\":0.5},\"pattern\":{\"fillmode\":\"overlay\",\"size\":10,\"solidity\":0.2}},\"type\":\"bar\"}],\"barpolar\":[{\"marker\":{\"line\":{\"color\":\"#E5ECF6\",\"width\":0.5},\"pattern\":{\"fillmode\":\"overlay\",\"size\":10,\"solidity\":0.2}},\"type\":\"barpolar\"}],\"carpet\":[{\"aaxis\":{\"endlinecolor\":\"#2a3f5f\",\"gridcolor\":\"white\",\"linecolor\":\"white\",\"minorgridcolor\":\"white\",\"startlinecolor\":\"#2a3f5f\"},\"baxis\":{\"endlinecolor\":\"#2a3f5f\",\"gridcolor\":\"white\",\"linecolor\":\"white\",\"minorgridcolor\":\"white\",\"startlinecolor\":\"#2a3f5f\"},\"type\":\"carpet\"}],\"choropleth\":[{\"colorbar\":{\"outlinewidth\":0,\"ticks\":\"\"},\"type\":\"choropleth\"}],\"contour\":[{\"colorbar\":{\"outlinewidth\":0,\"ticks\":\"\"},\"colorscale\":[[0.0,\"#0d0887\"],[0.1111111111111111,\"#46039f\"],[0.2222222222222222,\"#7201a8\"],[0.3333333333333333,\"#9c179e\"],[0.4444444444444444,\"#bd3786\"],[0.5555555555555556,\"#d8576b\"],[0.6666666666666666,\"#ed7953\"],[0.7777777777777778,\"#fb9f3a\"],[0.8888888888888888,\"#fdca26\"],[1.0,\"#f0f921\"]],\"type\":\"contour\"}],\"contourcarpet\":[{\"colorbar\":{\"outlinewidth\":0,\"ticks\":\"\"},\"type\":\"contourcarpet\"}],\"heatmap\":[{\"colorbar\":{\"outlinewidth\":0,\"ticks\":\"\"},\"colorscale\":[[0.0,\"#0d0887\"],[0.1111111111111111,\"#46039f\"],[0.2222222222222222,\"#7201a8\"],[0.3333333333333333,\"#9c179e\"],[0.4444444444444444,\"#bd3786\"],[0.5555555555555556,\"#d8576b\"],[0.6666666666666666,\"#ed7953\"],[0.7777777777777778,\"#fb9f3a\"],[0.8888888888888888,\"#fdca26\"],[1.0,\"#f0f921\"]],\"type\":\"heatmap\"}],\"heatmapgl\":[{\"colorbar\":{\"outlinewidth\":0,\"ticks\":\"\"},\"colorscale\":[[0.0,\"#0d0887\"],[0.1111111111111111,\"#46039f\"],[0.2222222222222222,\"#7201a8\"],[0.3333333333333333,\"#9c179e\"],[0.4444444444444444,\"#bd3786\"],[0.5555555555555556,\"#d8576b\"],[0.6666666666666666,\"#ed7953\"],[0.7777777777777778,\"#fb9f3a\"],[0.8888888888888888,\"#fdca26\"],[1.0,\"#f0f921\"]],\"type\":\"heatmapgl\"}],\"histogram\":[{\"marker\":{\"pattern\":{\"fillmode\":\"overlay\",\"size\":10,\"solidity\":0.2}},\"type\":\"histogram\"}],\"histogram2d\":[{\"colorbar\":{\"outlinewidth\":0,\"ticks\":\"\"},\"colorscale\":[[0.0,\"#0d0887\"],[0.1111111111111111,\"#46039f\"],[0.2222222222222222,\"#7201a8\"],[0.3333333333333333,\"#9c179e\"],[0.4444444444444444,\"#bd3786\"],[0.5555555555555556,\"#d8576b\"],[0.6666666666666666,\"#ed7953\"],[0.7777777777777778,\"#fb9f3a\"],[0.8888888888888888,\"#fdca26\"],[1.0,\"#f0f921\"]],\"type\":\"histogram2d\"}],\"histogram2dcontour\":[{\"colorbar\":{\"outlinewidth\":0,\"ticks\":\"\"},\"colorscale\":[[0.0,\"#0d0887\"],[0.1111111111111111,\"#46039f\"],[0.2222222222222222,\"#7201a8\"],[0.3333333333333333,\"#9c179e\"],[0.4444444444444444,\"#bd3786\"],[0.5555555555555556,\"#d8576b\"],[0.6666666666666666,\"#ed7953\"],[0.7777777777777778,\"#fb9f3a\"],[0.8888888888888888,\"#fdca26\"],[1.0,\"#f0f921\"]],\"type\":\"histogram2dcontour\"}],\"mesh3d\":[{\"colorbar\":{\"outlinewidth\":0,\"ticks\":\"\"},\"type\":\"mesh3d\"}],\"parcoords\":[{\"line\":{\"colorbar\":{\"outlinewidth\":0,\"ticks\":\"\"}},\"type\":\"parcoords\"}],\"pie\":[{\"automargin\":true,\"type\":\"pie\"}],\"scatter\":[{\"marker\":{\"colorbar\":{\"outlinewidth\":0,\"ticks\":\"\"}},\"type\":\"scatter\"}],\"scatter3d\":[{\"line\":{\"colorbar\":{\"outlinewidth\":0,\"ticks\":\"\"}},\"marker\":{\"colorbar\":{\"outlinewidth\":0,\"ticks\":\"\"}},\"type\":\"scatter3d\"}],\"scattercarpet\":[{\"marker\":{\"colorbar\":{\"outlinewidth\":0,\"ticks\":\"\"}},\"type\":\"scattercarpet\"}],\"scattergeo\":[{\"marker\":{\"colorbar\":{\"outlinewidth\":0,\"ticks\":\"\"}},\"type\":\"scattergeo\"}],\"scattergl\":[{\"marker\":{\"colorbar\":{\"outlinewidth\":0,\"ticks\":\"\"}},\"type\":\"scattergl\"}],\"scattermapbox\":[{\"marker\":{\"colorbar\":{\"outlinewidth\":0,\"ticks\":\"\"}},\"type\":\"scattermapbox\"}],\"scatterpolar\":[{\"marker\":{\"colorbar\":{\"outlinewidth\":0,\"ticks\":\"\"}},\"type\":\"scatterpolar\"}],\"scatterpolargl\":[{\"marker\":{\"colorbar\":{\"outlinewidth\":0,\"ticks\":\"\"}},\"type\":\"scatterpolargl\"}],\"scatterternary\":[{\"marker\":{\"colorbar\":{\"outlinewidth\":0,\"ticks\":\"\"}},\"type\":\"scatterternary\"}],\"surface\":[{\"colorbar\":{\"outlinewidth\":0,\"ticks\":\"\"},\"colorscale\":[[0.0,\"#0d0887\"],[0.1111111111111111,\"#46039f\"],[0.2222222222222222,\"#7201a8\"],[0.3333333333333333,\"#9c179e\"],[0.4444444444444444,\"#bd3786\"],[0.5555555555555556,\"#d8576b\"],[0.6666666666666666,\"#ed7953\"],[0.7777777777777778,\"#fb9f3a\"],[0.8888888888888888,\"#fdca26\"],[1.0,\"#f0f921\"]],\"type\":\"surface\"}],\"table\":[{\"cells\":{\"fill\":{\"color\":\"#EBF0F8\"},\"line\":{\"color\":\"white\"}},\"header\":{\"fill\":{\"color\":\"#C8D4E3\"},\"line\":{\"color\":\"white\"}},\"type\":\"table\"}]},\"layout\":{\"annotationdefaults\":{\"arrowcolor\":\"#2a3f5f\",\"arrowhead\":0,\"arrowwidth\":1},\"autotypenumbers\":\"strict\",\"coloraxis\":{\"colorbar\":{\"outlinewidth\":0,\"ticks\":\"\"}},\"colorscale\":{\"diverging\":[[0,\"#8e0152\"],[0.1,\"#c51b7d\"],[0.2,\"#de77ae\"],[0.3,\"#f1b6da\"],[0.4,\"#fde0ef\"],[0.5,\"#f7f7f7\"],[0.6,\"#e6f5d0\"],[0.7,\"#b8e186\"],[0.8,\"#7fbc41\"],[0.9,\"#4d9221\"],[1,\"#276419\"]],\"sequential\":[[0.0,\"#0d0887\"],[0.1111111111111111,\"#46039f\"],[0.2222222222222222,\"#7201a8\"],[0.3333333333333333,\"#9c179e\"],[0.4444444444444444,\"#bd3786\"],[0.5555555555555556,\"#d8576b\"],[0.6666666666666666,\"#ed7953\"],[0.7777777777777778,\"#fb9f3a\"],[0.8888888888888888,\"#fdca26\"],[1.0,\"#f0f921\"]],\"sequentialminus\":[[0.0,\"#0d0887\"],[0.1111111111111111,\"#46039f\"],[0.2222222222222222,\"#7201a8\"],[0.3333333333333333,\"#9c179e\"],[0.4444444444444444,\"#bd3786\"],[0.5555555555555556,\"#d8576b\"],[0.6666666666666666,\"#ed7953\"],[0.7777777777777778,\"#fb9f3a\"],[0.8888888888888888,\"#fdca26\"],[1.0,\"#f0f921\"]]},\"colorway\":[\"#636efa\",\"#EF553B\",\"#00cc96\",\"#ab63fa\",\"#FFA15A\",\"#19d3f3\",\"#FF6692\",\"#B6E880\",\"#FF97FF\",\"#FECB52\"],\"font\":{\"color\":\"#2a3f5f\"},\"geo\":{\"bgcolor\":\"white\",\"lakecolor\":\"white\",\"landcolor\":\"#E5ECF6\",\"showlakes\":true,\"showland\":true,\"subunitcolor\":\"white\"},\"hoverlabel\":{\"align\":\"left\"},\"hovermode\":\"closest\",\"mapbox\":{\"style\":\"light\"},\"paper_bgcolor\":\"white\",\"plot_bgcolor\":\"#E5ECF6\",\"polar\":{\"angularaxis\":{\"gridcolor\":\"white\",\"linecolor\":\"white\",\"ticks\":\"\"},\"bgcolor\":\"#E5ECF6\",\"radialaxis\":{\"gridcolor\":\"white\",\"linecolor\":\"white\",\"ticks\":\"\"}},\"scene\":{\"xaxis\":{\"backgroundcolor\":\"#E5ECF6\",\"gridcolor\":\"white\",\"gridwidth\":2,\"linecolor\":\"white\",\"showbackground\":true,\"ticks\":\"\",\"zerolinecolor\":\"white\"},\"yaxis\":{\"backgroundcolor\":\"#E5ECF6\",\"gridcolor\":\"white\",\"gridwidth\":2,\"linecolor\":\"white\",\"showbackground\":true,\"ticks\":\"\",\"zerolinecolor\":\"white\"},\"zaxis\":{\"backgroundcolor\":\"#E5ECF6\",\"gridcolor\":\"white\",\"gridwidth\":2,\"linecolor\":\"white\",\"showbackground\":true,\"ticks\":\"\",\"zerolinecolor\":\"white\"}},\"shapedefaults\":{\"line\":{\"color\":\"#2a3f5f\"}},\"ternary\":{\"aaxis\":{\"gridcolor\":\"white\",\"linecolor\":\"white\",\"ticks\":\"\"},\"baxis\":{\"gridcolor\":\"white\",\"linecolor\":\"white\",\"ticks\":\"\"},\"bgcolor\":\"#E5ECF6\",\"caxis\":{\"gridcolor\":\"white\",\"linecolor\":\"white\",\"ticks\":\"\"}},\"title\":{\"x\":0.05},\"xaxis\":{\"automargin\":true,\"gridcolor\":\"white\",\"linecolor\":\"white\",\"ticks\":\"\",\"title\":{\"standoff\":15},\"zerolinecolor\":\"white\",\"zerolinewidth\":2},\"yaxis\":{\"automargin\":true,\"gridcolor\":\"white\",\"linecolor\":\"white\",\"ticks\":\"\",\"title\":{\"standoff\":15},\"zerolinecolor\":\"white\",\"zerolinewidth\":2}}},\"xaxis\":{\"anchor\":\"y\",\"domain\":[0.0,1.0],\"title\":{\"text\":\"C\"}},\"yaxis\":{\"anchor\":\"x\",\"domain\":[0.0,0.8316],\"title\":{\"text\":\"count\"}},\"xaxis2\":{\"anchor\":\"y2\",\"domain\":[0.0,1.0],\"matches\":\"x\",\"showticklabels\":false,\"showgrid\":true},\"yaxis2\":{\"anchor\":\"x2\",\"domain\":[0.8416,1.0],\"matches\":\"y2\",\"showticklabels\":false,\"showline\":false,\"ticks\":\"\",\"showgrid\":false},\"legend\":{\"tracegroupgap\":0},\"margin\":{\"t\":60},\"barmode\":\"relative\"},                        {\"responsive\": true}                    ).then(function(){\n",
              "                            \n",
              "var gd = document.getElementById('f9c90dad-5541-4775-a36e-30911ebd05e2');\n",
              "var x = new MutationObserver(function (mutations, observer) {{\n",
              "        var display = window.getComputedStyle(gd).display;\n",
              "        if (!display || display === 'none') {{\n",
              "            console.log([gd, 'removed!']);\n",
              "            Plotly.purge(gd);\n",
              "            observer.disconnect();\n",
              "        }}\n",
              "}});\n",
              "\n",
              "// Listen for the removal of the full notebook cells\n",
              "var notebookContainer = gd.closest('#notebook-container');\n",
              "if (notebookContainer) {{\n",
              "    x.observe(notebookContainer, {childList: true});\n",
              "}}\n",
              "\n",
              "// Listen for the clearing of the current output cell\n",
              "var outputEl = gd.closest('.output');\n",
              "if (outputEl) {{\n",
              "    x.observe(outputEl, {childList: true});\n",
              "}}\n",
              "\n",
              "                        })                };                            </script>        </div>\n",
              "</body>\n",
              "</html>"
            ]
          },
          "metadata": {}
        }
      ]
    },
    {
      "cell_type": "code",
      "source": [
        "print(\"skweness: \",df[\"C\"].skew())\n",
        "print(\"Kurtosis: \",df[\"C\"].kurt())"
      ],
      "metadata": {
        "colab": {
          "base_uri": "https://localhost:8080/"
        },
        "id": "m9FPYbzJQSnk",
        "outputId": "29645336-7c85-49c9-8ba9-66ef2d4371ac"
      },
      "execution_count": 40,
      "outputs": [
        {
          "output_type": "stream",
          "name": "stdout",
          "text": [
            "skweness:  -1.768065100040566\n",
            "Kurtosis:  5.637311121680151\n"
          ]
        }
      ]
    },
    {
      "cell_type": "code",
      "source": [
        "#standardizing dexa_freq_during_rx df\n",
        "scaled = StandardScaler().fit_transform(df['C'][:,np.newaxis]);\n",
        "low_range = scaled[scaled[:,0].argsort()][:10]\n",
        "high_range= scaled[scaled[:,0].argsort()][-10:]\n",
        "print('outer range (low) of the distribution:')\n",
        "print(low_range)\n",
        "print('\\nouter range (high) of the distribution:')\n",
        "print(high_range)"
      ],
      "metadata": {
        "colab": {
          "base_uri": "https://localhost:8080/"
        },
        "id": "RvM07F_dQ60D",
        "outputId": "bce0a2ec-0b40-4f64-f056-306522b1e80f"
      },
      "execution_count": 41,
      "outputs": [
        {
          "output_type": "stream",
          "name": "stdout",
          "text": [
            "outer range (low) of the distribution:\n",
            "[[-3.79742823]\n",
            " [-3.79742823]\n",
            " [-3.79742823]\n",
            " [-3.79742823]\n",
            " [-3.79742823]\n",
            " [-3.79742823]\n",
            " [-3.79742823]\n",
            " [-3.79742823]\n",
            " [-3.79742823]\n",
            " [-3.79742823]]\n",
            "\n",
            "outer range (high) of the distribution:\n",
            "[[1.5375964 ]\n",
            " [1.64874275]\n",
            " [1.75988909]\n",
            " [1.75988909]\n",
            " [1.87103544]\n",
            " [2.09332813]\n",
            " [2.20447448]\n",
            " [2.20447448]\n",
            " [2.31562083]\n",
            " [2.98249891]]\n"
          ]
        }
      ]
    },
    {
      "cell_type": "code",
      "source": [
        "scaler = RobustScaler()\n",
        "df['C'] = scaler.fit_transform(df['C'].values.reshape(-1,1))"
      ],
      "metadata": {
        "id": "E7ilGh13RwHd"
      },
      "execution_count": 42,
      "outputs": []
    },
    {
      "cell_type": "code",
      "execution_count": 43,
      "metadata": {
        "colab": {
          "base_uri": "https://localhost:8080/",
          "height": 0
        },
        "id": "uycGDi7KhrC7",
        "outputId": "5053cbc4-5e8a-48e4-f193-86f753aaf2d5"
      },
      "outputs": [
        {
          "output_type": "execute_result",
          "data": {
            "text/plain": [
              "' Detection '"
            ],
            "application/vnd.google.colaboratory.intrinsic+json": {
              "type": "string"
            }
          },
          "metadata": {},
          "execution_count": 43
        },
        {
          "output_type": "stream",
          "name": "stdout",
          "text": [
            "Old Shape:  (515, 9)\n",
            "lower [  3   7  24  33  48 114 141 215 222 275 277 292 326 347 357 395 400 401\n",
            " 403 434 468 473]\n",
            "Upper [ 51  69 118 230 237 452]\n"
          ]
        },
        {
          "output_type": "execute_result",
          "data": {
            "text/plain": [
              "' Removing the Outliers '"
            ],
            "application/vnd.google.colaboratory.intrinsic+json": {
              "type": "string"
            }
          },
          "metadata": {},
          "execution_count": 43
        },
        {
          "output_type": "stream",
          "name": "stdout",
          "text": [
            "New Shape:  (487, 9)\n"
          ]
        }
      ],
      "source": [
        "''' Detection '''\n",
        "# IQR\n",
        "Q1 = np.percentile(df['C'], 25, \n",
        "                   interpolation = 'midpoint') \n",
        "  \n",
        "Q3 = np.percentile(df['C'], 75,\n",
        "                   interpolation = 'midpoint') \n",
        "IQR = Q3 - Q1 \n",
        "  \n",
        "print(\"Old Shape: \", df.shape) \n",
        "  \n",
        "# Upper bound\n",
        "upper = np.where(df['C'] >= (Q3+1.5*IQR))\n",
        "# Lower bound\n",
        "lower = np.where(df['C'] <= (Q1-1.5*IQR))\n",
        "  \n",
        "print(\"lower\",lower[0])\n",
        "print(\"Upper\",upper[0])\n",
        "\n",
        "''' Removing the Outliers '''\n",
        "df.drop(upper[0], inplace = True)\n",
        "df.drop(lower[0], inplace = True)\n",
        "\n",
        "print(\"New Shape: \", df.shape)\n",
        "\n",
        "df = df.reset_index(drop=True)"
      ]
    },
    {
      "cell_type": "markdown",
      "source": [
        "### ***D***"
      ],
      "metadata": {
        "id": "X3zAGbAxRbwx"
      }
    },
    {
      "cell_type": "code",
      "source": [
        "fig = px.histogram(df, x=\"D\",\n",
        "                   marginal=\"box\", # or violin, rug\n",
        "                   hover_data=df.columns)\n",
        "fig.show()"
      ],
      "metadata": {
        "colab": {
          "base_uri": "https://localhost:8080/",
          "height": 0
        },
        "id": "HcXEujsGPcB5",
        "outputId": "3588063a-76b7-4cc5-f757-4344b71084c3"
      },
      "execution_count": 44,
      "outputs": [
        {
          "output_type": "display_data",
          "data": {
            "text/html": [
              "<html>\n",
              "<head><meta charset=\"utf-8\" /></head>\n",
              "<body>\n",
              "    <div>            <script src=\"https://cdnjs.cloudflare.com/ajax/libs/mathjax/2.7.5/MathJax.js?config=TeX-AMS-MML_SVG\"></script><script type=\"text/javascript\">if (window.MathJax) {MathJax.Hub.Config({SVG: {font: \"STIX-Web\"}});}</script>                <script type=\"text/javascript\">window.PlotlyConfig = {MathJaxConfig: 'local'};</script>\n",
              "        <script src=\"https://cdn.plot.ly/plotly-2.8.3.min.js\"></script>                <div id=\"e06732e0-f1a0-4b14-b773-f40588b195b7\" class=\"plotly-graph-div\" style=\"height:525px; width:100%;\"></div>            <script type=\"text/javascript\">                                    window.PLOTLYENV=window.PLOTLYENV || {};                                    if (document.getElementById(\"e06732e0-f1a0-4b14-b773-f40588b195b7\")) {                    Plotly.newPlot(                        \"e06732e0-f1a0-4b14-b773-f40588b195b7\",                        [{\"alignmentgroup\":\"True\",\"bingroup\":\"x\",\"hovertemplate\":\"D=%{x}<br>count=%{y}<extra></extra>\",\"legendgroup\":\"\",\"marker\":{\"color\":\"#636efa\",\"pattern\":{\"shape\":\"\"}},\"name\":\"\",\"offsetgroup\":\"\",\"orientation\":\"v\",\"showlegend\":false,\"x\":[29,23,0,0,0,19,41,0,26,15,0,26,36,11,0,31,33,0,18,0,0,27,11,15,21,42,10,60,0,41,0,34,27,0,13,27,20,35,20,30,0,33,22,13,26,28,29,25,19,0,15,40,18,27,28,18,30,51,0,0,18,0,29,28,31,26,34,0,0,23,15,39,30,0,30,36,31,13,20,26,25,0,29,0,30,26,31,23,37,35,0,17,50,0,42,15,21,19,38,40,34,23,0,25,0,0,12,42,24,0,0,0,18,0,0,0,44,20,0,44,27,16,0,20,16,32,28,27,22,54,31,30,33,15,27,0,38,31,37,25,0,28,0,21,0,24,32,0,22,35,0,33,33,19,0,0,14,32,39,22,32,15,0,18,42,0,32,0,50,52,23,0,10,28,15,0,26,44,17,43,29,0,31,29,0,41,0,37,14,30,37,10,22,11,39,12,20,32,21,0,32,19,16,18,43,13,21,0,0,36,19,19,0,0,28,12,0,0,0,25,28,0,17,16,23,22,40,43,15,37,39,30,22,8,18,24,13,23,29,14,12,24,34,40,0,0,41,25,32,0,39,30,23,22,35,21,0,41,18,46,22,46,16,11,0,8,0,15,0,23,27,12,45,18,13,32,28,0,28,33,22,0,40,30,0,13,10,36,41,40,38,27,0,0,27,17,38,31,30,37,22,31,42,41,32,17,28,30,38,0,0,15,32,19,32,25,39,0,23,23,0,17,0,0,19,0,7,32,33,0,18,19,15,31,0,18,0,52,30,0,0,37,23,29,21,43,28,30,0,24,23,33,40,0,34,19,0,14,30,32,29,30,0,0,31,17,30,47,20,0,46,27,0,11,0,50,22,45,0,19,36,29,32,25,39,13,21,28,0,0,13,42,20,27,0,47,0,0,0,22,0,40,0,17,0,0,18,12,17,0,30,35,36,25,25,23,40,0,28,35,48,0,45,33,30,26,10,35,0,0,17,28,39,0,26,0,19,26,0,32,0,24,11,0,27,29,20,36,21,13,27,20,0,18,46,19,36,30,0,40,29,26,0,0,27,0,32,27,23,17,0,20,18,0,41,39,24,39,41,0,26,0,48,27,23,0,31],\"xaxis\":\"x\",\"yaxis\":\"y\",\"type\":\"histogram\"},{\"alignmentgroup\":\"True\",\"customdata\":[[-0.25,-0.7352941176470589,-0.25,0.0,26.6,0.351,31.0,0.0],[-0.25,-0.6176470588235294,-0.25,94.0,28.1,0.167,21.0,0.0],[0.75,0.17647058823529413,0.25,0.0,25.6,0.201,30.0,0.0],[0.5,0.0,1.375,0.0,37.6,0.191,30.0,0.0],[2.0,0.8529411764705882,0.625,0.0,27.1,1.441,57.0,0.0],[0.75,1.6470588235294117,0.125,175.0,25.8,0.587,51.0,1.0],[0.25,0.47058823529411764,1.125,235.0,39.3,0.704,27.0,0.0],[1.5,-0.3235294117647059,0.875,0.0,35.4,0.388,50.0,0.0],[2.0,0.4411764705882353,0.0,115.0,31.1,0.205,41.0,1.0],[-0.25,-0.38235294117647056,-0.25,140.0,23.2,0.487,22.0,0.0],[0.75,0.20588235294117646,1.375,0.0,34.1,0.337,38.0,0.0],[0.75,-0.029411764705882353,0.3125,0.0,36.0,0.546,60.0,0.0],[0.25,1.411764705882353,0.375,245.0,31.6,0.851,28.0,1.0],[0.25,-0.6470588235294118,-0.75,54.0,24.8,0.267,22.0,0.0],[1.0,-0.5294117647058824,1.375,0.0,19.9,0.188,28.0,0.0],[2.0,0.35294117647058826,0.5,0.0,27.6,0.512,45.0,0.0],[0.5,-0.20588235294117646,-0.625,192.0,24.0,0.966,33.0,0.0],[1.25,0.6764705882352942,0.875,0.0,40.2,0.696,37.0,0.0],[1.25,-0.11764705882352941,1.375,0.0,22.7,0.235,48.0,0.0],[1.25,1.4411764705882353,-0.375,0.0,27.4,0.294,40.0,0.0],[-0.25,1.0588235294117647,-0.875,0.0,29.7,0.564,29.0,0.0],[0.0,-1.1470588235294117,0.0,0.0,28.0,0.586,22.0,0.0],[-0.25,-0.20588235294117646,0.625,82.0,19.4,0.491,22.0,0.0],[-0.25,-0.2647058823529412,-1.25,36.0,24.2,0.526,26.0,0.0],[0.75,-0.6470588235294118,-0.25,23.0,24.4,0.342,30.0,0.0],[1.25,1.1764705882352942,-0.25,342.0,34.7,0.718,42.0,0.0],[-0.25,-1.088235294117647,-1.25,0.0,23.0,0.248,21.0,0.0],[-0.5,-0.29411764705882354,1.125,110.0,46.8,0.962,31.0,0.0],[-0.5,1.0588235294117647,0.75,0.0,40.5,1.781,44.0,0.0],[-0.5,-0.14705882352941177,-0.375,142.0,41.5,0.173,22.0,0.0],[1.5,0.6764705882352942,0.125,0.0,32.9,0.27,39.0,1.0],[0.0,0.9117647058823529,-0.75,128.0,25.4,0.699,24.0,0.0],[0.75,-0.3235294117647059,0.25,0.0,29.0,0.203,32.0,0.0],[0.0,-0.029411764705882353,1.375,0.0,42.7,0.845,54.0,0.0],[-0.25,-0.4411764705882353,-0.25,38.0,19.6,0.334,25.0,0.0],[0.5,1.0588235294117647,0.9375,100.0,28.9,0.189,27.0,0.0],[0.0,-0.29411764705882354,-0.25,90.0,32.9,0.867,28.0,1.0],[0.75,0.8529411764705882,-0.375,140.0,28.6,0.411,26.0,0.0],[0.5,0.5588235294117647,1.0,270.0,35.1,0.231,23.0,0.0],[-0.25,-0.9117647058823529,0.3125,0.0,32.0,0.396,22.0,0.0],[1.25,-1.411764705882353,0.5,0.0,32.6,0.391,41.0,0.0],[0.75,-0.4411764705882353,0.125,0.0,37.7,0.37,27.0,0.0],[0.0,0.058823529411764705,-0.25,0.0,25.0,0.307,24.0,0.0],[0.25,0.08823529411764706,-1.625,0.0,22.4,0.14,22.0,0.0],[1.25,-0.7941176470588235,0.5,71.0,29.3,0.767,36.0,0.0],[-0.5,-0.2647058823529412,-0.3125,0.0,24.6,0.237,22.0,0.0],[0.0,0.0,0.25,125.0,32.4,0.698,27.0,0.0],[0.0,-0.29411764705882354,-0.125,71.0,38.5,0.324,26.0,0.0],[-0.25,-0.08823529411764706,-0.125,0.0,26.5,0.165,24.0,0.0],[-0.25,-0.8823529411764706,-0.9375,0.0,19.1,0.258,21.0,0.0],[0.5,0.38235294117647056,0.625,176.0,32.0,0.443,34.0,0.0],[1.25,-0.8529411764705882,0.5,48.0,46.7,0.261,42.0,0.0],[0.0,0.9411764705882353,0.75,64.0,24.7,0.761,21.0,0.0],[1.0,1.0,0.125,228.0,33.9,0.255,40.0,0.0],[0.0,-0.5294117647058824,-0.5,0.0,31.6,0.13,24.0,0.0],[-0.25,-1.1470588235294117,-1.375,76.0,20.4,0.323,22.0,0.0],[1.0,-0.5,-1.25,64.0,28.7,0.356,23.0,0.0],[-0.25,0.35294117647058826,1.25,220.0,49.7,0.325,31.0,1.0],[-0.25,1.2058823529411764,-0.625,0.0,26.1,0.179,22.0,0.0],[-0.5,0.4411764705882353,1.625,0.0,22.5,0.262,21.0,0.0],[-0.25,-0.8529411764705882,0.125,40.0,26.6,0.283,24.0,0.0],[0.0,-0.7352941176470589,-0.3125,0.0,39.6,0.93,27.0,0.0],[-0.25,0.47058823529411764,-0.875,152.0,28.7,0.801,21.0,0.0],[0.5,1.0,-0.75,140.0,29.5,0.287,37.0,0.0],[0.25,-0.7941176470588235,-0.75,18.0,34.3,0.336,25.0,0.0],[1.5,1.3235294117647058,-0.5,495.0,34.0,0.543,46.0,1.0],[-0.25,-0.6176470588235294,0.375,37.0,31.2,0.192,23.0,0.0],[0.5,-1.0,-0.5,0.0,34.0,0.391,25.0,0.0],[0.75,-0.9411764705882353,-1.375,0.0,33.7,0.654,25.0,0.0],[0.5,-0.38235294117647056,-0.625,0.0,28.2,0.443,22.0,0.0],[0.5,-0.3235294117647059,0.375,51.0,23.2,0.223,21.0,0.0],[1.0,0.029411764705882353,-0.375,0.0,34.2,0.26,24.0,0.0],[0.0,-0.08823529411764706,0.25,100.0,33.6,0.404,23.0,0.0],[0.75,0.6470588235294118,0.625,0.0,26.8,0.186,69.0,0.0],[0.25,0.29411764705882354,0.0,135.0,42.9,0.452,30.0,0.0],[-0.25,0.23529411764705882,-0.75,94.0,33.3,0.261,23.0,0.0],[1.5,-0.7647058823529411,0.25,0.0,38.3,0.457,39.0,0.0],[0.0,-0.4117647058823529,-0.125,49.0,21.1,0.647,26.0,0.0],[0.0,0.4411764705882353,-0.625,140.0,33.8,0.088,31.0,0.0],[-0.5,-0.29411764705882354,0.0,50.0,30.8,0.597,21.0,0.0],[-0.5,-0.5,-0.625,92.0,28.7,0.532,22.0,0.0],[-0.5,0.5588235294117647,0.625,0.0,31.2,0.703,29.0,0.0],[0.75,-0.14705882352941177,0.125,325.0,36.9,0.159,28.0,0.0],[0.25,0.5294117647058824,0.5,0.0,21.1,0.268,55.0,0.0],[0.75,-0.11764705882352941,0.75,0.0,39.5,0.286,38.0,0.0],[0.0,-0.058823529411764705,-1.125,63.0,32.5,0.318,22.0,0.0],[0.5,1.2941176470588236,-0.5,284.0,32.8,0.237,23.0,0.0],[-0.5,-0.23529411764705882,0.3125,0.0,0.0,0.572,21.0,0.0],[1.75,-1.5588235294117647,0.625,0.0,32.8,0.096,41.0,0.0],[0.0,-0.11764705882352941,-0.375,119.0,30.5,1.4,34.0,0.0],[0.75,1.088235294117647,0.5,0.0,33.7,0.218,65.0,0.0],[0.0,-0.5882352941176471,0.0,0.0,27.3,0.085,22.0,0.0],[-0.25,0.7647058823529411,0.25,204.0,37.4,0.399,24.0,0.0],[0.5,0.11764705882352941,-0.3125,0.0,21.9,0.432,37.0,0.0],[-0.25,1.2647058823529411,0.75,485.0,40.6,0.687,23.0,0.0],[0.0,-0.3235294117647059,-1.125,94.0,24.6,0.637,21.0,0.0],[-0.25,-0.029411764705882353,-0.875,135.0,25.2,0.833,23.0,0.0],[0.0,-0.6470588235294118,0.25,53.0,29.0,0.229,22.0,0.0],[0.5,1.2058823529411764,1.25,0.0,29.7,0.294,36.0,0.0],[1.25,-0.23529411764705882,0.25,105.0,37.2,0.204,45.0,0.0],[-0.5,0.11764705882352941,0.625,285.0,44.2,0.167,27.0,0.0],[0.0,-0.29411764705882354,-0.375,0.0,29.7,0.368,21.0,0.0],[-0.5,0.6176470588235294,1.125,0.0,31.6,0.743,32.0,1.0],[0.25,1.1176470588235294,-0.25,0.0,32.5,0.256,22.0,0.0],[0.5,0.29411764705882354,-0.125,0.0,29.6,0.709,34.0,0.0],[0.5,0.0,-0.25,0.0,31.9,0.471,29.0,0.0],[0.25,0.029411764705882353,1.25,78.0,28.4,0.495,29.0,0.0],[-0.25,-0.9117647058823529,-0.625,48.0,43.5,0.678,23.0,0.0],[0.0,-1.0294117647058822,-0.375,55.0,29.7,0.37,33.0,0.0],[1.0,-0.7352941176470589,0.5,0.0,31.2,0.382,42.0,0.0],[0.75,0.9705882352941176,0.5,0.0,45.0,0.19,47.0,0.0],[1.0,-0.6764705882352942,0.625,0.0,23.2,0.084,32.0,0.0],[-0.5,0.2647058823529412,-0.375,92.0,34.9,0.725,23.0,0.0],[0.75,-1.088235294117647,-0.625,0.0,26.8,0.268,27.0,0.0],[0.5,0.9117647058823529,0.25,0.0,27.6,0.244,40.0,0.0],[0.25,0.029411764705882353,-0.5,0.0,22.6,0.142,21.0,0.0],[1.75,0.38235294117647056,0.0,94.0,33.1,0.374,40.0,0.0],[1.5,-0.7352941176470589,-0.9375,0.0,24.4,0.136,42.0,0.0],[-0.25,-0.14705882352941177,-0.75,0.0,24.3,0.187,21.0,0.0],[0.5,-0.029411764705882353,-0.375,99.0,34.8,0.905,26.0,1.0],[0.5,1.1176470588235294,-0.625,318.0,30.9,0.15,29.0,1.0],[-0.5,0.08823529411764706,0.625,0.0,31.0,0.874,21.0,0.0],[-0.25,0.8235294117647058,0.75,0.0,40.1,0.236,28.0,0.0],[-0.5,-0.058823529411764705,-0.125,0.0,27.3,0.787,32.0,0.0],[0.0,-0.3235294117647059,0.0,44.0,20.4,0.235,27.0,0.0],[1.0,-0.20588235294117646,0.125,190.0,37.7,0.324,55.0,0.0],[0.75,0.029411764705882353,0.125,0.0,23.9,0.407,27.0,0.0],[-0.25,-0.4117647058823529,-0.375,87.0,33.2,0.289,21.0,0.0],[0.0,-0.8529411764705882,-0.625,0.0,27.7,0.29,25.0,0.0],[-0.5,1.088235294117647,0.9375,0.0,42.8,0.375,24.0,0.0],[1.25,2.0294117647058822,1.5625,0.0,34.2,0.164,60.0,0.0],[1.0,0.4411764705882353,-0.125,120.0,30.0,0.464,32.0,0.0],[1.25,0.9411764705882353,-0.625,190.0,28.8,0.687,61.0,0.0],[-0.25,-0.29411764705882354,-0.25,56.0,23.6,0.666,26.0,0.0],[-0.25,-0.6764705882352942,0.5,32.0,34.6,0.101,22.0,0.0],[-0.5,-0.2647058823529412,0.375,0.0,35.7,0.198,26.0,0.0],[0.25,1.5294117647058822,-1.125,0.0,37.2,0.652,24.0,1.0],[-0.5,0.20588235294117646,0.625,53.0,45.2,0.089,24.0,0.0],[1.0,0.7058823529411765,0.625,370.0,46.2,0.238,46.0,1.0],[-0.25,-0.9117647058823529,0.625,37.0,25.4,0.583,22.0,0.0],[0.5,0.35294117647058826,-0.125,0.0,35.0,0.394,29.0,0.0],[0.25,-1.0588235294117647,-0.125,45.0,29.7,0.293,23.0,0.0],[0.5,1.7941176470588236,0.125,0.0,43.6,0.479,26.0,1.0],[1.75,1.588235294117647,0.875,0.0,30.8,0.831,32.0,1.0],[-0.5,-0.17647058823529413,0.375,0.0,18.4,0.582,27.0,0.0],[-0.25,-0.5588235294117647,-0.375,0.0,29.2,0.192,21.0,0.0],[0.5,-0.5588235294117647,0.0,88.0,33.1,0.446,22.0,0.0],[0.25,0.8529411764705882,-1.0,0.0,25.6,0.402,22.0,1.0],[1.0,0.2647058823529412,-1.25,176.0,27.1,1.318,33.0,1.0],[0.0,1.0588235294117647,0.375,194.0,38.2,0.329,29.0,0.0],[2.0,0.35294117647058826,-0.125,0.0,31.2,0.258,41.0,0.0],[-0.5,1.6176470588235294,1.25,680.0,52.3,0.427,23.0,0.0],[1.75,0.4117647058823529,0.0,402.0,35.4,0.282,34.0,0.0],[-0.25,0.029411764705882353,1.0,0.0,30.1,0.143,23.0,0.0],[1.75,-0.11764705882352941,-1.125,0.0,31.2,0.38,42.0,0.0],[0.0,0.5588235294117647,0.875,0.0,28.0,0.284,27.0,0.0],[0.0,-0.5882352941176471,0.625,55.0,24.4,0.249,24.0,0.0],[-0.5,-0.7058823529411765,-0.125,0.0,35.8,0.238,25.0,0.0],[0.25,0.029411764705882353,-0.875,0.0,30.1,0.557,30.0,0.0],[0.0,0.11764705882352941,-0.125,0.0,28.7,0.092,25.0,0.0],[0.5,-0.4411764705882353,0.0,0.0,32.1,0.612,24.0,0.0],[0.25,0.9411764705882353,0.625,0.0,32.4,0.2,63.0,0.0],[0.5,0.38235294117647056,-0.5,0.0,32.0,0.226,35.0,1.0],[0.75,-0.4117647058823529,0.25,67.0,33.6,0.997,43.0,0.0],[0.0,0.5294117647058824,-0.375,0.0,40.0,1.101,24.0,0.0],[-0.5,-0.23529411764705882,-1.125,0.0,25.1,0.078,21.0,0.0],[0.0,-0.058823529411764705,-0.5,56.0,25.2,0.128,21.0,0.0],[0.25,0.35294117647058826,0.5,0.0,23.0,0.254,40.0,0.0],[-0.25,-1.1470588235294117,0.5,45.0,33.2,0.422,21.0,0.0],[0.0,-0.29411764705882354,0.0,57.0,40.5,0.677,25.0,0.0],[-0.5,-0.17647058823529413,-0.375,116.0,27.8,0.454,23.0,0.0],[0.75,0.11764705882352941,0.25,0.0,24.9,0.744,57.0,0.0],[0.0,-0.058823529411764705,-0.5,278.0,25.3,0.881,22.0,0.0],[2.0,0.5588235294117647,0.375,122.0,35.9,0.28,39.0,0.0],[1.25,0.6764705882352942,1.125,155.0,32.4,0.262,37.0,0.0],[0.0,-0.058823529411764705,0.625,0.0,27.0,0.259,52.0,1.0],[1.25,0.7647058823529411,0.25,135.0,26.0,0.647,51.0,0.0],[0.75,1.3235294117647058,0.875,545.0,38.7,0.619,34.0,0.0],[0.5,-0.4117647058823529,-0.875,49.0,20.8,0.34,26.0,0.0],[0.75,-0.058823529411764705,0.125,75.0,36.1,0.263,33.0,0.0],[-0.5,-0.9411764705882353,1.125,40.0,36.9,0.434,21.0,0.0],[-0.5,1.5,-1.25,0.0,21.9,0.254,65.0,0.0],[1.0,1.2058823529411764,-0.5,120.0,35.5,0.692,28.0,0.0],[-0.5,0.47058823529411764,0.875,215.0,30.7,0.52,24.0,0.0],[1.5,0.058823529411764705,0.125,0.0,23.6,0.84,58.0,0.0],[0.75,-0.9705882352941176,0.75,42.0,35.8,0.156,35.0,0.0],[0.25,1.1764705882352942,0.375,0.0,21.0,0.207,37.0,0.0],[0.0,0.29411764705882354,0.375,105.0,39.7,0.215,29.0,0.0],[-0.5,0.7941176470588235,-0.125,148.0,24.8,0.143,21.0,0.0],[1.0,-0.8823529411764706,-0.25,0.0,26.2,0.313,41.0,0.0],[-0.5,-0.11764705882352941,0.0,148.0,39.4,0.605,22.0,0.0],[0.25,0.08823529411764706,-1.25,85.0,29.5,0.626,25.0,0.0],[0.0,0.058823529411764705,-0.125,94.0,34.1,0.315,26.0,0.0],[0.25,-0.3235294117647059,0.625,64.0,19.3,0.284,30.0,0.0],[0.25,0.14705882352941177,-0.25,140.0,38.1,0.15,28.0,0.0],[0.5,0.5588235294117647,-0.625,231.0,27.5,0.527,31.0,0.0],[-0.5,0.4117647058823529,0.0,0.0,27.4,0.254,36.0,1.0],[0.0,0.058823529411764705,0.3125,0.0,35.7,0.148,21.0,0.0],[-0.25,1.3823529411764706,0.125,168.0,25.6,0.123,24.0,0.0],[2.0,2.0294117647058822,0.0,0.0,35.1,0.2,37.0,0.0],[1.0,-0.14705882352941177,0.0,68.0,30.8,0.122,37.0,0.0],[1.5,0.23529411764705882,0.125,0.0,23.1,1.476,46.0,0.0],[0.0,-0.6764705882352942,-0.75,52.0,32.7,0.166,25.0,0.0],[-0.25,-0.4411764705882353,-0.625,58.0,23.9,0.26,22.0,0.0],[-0.5,1.6176470588235294,0.375,255.0,47.9,0.259,26.0,0.0],[-0.25,0.5882352941176471,0.0,105.0,25.9,0.472,22.0,0.0],[-0.25,-0.4411764705882353,0.25,73.0,25.9,0.673,36.0,0.0],[0.75,0.35294117647058826,1.0,0.0,34.7,0.29,33.0,0.0],[1.5,-0.4411764705882353,0.125,0.0,36.8,0.485,57.0,0.0],[1.5,0.47058823529411764,1.125,108.0,38.5,0.349,49.0,0.0],[-0.25,0.8529411764705882,-1.5,83.0,28.7,0.654,22.0,0.0],[0.25,-0.3235294117647059,-0.5,74.0,21.8,0.279,26.0,0.0],[0.5,-0.5294117647058824,0.625,0.0,42.2,0.237,29.0,0.0],[0.5,0.7941176470588235,0.875,0.0,31.2,0.252,30.0,0.0],[0.25,-1.4411764705882353,0.75,0.0,34.4,0.243,46.0,0.0],[-0.25,-0.5882352941176471,-0.5,43.0,27.2,0.58,24.0,0.0],[0.25,-0.5882352941176471,0.5,0.0,42.7,0.559,21.0,0.0],[0.75,1.411764705882353,0.0,0.0,29.8,0.207,63.0,0.0],[0.5,1.0588235294117647,0.5,0.0,38.5,0.52,67.0,1.0],[0.5,1.088235294117647,0.25,293.0,34.9,0.385,30.0,0.0],[0.75,-0.3235294117647059,-1.0,83.0,34.0,0.499,30.0,0.0],[1.0,0.4117647058823529,0.125,0.0,27.6,0.368,29.0,1.0],[-0.5,-0.2647058823529412,-0.375,0.0,21.0,0.252,21.0,0.0],[0.25,-0.8529411764705882,1.0,66.0,27.5,0.306,22.0,0.0],[-0.5,0.23529411764705882,-0.375,89.0,0.0,1.731,21.0,0.0],[-0.5,-0.7647058823529411,-0.375,66.0,35.8,0.545,21.0,0.0],[0.0,-0.14705882352941177,-0.75,94.0,34.9,0.225,25.0,0.0],[0.0,0.35294117647058826,-1.125,158.0,36.2,0.816,28.0,0.0],[-0.5,-0.35294117647058826,0.75,84.0,25.2,0.299,22.0,0.0],[-0.25,-0.6764705882352942,-0.625,75.0,37.2,0.509,22.0,0.0],[-0.5,-0.5,1.875,72.0,43.4,1.021,35.0,0.0],[-0.25,-0.08823529411764706,0.125,82.0,30.8,0.821,24.0,0.0],[-0.5,-0.14705882352941177,-0.125,0.0,20.0,0.236,22.0,0.0],[-0.25,-0.029411764705882353,-0.625,182.0,25.4,0.947,21.0,0.0],[-0.25,-0.5882352941176471,-0.5,59.0,25.1,1.268,25.0,0.0],[-0.25,0.4411764705882353,0.0,110.0,24.3,0.221,25.0,0.0],[-0.25,0.2647058823529412,-1.0,50.0,22.3,0.205,24.0,0.0],[0.25,-0.29411764705882354,-0.125,81.0,31.6,0.949,28.0,0.0],[-0.25,-0.29411764705882354,-0.25,196.0,32.0,0.444,42.0,0.0],[-0.25,0.6176470588235294,-0.375,415.0,23.7,0.389,21.0,0.0],[0.5,0.17647058823529413,0.125,87.0,22.1,0.463,37.0,0.0],[0.0,0.5,-0.75,275.0,27.7,1.6,25.0,0.0],[0.25,-0.4117647058823529,-0.875,115.0,24.7,0.944,39.0,0.0],[-0.5,0.6176470588235294,-0.25,0.0,34.3,0.196,22.0,1.0],[0.25,-0.8235294117647058,0.0,0.0,21.1,0.389,25.0,0.0],[1.0,0.7941176470588235,-0.5625,0.0,24.2,0.151,55.0,0.0],[0.75,0.7647058823529411,0.875,88.0,35.0,0.286,35.0,1.0],[1.75,-1.1176470588235294,0.5,0.0,31.6,0.28,38.0,0.0],[0.0,0.38235294117647056,-1.375,165.0,42.1,0.52,26.0,0.0],[-0.5,-0.2647058823529412,-0.5,0.0,21.9,0.336,25.0,0.0],[1.0,-0.23529411764705882,1.25,0.0,35.7,0.674,28.0,0.0],[-0.25,0.058823529411764705,0.125,176.0,34.4,0.528,25.0,0.0],[-0.25,0.9705882352941176,0.875,310.0,42.4,1.076,22.0,0.0],[-0.25,0.9705882352941176,0.25,61.0,26.2,0.256,21.0,0.0],[-0.5,0.8235294117647058,-0.625,167.0,34.6,0.534,21.0,1.0],[-0.25,-0.38235294117647056,-0.125,0.0,27.2,1.095,22.0,0.0],[-0.25,-0.7941176470588235,-0.125,0.0,18.2,0.624,27.0,0.0],[-0.25,0.2647058823529412,1.125,170.0,45.3,0.507,26.0,0.0],[0.0,-0.47058823529411764,-0.125,76.0,26.0,0.561,21.0,0.0],[-0.5,-0.23529411764705882,-0.375,78.0,40.6,0.496,21.0,0.0],[0.0,0.14705882352941177,-0.375,0.0,30.8,0.421,21.0,0.0],[-0.5,0.7352941176470589,1.5,145.0,40.6,0.284,26.0,0.0],[0.25,-0.6176470588235294,0.25,85.0,30.4,0.551,38.0,0.0],[-0.25,-0.8823529411764706,0.25,60.0,30.0,0.527,22.0,0.0],[0.0,0.8529411764705882,0.3125,0.0,25.6,0.167,29.0,0.0],[-0.25,-0.5882352941176471,-0.125,0.0,24.5,1.138,36.0,0.0],[0.75,1.088235294117647,0.3125,0.0,29.9,0.434,28.0,0.0],[-0.25,-0.38235294117647056,0.0,0.0,18.2,0.147,21.0,0.0],[1.0,-0.08823529411764706,1.125,0.0,36.8,0.727,31.0,0.0],[0.0,-0.7941176470588235,-0.25,50.0,32.2,0.497,22.0,0.0],[0.5,0.20588235294117646,-0.375,120.0,33.2,0.23,24.0,0.0],[-0.25,-0.29411764705882354,0.125,70.0,25.3,0.658,28.0,0.0],[-0.5,-0.4411764705882353,0.625,92.0,36.5,0.33,26.0,0.0],[-0.5,0.29411764705882354,0.25,63.0,30.5,0.285,26.0,0.0],[-0.25,-0.8235294117647058,-0.375,95.0,21.2,0.415,23.0,0.0],[-0.5,-0.5588235294117647,-0.125,210.0,39.9,0.381,25.0,0.0],[0.0,-0.29411764705882354,-1.0,105.0,37.8,0.498,24.0,0.0],[-0.25,0.7352941176470589,-1.0,0.0,26.7,0.687,62.0,0.0],[0.75,-0.7058823529411765,-0.125,71.0,30.2,0.364,24.0,0.0],[1.75,0.7058823529411765,0.25,60.0,25.9,0.46,81.0,0.0],[1.75,0.29411764705882354,0.125,56.0,20.8,0.733,48.0,0.0],[-0.25,-1.1470588235294117,-0.5,0.0,21.8,0.416,26.0,0.0],[1.5,-1.0588235294117647,0.0,49.0,35.3,0.705,39.0,0.0],[0.75,-0.6470588235294118,0.5,0.0,27.6,0.258,37.0,0.0],[2.0,0.14705882352941177,1.75,0.0,24.0,1.022,34.0,0.0],[-0.5,0.4117647058823529,-0.875,105.0,21.8,0.452,21.0,0.0],[-0.5,-1.0588235294117647,-1.125,36.0,27.8,0.269,22.0,0.0],[-0.5,-0.38235294117647056,-0.375,100.0,36.8,0.6,25.0,0.0],[1.0,1.2941176470588236,0.5,140.0,46.1,0.571,27.0,0.0],[-0.25,1.0,0.75,0.0,41.3,0.607,28.0,0.0],[-0.5,0.7941176470588235,0.0,0.0,33.2,0.17,22.0,0.0],[-0.5,0.2647058823529412,-0.25,0.0,38.8,0.259,22.0,0.0],[1.25,0.7647058823529411,1.25,0.0,29.9,0.21,50.0,0.0],[0.5,0.11764705882352941,-0.375,0.0,28.9,0.126,24.0,0.0],[-0.5,0.7941176470588235,0.875,0.0,27.3,0.231,59.0,0.0],[1.25,0.11764705882352941,0.375,110.0,23.8,0.466,31.0,0.0],[1.5,0.47058823529411764,0.25,75.0,25.9,0.162,39.0,0.0],[0.5,0.6470588235294118,1.0,0.0,28.0,0.419,63.0,0.0],[0.25,1.411764705882353,0.0,328.0,35.5,0.344,35.0,1.0],[-0.5,0.38235294117647056,1.125,0.0,35.2,0.197,29.0,0.0],[0.5,-0.7352941176470589,-0.75,49.0,27.8,0.306,28.0,0.0],[-0.5,-0.7647058823529411,0.75,125.0,38.2,0.233,23.0,0.0],[-0.5,0.7352941176470589,-0.125,250.0,42.3,0.365,24.0,1.0],[-0.25,0.8529411764705882,-0.5,480.0,40.7,0.536,21.0,0.0],[-0.5,1.8529411764705883,0.5,265.0,46.5,1.159,58.0,0.0],[0.5,-0.3235294117647059,0.125,0.0,25.6,0.294,28.0,0.0],[0.0,-0.7941176470588235,-0.3125,66.0,36.8,0.629,24.0,0.0],[0.0,-0.6176470588235294,1.25,0.0,33.5,0.292,42.0,0.0],[0.5,-0.3235294117647059,-0.125,0.0,32.8,0.145,33.0,0.0],[1.0,1.6470588235294117,0.25,0.0,26.6,0.304,66.0,0.0],[0.75,0.0,-0.125,0.0,26.0,0.292,30.0,0.0],[0.0,-0.8529411764705882,0.125,76.0,30.1,0.547,25.0,0.0],[1.0,1.2941176470588236,0.25,193.0,29.3,0.839,39.0,0.0],[0.0,0.20588235294117646,1.25,71.0,25.2,0.313,21.0,0.0],[0.25,-0.7647058823529411,0.125,0.0,37.2,0.267,28.0,0.0],[1.25,-0.47058823529411764,-0.375,79.0,33.3,0.738,41.0,0.0],[0.25,-0.4117647058823529,0.5,0.0,37.3,0.238,40.0,0.0],[2.0,-1.0294117647058822,0.75,0.0,33.3,0.263,38.0,0.0],[-0.25,0.5882352941176471,-0.625,170.0,28.6,0.692,21.0,0.0],[0.0,-0.7647058823529411,-1.25,76.0,30.4,0.968,21.0,0.0],[1.5,0.29411764705882354,0.5,0.0,25.0,0.409,64.0,0.0],[-0.5,0.8529411764705882,-0.5,210.0,22.1,0.207,21.0,0.0],[1.75,-0.5588235294117647,-0.125,0.0,24.2,0.2,58.0,0.0],[0.0,-0.5588235294117647,-0.5,0.0,27.3,0.525,22.0,0.0],[0.25,-0.3235294117647059,-1.0,86.0,25.6,0.154,24.0,0.0],[1.25,0.4411764705882353,1.0,0.0,37.6,0.304,51.0,0.0],[1.0,0.5588235294117647,1.25,326.0,19.6,0.582,60.0,0.0],[0.0,-1.2352941176470589,0.0,66.0,25.0,0.187,25.0,0.0],[0.25,0.4117647058823529,0.625,130.0,33.2,0.305,26.0,0.0],[0.25,0.4411764705882353,-0.75,0.0,31.6,0.151,24.0,0.0],[0.25,-0.6764705882352942,-0.625,0.0,21.8,0.444,21.0,0.0],[-0.25,-0.38235294117647056,-0.375,82.0,18.2,0.299,21.0,0.0],[0.25,0.17647058823529413,0.25,105.0,26.3,0.107,24.0,0.0],[-0.5,0.20588235294117646,-0.25,188.0,30.8,0.493,22.0,0.0],[-0.5,0.029411764705882353,-0.3125,0.0,24.6,0.66,31.0,0.0],[0.0,0.35294117647058826,-0.625,106.0,29.8,0.717,22.0,0.0],[-0.5,-0.08823529411764706,0.375,0.0,45.3,0.686,24.0,0.0],[-0.25,-0.7058823529411765,-0.25,65.0,41.3,0.917,29.0,0.0],[-0.25,-0.9705882352941176,-0.875,56.0,33.3,1.251,24.0,0.0],[-0.5,-0.14705882352941177,1.25,0.0,29.6,0.197,46.0,0.0],[-0.5,-1.5588235294117647,-0.625,0.0,21.7,0.735,67.0,0.0],[-0.5,0.5,0.625,210.0,36.3,0.804,23.0,0.0],[0.5,-0.7647058823529411,1.25,56.0,39.5,0.159,25.0,0.0],[-0.25,-0.6470588235294118,0.5,76.0,32.0,0.365,29.0,0.0],[0.5,0.6176470588235294,-0.125,166.0,33.1,0.16,28.0,0.0],[-0.25,1.588235294117647,0.75,67.0,32.8,0.341,50.0,0.0],[-0.25,0.17647058823529413,0.0,0.0,27.4,0.204,21.0,0.0],[0.25,-0.7647058823529411,-0.125,106.0,31.9,0.591,25.0,0.0],[1.0,0.11764705882352941,1.125,0.0,27.8,0.247,66.0,0.0],[-0.25,-0.6470588235294118,-0.5,44.0,29.9,0.422,23.0,0.0],[-0.25,-0.7647058823529411,-0.375,115.0,36.9,0.471,28.0,0.0],[1.25,0.4117647058823529,0.0,215.0,25.5,0.161,37.0,0.0],[-0.25,-0.38235294117647056,0.0,0.0,38.1,0.218,30.0,0.0],[1.5,0.0,0.375,0.0,27.8,0.237,58.0,0.0],[-0.25,-0.6764705882352942,-0.125,77.0,37.6,0.401,24.0,0.0],[1.0,-0.3235294117647059,-0.625,54.0,26.9,0.497,32.0,0.0],[-0.5,-0.5588235294117647,0.625,0.0,32.4,0.601,27.0,0.0],[0.0,-0.4411764705882353,-1.0,88.0,26.1,0.748,22.0,0.0],[-0.25,-0.3235294117647059,0.125,18.0,38.6,0.412,21.0,0.0],[1.0,-0.5294117647058824,-0.5,126.0,32.0,0.085,46.0,0.0],[0.5,1.2941176470588236,0.125,126.0,31.3,0.338,37.0,0.0],[-0.5,0.3235294117647059,-0.25,165.0,34.3,0.203,33.0,1.0],[0.25,-0.9411764705882353,0.0,0.0,32.5,0.27,39.0,0.0],[0.0,0.5882352941176471,1.625,0.0,22.6,0.268,21.0,0.0],[0.25,0.029411764705882353,-0.75,44.0,29.5,0.43,22.0,0.0],[0.0,-0.35294117647058826,-0.625,120.0,34.7,0.198,22.0,0.0],[-0.25,0.9705882352941176,1.0,330.0,30.1,0.892,23.0,0.0],[-0.25,0.2647058823529412,-1.625,63.0,35.5,0.28,25.0,0.0],[1.0,-0.058823529411764705,-1.625,130.0,24.0,0.813,35.0,0.0],[2.0,0.6764705882352942,-0.125,0.0,27.0,0.245,36.0,0.0],[-0.5,1.2058823529411764,1.25,0.0,42.1,0.371,21.0,1.0],[1.0,-0.029411764705882353,-0.625,0.0,25.0,0.206,27.0,0.0],[1.5,-0.29411764705882354,0.375,0.0,38.7,0.19,42.0,0.0],[-0.25,-0.5,-0.875,0.0,22.5,0.417,22.0,0.0],[1.0,-0.20588235294117646,-0.25,0.0,24.3,0.249,29.0,0.0],[0.0,0.058823529411764705,0.5,140.0,39.4,0.175,24.0,0.0],[0.0,-0.8235294117647058,-1.125,115.0,28.5,1.699,25.0,0.0],[1.0,0.38235294117647056,0.125,230.0,33.6,0.733,34.0,0.0],[-0.5,-1.2647058823529411,0.375,0.0,45.3,0.194,46.0,0.0],[-0.25,-0.058823529411764705,1.125,0.0,27.1,0.4,24.0,0.0],[-0.25,0.4117647058823529,0.25,0.0,27.8,0.1,30.0,0.0],[1.25,1.1764705882352942,0.5,126.0,35.2,0.692,54.0,1.0],[-0.25,0.4117647058823529,-0.625,0.0,35.8,0.514,21.0,0.0],[-0.25,-0.5294117647058824,-0.5,41.0,19.5,0.482,25.0,0.0],[-0.5,1.2352941176470589,0.75,272.0,41.5,0.27,27.0,0.0],[-0.25,0.029411764705882353,-0.5,182.0,24.0,0.138,23.0,0.0],[0.25,-0.11764705882352941,-1.0,158.0,30.9,0.292,24.0,0.0],[1.0,-0.14705882352941177,0.625,0.0,32.5,0.878,26.0,0.0],[0.25,-0.11764705882352941,0.125,0.0,25.8,0.207,27.0,0.0],[1.0,0.20588235294117646,1.625,0.0,28.7,0.157,30.0,0.0],[0.0,-1.2352941176470589,-0.5,15.0,20.1,0.257,23.0,0.0],[0.0,0.058823529411764705,1.0,160.0,38.4,0.246,28.0,0.0],[0.0,-0.5294117647058824,0.375,0.0,24.2,1.698,28.0,0.0],[-0.5,-0.47058823529411764,0.0,115.0,43.5,0.347,21.0,0.0],[0.0,-0.058823529411764705,-0.375,0.0,30.8,0.158,21.0,0.0],[0.5,-0.5882352941176471,1.125,54.0,37.7,0.362,29.0,0.0],[-0.5,0.4411764705882353,-0.125,0.0,24.7,0.206,21.0,0.0],[-0.5,0.6470588235294118,0.5,0.0,32.4,0.393,21.0,0.0],[0.75,0.5294117647058824,0.625,0.0,34.6,0.144,45.0,0.0],[0.5,-0.47058823529411764,-0.3125,0.0,24.7,0.148,21.0,0.0],[1.25,0.11764705882352941,-0.375,0.0,27.4,0.732,34.0,1.0],[-0.5,-0.23529411764705882,0.5,90.0,34.5,0.238,24.0,0.0],[0.0,0.029411764705882353,-0.625,0.0,26.2,0.343,23.0,0.0],[-0.25,0.5294117647058824,0.75,183.0,27.5,0.115,22.0,0.0],[2.0,-0.5294117647058824,-0.5,0.0,25.9,0.167,31.0,0.0],[0.75,-0.17647058823529413,0.25,0.0,28.8,0.153,48.0,0.0],[0.0,-0.47058823529411764,0.375,66.0,31.6,0.649,23.0,0.0],[-0.25,-0.29411764705882354,0.25,46.0,19.5,0.149,28.0,0.0],[-0.5,-0.23529411764705882,1.0,105.0,29.3,0.695,27.0,0.0],[0.5,0.5294117647058824,0.0,0.0,34.3,0.303,24.0,0.0],[0.25,-0.20588235294117646,0.125,152.0,27.6,0.73,27.0,0.0],[0.0,1.3823529411764706,0.25,440.0,39.4,0.134,30.0,0.0],[-0.5,2.0294117647058822,-1.25,159.0,37.8,0.455,22.0,1.0],[-0.5,-0.08823529411764706,-0.625,0.0,26.4,0.133,23.0,0.0],[-0.25,-0.5588235294117647,-1.0,100.0,25.2,0.234,23.0,0.0],[-0.25,0.20588235294117646,-0.625,106.0,33.8,0.466,27.0,0.0],[0.75,0.38235294117647056,0.25,77.0,34.1,0.269,28.0,0.0],[0.0,0.29411764705882354,-1.0,0.0,26.8,0.455,27.0,0.0],[-0.25,-0.11764705882352941,0.0,135.0,34.2,0.142,22.0,0.0],[0.0,-0.2647058823529412,-0.75,90.0,21.8,0.155,22.0,0.0],[-0.25,0.29411764705882354,0.625,200.0,38.9,1.162,41.0,0.0],[2.0,1.5294117647058822,0.875,0.0,27.7,0.182,54.0,0.0],[-0.25,0.058823529411764705,0.625,132.0,34.8,0.217,24.0,0.0],[1.0,-0.35294117647058826,-0.75,190.0,34.0,0.43,43.0,0.0],[1.75,1.2941176470588236,0.5,100.0,30.9,0.164,45.0,0.0],[1.0,1.6176470588235294,-0.125,168.0,33.6,0.631,49.0,0.0],[-0.25,-0.3235294117647059,-0.75,0.0,25.4,0.551,21.0,0.0],[0.25,0.38235294117647056,1.875,240.0,57.3,0.88,22.0,0.0],[1.5,-0.5588235294117647,0.75,0.0,35.6,0.587,68.0,0.0],[-0.5,-0.5,-0.625,0.0,35.3,0.263,25.0,0.0],[0.0,-0.2647058823529412,-0.75,265.0,24.2,0.614,23.0,0.0],[0.0,-1.588235294117647,-0.875,45.0,24.2,0.332,22.0,0.0],[-0.5,-0.4411764705882353,-0.375,105.0,44.6,0.366,22.0,0.0],[0.75,0.7647058823529411,0.75,0.0,0.0,0.64,69.0,0.0],[0.0,0.5588235294117647,0.25,205.0,33.2,0.591,25.0,0.0],[0.25,0.5882352941176471,-0.375,0.0,23.1,0.314,22.0,0.0],[-0.25,-0.08823529411764706,-1.25,0.0,28.3,0.181,29.0,0.0],[-0.25,0.8823529411764706,0.25,180.0,24.1,0.828,23.0,0.0],[1.5,-0.08823529411764706,0.625,0.0,24.6,0.856,34.0,0.0],[0.0,0.3235294117647059,0.0,95.0,39.1,0.886,23.0,0.0],[0.0,-0.5882352941176471,-0.625,0.0,23.5,0.191,25.0,0.0],[1.25,0.9411764705882353,1.25,480.0,30.4,0.128,43.0,1.0],[0.5,0.5,1.125,155.0,34.5,0.598,28.0,0.0],[0.5,0.23529411764705882,0.0,0.0,44.5,0.904,26.0,0.0],[0.0,0.35294117647058826,0.375,200.0,35.9,0.483,26.0,0.0],[-0.25,1.7058823529411764,1.125,0.0,35.0,0.905,52.0,1.0],[0.5,0.0,0.375,100.0,28.4,0.118,27.0,0.0],[1.0,-0.8823529411764706,0.625,0.0,39.8,0.177,28.0,0.0],[0.0,0.5,-1.5,335.0,34.4,0.176,22.0,0.0],[0.25,1.411764705882353,-0.375,387.0,31.2,0.295,24.0,0.0],[0.75,0.47058823529411764,0.5,22.0,29.6,0.439,40.0,0.0],[-0.5,0.7058823529411765,-0.75,291.0,26.4,0.352,21.0,0.0],[0.25,-0.23529411764705882,0.25,0.0,29.5,0.121,32.0,0.0],[2.0,-0.47058823529411764,0.125,0.0,23.1,0.595,56.0,0.0],[-0.25,-0.058823529411764705,-0.625,178.0,35.5,0.415,24.0,0.0],[0.5,-0.7941176470588235,1.0,0.0,29.3,0.317,34.0,0.0],[-0.25,0.11764705882352941,-0.25,200.0,38.1,0.289,21.0,0.0],[0.75,0.20588235294117646,1.0,105.0,39.1,0.251,42.0,0.0],[-0.25,0.029411764705882353,1.5,0.0,32.8,0.265,45.0,0.0],[0.5,0.058823529411764705,0.5,0.0,39.4,0.236,38.0,0.0],[-0.25,0.17647058823529413,0.5,180.0,36.1,0.496,25.0,0.0],[-0.5,0.9117647058823529,0.875,0.0,32.4,0.433,22.0,0.0],[0.0,1.911764705882353,1.125,0.0,22.9,0.326,22.0,0.0],[0.0,-0.5294117647058824,-1.125,0.0,30.1,0.141,22.0,0.0],[0.0,-0.11764705882352941,-0.875,165.0,29.0,0.426,22.0,0.0],[0.0,-0.14705882352941177,0.3125,0.0,23.3,0.56,53.0,0.0],[0.5,-0.4411764705882353,-0.625,0.0,35.4,0.284,28.0,0.0],[-0.5,0.47058823529411764,1.0,120.0,27.4,0.515,21.0,0.0],[1.5,-1.3235294117647058,0.125,0.0,32.0,0.6,42.0,0.0],[0.0,-0.3235294117647059,-0.625,160.0,36.6,0.453,21.0,0.0],[-0.25,-0.23529411764705882,0.25,0.0,39.5,0.293,42.0,1.0],[0.25,-0.23529411764705882,-1.625,94.0,30.8,0.4,26.0,0.0],[-0.25,-0.029411764705882353,-0.75,116.0,28.5,0.219,22.0,0.0],[1.75,0.8823529411764706,1.5,0.0,32.7,0.734,45.0,1.0],[-0.25,-0.8529411764705882,0.25,57.0,46.3,1.096,32.0,0.0],[-0.25,0.3235294117647059,0.5,74.0,39.0,0.261,28.0,0.0],[0.25,-0.058823529411764705,-0.5,0.0,26.0,0.223,25.0,0.0],[-0.25,0.5294117647058824,1.125,110.0,36.5,1.057,37.0,1.0],[1.25,0.7941176470588235,1.25,0.0,32.0,0.391,39.0,0.0],[-0.25,-0.11764705882352941,0.375,0.0,37.5,0.197,26.0,0.0],[0.0,-0.6470588235294118,-0.75,16.0,28.4,0.766,22.0,0.0],[1.75,-0.6176470588235294,-0.5,0.0,22.5,0.142,33.0,0.0],[2.0,-0.2647058823529412,0.375,180.0,32.9,0.171,63.0,0.0],[0.0,0.35294117647058826,0.0,0.0,36.8,0.34,27.0,0.0],[0.75,0.3235294117647059,0.125,112.0,26.2,0.245,30.0,0.0],[-0.25,0.47058823529411764,-0.625,0.0,30.1,0.349,47.0,1.0],[-0.25,-0.5,0.0,0.0,30.4,0.315,23.0,0.0]],\"hovertemplate\":\"D=%{x}<br>A=%{customdata[0]}<br>B=%{customdata[1]}<br>C=%{customdata[2]}<br>E=%{customdata[3]}<br>F=%{customdata[4]}<br>G=%{customdata[5]}<br>H=%{customdata[6]}<br>target=%{customdata[7]}<extra></extra>\",\"legendgroup\":\"\",\"marker\":{\"color\":\"#636efa\"},\"name\":\"\",\"notched\":true,\"offsetgroup\":\"\",\"showlegend\":false,\"x\":[29,23,0,0,0,19,41,0,26,15,0,26,36,11,0,31,33,0,18,0,0,27,11,15,21,42,10,60,0,41,0,34,27,0,13,27,20,35,20,30,0,33,22,13,26,28,29,25,19,0,15,40,18,27,28,18,30,51,0,0,18,0,29,28,31,26,34,0,0,23,15,39,30,0,30,36,31,13,20,26,25,0,29,0,30,26,31,23,37,35,0,17,50,0,42,15,21,19,38,40,34,23,0,25,0,0,12,42,24,0,0,0,18,0,0,0,44,20,0,44,27,16,0,20,16,32,28,27,22,54,31,30,33,15,27,0,38,31,37,25,0,28,0,21,0,24,32,0,22,35,0,33,33,19,0,0,14,32,39,22,32,15,0,18,42,0,32,0,50,52,23,0,10,28,15,0,26,44,17,43,29,0,31,29,0,41,0,37,14,30,37,10,22,11,39,12,20,32,21,0,32,19,16,18,43,13,21,0,0,36,19,19,0,0,28,12,0,0,0,25,28,0,17,16,23,22,40,43,15,37,39,30,22,8,18,24,13,23,29,14,12,24,34,40,0,0,41,25,32,0,39,30,23,22,35,21,0,41,18,46,22,46,16,11,0,8,0,15,0,23,27,12,45,18,13,32,28,0,28,33,22,0,40,30,0,13,10,36,41,40,38,27,0,0,27,17,38,31,30,37,22,31,42,41,32,17,28,30,38,0,0,15,32,19,32,25,39,0,23,23,0,17,0,0,19,0,7,32,33,0,18,19,15,31,0,18,0,52,30,0,0,37,23,29,21,43,28,30,0,24,23,33,40,0,34,19,0,14,30,32,29,30,0,0,31,17,30,47,20,0,46,27,0,11,0,50,22,45,0,19,36,29,32,25,39,13,21,28,0,0,13,42,20,27,0,47,0,0,0,22,0,40,0,17,0,0,18,12,17,0,30,35,36,25,25,23,40,0,28,35,48,0,45,33,30,26,10,35,0,0,17,28,39,0,26,0,19,26,0,32,0,24,11,0,27,29,20,36,21,13,27,20,0,18,46,19,36,30,0,40,29,26,0,0,27,0,32,27,23,17,0,20,18,0,41,39,24,39,41,0,26,0,48,27,23,0,31],\"xaxis\":\"x2\",\"yaxis\":\"y2\",\"type\":\"box\"}],                        {\"template\":{\"data\":{\"bar\":[{\"error_x\":{\"color\":\"#2a3f5f\"},\"error_y\":{\"color\":\"#2a3f5f\"},\"marker\":{\"line\":{\"color\":\"#E5ECF6\",\"width\":0.5},\"pattern\":{\"fillmode\":\"overlay\",\"size\":10,\"solidity\":0.2}},\"type\":\"bar\"}],\"barpolar\":[{\"marker\":{\"line\":{\"color\":\"#E5ECF6\",\"width\":0.5},\"pattern\":{\"fillmode\":\"overlay\",\"size\":10,\"solidity\":0.2}},\"type\":\"barpolar\"}],\"carpet\":[{\"aaxis\":{\"endlinecolor\":\"#2a3f5f\",\"gridcolor\":\"white\",\"linecolor\":\"white\",\"minorgridcolor\":\"white\",\"startlinecolor\":\"#2a3f5f\"},\"baxis\":{\"endlinecolor\":\"#2a3f5f\",\"gridcolor\":\"white\",\"linecolor\":\"white\",\"minorgridcolor\":\"white\",\"startlinecolor\":\"#2a3f5f\"},\"type\":\"carpet\"}],\"choropleth\":[{\"colorbar\":{\"outlinewidth\":0,\"ticks\":\"\"},\"type\":\"choropleth\"}],\"contour\":[{\"colorbar\":{\"outlinewidth\":0,\"ticks\":\"\"},\"colorscale\":[[0.0,\"#0d0887\"],[0.1111111111111111,\"#46039f\"],[0.2222222222222222,\"#7201a8\"],[0.3333333333333333,\"#9c179e\"],[0.4444444444444444,\"#bd3786\"],[0.5555555555555556,\"#d8576b\"],[0.6666666666666666,\"#ed7953\"],[0.7777777777777778,\"#fb9f3a\"],[0.8888888888888888,\"#fdca26\"],[1.0,\"#f0f921\"]],\"type\":\"contour\"}],\"contourcarpet\":[{\"colorbar\":{\"outlinewidth\":0,\"ticks\":\"\"},\"type\":\"contourcarpet\"}],\"heatmap\":[{\"colorbar\":{\"outlinewidth\":0,\"ticks\":\"\"},\"colorscale\":[[0.0,\"#0d0887\"],[0.1111111111111111,\"#46039f\"],[0.2222222222222222,\"#7201a8\"],[0.3333333333333333,\"#9c179e\"],[0.4444444444444444,\"#bd3786\"],[0.5555555555555556,\"#d8576b\"],[0.6666666666666666,\"#ed7953\"],[0.7777777777777778,\"#fb9f3a\"],[0.8888888888888888,\"#fdca26\"],[1.0,\"#f0f921\"]],\"type\":\"heatmap\"}],\"heatmapgl\":[{\"colorbar\":{\"outlinewidth\":0,\"ticks\":\"\"},\"colorscale\":[[0.0,\"#0d0887\"],[0.1111111111111111,\"#46039f\"],[0.2222222222222222,\"#7201a8\"],[0.3333333333333333,\"#9c179e\"],[0.4444444444444444,\"#bd3786\"],[0.5555555555555556,\"#d8576b\"],[0.6666666666666666,\"#ed7953\"],[0.7777777777777778,\"#fb9f3a\"],[0.8888888888888888,\"#fdca26\"],[1.0,\"#f0f921\"]],\"type\":\"heatmapgl\"}],\"histogram\":[{\"marker\":{\"pattern\":{\"fillmode\":\"overlay\",\"size\":10,\"solidity\":0.2}},\"type\":\"histogram\"}],\"histogram2d\":[{\"colorbar\":{\"outlinewidth\":0,\"ticks\":\"\"},\"colorscale\":[[0.0,\"#0d0887\"],[0.1111111111111111,\"#46039f\"],[0.2222222222222222,\"#7201a8\"],[0.3333333333333333,\"#9c179e\"],[0.4444444444444444,\"#bd3786\"],[0.5555555555555556,\"#d8576b\"],[0.6666666666666666,\"#ed7953\"],[0.7777777777777778,\"#fb9f3a\"],[0.8888888888888888,\"#fdca26\"],[1.0,\"#f0f921\"]],\"type\":\"histogram2d\"}],\"histogram2dcontour\":[{\"colorbar\":{\"outlinewidth\":0,\"ticks\":\"\"},\"colorscale\":[[0.0,\"#0d0887\"],[0.1111111111111111,\"#46039f\"],[0.2222222222222222,\"#7201a8\"],[0.3333333333333333,\"#9c179e\"],[0.4444444444444444,\"#bd3786\"],[0.5555555555555556,\"#d8576b\"],[0.6666666666666666,\"#ed7953\"],[0.7777777777777778,\"#fb9f3a\"],[0.8888888888888888,\"#fdca26\"],[1.0,\"#f0f921\"]],\"type\":\"histogram2dcontour\"}],\"mesh3d\":[{\"colorbar\":{\"outlinewidth\":0,\"ticks\":\"\"},\"type\":\"mesh3d\"}],\"parcoords\":[{\"line\":{\"colorbar\":{\"outlinewidth\":0,\"ticks\":\"\"}},\"type\":\"parcoords\"}],\"pie\":[{\"automargin\":true,\"type\":\"pie\"}],\"scatter\":[{\"marker\":{\"colorbar\":{\"outlinewidth\":0,\"ticks\":\"\"}},\"type\":\"scatter\"}],\"scatter3d\":[{\"line\":{\"colorbar\":{\"outlinewidth\":0,\"ticks\":\"\"}},\"marker\":{\"colorbar\":{\"outlinewidth\":0,\"ticks\":\"\"}},\"type\":\"scatter3d\"}],\"scattercarpet\":[{\"marker\":{\"colorbar\":{\"outlinewidth\":0,\"ticks\":\"\"}},\"type\":\"scattercarpet\"}],\"scattergeo\":[{\"marker\":{\"colorbar\":{\"outlinewidth\":0,\"ticks\":\"\"}},\"type\":\"scattergeo\"}],\"scattergl\":[{\"marker\":{\"colorbar\":{\"outlinewidth\":0,\"ticks\":\"\"}},\"type\":\"scattergl\"}],\"scattermapbox\":[{\"marker\":{\"colorbar\":{\"outlinewidth\":0,\"ticks\":\"\"}},\"type\":\"scattermapbox\"}],\"scatterpolar\":[{\"marker\":{\"colorbar\":{\"outlinewidth\":0,\"ticks\":\"\"}},\"type\":\"scatterpolar\"}],\"scatterpolargl\":[{\"marker\":{\"colorbar\":{\"outlinewidth\":0,\"ticks\":\"\"}},\"type\":\"scatterpolargl\"}],\"scatterternary\":[{\"marker\":{\"colorbar\":{\"outlinewidth\":0,\"ticks\":\"\"}},\"type\":\"scatterternary\"}],\"surface\":[{\"colorbar\":{\"outlinewidth\":0,\"ticks\":\"\"},\"colorscale\":[[0.0,\"#0d0887\"],[0.1111111111111111,\"#46039f\"],[0.2222222222222222,\"#7201a8\"],[0.3333333333333333,\"#9c179e\"],[0.4444444444444444,\"#bd3786\"],[0.5555555555555556,\"#d8576b\"],[0.6666666666666666,\"#ed7953\"],[0.7777777777777778,\"#fb9f3a\"],[0.8888888888888888,\"#fdca26\"],[1.0,\"#f0f921\"]],\"type\":\"surface\"}],\"table\":[{\"cells\":{\"fill\":{\"color\":\"#EBF0F8\"},\"line\":{\"color\":\"white\"}},\"header\":{\"fill\":{\"color\":\"#C8D4E3\"},\"line\":{\"color\":\"white\"}},\"type\":\"table\"}]},\"layout\":{\"annotationdefaults\":{\"arrowcolor\":\"#2a3f5f\",\"arrowhead\":0,\"arrowwidth\":1},\"autotypenumbers\":\"strict\",\"coloraxis\":{\"colorbar\":{\"outlinewidth\":0,\"ticks\":\"\"}},\"colorscale\":{\"diverging\":[[0,\"#8e0152\"],[0.1,\"#c51b7d\"],[0.2,\"#de77ae\"],[0.3,\"#f1b6da\"],[0.4,\"#fde0ef\"],[0.5,\"#f7f7f7\"],[0.6,\"#e6f5d0\"],[0.7,\"#b8e186\"],[0.8,\"#7fbc41\"],[0.9,\"#4d9221\"],[1,\"#276419\"]],\"sequential\":[[0.0,\"#0d0887\"],[0.1111111111111111,\"#46039f\"],[0.2222222222222222,\"#7201a8\"],[0.3333333333333333,\"#9c179e\"],[0.4444444444444444,\"#bd3786\"],[0.5555555555555556,\"#d8576b\"],[0.6666666666666666,\"#ed7953\"],[0.7777777777777778,\"#fb9f3a\"],[0.8888888888888888,\"#fdca26\"],[1.0,\"#f0f921\"]],\"sequentialminus\":[[0.0,\"#0d0887\"],[0.1111111111111111,\"#46039f\"],[0.2222222222222222,\"#7201a8\"],[0.3333333333333333,\"#9c179e\"],[0.4444444444444444,\"#bd3786\"],[0.5555555555555556,\"#d8576b\"],[0.6666666666666666,\"#ed7953\"],[0.7777777777777778,\"#fb9f3a\"],[0.8888888888888888,\"#fdca26\"],[1.0,\"#f0f921\"]]},\"colorway\":[\"#636efa\",\"#EF553B\",\"#00cc96\",\"#ab63fa\",\"#FFA15A\",\"#19d3f3\",\"#FF6692\",\"#B6E880\",\"#FF97FF\",\"#FECB52\"],\"font\":{\"color\":\"#2a3f5f\"},\"geo\":{\"bgcolor\":\"white\",\"lakecolor\":\"white\",\"landcolor\":\"#E5ECF6\",\"showlakes\":true,\"showland\":true,\"subunitcolor\":\"white\"},\"hoverlabel\":{\"align\":\"left\"},\"hovermode\":\"closest\",\"mapbox\":{\"style\":\"light\"},\"paper_bgcolor\":\"white\",\"plot_bgcolor\":\"#E5ECF6\",\"polar\":{\"angularaxis\":{\"gridcolor\":\"white\",\"linecolor\":\"white\",\"ticks\":\"\"},\"bgcolor\":\"#E5ECF6\",\"radialaxis\":{\"gridcolor\":\"white\",\"linecolor\":\"white\",\"ticks\":\"\"}},\"scene\":{\"xaxis\":{\"backgroundcolor\":\"#E5ECF6\",\"gridcolor\":\"white\",\"gridwidth\":2,\"linecolor\":\"white\",\"showbackground\":true,\"ticks\":\"\",\"zerolinecolor\":\"white\"},\"yaxis\":{\"backgroundcolor\":\"#E5ECF6\",\"gridcolor\":\"white\",\"gridwidth\":2,\"linecolor\":\"white\",\"showbackground\":true,\"ticks\":\"\",\"zerolinecolor\":\"white\"},\"zaxis\":{\"backgroundcolor\":\"#E5ECF6\",\"gridcolor\":\"white\",\"gridwidth\":2,\"linecolor\":\"white\",\"showbackground\":true,\"ticks\":\"\",\"zerolinecolor\":\"white\"}},\"shapedefaults\":{\"line\":{\"color\":\"#2a3f5f\"}},\"ternary\":{\"aaxis\":{\"gridcolor\":\"white\",\"linecolor\":\"white\",\"ticks\":\"\"},\"baxis\":{\"gridcolor\":\"white\",\"linecolor\":\"white\",\"ticks\":\"\"},\"bgcolor\":\"#E5ECF6\",\"caxis\":{\"gridcolor\":\"white\",\"linecolor\":\"white\",\"ticks\":\"\"}},\"title\":{\"x\":0.05},\"xaxis\":{\"automargin\":true,\"gridcolor\":\"white\",\"linecolor\":\"white\",\"ticks\":\"\",\"title\":{\"standoff\":15},\"zerolinecolor\":\"white\",\"zerolinewidth\":2},\"yaxis\":{\"automargin\":true,\"gridcolor\":\"white\",\"linecolor\":\"white\",\"ticks\":\"\",\"title\":{\"standoff\":15},\"zerolinecolor\":\"white\",\"zerolinewidth\":2}}},\"xaxis\":{\"anchor\":\"y\",\"domain\":[0.0,1.0],\"title\":{\"text\":\"D\"}},\"yaxis\":{\"anchor\":\"x\",\"domain\":[0.0,0.8316],\"title\":{\"text\":\"count\"}},\"xaxis2\":{\"anchor\":\"y2\",\"domain\":[0.0,1.0],\"matches\":\"x\",\"showticklabels\":false,\"showgrid\":true},\"yaxis2\":{\"anchor\":\"x2\",\"domain\":[0.8416,1.0],\"matches\":\"y2\",\"showticklabels\":false,\"showline\":false,\"ticks\":\"\",\"showgrid\":false},\"legend\":{\"tracegroupgap\":0},\"margin\":{\"t\":60},\"barmode\":\"relative\"},                        {\"responsive\": true}                    ).then(function(){\n",
              "                            \n",
              "var gd = document.getElementById('e06732e0-f1a0-4b14-b773-f40588b195b7');\n",
              "var x = new MutationObserver(function (mutations, observer) {{\n",
              "        var display = window.getComputedStyle(gd).display;\n",
              "        if (!display || display === 'none') {{\n",
              "            console.log([gd, 'removed!']);\n",
              "            Plotly.purge(gd);\n",
              "            observer.disconnect();\n",
              "        }}\n",
              "}});\n",
              "\n",
              "// Listen for the removal of the full notebook cells\n",
              "var notebookContainer = gd.closest('#notebook-container');\n",
              "if (notebookContainer) {{\n",
              "    x.observe(notebookContainer, {childList: true});\n",
              "}}\n",
              "\n",
              "// Listen for the clearing of the current output cell\n",
              "var outputEl = gd.closest('.output');\n",
              "if (outputEl) {{\n",
              "    x.observe(outputEl, {childList: true});\n",
              "}}\n",
              "\n",
              "                        })                };                            </script>        </div>\n",
              "</body>\n",
              "</html>"
            ]
          },
          "metadata": {}
        }
      ]
    },
    {
      "cell_type": "code",
      "source": [
        "print(\"skweness: \",df[\"D\"].skew())\n",
        "print(\"Kurtosis: \",df[\"D\"].kurt())"
      ],
      "metadata": {
        "colab": {
          "base_uri": "https://localhost:8080/"
        },
        "id": "6Y2pU-LOQU7T",
        "outputId": "c8b2fbdf-0707-4961-e8a0-bec0ba2cf065"
      },
      "execution_count": 45,
      "outputs": [
        {
          "output_type": "stream",
          "name": "stdout",
          "text": [
            "skweness:  -0.04600949134151385\n",
            "Kurtosis:  -0.9978896731824993\n"
          ]
        }
      ]
    },
    {
      "cell_type": "code",
      "source": [
        "#standardizing dexa_freq_during_rx df\n",
        "scaled = StandardScaler().fit_transform(df['D'][:,np.newaxis]);\n",
        "low_range = scaled[scaled[:,0].argsort()][:10]\n",
        "high_range= scaled[scaled[:,0].argsort()][-10:]\n",
        "print('outer range (low) of the distribution:')\n",
        "print(low_range)\n",
        "print('\\nouter range (high) of the distribution:')\n",
        "print(high_range)"
      ],
      "metadata": {
        "colab": {
          "base_uri": "https://localhost:8080/"
        },
        "id": "wcE5vJIJQ8wu",
        "outputId": "cda8eb7f-20e4-496b-f539-d1130fc2fb6b"
      },
      "execution_count": 46,
      "outputs": [
        {
          "output_type": "stream",
          "name": "stdout",
          "text": [
            "outer range (low) of the distribution:\n",
            "[[-1.39362548]\n",
            " [-1.39362548]\n",
            " [-1.39362548]\n",
            " [-1.39362548]\n",
            " [-1.39362548]\n",
            " [-1.39362548]\n",
            " [-1.39362548]\n",
            " [-1.39362548]\n",
            " [-1.39362548]\n",
            " [-1.39362548]]\n",
            "\n",
            "outer range (high) of the distribution:\n",
            "[[1.86150934]\n",
            " [1.86150934]\n",
            " [1.99713995]\n",
            " [1.99713995]\n",
            " [1.99713995]\n",
            " [2.06495526]\n",
            " [2.13277057]\n",
            " [2.13277057]\n",
            " [2.26840119]\n",
            " [2.67529304]]\n"
          ]
        }
      ]
    },
    {
      "cell_type": "code",
      "source": [
        "scaler = RobustScaler()\n",
        "df['D'] = scaler.fit_transform(df['D'].values.reshape(-1,1))"
      ],
      "metadata": {
        "id": "QE037W1MR0JH"
      },
      "execution_count": 47,
      "outputs": []
    },
    {
      "cell_type": "code",
      "execution_count": 48,
      "metadata": {
        "colab": {
          "base_uri": "https://localhost:8080/",
          "height": 0
        },
        "outputId": "07624f4b-7be4-4234-8c40-7cfb2d5dbdf4",
        "id": "9jMW3S5YdOtH"
      },
      "outputs": [
        {
          "output_type": "execute_result",
          "data": {
            "text/plain": [
              "' Detection '"
            ],
            "application/vnd.google.colaboratory.intrinsic+json": {
              "type": "string"
            }
          },
          "metadata": {},
          "execution_count": 48
        },
        {
          "output_type": "stream",
          "name": "stdout",
          "text": [
            "Old Shape:  (487, 9)\n",
            "lower []\n",
            "Upper []\n"
          ]
        },
        {
          "output_type": "execute_result",
          "data": {
            "text/plain": [
              "' Removing the Outliers '"
            ],
            "application/vnd.google.colaboratory.intrinsic+json": {
              "type": "string"
            }
          },
          "metadata": {},
          "execution_count": 48
        },
        {
          "output_type": "stream",
          "name": "stdout",
          "text": [
            "New Shape:  (487, 9)\n"
          ]
        }
      ],
      "source": [
        "''' Detection '''\n",
        "# IQR\n",
        "Q1 = np.percentile(df['D'], 25, \n",
        "                   interpolation = 'midpoint') \n",
        "  \n",
        "Q3 = np.percentile(df['D'], 75,\n",
        "                   interpolation = 'midpoint') \n",
        "IQR = Q3 - Q1 \n",
        "  \n",
        "print(\"Old Shape: \", df.shape) \n",
        "  \n",
        "# Upper bound\n",
        "upper = np.where(df['D'] >= (Q3+1.5*IQR))\n",
        "# Lower bound\n",
        "lower = np.where(df['D'] <= (Q1-1.5*IQR))\n",
        "  \n",
        "print(\"lower\",lower[0])\n",
        "print(\"Upper\",upper[0])\n",
        "\n",
        "''' Removing the Outliers '''\n",
        "df.drop(upper[0], inplace = True)\n",
        "df.drop(lower[0], inplace = True)\n",
        "\n",
        "print(\"New Shape: \", df.shape)\n",
        "\n",
        "df = df.reset_index(drop=True)"
      ]
    },
    {
      "cell_type": "markdown",
      "source": [
        "### ***E***"
      ],
      "metadata": {
        "id": "dBEI-bw_Rdzi"
      }
    },
    {
      "cell_type": "code",
      "source": [
        "fig = px.histogram(df, x=\"E\",\n",
        "                   marginal=\"box\", # or violin, rug\n",
        "                   hover_data=df.columns)\n",
        "fig.show()"
      ],
      "metadata": {
        "colab": {
          "base_uri": "https://localhost:8080/",
          "height": 0
        },
        "id": "j7LLz9e_Pc_n",
        "outputId": "b92713a9-edd5-4a1e-ba48-f2018e638887"
      },
      "execution_count": 49,
      "outputs": [
        {
          "output_type": "display_data",
          "data": {
            "text/html": [
              "<html>\n",
              "<head><meta charset=\"utf-8\" /></head>\n",
              "<body>\n",
              "    <div>            <script src=\"https://cdnjs.cloudflare.com/ajax/libs/mathjax/2.7.5/MathJax.js?config=TeX-AMS-MML_SVG\"></script><script type=\"text/javascript\">if (window.MathJax) {MathJax.Hub.Config({SVG: {font: \"STIX-Web\"}});}</script>                <script type=\"text/javascript\">window.PlotlyConfig = {MathJaxConfig: 'local'};</script>\n",
              "        <script src=\"https://cdn.plot.ly/plotly-2.8.3.min.js\"></script>                <div id=\"9aec09cd-1beb-4674-8559-d58a52bc3bef\" class=\"plotly-graph-div\" style=\"height:525px; width:100%;\"></div>            <script type=\"text/javascript\">                                    window.PLOTLYENV=window.PLOTLYENV || {};                                    if (document.getElementById(\"9aec09cd-1beb-4674-8559-d58a52bc3bef\")) {                    Plotly.newPlot(                        \"9aec09cd-1beb-4674-8559-d58a52bc3bef\",                        [{\"alignmentgroup\":\"True\",\"bingroup\":\"x\",\"hovertemplate\":\"E=%{x}<br>count=%{y}<extra></extra>\",\"legendgroup\":\"\",\"marker\":{\"color\":\"#636efa\",\"pattern\":{\"shape\":\"\"}},\"name\":\"\",\"offsetgroup\":\"\",\"orientation\":\"v\",\"showlegend\":false,\"x\":[0,94,0,0,0,175,235,0,115,140,0,0,245,54,0,0,192,0,0,0,0,0,82,36,23,342,0,110,0,142,0,128,0,0,38,100,90,140,270,0,0,0,0,0,71,0,125,71,0,0,176,48,64,228,0,76,64,220,0,0,40,0,152,140,18,495,37,0,0,0,51,0,100,0,135,94,0,49,140,50,92,0,325,0,0,63,284,0,0,119,0,0,204,0,485,94,135,53,0,105,285,0,0,0,0,0,78,48,55,0,0,0,92,0,0,0,94,0,0,99,318,0,0,0,44,190,0,87,0,0,0,120,190,56,32,0,0,53,370,37,0,45,0,0,0,0,88,0,176,194,0,680,402,0,0,0,55,0,0,0,0,0,0,67,0,0,56,0,45,57,116,0,278,122,155,0,135,545,49,75,40,0,120,215,0,42,0,105,148,0,148,85,94,64,140,231,0,0,168,0,68,0,52,58,255,105,73,0,0,108,83,74,0,0,0,43,0,0,0,293,83,0,0,66,89,66,94,158,84,75,72,82,0,182,59,110,50,81,196,415,87,275,115,0,0,0,88,0,165,0,0,176,310,61,167,0,0,170,76,78,0,145,85,60,0,0,0,0,0,50,120,70,92,63,95,210,105,0,71,60,56,0,49,0,0,105,36,100,140,0,0,0,0,0,0,110,75,0,328,0,49,125,250,480,265,0,66,0,0,0,0,76,193,71,0,79,0,0,170,76,0,210,0,0,86,0,326,66,130,0,0,82,105,188,0,106,0,65,56,0,0,210,56,76,166,67,0,106,0,44,115,215,0,0,77,54,0,88,18,126,126,165,0,0,44,120,330,63,130,0,0,0,0,0,0,140,115,230,0,0,0,126,0,41,272,182,158,0,0,0,15,160,0,115,0,54,0,0,0,0,0,90,0,183,0,0,66,46,105,0,152,440,159,0,100,106,77,0,135,90,200,0,132,190,100,168,0,240,0,0,265,45,105,0,205,0,0,180,0,95,0,480,155,0,200,0,100,0,335,387,22,291,0,0,178,0,200,105,0,0,180,0,0,0,165,0,0,120,0,160,0,94,116,0,57,74,0,110,0,0,16,0,180,0,112,0,0],\"xaxis\":\"x\",\"yaxis\":\"y\",\"type\":\"histogram\"},{\"alignmentgroup\":\"True\",\"customdata\":[[-0.25,-0.7352941176470589,-0.25,0.22580645161290322,26.6,0.351,31.0,0.0],[-0.25,-0.6176470588235294,-0.25,0.03225806451612903,28.1,0.167,21.0,0.0],[0.75,0.17647058823529413,0.25,-0.7096774193548387,25.6,0.201,30.0,0.0],[0.5,0.0,1.375,-0.7096774193548387,37.6,0.191,30.0,0.0],[2.0,0.8529411764705882,0.625,-0.7096774193548387,27.1,1.441,57.0,0.0],[0.75,1.6470588235294117,0.125,-0.0967741935483871,25.8,0.587,51.0,1.0],[0.25,0.47058823529411764,1.125,0.6129032258064516,39.3,0.704,27.0,0.0],[1.5,-0.3235294117647059,0.875,-0.7096774193548387,35.4,0.388,50.0,0.0],[2.0,0.4411764705882353,0.0,0.12903225806451613,31.1,0.205,41.0,1.0],[-0.25,-0.38235294117647056,-0.25,-0.22580645161290322,23.2,0.487,22.0,0.0],[0.75,0.20588235294117646,1.375,-0.7096774193548387,34.1,0.337,38.0,0.0],[0.75,-0.029411764705882353,0.3125,0.12903225806451613,36.0,0.546,60.0,0.0],[0.25,1.411764705882353,0.375,0.45161290322580644,31.6,0.851,28.0,1.0],[0.25,-0.6470588235294118,-0.75,-0.3548387096774194,24.8,0.267,22.0,0.0],[1.0,-0.5294117647058824,1.375,-0.7096774193548387,19.9,0.188,28.0,0.0],[2.0,0.35294117647058826,0.5,0.2903225806451613,27.6,0.512,45.0,0.0],[0.5,-0.20588235294117646,-0.625,0.3548387096774194,24.0,0.966,33.0,0.0],[1.25,0.6764705882352942,0.875,-0.7096774193548387,40.2,0.696,37.0,0.0],[1.25,-0.11764705882352941,1.375,-0.12903225806451613,22.7,0.235,48.0,0.0],[1.25,1.4411764705882353,-0.375,-0.7096774193548387,27.4,0.294,40.0,0.0],[-0.25,1.0588235294117647,-0.875,-0.7096774193548387,29.7,0.564,29.0,0.0],[0.0,-1.1470588235294117,0.0,0.16129032258064516,28.0,0.586,22.0,0.0],[-0.25,-0.20588235294117646,0.625,-0.3548387096774194,19.4,0.491,22.0,0.0],[-0.25,-0.2647058823529412,-1.25,-0.22580645161290322,24.2,0.526,26.0,0.0],[0.75,-0.6470588235294118,-0.25,-0.03225806451612903,24.4,0.342,30.0,0.0],[1.25,1.1764705882352942,-0.25,0.6451612903225806,34.7,0.718,42.0,0.0],[-0.25,-1.088235294117647,-1.25,-0.3870967741935484,23.0,0.248,21.0,0.0],[-0.5,-0.29411764705882354,1.125,1.2258064516129032,46.8,0.962,31.0,0.0],[-0.5,1.0588235294117647,0.75,-0.7096774193548387,40.5,1.781,44.0,0.0],[-0.5,-0.14705882352941177,-0.375,0.6129032258064516,41.5,0.173,22.0,0.0],[1.5,0.6764705882352942,0.125,-0.7096774193548387,32.9,0.27,39.0,1.0],[0.0,0.9117647058823529,-0.75,0.3870967741935484,25.4,0.699,24.0,0.0],[0.75,-0.3235294117647059,0.25,0.16129032258064516,29.0,0.203,32.0,0.0],[0.0,-0.029411764705882353,1.375,-0.7096774193548387,42.7,0.845,54.0,0.0],[-0.25,-0.4411764705882353,-0.25,-0.2903225806451613,19.6,0.334,25.0,0.0],[0.5,1.0588235294117647,0.9375,0.16129032258064516,28.9,0.189,27.0,0.0],[0.0,-0.29411764705882354,-0.25,-0.06451612903225806,32.9,0.867,28.0,1.0],[0.75,0.8529411764705882,-0.375,0.41935483870967744,28.6,0.411,26.0,0.0],[0.5,0.5588235294117647,1.0,-0.06451612903225806,35.1,0.231,23.0,0.0],[-0.25,-0.9117647058823529,0.3125,0.25806451612903225,32.0,0.396,22.0,0.0],[1.25,-1.411764705882353,0.5,-0.7096774193548387,32.6,0.391,41.0,0.0],[0.75,-0.4411764705882353,0.125,0.3548387096774194,37.7,0.37,27.0,0.0],[0.0,0.058823529411764705,-0.25,0.0,25.0,0.307,24.0,0.0],[0.25,0.08823529411764706,-1.625,-0.2903225806451613,22.4,0.14,22.0,0.0],[1.25,-0.7941176470588235,0.5,0.12903225806451613,29.3,0.767,36.0,0.0],[-0.5,-0.2647058823529412,-0.3125,0.1935483870967742,24.6,0.237,22.0,0.0],[0.0,0.0,0.25,0.22580645161290322,32.4,0.698,27.0,0.0],[0.0,-0.29411764705882354,-0.125,0.0967741935483871,38.5,0.324,26.0,0.0],[-0.25,-0.08823529411764706,-0.125,-0.0967741935483871,26.5,0.165,24.0,0.0],[-0.25,-0.8823529411764706,-0.9375,-0.7096774193548387,19.1,0.258,21.0,0.0],[0.5,0.38235294117647056,0.625,-0.22580645161290322,32.0,0.443,34.0,0.0],[1.25,-0.8529411764705882,0.5,0.5806451612903226,46.7,0.261,42.0,0.0],[0.0,0.9411764705882353,0.75,-0.12903225806451613,24.7,0.761,21.0,0.0],[1.0,1.0,0.125,0.16129032258064516,33.9,0.255,40.0,0.0],[0.0,-0.5294117647058824,-0.5,0.1935483870967742,31.6,0.13,24.0,0.0],[-0.25,-1.1470588235294117,-1.375,-0.12903225806451613,20.4,0.323,22.0,0.0],[1.0,-0.5,-1.25,0.25806451612903225,28.7,0.356,23.0,0.0],[-0.25,0.35294117647058826,1.25,0.9354838709677419,49.7,0.325,31.0,1.0],[-0.25,1.2058823529411764,-0.625,-0.7096774193548387,26.1,0.179,22.0,0.0],[-0.5,0.4411764705882353,1.625,-0.7096774193548387,22.5,0.262,21.0,0.0],[-0.25,-0.8529411764705882,0.125,-0.12903225806451613,26.6,0.283,24.0,0.0],[0.0,-0.7352941176470589,-0.3125,-0.7096774193548387,39.6,0.93,27.0,0.0],[-0.25,0.47058823529411764,-0.875,0.22580645161290322,28.7,0.801,21.0,0.0],[0.5,1.0,-0.75,0.1935483870967742,29.5,0.287,37.0,0.0],[0.25,-0.7941176470588235,-0.75,0.2903225806451613,34.3,0.336,25.0,0.0],[1.5,1.3235294117647058,-0.5,0.12903225806451613,34.0,0.543,46.0,1.0],[-0.25,-0.6176470588235294,0.375,0.3870967741935484,31.2,0.192,23.0,0.0],[0.5,-1.0,-0.5,-0.7096774193548387,34.0,0.391,25.0,0.0],[0.75,-0.9411764705882353,-1.375,-0.7096774193548387,33.7,0.654,25.0,0.0],[0.5,-0.38235294117647056,-0.625,0.03225806451612903,28.2,0.443,22.0,0.0],[0.5,-0.3235294117647059,0.375,-0.22580645161290322,23.2,0.223,21.0,0.0],[1.0,0.029411764705882353,-0.375,0.5483870967741935,34.2,0.26,24.0,0.0],[0.0,-0.08823529411764706,0.25,0.25806451612903225,33.6,0.404,23.0,0.0],[0.75,0.6470588235294118,0.625,-0.7096774193548387,26.8,0.186,69.0,0.0],[0.25,0.29411764705882354,0.0,0.25806451612903225,42.9,0.452,30.0,0.0],[-0.25,0.23529411764705882,-0.75,0.45161290322580644,33.3,0.261,23.0,0.0],[1.5,-0.7647058823529411,0.25,0.2903225806451613,38.3,0.457,39.0,0.0],[0.0,-0.4117647058823529,-0.125,-0.2903225806451613,21.1,0.647,26.0,0.0],[0.0,0.4411764705882353,-0.625,-0.06451612903225806,33.8,0.088,31.0,0.0],[-0.5,-0.29411764705882354,0.0,0.12903225806451613,30.8,0.597,21.0,0.0],[-0.5,-0.5,-0.625,0.0967741935483871,28.7,0.532,22.0,0.0],[-0.5,0.5588235294117647,0.625,-0.7096774193548387,31.2,0.703,29.0,0.0],[0.75,-0.14705882352941177,0.125,0.22580645161290322,36.9,0.159,28.0,0.0],[0.25,0.5294117647058824,0.5,-0.7096774193548387,21.1,0.268,55.0,0.0],[0.75,-0.11764705882352941,0.75,0.25806451612903225,39.5,0.286,38.0,0.0],[0.0,-0.058823529411764705,-1.125,0.12903225806451613,32.5,0.318,22.0,0.0],[0.5,1.2941176470588236,-0.5,0.2903225806451613,32.8,0.237,23.0,0.0],[-0.5,-0.23529411764705882,0.3125,0.03225806451612903,0.0,0.572,21.0,0.0],[1.75,-1.5588235294117647,0.625,0.4838709677419355,32.8,0.096,41.0,0.0],[0.0,-0.11764705882352941,-0.375,0.41935483870967744,30.5,1.4,34.0,0.0],[0.75,1.088235294117647,0.5,-0.7096774193548387,33.7,0.218,65.0,0.0],[0.0,-0.5882352941176471,0.0,-0.16129032258064516,27.3,0.085,22.0,0.0],[-0.25,0.7647058823529411,0.25,0.9032258064516129,37.4,0.399,24.0,0.0],[0.5,0.11764705882352941,-0.3125,-0.7096774193548387,21.9,0.432,37.0,0.0],[-0.25,1.2647058823529411,0.75,0.6451612903225806,40.6,0.687,23.0,0.0],[0.0,-0.3235294117647059,-1.125,-0.22580645161290322,24.6,0.637,21.0,0.0],[-0.25,-0.029411764705882353,-0.875,-0.03225806451612903,25.2,0.833,23.0,0.0],[0.0,-0.6470588235294118,0.25,-0.0967741935483871,29.0,0.229,22.0,0.0],[0.5,1.2058823529411764,1.25,0.5161290322580645,29.7,0.294,36.0,0.0],[1.25,-0.23529411764705882,0.25,0.5806451612903226,37.2,0.204,45.0,0.0],[-0.5,0.11764705882352941,0.625,0.3870967741935484,44.2,0.167,27.0,0.0],[0.0,-0.29411764705882354,-0.375,0.03225806451612903,29.7,0.368,21.0,0.0],[-0.5,0.6176470588235294,1.125,-0.7096774193548387,31.6,0.743,32.0,1.0],[0.25,1.1176470588235294,-0.25,0.0967741935483871,32.5,0.256,22.0,0.0],[0.5,0.29411764705882354,-0.125,-0.7096774193548387,29.6,0.709,34.0,0.0],[0.5,0.0,-0.25,-0.7096774193548387,31.9,0.471,29.0,0.0],[0.25,0.029411764705882353,1.25,-0.3225806451612903,28.4,0.495,29.0,0.0],[-0.25,-0.9117647058823529,-0.625,0.6451612903225806,43.5,0.678,23.0,0.0],[0.0,-1.0294117647058822,-0.375,0.06451612903225806,29.7,0.37,33.0,0.0],[1.0,-0.7352941176470589,0.5,-0.7096774193548387,31.2,0.382,42.0,0.0],[0.75,0.9705882352941176,0.5,-0.7096774193548387,45.0,0.19,47.0,0.0],[1.0,-0.6764705882352942,0.625,-0.7096774193548387,23.2,0.084,32.0,0.0],[-0.5,0.2647058823529412,-0.375,-0.12903225806451613,34.9,0.725,23.0,0.0],[0.75,-1.088235294117647,-0.625,-0.7096774193548387,26.8,0.268,27.0,0.0],[0.5,0.9117647058823529,0.25,-0.7096774193548387,27.6,0.244,40.0,0.0],[0.25,0.029411764705882353,-0.5,-0.7096774193548387,22.6,0.142,21.0,0.0],[1.75,0.38235294117647056,0.0,0.7096774193548387,33.1,0.374,40.0,0.0],[1.5,-0.7352941176470589,-0.9375,-0.06451612903225806,24.4,0.136,42.0,0.0],[-0.25,-0.14705882352941177,-0.75,-0.7096774193548387,24.3,0.187,21.0,0.0],[0.5,-0.029411764705882353,-0.375,0.7096774193548387,34.8,0.905,26.0,1.0],[0.5,1.1176470588235294,-0.625,0.16129032258064516,30.9,0.15,29.0,1.0],[-0.5,0.08823529411764706,0.625,-0.1935483870967742,31.0,0.874,21.0,0.0],[-0.25,0.8235294117647058,0.75,-0.7096774193548387,40.1,0.236,28.0,0.0],[-0.5,-0.058823529411764705,-0.125,-0.06451612903225806,27.3,0.787,32.0,0.0],[0.0,-0.3235294117647059,0.0,-0.1935483870967742,20.4,0.235,27.0,0.0],[1.0,-0.20588235294117646,0.125,0.3225806451612903,37.7,0.324,55.0,0.0],[0.75,0.029411764705882353,0.125,0.1935483870967742,23.9,0.407,27.0,0.0],[-0.25,-0.4117647058823529,-0.375,0.16129032258064516,33.2,0.289,21.0,0.0],[0.0,-0.8529411764705882,-0.625,0.0,27.7,0.29,25.0,0.0],[-0.5,1.088235294117647,0.9375,1.032258064516129,42.8,0.375,24.0,0.0],[1.25,2.0294117647058822,1.5625,0.2903225806451613,34.2,0.164,60.0,0.0],[1.0,0.4411764705882353,-0.125,0.25806451612903225,30.0,0.464,32.0,0.0],[1.25,0.9411764705882353,-0.625,0.3548387096774194,28.8,0.687,61.0,0.0],[-0.25,-0.29411764705882354,-0.25,-0.22580645161290322,23.6,0.666,26.0,0.0],[-0.25,-0.6764705882352942,0.5,0.16129032258064516,34.6,0.101,22.0,0.0],[-0.5,-0.2647058823529412,0.375,-0.7096774193548387,35.7,0.198,26.0,0.0],[0.25,1.5294117647058822,-1.125,0.5161290322580645,37.2,0.652,24.0,1.0],[-0.5,0.20588235294117646,0.625,0.2903225806451613,45.2,0.089,24.0,0.0],[1.0,0.7058823529411765,0.625,0.4838709677419355,46.2,0.238,46.0,1.0],[-0.25,-0.9117647058823529,0.625,0.0967741935483871,25.4,0.583,22.0,0.0],[0.5,0.35294117647058826,-0.125,-0.7096774193548387,35.0,0.394,29.0,0.0],[0.25,-1.0588235294117647,-0.125,0.1935483870967742,29.7,0.293,23.0,0.0],[0.5,1.7941176470588236,0.125,-0.7096774193548387,43.6,0.479,26.0,1.0],[1.75,1.588235294117647,0.875,-0.03225806451612903,30.8,0.831,32.0,1.0],[-0.5,-0.17647058823529413,0.375,-0.7096774193548387,18.4,0.582,27.0,0.0],[-0.25,-0.5588235294117647,-0.375,0.06451612903225806,29.2,0.192,21.0,0.0],[0.5,-0.5588235294117647,0.0,0.3225806451612903,33.1,0.446,22.0,0.0],[0.25,0.8529411764705882,-1.0,-0.7096774193548387,25.6,0.402,22.0,1.0],[1.0,0.2647058823529412,-1.25,0.0,27.1,1.318,33.0,1.0],[0.0,1.0588235294117647,0.375,0.41935483870967744,38.2,0.329,29.0,0.0],[2.0,0.35294117647058826,-0.125,-0.7096774193548387,31.2,0.258,41.0,0.0],[-0.5,1.6176470588235294,1.25,0.3548387096774194,52.3,0.427,23.0,0.0],[1.75,0.4117647058823529,0.0,0.3548387096774194,35.4,0.282,34.0,0.0],[-0.25,0.029411764705882353,1.0,-0.0967741935483871,30.1,0.143,23.0,0.0],[1.75,-0.11764705882352941,-1.125,-0.7096774193548387,31.2,0.38,42.0,0.0],[0.0,0.5588235294117647,0.875,-0.7096774193548387,28.0,0.284,27.0,0.0],[0.0,-0.5882352941176471,0.625,-0.25806451612903225,24.4,0.249,24.0,0.0],[-0.5,-0.7058823529411765,-0.125,0.3225806451612903,35.8,0.238,25.0,0.0],[0.25,0.029411764705882353,-0.875,0.5483870967741935,30.1,0.557,30.0,0.0],[0.0,0.11764705882352941,-0.125,0.0,28.7,0.092,25.0,0.0],[0.5,-0.4411764705882353,0.0,0.3225806451612903,32.1,0.612,24.0,0.0],[0.25,0.9411764705882353,0.625,-0.22580645161290322,32.4,0.2,63.0,0.0],[0.5,0.38235294117647056,-0.5,-0.7096774193548387,32.0,0.226,35.0,1.0],[0.75,-0.4117647058823529,0.25,-0.12903225806451613,33.6,0.997,43.0,0.0],[0.0,0.5294117647058824,-0.375,0.6451612903225806,40.0,1.101,24.0,0.0],[-0.5,-0.23529411764705882,-1.125,-0.7096774193548387,25.1,0.078,21.0,0.0],[0.0,-0.058823529411764705,-0.5,0.3225806451612903,25.2,0.128,21.0,0.0],[0.25,0.35294117647058826,0.5,-0.7096774193548387,23.0,0.254,40.0,0.0],[-0.25,-1.1470588235294117,0.5,0.9032258064516129,33.2,0.422,21.0,0.0],[0.0,-0.29411764705882354,0.0,0.967741935483871,40.5,0.677,25.0,0.0],[-0.5,-0.17647058823529413,-0.375,0.03225806451612903,27.8,0.454,23.0,0.0],[0.75,0.11764705882352941,0.25,-0.7096774193548387,24.9,0.744,57.0,0.0],[0.0,-0.058823529411764705,-0.5,-0.3870967741935484,25.3,0.881,22.0,0.0],[2.0,0.5588235294117647,0.375,0.1935483870967742,35.9,0.28,39.0,0.0],[1.25,0.6764705882352942,1.125,-0.22580645161290322,32.4,0.262,37.0,0.0],[0.0,-0.058823529411764705,0.625,-0.7096774193548387,27.0,0.259,52.0,1.0],[1.25,0.7647058823529411,0.25,0.12903225806451613,26.0,0.647,51.0,0.0],[0.75,1.3235294117647058,0.875,0.7096774193548387,38.7,0.619,34.0,0.0],[0.5,-0.4117647058823529,-0.875,-0.16129032258064516,20.8,0.34,26.0,0.0],[0.75,-0.058823529411764705,0.125,0.6774193548387096,36.1,0.263,33.0,0.0],[-0.5,-0.9411764705882353,1.125,0.22580645161290322,36.9,0.434,21.0,0.0],[-0.5,1.5,-1.25,-0.7096774193548387,21.9,0.254,65.0,0.0],[1.0,1.2058823529411764,-0.5,0.2903225806451613,35.5,0.692,28.0,0.0],[-0.5,0.47058823529411764,0.875,0.22580645161290322,30.7,0.52,24.0,0.0],[1.5,0.058823529411764705,0.125,-0.7096774193548387,23.6,0.84,58.0,0.0],[0.75,-0.9705882352941176,0.75,0.6129032258064516,35.8,0.156,35.0,0.0],[0.25,1.1764705882352942,0.375,-0.7096774193548387,21.0,0.207,37.0,0.0],[0.0,0.29411764705882354,0.375,0.4838709677419355,39.7,0.215,29.0,0.0],[-0.5,0.7941176470588235,-0.125,-0.25806451612903225,24.8,0.143,21.0,0.0],[1.0,-0.8823529411764706,-0.25,0.25806451612903225,26.2,0.313,41.0,0.0],[-0.5,-0.11764705882352941,0.0,0.4838709677419355,39.4,0.605,22.0,0.0],[0.25,0.08823529411764706,-1.25,-0.3870967741935484,29.5,0.626,25.0,0.0],[0.0,0.058823529411764705,-0.125,0.0,34.1,0.315,26.0,0.0],[0.25,-0.3235294117647059,0.625,-0.3548387096774194,19.3,0.284,30.0,0.0],[0.25,0.14705882352941177,-0.25,0.5483870967741935,38.1,0.15,28.0,0.0],[0.5,0.5588235294117647,-0.625,-0.3225806451612903,27.5,0.527,31.0,0.0],[-0.5,0.4117647058823529,0.0,-0.06451612903225806,27.4,0.254,36.0,1.0],[0.0,0.058823529411764705,0.3125,0.3225806451612903,35.7,0.148,21.0,0.0],[-0.25,1.3823529411764706,0.125,-0.03225806451612903,25.6,0.123,24.0,0.0],[2.0,2.0294117647058822,0.0,-0.7096774193548387,35.1,0.2,37.0,0.0],[1.0,-0.14705882352941177,0.0,0.3225806451612903,30.8,0.122,37.0,0.0],[1.5,0.23529411764705882,0.125,-0.0967741935483871,23.1,1.476,46.0,0.0],[0.0,-0.6764705882352942,-0.75,-0.1935483870967742,32.7,0.166,25.0,0.0],[-0.25,-0.4411764705882353,-0.625,-0.12903225806451613,23.9,0.26,22.0,0.0],[-0.5,1.6176470588235294,0.375,0.6774193548387096,47.9,0.259,26.0,0.0],[-0.25,0.5882352941176471,0.0,-0.2903225806451613,25.9,0.472,22.0,0.0],[-0.25,-0.4411764705882353,0.25,-0.03225806451612903,25.9,0.673,36.0,0.0],[0.75,0.35294117647058826,1.0,-0.7096774193548387,34.7,0.29,33.0,0.0],[1.5,-0.4411764705882353,0.125,-0.7096774193548387,36.8,0.485,57.0,0.0],[1.5,0.47058823529411764,1.125,0.45161290322580644,38.5,0.349,49.0,0.0],[-0.25,0.8529411764705882,-1.5,-0.0967741935483871,28.7,0.654,22.0,0.0],[0.25,-0.3235294117647059,-0.5,-0.0967741935483871,21.8,0.279,26.0,0.0],[0.5,-0.5294117647058824,0.625,-0.7096774193548387,42.2,0.237,29.0,0.0],[0.5,0.7941176470588235,0.875,-0.7096774193548387,31.2,0.252,30.0,0.0],[0.25,-1.4411764705882353,0.75,0.1935483870967742,34.4,0.243,46.0,0.0],[-0.25,-0.5882352941176471,-0.5,-0.3225806451612903,27.2,0.58,24.0,0.0],[0.25,-0.5882352941176471,0.5,-0.7096774193548387,42.7,0.559,21.0,0.0],[0.75,1.411764705882353,0.0,-0.7096774193548387,29.8,0.207,63.0,0.0],[0.5,1.0588235294117647,0.5,-0.7096774193548387,38.5,0.52,67.0,1.0],[0.5,1.088235294117647,0.25,0.0967741935483871,34.9,0.385,30.0,0.0],[0.75,-0.3235294117647059,-1.0,0.1935483870967742,34.0,0.499,30.0,0.0],[1.0,0.4117647058823529,0.125,-0.7096774193548387,27.6,0.368,29.0,1.0],[-0.5,-0.2647058823529412,-0.375,-0.16129032258064516,21.0,0.252,21.0,0.0],[0.25,-0.8529411764705882,1.0,-0.1935483870967742,27.5,0.306,22.0,0.0],[-0.5,0.23529411764705882,-0.375,0.03225806451612903,0.0,1.731,21.0,0.0],[-0.5,-0.7647058823529411,-0.375,0.0,35.8,0.545,21.0,0.0],[0.0,-0.14705882352941177,-0.75,0.5806451612903226,34.9,0.225,25.0,0.0],[0.0,0.35294117647058826,-1.125,0.6774193548387096,36.2,0.816,28.0,0.0],[-0.5,-0.35294117647058826,0.75,-0.22580645161290322,25.2,0.299,22.0,0.0],[-0.25,-0.6764705882352942,-0.625,0.4838709677419355,37.2,0.509,22.0,0.0],[-0.5,-0.5,1.875,0.5483870967741935,43.4,1.021,35.0,0.0],[-0.25,-0.08823529411764706,0.125,0.25806451612903225,30.8,0.821,24.0,0.0],[-0.5,-0.14705882352941177,-0.125,0.0,20.0,0.236,22.0,0.0],[-0.25,-0.029411764705882353,-0.625,-0.45161290322580644,25.4,0.947,21.0,0.0],[-0.25,-0.5882352941176471,-0.5,-0.12903225806451613,25.1,1.268,25.0,0.0],[-0.25,0.4411764705882353,0.0,0.06451612903225806,24.3,0.221,25.0,0.0],[-0.25,0.2647058823529412,-1.0,-0.2903225806451613,22.3,0.205,24.0,0.0],[0.25,-0.29411764705882354,-0.125,0.03225806451612903,31.6,0.949,28.0,0.0],[-0.25,-0.29411764705882354,-0.25,0.22580645161290322,32.0,0.444,42.0,0.0],[-0.25,0.6176470588235294,-0.375,-0.25806451612903225,23.7,0.389,21.0,0.0],[0.5,0.17647058823529413,0.125,-0.3225806451612903,22.1,0.463,37.0,0.0],[0.0,0.5,-0.75,0.06451612903225806,27.7,1.6,25.0,0.0],[0.25,-0.4117647058823529,-0.875,0.3870967741935484,24.7,0.944,39.0,0.0],[-0.5,0.6176470588235294,-0.25,0.5806451612903226,34.3,0.196,22.0,1.0],[0.25,-0.8235294117647058,0.0,-0.7096774193548387,21.1,0.389,25.0,0.0],[1.0,0.7941176470588235,-0.5625,-0.7096774193548387,24.2,0.151,55.0,0.0],[0.75,0.7647058823529411,0.875,0.6129032258064516,35.0,0.286,35.0,1.0],[1.75,-1.1176470588235294,0.5,0.0967741935483871,31.6,0.28,38.0,0.0],[0.0,0.38235294117647056,-1.375,0.3225806451612903,42.1,0.52,26.0,0.0],[-0.5,-0.2647058823529412,-0.5,-0.7096774193548387,21.9,0.336,25.0,0.0],[1.0,-0.23529411764705882,1.25,0.5483870967741935,35.7,0.674,28.0,0.0],[-0.25,0.058823529411764705,0.125,0.25806451612903225,34.4,0.528,25.0,0.0],[-0.25,0.9705882352941176,0.875,0.03225806451612903,42.4,1.076,22.0,0.0],[-0.25,0.9705882352941176,0.25,0.0,26.2,0.256,21.0,0.0],[-0.5,0.8235294117647058,-0.625,0.41935483870967744,34.6,0.534,21.0,1.0],[-0.25,-0.38235294117647056,-0.125,-0.03225806451612903,27.2,1.095,22.0,0.0],[-0.25,-0.7941176470588235,-0.125,-0.7096774193548387,18.2,0.624,27.0,0.0],[-0.25,0.2647058823529412,1.125,0.6129032258064516,45.3,0.507,26.0,0.0],[0.0,-0.47058823529411764,-0.125,-0.12903225806451613,26.0,0.561,21.0,0.0],[-0.5,-0.23529411764705882,-0.375,0.7741935483870968,40.6,0.496,21.0,0.0],[0.0,0.14705882352941177,-0.375,0.0,30.8,0.421,21.0,0.0],[-0.5,0.7352941176470589,1.5,0.7741935483870968,40.6,0.284,26.0,0.0],[0.25,-0.6176470588235294,0.25,-0.1935483870967742,30.4,0.551,38.0,0.0],[-0.25,-0.8823529411764706,0.25,-0.3548387096774194,30.0,0.527,22.0,0.0],[0.0,0.8529411764705882,0.3125,-0.7096774193548387,25.6,0.167,29.0,0.0],[-0.25,-0.5882352941176471,-0.125,-0.45161290322580644,24.5,1.138,36.0,0.0],[0.75,1.088235294117647,0.3125,-0.7096774193548387,29.9,0.434,28.0,0.0],[-0.25,-0.38235294117647056,0.0,-0.22580645161290322,18.2,0.147,21.0,0.0],[1.0,-0.08823529411764706,1.125,-0.7096774193548387,36.8,0.727,31.0,0.0],[0.0,-0.7941176470588235,-0.25,0.03225806451612903,32.2,0.497,22.0,0.0],[0.5,0.20588235294117646,-0.375,0.16129032258064516,33.2,0.23,24.0,0.0],[-0.25,-0.29411764705882354,0.125,-0.3225806451612903,25.3,0.658,28.0,0.0],[-0.5,-0.4411764705882353,0.625,0.7419354838709677,36.5,0.33,26.0,0.0],[-0.5,0.29411764705882354,0.25,-0.12903225806451613,30.5,0.285,26.0,0.0],[-0.25,-0.8235294117647058,-0.375,-0.2903225806451613,21.2,0.415,23.0,0.0],[-0.5,-0.5588235294117647,-0.125,0.3225806451612903,39.9,0.381,25.0,0.0],[0.0,-0.29411764705882354,-1.0,0.1935483870967742,37.8,0.498,24.0,0.0],[-0.25,0.7352941176470589,-1.0,-0.7096774193548387,26.7,0.687,62.0,0.0],[0.75,-0.7058823529411765,-0.125,0.1935483870967742,30.2,0.364,24.0,0.0],[1.75,0.7058823529411765,0.25,0.3548387096774194,25.9,0.46,81.0,0.0],[1.75,0.29411764705882354,0.125,0.0,20.8,0.733,48.0,0.0],[-0.25,-1.1470588235294117,-0.5,-0.7096774193548387,21.8,0.416,26.0,0.0],[1.5,-1.0588235294117647,0.0,0.5806451612903226,35.3,0.705,39.0,0.0],[0.75,-0.6470588235294118,0.5,0.25806451612903225,27.6,0.258,37.0,0.0],[2.0,0.14705882352941177,1.75,-0.7096774193548387,24.0,1.022,34.0,0.0],[-0.5,0.4117647058823529,-0.875,-0.2903225806451613,21.8,0.452,21.0,0.0],[-0.5,-1.0588235294117647,-1.125,-0.3870967741935484,27.8,0.269,22.0,0.0],[-0.5,-0.38235294117647056,-0.375,0.45161290322580644,36.8,0.6,25.0,0.0],[1.0,1.2941176470588236,0.5,0.6129032258064516,46.1,0.571,27.0,0.0],[-0.25,1.0,0.75,0.5806451612903226,41.3,0.607,28.0,0.0],[-0.5,0.7941176470588235,0.0,0.5161290322580645,33.2,0.17,22.0,0.0],[-0.5,0.2647058823529412,-0.25,0.16129032258064516,38.8,0.259,22.0,0.0],[1.25,0.7647058823529411,1.25,-0.7096774193548387,29.9,0.21,50.0,0.0],[0.5,0.11764705882352941,-0.375,-0.7096774193548387,28.9,0.126,24.0,0.0],[-0.5,0.7941176470588235,0.875,0.16129032258064516,27.3,0.231,59.0,0.0],[1.25,0.11764705882352941,0.375,-0.16129032258064516,23.8,0.466,31.0,0.0],[1.5,0.47058823529411764,0.25,0.5161290322580645,25.9,0.162,39.0,0.0],[0.5,0.6470588235294118,1.0,0.2903225806451613,28.0,0.419,63.0,0.0],[0.25,1.411764705882353,0.0,0.25806451612903225,35.5,0.344,35.0,1.0],[-0.5,0.38235294117647056,1.125,0.4838709677419355,35.2,0.197,29.0,0.0],[0.5,-0.7352941176470589,-0.75,0.0,27.8,0.306,28.0,0.0],[-0.5,-0.7647058823529411,0.75,0.2903225806451613,38.2,0.233,23.0,0.0],[-0.5,0.7352941176470589,-0.125,0.6451612903225806,42.3,0.365,24.0,1.0],[-0.25,0.8529411764705882,-0.5,0.6129032258064516,40.7,0.536,21.0,0.0],[-0.5,1.8529411764705883,0.5,0.3225806451612903,46.5,1.159,58.0,0.0],[0.5,-0.3235294117647059,0.125,-0.16129032258064516,25.6,0.294,28.0,0.0],[0.0,-0.7941176470588235,-0.3125,0.1935483870967742,36.8,0.629,24.0,0.0],[0.0,-0.6176470588235294,1.25,0.25806451612903225,33.5,0.292,42.0,0.0],[0.5,-0.3235294117647059,-0.125,0.5161290322580645,32.8,0.145,33.0,0.0],[1.0,1.6470588235294117,0.25,-0.7096774193548387,26.6,0.304,66.0,0.0],[0.75,0.0,-0.125,-0.7096774193548387,26.0,0.292,30.0,0.0],[0.0,-0.8529411764705882,0.125,-0.22580645161290322,30.1,0.547,25.0,0.0],[1.0,1.2941176470588236,0.25,0.3225806451612903,29.3,0.839,39.0,0.0],[0.0,0.20588235294117646,1.25,-0.0967741935483871,25.2,0.313,21.0,0.0],[0.25,-0.7647058823529411,0.125,0.3225806451612903,37.2,0.267,28.0,0.0],[1.25,-0.47058823529411764,-0.375,0.0967741935483871,33.3,0.738,41.0,0.0],[0.25,-0.4117647058823529,0.5,0.5483870967741935,37.3,0.238,40.0,0.0],[2.0,-1.0294117647058822,0.75,-0.7096774193548387,33.3,0.263,38.0,0.0],[-0.25,0.5882352941176471,-0.625,0.03225806451612903,28.6,0.692,21.0,0.0],[0.0,-0.7647058823529411,-1.25,0.03225806451612903,30.4,0.968,21.0,0.0],[1.5,0.29411764705882354,0.5,-0.7096774193548387,25.0,0.409,64.0,0.0],[-0.5,0.8529411764705882,-0.5,-0.16129032258064516,22.1,0.207,21.0,0.0],[1.75,-0.5588235294117647,-0.125,-0.7096774193548387,24.2,0.2,58.0,0.0],[0.0,-0.5588235294117647,-0.5,-0.7096774193548387,27.3,0.525,22.0,0.0],[0.25,-0.3235294117647059,-1.0,-0.0967741935483871,25.6,0.154,24.0,0.0],[1.25,0.4411764705882353,1.0,-0.7096774193548387,37.6,0.304,51.0,0.0],[1.0,0.5588235294117647,1.25,-0.4838709677419355,19.6,0.582,60.0,0.0],[0.0,-1.2352941176470589,0.0,0.3225806451612903,25.0,0.187,25.0,0.0],[0.25,0.4117647058823529,0.625,0.3548387096774194,33.2,0.305,26.0,0.0],[0.25,0.4411764705882353,-0.75,-0.7096774193548387,31.6,0.151,24.0,0.0],[0.25,-0.6764705882352942,-0.625,-0.12903225806451613,21.8,0.444,21.0,0.0],[-0.25,-0.38235294117647056,-0.375,-0.0967741935483871,18.2,0.299,21.0,0.0],[0.25,0.17647058823529413,0.25,-0.22580645161290322,26.3,0.107,24.0,0.0],[-0.5,0.20588235294117646,-0.25,0.2903225806451613,30.8,0.493,22.0,0.0],[-0.5,0.029411764705882353,-0.3125,-0.7096774193548387,24.6,0.66,31.0,0.0],[0.0,0.35294117647058826,-0.625,-0.12903225806451613,29.8,0.717,22.0,0.0],[-0.5,-0.08823529411764706,0.375,-0.7096774193548387,45.3,0.686,24.0,0.0],[-0.25,-0.7058823529411765,-0.25,0.967741935483871,41.3,0.917,29.0,0.0],[-0.25,-0.9705882352941176,-0.875,0.25806451612903225,33.3,1.251,24.0,0.0],[-0.5,-0.14705882352941177,1.25,-0.7096774193548387,29.6,0.197,46.0,0.0],[-0.5,-1.5588235294117647,-0.625,-0.7096774193548387,21.7,0.735,67.0,0.0],[-0.5,0.5,0.625,0.4838709677419355,36.3,0.804,23.0,0.0],[0.5,-0.7647058823529411,1.25,0.03225806451612903,39.5,0.159,25.0,0.0],[-0.25,-0.6470588235294118,0.5,0.22580645161290322,32.0,0.365,29.0,0.0],[0.5,0.6176470588235294,-0.125,-0.03225806451612903,33.1,0.16,28.0,0.0],[-0.25,1.588235294117647,0.75,0.6774193548387096,32.8,0.341,50.0,0.0],[-0.25,0.17647058823529413,0.0,0.1935483870967742,27.4,0.204,21.0,0.0],[0.25,-0.7647058823529411,-0.125,0.25806451612903225,31.9,0.591,25.0,0.0],[1.0,0.11764705882352941,1.125,-0.7096774193548387,27.8,0.247,66.0,0.0],[-0.25,-0.6470588235294118,-0.5,0.06451612903225806,29.9,0.422,23.0,0.0],[-0.25,-0.7647058823529411,-0.375,0.03225806451612903,36.9,0.471,28.0,0.0],[1.25,0.4117647058823529,0.0,0.3548387096774194,25.5,0.161,37.0,0.0],[-0.25,-0.38235294117647056,0.0,0.5806451612903226,38.1,0.218,30.0,0.0],[1.5,0.0,0.375,-0.7096774193548387,27.8,0.237,58.0,0.0],[-0.25,-0.6764705882352942,-0.125,0.3870967741935484,37.6,0.401,24.0,0.0],[1.0,-0.3235294117647059,-0.625,-0.0967741935483871,26.9,0.497,32.0,0.0],[-0.5,-0.5588235294117647,0.625,-0.7096774193548387,32.4,0.601,27.0,0.0],[0.0,-0.4411764705882353,-1.0,-0.25806451612903225,26.1,0.748,22.0,0.0],[-0.25,-0.3235294117647059,0.125,0.25806451612903225,38.6,0.412,21.0,0.0],[1.0,-0.5294117647058824,-0.5,0.3225806451612903,32.0,0.085,46.0,0.0],[0.5,1.2941176470588236,0.125,0.22580645161290322,31.3,0.338,37.0,0.0],[-0.5,0.3235294117647059,-0.25,0.25806451612903225,34.3,0.203,33.0,1.0],[0.25,-0.9411764705882353,0.0,-0.7096774193548387,32.5,0.27,39.0,0.0],[0.0,0.5882352941176471,1.625,-0.7096774193548387,22.6,0.268,21.0,0.0],[0.25,0.029411764705882353,-0.75,0.2903225806451613,29.5,0.43,22.0,0.0],[0.0,-0.35294117647058826,-0.625,-0.16129032258064516,34.7,0.198,22.0,0.0],[-0.25,0.9705882352941176,1.0,0.25806451612903225,30.1,0.892,23.0,0.0],[-0.25,0.2647058823529412,-1.625,0.8064516129032258,35.5,0.28,25.0,0.0],[1.0,-0.058823529411764705,-1.625,-0.06451612903225806,24.0,0.813,35.0,0.0],[2.0,0.6764705882352942,-0.125,-0.7096774193548387,27.0,0.245,36.0,0.0],[-0.5,1.2058823529411764,1.25,0.7741935483870968,42.1,0.371,21.0,1.0],[1.0,-0.029411764705882353,-0.625,0.16129032258064516,25.0,0.206,27.0,0.0],[1.5,-0.29411764705882354,0.375,-0.7096774193548387,38.7,0.19,42.0,0.0],[-0.25,-0.5,-0.875,-0.3548387096774194,22.5,0.417,22.0,0.0],[1.0,-0.20588235294117646,-0.25,-0.7096774193548387,24.3,0.249,29.0,0.0],[0.0,0.058823529411764705,0.5,0.9032258064516129,39.4,0.175,24.0,0.0],[0.0,-0.8235294117647058,-1.125,0.0,28.5,1.699,25.0,0.0],[1.0,0.38235294117647056,0.125,0.7419354838709677,33.6,0.733,34.0,0.0],[-0.5,-1.2647058823529411,0.375,-0.7096774193548387,45.3,0.194,46.0,0.0],[-0.25,-0.058823529411764705,1.125,-0.0967741935483871,27.1,0.4,24.0,0.0],[-0.25,0.4117647058823529,0.25,0.45161290322580644,27.8,0.1,30.0,0.0],[1.25,1.1764705882352942,0.5,0.22580645161290322,35.2,0.692,54.0,1.0],[-0.25,0.4117647058823529,-0.625,0.3225806451612903,35.8,0.514,21.0,0.0],[-0.25,-0.5294117647058824,-0.5,0.0967741935483871,19.5,0.482,25.0,0.0],[-0.5,1.2352941176470589,0.75,0.5483870967741935,41.5,0.27,27.0,0.0],[-0.25,0.029411764705882353,-0.5,-0.2903225806451613,24.0,0.138,23.0,0.0],[0.25,-0.11764705882352941,-1.0,-0.03225806451612903,30.9,0.292,24.0,0.0],[1.0,-0.14705882352941177,0.625,0.1935483870967742,32.5,0.878,26.0,0.0],[0.25,-0.11764705882352941,0.125,-0.7096774193548387,25.8,0.207,27.0,0.0],[1.0,0.20588235294117646,1.625,-0.7096774193548387,28.7,0.157,30.0,0.0],[0.0,-1.2352941176470589,-0.5,-0.2903225806451613,20.1,0.257,23.0,0.0],[0.0,0.058823529411764705,1.0,0.6451612903225806,38.4,0.246,28.0,0.0],[0.0,-0.5294117647058824,0.375,-0.06451612903225806,24.2,1.698,28.0,0.0],[-0.5,-0.47058823529411764,0.0,0.16129032258064516,43.5,0.347,21.0,0.0],[0.0,-0.058823529411764705,-0.375,-0.7096774193548387,30.8,0.158,21.0,0.0],[0.5,-0.5882352941176471,1.125,0.8064516129032258,37.7,0.362,29.0,0.0],[-0.5,0.4411764705882353,-0.125,-0.7096774193548387,24.7,0.206,21.0,0.0],[-0.5,0.6470588235294118,0.5,-0.7096774193548387,32.4,0.393,21.0,0.0],[0.75,0.5294117647058824,0.625,-0.7096774193548387,34.6,0.144,45.0,0.0],[0.5,-0.47058823529411764,-0.3125,0.0,24.7,0.148,21.0,0.0],[1.25,0.11764705882352941,-0.375,-0.7096774193548387,27.4,0.732,34.0,1.0],[-0.5,-0.23529411764705882,0.5,0.5806451612903226,34.5,0.238,24.0,0.0],[0.0,0.029411764705882353,-0.625,-0.7096774193548387,26.2,0.343,23.0,0.0],[-0.25,0.5294117647058824,0.75,-0.16129032258064516,27.5,0.115,22.0,0.0],[2.0,-0.5294117647058824,-0.5,-0.7096774193548387,25.9,0.167,31.0,0.0],[0.75,-0.17647058823529413,0.25,-0.7096774193548387,28.8,0.153,48.0,0.0],[0.0,-0.47058823529411764,0.375,-0.12903225806451613,31.6,0.649,23.0,0.0],[-0.25,-0.29411764705882354,0.25,-0.3225806451612903,19.5,0.149,28.0,0.0],[-0.5,-0.23529411764705882,1.0,-0.16129032258064516,29.3,0.695,27.0,0.0],[0.5,0.5294117647058824,0.0,-0.7096774193548387,34.3,0.303,24.0,0.0],[0.25,-0.20588235294117646,0.125,0.25806451612903225,27.6,0.73,27.0,0.0],[0.0,1.3823529411764706,0.25,0.41935483870967744,39.4,0.134,30.0,0.0],[-0.5,2.0294117647058822,-1.25,0.45161290322580644,37.8,0.455,22.0,1.0],[-0.5,-0.08823529411764706,-0.625,0.0967741935483871,26.4,0.133,23.0,0.0],[-0.25,-0.5588235294117647,-1.0,0.0967741935483871,25.2,0.234,23.0,0.0],[-0.25,0.20588235294117646,-0.625,0.03225806451612903,33.8,0.466,27.0,0.0],[0.75,0.38235294117647056,0.25,0.5806451612903226,34.1,0.269,28.0,0.0],[0.0,0.29411764705882354,-1.0,-0.7096774193548387,26.8,0.455,27.0,0.0],[-0.25,-0.11764705882352941,0.0,0.1935483870967742,34.2,0.142,22.0,0.0],[0.0,-0.2647058823529412,-0.75,0.41935483870967744,21.8,0.155,22.0,0.0],[-0.25,0.29411764705882354,0.625,0.8387096774193549,38.9,1.162,41.0,0.0],[2.0,1.5294117647058822,0.875,-0.7096774193548387,27.7,0.182,54.0,0.0],[-0.25,0.058823529411764705,0.625,0.7419354838709677,34.8,0.217,24.0,0.0],[1.0,-0.35294117647058826,-0.75,0.3548387096774194,34.0,0.43,43.0,0.0],[1.75,1.2941176470588236,0.5,0.25806451612903225,30.9,0.164,45.0,0.0],[1.0,1.6176470588235294,-0.125,0.12903225806451613,33.6,0.631,49.0,0.0],[-0.25,-0.3235294117647059,-0.75,-0.3870967741935484,25.4,0.551,21.0,0.0],[0.25,0.38235294117647056,1.875,0.41935483870967744,57.3,0.88,22.0,0.0],[1.5,-0.5588235294117647,0.75,-0.7096774193548387,35.6,0.587,68.0,0.0],[-0.5,-0.5,-0.625,-0.7096774193548387,35.3,0.263,25.0,0.0],[0.0,-0.2647058823529412,-0.75,-0.16129032258064516,24.2,0.614,23.0,0.0],[0.0,-1.588235294117647,-0.875,0.1935483870967742,24.2,0.332,22.0,0.0],[-0.5,-0.4411764705882353,-0.375,0.5483870967741935,44.6,0.366,22.0,0.0],[0.75,0.7647058823529411,0.75,-0.7096774193548387,0.0,0.64,69.0,0.0],[0.0,0.5588235294117647,0.25,0.12903225806451613,33.2,0.591,25.0,0.0],[0.25,0.5882352941176471,-0.375,-0.7096774193548387,23.1,0.314,22.0,0.0],[-0.25,-0.08823529411764706,-1.25,-0.0967741935483871,28.3,0.181,29.0,0.0],[-0.25,0.8823529411764706,0.25,0.12903225806451613,24.1,0.828,23.0,0.0],[1.5,-0.08823529411764706,0.625,-0.7096774193548387,24.6,0.856,34.0,0.0],[0.0,0.3235294117647059,0.0,0.3225806451612903,39.1,0.886,23.0,0.0],[0.0,-0.5882352941176471,-0.625,-0.7096774193548387,23.5,0.191,25.0,0.0],[1.25,0.9411764705882353,1.25,0.06451612903225806,30.4,0.128,43.0,1.0],[0.5,0.5,1.125,-0.3548387096774194,34.5,0.598,28.0,0.0],[0.5,0.23529411764705882,0.0,-0.7096774193548387,44.5,0.904,26.0,0.0],[0.0,0.35294117647058826,0.375,0.16129032258064516,35.9,0.483,26.0,0.0],[-0.25,1.7058823529411764,1.125,0.22580645161290322,35.0,0.905,52.0,1.0],[0.5,0.0,0.375,-0.06451612903225806,28.4,0.118,27.0,0.0],[1.0,-0.8823529411764706,0.625,0.45161290322580644,39.8,0.177,28.0,0.0],[0.0,0.5,-1.5,-0.03225806451612903,34.4,0.176,22.0,0.0],[0.25,1.411764705882353,-0.375,-0.2903225806451613,31.2,0.295,24.0,0.0],[0.75,0.47058823529411764,0.5,0.16129032258064516,29.6,0.439,40.0,0.0],[-0.5,0.7058823529411765,-0.75,-0.06451612903225806,26.4,0.352,21.0,0.0],[0.25,-0.23529411764705882,0.25,-0.7096774193548387,29.5,0.121,32.0,0.0],[2.0,-0.47058823529411764,0.125,-0.12903225806451613,23.1,0.595,56.0,0.0],[-0.25,-0.058823529411764705,-0.625,0.7741935483870968,35.5,0.415,24.0,0.0],[0.5,-0.7941176470588235,1.0,-0.0967741935483871,29.3,0.317,34.0,0.0],[-0.25,0.11764705882352941,-0.25,0.45161290322580644,38.1,0.289,21.0,0.0],[0.75,0.20588235294117646,1.0,0.25806451612903225,39.1,0.251,42.0,0.0],[-0.25,0.029411764705882353,1.5,-0.7096774193548387,32.8,0.265,45.0,0.0],[0.5,0.058823529411764705,0.5,0.5806451612903226,39.4,0.236,38.0,0.0],[-0.25,0.17647058823529413,0.5,0.22580645161290322,36.1,0.496,25.0,0.0],[-0.5,0.9117647058823529,0.875,0.12903225806451613,32.4,0.433,22.0,0.0],[0.0,1.911764705882353,1.125,-0.7096774193548387,22.9,0.326,22.0,0.0],[0.0,-0.5294117647058824,-1.125,-0.7096774193548387,30.1,0.141,22.0,0.0],[0.0,-0.11764705882352941,-0.875,0.16129032258064516,29.0,0.426,22.0,0.0],[0.0,-0.14705882352941177,0.3125,-0.7096774193548387,23.3,0.56,53.0,0.0],[0.5,-0.4411764705882353,-0.625,0.3225806451612903,35.4,0.284,28.0,0.0],[-0.5,0.47058823529411764,1.0,0.16129032258064516,27.4,0.515,21.0,0.0],[1.5,-1.3235294117647058,0.125,0.03225806451612903,32.0,0.6,42.0,0.0],[0.0,-0.3235294117647059,-0.625,-0.16129032258064516,36.6,0.453,21.0,0.0],[-0.25,-0.23529411764705882,0.25,-0.7096774193548387,39.5,0.293,42.0,1.0],[0.25,-0.23529411764705882,-1.625,-0.06451612903225806,30.8,0.4,26.0,0.0],[-0.25,-0.029411764705882353,-0.75,-0.12903225806451613,28.5,0.219,22.0,0.0],[1.75,0.8823529411764706,1.5,-0.7096774193548387,32.7,0.734,45.0,1.0],[-0.25,-0.8529411764705882,0.25,0.6129032258064516,46.3,1.096,32.0,0.0],[-0.25,0.3235294117647059,0.5,0.5483870967741935,39.0,0.261,28.0,0.0],[0.25,-0.058823529411764705,-0.5,0.06451612903225806,26.0,0.223,25.0,0.0],[-0.25,0.5294117647058824,1.125,0.5483870967741935,36.5,1.057,37.0,1.0],[1.25,0.7941176470588235,1.25,0.6129032258064516,32.0,0.391,39.0,0.0],[-0.25,-0.11764705882352941,0.375,-0.7096774193548387,37.5,0.197,26.0,0.0],[0.0,-0.6470588235294118,-0.75,0.12903225806451613,28.4,0.766,22.0,0.0],[1.75,-0.6176470588235294,-0.5,-0.7096774193548387,22.5,0.142,33.0,0.0],[2.0,-0.2647058823529412,0.375,0.8387096774193549,32.9,0.171,63.0,0.0],[0.0,0.35294117647058826,0.0,0.16129032258064516,36.8,0.34,27.0,0.0],[0.75,0.3235294117647059,0.125,0.03225806451612903,26.2,0.245,30.0,0.0],[-0.25,0.47058823529411764,-0.625,-0.7096774193548387,30.1,0.349,47.0,1.0],[-0.25,-0.5,0.0,0.2903225806451613,30.4,0.315,23.0,0.0]],\"hovertemplate\":\"E=%{x}<br>A=%{customdata[0]}<br>B=%{customdata[1]}<br>C=%{customdata[2]}<br>D=%{customdata[3]}<br>F=%{customdata[4]}<br>G=%{customdata[5]}<br>H=%{customdata[6]}<br>target=%{customdata[7]}<extra></extra>\",\"legendgroup\":\"\",\"marker\":{\"color\":\"#636efa\"},\"name\":\"\",\"notched\":true,\"offsetgroup\":\"\",\"showlegend\":false,\"x\":[0,94,0,0,0,175,235,0,115,140,0,0,245,54,0,0,192,0,0,0,0,0,82,36,23,342,0,110,0,142,0,128,0,0,38,100,90,140,270,0,0,0,0,0,71,0,125,71,0,0,176,48,64,228,0,76,64,220,0,0,40,0,152,140,18,495,37,0,0,0,51,0,100,0,135,94,0,49,140,50,92,0,325,0,0,63,284,0,0,119,0,0,204,0,485,94,135,53,0,105,285,0,0,0,0,0,78,48,55,0,0,0,92,0,0,0,94,0,0,99,318,0,0,0,44,190,0,87,0,0,0,120,190,56,32,0,0,53,370,37,0,45,0,0,0,0,88,0,176,194,0,680,402,0,0,0,55,0,0,0,0,0,0,67,0,0,56,0,45,57,116,0,278,122,155,0,135,545,49,75,40,0,120,215,0,42,0,105,148,0,148,85,94,64,140,231,0,0,168,0,68,0,52,58,255,105,73,0,0,108,83,74,0,0,0,43,0,0,0,293,83,0,0,66,89,66,94,158,84,75,72,82,0,182,59,110,50,81,196,415,87,275,115,0,0,0,88,0,165,0,0,176,310,61,167,0,0,170,76,78,0,145,85,60,0,0,0,0,0,50,120,70,92,63,95,210,105,0,71,60,56,0,49,0,0,105,36,100,140,0,0,0,0,0,0,110,75,0,328,0,49,125,250,480,265,0,66,0,0,0,0,76,193,71,0,79,0,0,170,76,0,210,0,0,86,0,326,66,130,0,0,82,105,188,0,106,0,65,56,0,0,210,56,76,166,67,0,106,0,44,115,215,0,0,77,54,0,88,18,126,126,165,0,0,44,120,330,63,130,0,0,0,0,0,0,140,115,230,0,0,0,126,0,41,272,182,158,0,0,0,15,160,0,115,0,54,0,0,0,0,0,90,0,183,0,0,66,46,105,0,152,440,159,0,100,106,77,0,135,90,200,0,132,190,100,168,0,240,0,0,265,45,105,0,205,0,0,180,0,95,0,480,155,0,200,0,100,0,335,387,22,291,0,0,178,0,200,105,0,0,180,0,0,0,165,0,0,120,0,160,0,94,116,0,57,74,0,110,0,0,16,0,180,0,112,0,0],\"xaxis\":\"x2\",\"yaxis\":\"y2\",\"type\":\"box\"}],                        {\"template\":{\"data\":{\"bar\":[{\"error_x\":{\"color\":\"#2a3f5f\"},\"error_y\":{\"color\":\"#2a3f5f\"},\"marker\":{\"line\":{\"color\":\"#E5ECF6\",\"width\":0.5},\"pattern\":{\"fillmode\":\"overlay\",\"size\":10,\"solidity\":0.2}},\"type\":\"bar\"}],\"barpolar\":[{\"marker\":{\"line\":{\"color\":\"#E5ECF6\",\"width\":0.5},\"pattern\":{\"fillmode\":\"overlay\",\"size\":10,\"solidity\":0.2}},\"type\":\"barpolar\"}],\"carpet\":[{\"aaxis\":{\"endlinecolor\":\"#2a3f5f\",\"gridcolor\":\"white\",\"linecolor\":\"white\",\"minorgridcolor\":\"white\",\"startlinecolor\":\"#2a3f5f\"},\"baxis\":{\"endlinecolor\":\"#2a3f5f\",\"gridcolor\":\"white\",\"linecolor\":\"white\",\"minorgridcolor\":\"white\",\"startlinecolor\":\"#2a3f5f\"},\"type\":\"carpet\"}],\"choropleth\":[{\"colorbar\":{\"outlinewidth\":0,\"ticks\":\"\"},\"type\":\"choropleth\"}],\"contour\":[{\"colorbar\":{\"outlinewidth\":0,\"ticks\":\"\"},\"colorscale\":[[0.0,\"#0d0887\"],[0.1111111111111111,\"#46039f\"],[0.2222222222222222,\"#7201a8\"],[0.3333333333333333,\"#9c179e\"],[0.4444444444444444,\"#bd3786\"],[0.5555555555555556,\"#d8576b\"],[0.6666666666666666,\"#ed7953\"],[0.7777777777777778,\"#fb9f3a\"],[0.8888888888888888,\"#fdca26\"],[1.0,\"#f0f921\"]],\"type\":\"contour\"}],\"contourcarpet\":[{\"colorbar\":{\"outlinewidth\":0,\"ticks\":\"\"},\"type\":\"contourcarpet\"}],\"heatmap\":[{\"colorbar\":{\"outlinewidth\":0,\"ticks\":\"\"},\"colorscale\":[[0.0,\"#0d0887\"],[0.1111111111111111,\"#46039f\"],[0.2222222222222222,\"#7201a8\"],[0.3333333333333333,\"#9c179e\"],[0.4444444444444444,\"#bd3786\"],[0.5555555555555556,\"#d8576b\"],[0.6666666666666666,\"#ed7953\"],[0.7777777777777778,\"#fb9f3a\"],[0.8888888888888888,\"#fdca26\"],[1.0,\"#f0f921\"]],\"type\":\"heatmap\"}],\"heatmapgl\":[{\"colorbar\":{\"outlinewidth\":0,\"ticks\":\"\"},\"colorscale\":[[0.0,\"#0d0887\"],[0.1111111111111111,\"#46039f\"],[0.2222222222222222,\"#7201a8\"],[0.3333333333333333,\"#9c179e\"],[0.4444444444444444,\"#bd3786\"],[0.5555555555555556,\"#d8576b\"],[0.6666666666666666,\"#ed7953\"],[0.7777777777777778,\"#fb9f3a\"],[0.8888888888888888,\"#fdca26\"],[1.0,\"#f0f921\"]],\"type\":\"heatmapgl\"}],\"histogram\":[{\"marker\":{\"pattern\":{\"fillmode\":\"overlay\",\"size\":10,\"solidity\":0.2}},\"type\":\"histogram\"}],\"histogram2d\":[{\"colorbar\":{\"outlinewidth\":0,\"ticks\":\"\"},\"colorscale\":[[0.0,\"#0d0887\"],[0.1111111111111111,\"#46039f\"],[0.2222222222222222,\"#7201a8\"],[0.3333333333333333,\"#9c179e\"],[0.4444444444444444,\"#bd3786\"],[0.5555555555555556,\"#d8576b\"],[0.6666666666666666,\"#ed7953\"],[0.7777777777777778,\"#fb9f3a\"],[0.8888888888888888,\"#fdca26\"],[1.0,\"#f0f921\"]],\"type\":\"histogram2d\"}],\"histogram2dcontour\":[{\"colorbar\":{\"outlinewidth\":0,\"ticks\":\"\"},\"colorscale\":[[0.0,\"#0d0887\"],[0.1111111111111111,\"#46039f\"],[0.2222222222222222,\"#7201a8\"],[0.3333333333333333,\"#9c179e\"],[0.4444444444444444,\"#bd3786\"],[0.5555555555555556,\"#d8576b\"],[0.6666666666666666,\"#ed7953\"],[0.7777777777777778,\"#fb9f3a\"],[0.8888888888888888,\"#fdca26\"],[1.0,\"#f0f921\"]],\"type\":\"histogram2dcontour\"}],\"mesh3d\":[{\"colorbar\":{\"outlinewidth\":0,\"ticks\":\"\"},\"type\":\"mesh3d\"}],\"parcoords\":[{\"line\":{\"colorbar\":{\"outlinewidth\":0,\"ticks\":\"\"}},\"type\":\"parcoords\"}],\"pie\":[{\"automargin\":true,\"type\":\"pie\"}],\"scatter\":[{\"marker\":{\"colorbar\":{\"outlinewidth\":0,\"ticks\":\"\"}},\"type\":\"scatter\"}],\"scatter3d\":[{\"line\":{\"colorbar\":{\"outlinewidth\":0,\"ticks\":\"\"}},\"marker\":{\"colorbar\":{\"outlinewidth\":0,\"ticks\":\"\"}},\"type\":\"scatter3d\"}],\"scattercarpet\":[{\"marker\":{\"colorbar\":{\"outlinewidth\":0,\"ticks\":\"\"}},\"type\":\"scattercarpet\"}],\"scattergeo\":[{\"marker\":{\"colorbar\":{\"outlinewidth\":0,\"ticks\":\"\"}},\"type\":\"scattergeo\"}],\"scattergl\":[{\"marker\":{\"colorbar\":{\"outlinewidth\":0,\"ticks\":\"\"}},\"type\":\"scattergl\"}],\"scattermapbox\":[{\"marker\":{\"colorbar\":{\"outlinewidth\":0,\"ticks\":\"\"}},\"type\":\"scattermapbox\"}],\"scatterpolar\":[{\"marker\":{\"colorbar\":{\"outlinewidth\":0,\"ticks\":\"\"}},\"type\":\"scatterpolar\"}],\"scatterpolargl\":[{\"marker\":{\"colorbar\":{\"outlinewidth\":0,\"ticks\":\"\"}},\"type\":\"scatterpolargl\"}],\"scatterternary\":[{\"marker\":{\"colorbar\":{\"outlinewidth\":0,\"ticks\":\"\"}},\"type\":\"scatterternary\"}],\"surface\":[{\"colorbar\":{\"outlinewidth\":0,\"ticks\":\"\"},\"colorscale\":[[0.0,\"#0d0887\"],[0.1111111111111111,\"#46039f\"],[0.2222222222222222,\"#7201a8\"],[0.3333333333333333,\"#9c179e\"],[0.4444444444444444,\"#bd3786\"],[0.5555555555555556,\"#d8576b\"],[0.6666666666666666,\"#ed7953\"],[0.7777777777777778,\"#fb9f3a\"],[0.8888888888888888,\"#fdca26\"],[1.0,\"#f0f921\"]],\"type\":\"surface\"}],\"table\":[{\"cells\":{\"fill\":{\"color\":\"#EBF0F8\"},\"line\":{\"color\":\"white\"}},\"header\":{\"fill\":{\"color\":\"#C8D4E3\"},\"line\":{\"color\":\"white\"}},\"type\":\"table\"}]},\"layout\":{\"annotationdefaults\":{\"arrowcolor\":\"#2a3f5f\",\"arrowhead\":0,\"arrowwidth\":1},\"autotypenumbers\":\"strict\",\"coloraxis\":{\"colorbar\":{\"outlinewidth\":0,\"ticks\":\"\"}},\"colorscale\":{\"diverging\":[[0,\"#8e0152\"],[0.1,\"#c51b7d\"],[0.2,\"#de77ae\"],[0.3,\"#f1b6da\"],[0.4,\"#fde0ef\"],[0.5,\"#f7f7f7\"],[0.6,\"#e6f5d0\"],[0.7,\"#b8e186\"],[0.8,\"#7fbc41\"],[0.9,\"#4d9221\"],[1,\"#276419\"]],\"sequential\":[[0.0,\"#0d0887\"],[0.1111111111111111,\"#46039f\"],[0.2222222222222222,\"#7201a8\"],[0.3333333333333333,\"#9c179e\"],[0.4444444444444444,\"#bd3786\"],[0.5555555555555556,\"#d8576b\"],[0.6666666666666666,\"#ed7953\"],[0.7777777777777778,\"#fb9f3a\"],[0.8888888888888888,\"#fdca26\"],[1.0,\"#f0f921\"]],\"sequentialminus\":[[0.0,\"#0d0887\"],[0.1111111111111111,\"#46039f\"],[0.2222222222222222,\"#7201a8\"],[0.3333333333333333,\"#9c179e\"],[0.4444444444444444,\"#bd3786\"],[0.5555555555555556,\"#d8576b\"],[0.6666666666666666,\"#ed7953\"],[0.7777777777777778,\"#fb9f3a\"],[0.8888888888888888,\"#fdca26\"],[1.0,\"#f0f921\"]]},\"colorway\":[\"#636efa\",\"#EF553B\",\"#00cc96\",\"#ab63fa\",\"#FFA15A\",\"#19d3f3\",\"#FF6692\",\"#B6E880\",\"#FF97FF\",\"#FECB52\"],\"font\":{\"color\":\"#2a3f5f\"},\"geo\":{\"bgcolor\":\"white\",\"lakecolor\":\"white\",\"landcolor\":\"#E5ECF6\",\"showlakes\":true,\"showland\":true,\"subunitcolor\":\"white\"},\"hoverlabel\":{\"align\":\"left\"},\"hovermode\":\"closest\",\"mapbox\":{\"style\":\"light\"},\"paper_bgcolor\":\"white\",\"plot_bgcolor\":\"#E5ECF6\",\"polar\":{\"angularaxis\":{\"gridcolor\":\"white\",\"linecolor\":\"white\",\"ticks\":\"\"},\"bgcolor\":\"#E5ECF6\",\"radialaxis\":{\"gridcolor\":\"white\",\"linecolor\":\"white\",\"ticks\":\"\"}},\"scene\":{\"xaxis\":{\"backgroundcolor\":\"#E5ECF6\",\"gridcolor\":\"white\",\"gridwidth\":2,\"linecolor\":\"white\",\"showbackground\":true,\"ticks\":\"\",\"zerolinecolor\":\"white\"},\"yaxis\":{\"backgroundcolor\":\"#E5ECF6\",\"gridcolor\":\"white\",\"gridwidth\":2,\"linecolor\":\"white\",\"showbackground\":true,\"ticks\":\"\",\"zerolinecolor\":\"white\"},\"zaxis\":{\"backgroundcolor\":\"#E5ECF6\",\"gridcolor\":\"white\",\"gridwidth\":2,\"linecolor\":\"white\",\"showbackground\":true,\"ticks\":\"\",\"zerolinecolor\":\"white\"}},\"shapedefaults\":{\"line\":{\"color\":\"#2a3f5f\"}},\"ternary\":{\"aaxis\":{\"gridcolor\":\"white\",\"linecolor\":\"white\",\"ticks\":\"\"},\"baxis\":{\"gridcolor\":\"white\",\"linecolor\":\"white\",\"ticks\":\"\"},\"bgcolor\":\"#E5ECF6\",\"caxis\":{\"gridcolor\":\"white\",\"linecolor\":\"white\",\"ticks\":\"\"}},\"title\":{\"x\":0.05},\"xaxis\":{\"automargin\":true,\"gridcolor\":\"white\",\"linecolor\":\"white\",\"ticks\":\"\",\"title\":{\"standoff\":15},\"zerolinecolor\":\"white\",\"zerolinewidth\":2},\"yaxis\":{\"automargin\":true,\"gridcolor\":\"white\",\"linecolor\":\"white\",\"ticks\":\"\",\"title\":{\"standoff\":15},\"zerolinecolor\":\"white\",\"zerolinewidth\":2}}},\"xaxis\":{\"anchor\":\"y\",\"domain\":[0.0,1.0],\"title\":{\"text\":\"E\"}},\"yaxis\":{\"anchor\":\"x\",\"domain\":[0.0,0.8316],\"title\":{\"text\":\"count\"}},\"xaxis2\":{\"anchor\":\"y2\",\"domain\":[0.0,1.0],\"matches\":\"x\",\"showticklabels\":false,\"showgrid\":true},\"yaxis2\":{\"anchor\":\"x2\",\"domain\":[0.8416,1.0],\"matches\":\"y2\",\"showticklabels\":false,\"showline\":false,\"ticks\":\"\",\"showgrid\":false},\"legend\":{\"tracegroupgap\":0},\"margin\":{\"t\":60},\"barmode\":\"relative\"},                        {\"responsive\": true}                    ).then(function(){\n",
              "                            \n",
              "var gd = document.getElementById('9aec09cd-1beb-4674-8559-d58a52bc3bef');\n",
              "var x = new MutationObserver(function (mutations, observer) {{\n",
              "        var display = window.getComputedStyle(gd).display;\n",
              "        if (!display || display === 'none') {{\n",
              "            console.log([gd, 'removed!']);\n",
              "            Plotly.purge(gd);\n",
              "            observer.disconnect();\n",
              "        }}\n",
              "}});\n",
              "\n",
              "// Listen for the removal of the full notebook cells\n",
              "var notebookContainer = gd.closest('#notebook-container');\n",
              "if (notebookContainer) {{\n",
              "    x.observe(notebookContainer, {childList: true});\n",
              "}}\n",
              "\n",
              "// Listen for the clearing of the current output cell\n",
              "var outputEl = gd.closest('.output');\n",
              "if (outputEl) {{\n",
              "    x.observe(outputEl, {childList: true});\n",
              "}}\n",
              "\n",
              "                        })                };                            </script>        </div>\n",
              "</body>\n",
              "</html>"
            ]
          },
          "metadata": {}
        }
      ]
    },
    {
      "cell_type": "code",
      "source": [
        "print(\"skweness: \",df[\"E\"].skew())\n",
        "print(\"Kurtosis: \",df[\"E\"].kurt())"
      ],
      "metadata": {
        "colab": {
          "base_uri": "https://localhost:8080/"
        },
        "id": "AVjV3Y1HQW2c",
        "outputId": "81dfd6d1-e5ab-4e01-eeeb-0ceb97dc207c"
      },
      "execution_count": 50,
      "outputs": [
        {
          "output_type": "stream",
          "name": "stdout",
          "text": [
            "skweness:  2.0397904929983075\n",
            "Kurtosis:  5.646946143748177\n"
          ]
        }
      ]
    },
    {
      "cell_type": "code",
      "source": [
        "#standardizing dexa_freq_during_rx df\n",
        "scaled = StandardScaler().fit_transform(df['E'][:,np.newaxis]);\n",
        "low_range = scaled[scaled[:,0].argsort()][:10]\n",
        "high_range= scaled[scaled[:,0].argsort()][-10:]\n",
        "print('outer range (low) of the distribution:')\n",
        "print(low_range)\n",
        "print('\\nouter range (high) of the distribution:')\n",
        "print(high_range)"
      ],
      "metadata": {
        "colab": {
          "base_uri": "https://localhost:8080/"
        },
        "id": "HtzzdyniQ-o8",
        "outputId": "d3e559b2-b610-442e-a0d4-a779d4caf0e0"
      },
      "execution_count": 51,
      "outputs": [
        {
          "output_type": "stream",
          "name": "stdout",
          "text": [
            "outer range (low) of the distribution:\n",
            "[[-0.74689419]\n",
            " [-0.74689419]\n",
            " [-0.74689419]\n",
            " [-0.74689419]\n",
            " [-0.74689419]\n",
            " [-0.74689419]\n",
            " [-0.74689419]\n",
            " [-0.74689419]\n",
            " [-0.74689419]\n",
            " [-0.74689419]]\n",
            "\n",
            "outer range (high) of the distribution:\n",
            "[[3.10507607]\n",
            " [3.25437724]\n",
            " [3.38377159]\n",
            " [3.63260688]\n",
            " [4.03074334]\n",
            " [4.03074334]\n",
            " [4.0805104 ]\n",
            " [4.18004452]\n",
            " [4.67771509]\n",
            " [6.02142565]]\n"
          ]
        }
      ]
    },
    {
      "cell_type": "code",
      "source": [
        "scaler = RobustScaler()\n",
        "df['E'] = scaler.fit_transform(df['E'].values.reshape(-1,1))"
      ],
      "metadata": {
        "id": "TY4kO-PPR4fl"
      },
      "execution_count": 52,
      "outputs": []
    },
    {
      "cell_type": "code",
      "execution_count": 53,
      "metadata": {
        "colab": {
          "base_uri": "https://localhost:8080/",
          "height": 0
        },
        "outputId": "eea816c4-0f36-4bb3-b7fa-4a7c93f60461",
        "id": "BLemWbYwdW9_"
      },
      "outputs": [
        {
          "output_type": "execute_result",
          "data": {
            "text/plain": [
              "' Detection '"
            ],
            "application/vnd.google.colaboratory.intrinsic+json": {
              "type": "string"
            }
          },
          "metadata": {},
          "execution_count": 53
        },
        {
          "output_type": "stream",
          "name": "stdout",
          "text": [
            "Old Shape:  (487, 9)\n",
            "lower []\n",
            "Upper [ 25  65  82  94 120 138 151 152 177 219 239 252 298 303 326 366 411 441\n",
            " 448 449 451]\n"
          ]
        },
        {
          "output_type": "execute_result",
          "data": {
            "text/plain": [
              "' Removing the Outliers '"
            ],
            "application/vnd.google.colaboratory.intrinsic+json": {
              "type": "string"
            }
          },
          "metadata": {},
          "execution_count": 53
        },
        {
          "output_type": "stream",
          "name": "stdout",
          "text": [
            "New Shape:  (466, 9)\n"
          ]
        }
      ],
      "source": [
        "''' Detection '''\n",
        "# IQR\n",
        "Q1 = np.percentile(df['E'], 25, \n",
        "                   interpolation = 'midpoint') \n",
        "  \n",
        "Q3 = np.percentile(df['E'], 75,\n",
        "                   interpolation = 'midpoint') \n",
        "IQR = Q3 - Q1 \n",
        "  \n",
        "print(\"Old Shape: \", df.shape) \n",
        "  \n",
        "# Upper bound\n",
        "upper = np.where(df['E'] >= (Q3+1.5*IQR))\n",
        "# Lower bound\n",
        "lower = np.where(df['E'] <= (Q1-1.5*IQR))\n",
        "  \n",
        "print(\"lower\",lower[0])\n",
        "print(\"Upper\",upper[0])\n",
        "\n",
        "''' Removing the Outliers '''\n",
        "df.drop(upper[0], inplace = True)\n",
        "df.drop(lower[0], inplace = True)\n",
        "\n",
        "print(\"New Shape: \", df.shape)\n",
        "\n",
        "df = df.reset_index(drop=True)"
      ]
    },
    {
      "cell_type": "markdown",
      "source": [
        "### ***F***"
      ],
      "metadata": {
        "id": "gCRO4dftRfrC"
      }
    },
    {
      "cell_type": "code",
      "source": [
        "fig = px.histogram(df, x=\"F\",\n",
        "                   marginal=\"box\", # or violin, rug\n",
        "                   hover_data=df.columns)\n",
        "fig.show()"
      ],
      "metadata": {
        "colab": {
          "base_uri": "https://localhost:8080/",
          "height": 0
        },
        "id": "e9Qp_58APd8z",
        "outputId": "08883b6d-1341-4a73-cadc-73c30786d126"
      },
      "execution_count": 54,
      "outputs": [
        {
          "output_type": "display_data",
          "data": {
            "text/html": [
              "<html>\n",
              "<head><meta charset=\"utf-8\" /></head>\n",
              "<body>\n",
              "    <div>            <script src=\"https://cdnjs.cloudflare.com/ajax/libs/mathjax/2.7.5/MathJax.js?config=TeX-AMS-MML_SVG\"></script><script type=\"text/javascript\">if (window.MathJax) {MathJax.Hub.Config({SVG: {font: \"STIX-Web\"}});}</script>                <script type=\"text/javascript\">window.PlotlyConfig = {MathJaxConfig: 'local'};</script>\n",
              "        <script src=\"https://cdn.plot.ly/plotly-2.8.3.min.js\"></script>                <div id=\"4d752b4d-417b-401c-9582-5322d4e81276\" class=\"plotly-graph-div\" style=\"height:525px; width:100%;\"></div>            <script type=\"text/javascript\">                                    window.PLOTLYENV=window.PLOTLYENV || {};                                    if (document.getElementById(\"4d752b4d-417b-401c-9582-5322d4e81276\")) {                    Plotly.newPlot(                        \"4d752b4d-417b-401c-9582-5322d4e81276\",                        [{\"alignmentgroup\":\"True\",\"bingroup\":\"x\",\"hovertemplate\":\"F=%{x}<br>count=%{y}<extra></extra>\",\"legendgroup\":\"\",\"marker\":{\"color\":\"#636efa\",\"pattern\":{\"shape\":\"\"}},\"name\":\"\",\"offsetgroup\":\"\",\"orientation\":\"v\",\"showlegend\":false,\"x\":[26.6,28.1,25.6,37.6,27.1,25.8,39.3,35.4,31.1,23.2,34.1,36.0,31.6,24.8,19.9,27.6,24.0,40.2,22.7,27.4,29.7,28.0,19.4,24.2,24.4,23.0,46.8,40.5,41.5,32.9,25.4,29.0,42.7,19.6,28.9,32.9,28.6,35.1,32.0,32.6,37.7,25.0,22.4,29.3,24.6,32.4,38.5,26.5,19.1,32.0,46.7,24.7,33.9,31.6,20.4,28.7,49.7,26.1,22.5,26.6,39.6,28.7,29.5,34.3,31.2,34.0,33.7,28.2,23.2,34.2,33.6,26.8,42.9,33.3,38.3,21.1,33.8,30.8,28.7,31.2,21.1,39.5,32.5,32.8,0.0,32.8,30.5,33.7,27.3,37.4,21.9,24.6,25.2,29.0,29.7,37.2,44.2,29.7,31.6,32.5,29.6,31.9,28.4,43.5,29.7,31.2,45.0,23.2,34.9,26.8,27.6,22.6,33.1,24.4,24.3,34.8,31.0,40.1,27.3,20.4,37.7,23.9,33.2,27.7,42.8,34.2,30.0,28.8,23.6,34.6,35.7,37.2,45.2,25.4,35.0,29.7,43.6,30.8,18.4,29.2,33.1,25.6,27.1,38.2,31.2,30.1,31.2,28.0,24.4,35.8,30.1,28.7,32.1,32.4,32.0,33.6,40.0,25.1,25.2,23.0,33.2,40.5,27.8,24.9,25.3,35.9,32.4,27.0,26.0,20.8,36.1,36.9,21.9,35.5,30.7,23.6,35.8,21.0,39.7,24.8,26.2,39.4,29.5,34.1,19.3,38.1,27.5,27.4,35.7,25.6,35.1,30.8,23.1,32.7,23.9,47.9,25.9,25.9,34.7,36.8,38.5,28.7,21.8,42.2,31.2,34.4,27.2,42.7,29.8,38.5,34.0,27.6,21.0,27.5,0.0,35.8,34.9,36.2,25.2,37.2,43.4,30.8,20.0,25.4,25.1,24.3,22.3,31.6,32.0,22.1,27.7,24.7,34.3,21.1,24.2,35.0,31.6,42.1,21.9,35.7,34.4,26.2,34.6,27.2,18.2,45.3,26.0,40.6,30.8,40.6,30.4,30.0,25.6,24.5,29.9,18.2,36.8,32.2,33.2,25.3,36.5,30.5,21.2,39.9,37.8,26.7,30.2,25.9,20.8,21.8,35.3,27.6,24.0,21.8,27.8,36.8,46.1,41.3,33.2,38.8,29.9,28.9,27.3,23.8,25.9,28.0,35.2,27.8,38.2,42.3,46.5,25.6,36.8,33.5,32.8,26.6,26.0,30.1,29.3,25.2,37.2,33.3,37.3,33.3,28.6,30.4,25.0,22.1,24.2,27.3,25.6,37.6,25.0,33.2,31.6,21.8,18.2,26.3,30.8,24.6,29.8,45.3,41.3,33.3,29.6,21.7,36.3,39.5,32.0,33.1,32.8,27.4,31.9,27.8,29.9,36.9,25.5,38.1,27.8,37.6,26.9,32.4,26.1,38.6,32.0,31.3,34.3,32.5,22.6,29.5,34.7,35.5,24.0,27.0,42.1,25.0,38.7,22.5,24.3,39.4,28.5,33.6,45.3,27.1,27.8,35.2,35.8,19.5,41.5,24.0,30.9,32.5,25.8,28.7,20.1,38.4,24.2,43.5,30.8,37.7,24.7,32.4,34.6,24.7,27.4,34.5,26.2,27.5,25.9,28.8,31.6,19.5,29.3,34.3,27.6,37.8,26.4,25.2,33.8,34.1,26.8,34.2,21.8,38.9,27.7,34.8,34.0,30.9,33.6,25.4,57.3,35.6,35.3,24.2,24.2,44.6,0.0,33.2,23.1,28.3,24.1,24.6,39.1,23.5,34.5,44.5,35.9,35.0,28.4,39.8,29.6,29.5,23.1,35.5,29.3,38.1,39.1,32.8,39.4,36.1,32.4,22.9,30.1,29.0,23.3,35.4,27.4,32.0,36.6,39.5,30.8,28.5,32.7,46.3,39.0,26.0,36.5,32.0,37.5,28.4,22.5,32.9,36.8,26.2,30.1,30.4],\"xaxis\":\"x\",\"yaxis\":\"y\",\"type\":\"histogram\"},{\"alignmentgroup\":\"True\",\"customdata\":[[-0.25,-0.7352941176470589,-0.25,0.22580645161290322,-0.4260869565217391,0.351,31.0,0.0],[-0.25,-0.6176470588235294,-0.25,0.03225806451612903,0.391304347826087,0.167,21.0,0.0],[0.75,0.17647058823529413,0.25,-0.7096774193548387,-0.4260869565217391,0.201,30.0,0.0],[0.5,0.0,1.375,-0.7096774193548387,-0.4260869565217391,0.191,30.0,0.0],[2.0,0.8529411764705882,0.625,-0.7096774193548387,-0.4260869565217391,1.441,57.0,0.0],[0.75,1.6470588235294117,0.125,-0.0967741935483871,1.0956521739130434,0.587,51.0,1.0],[0.25,0.47058823529411764,1.125,0.6129032258064516,1.617391304347826,0.704,27.0,0.0],[1.5,-0.3235294117647059,0.875,-0.7096774193548387,-0.4260869565217391,0.388,50.0,0.0],[2.0,0.4411764705882353,0.0,0.12903225806451613,0.5739130434782609,0.205,41.0,1.0],[-0.25,-0.38235294117647056,-0.25,-0.22580645161290322,0.7913043478260869,0.487,22.0,0.0],[0.75,0.20588235294117646,1.375,-0.7096774193548387,-0.4260869565217391,0.337,38.0,0.0],[0.75,-0.029411764705882353,0.3125,0.12903225806451613,-0.4260869565217391,0.546,60.0,0.0],[0.25,1.411764705882353,0.375,0.45161290322580644,1.7043478260869565,0.851,28.0,1.0],[0.25,-0.6470588235294118,-0.75,-0.3548387096774194,0.043478260869565216,0.267,22.0,0.0],[1.0,-0.5294117647058824,1.375,-0.7096774193548387,-0.4260869565217391,0.188,28.0,0.0],[2.0,0.35294117647058826,0.5,0.2903225806451613,-0.4260869565217391,0.512,45.0,0.0],[0.5,-0.20588235294117646,-0.625,0.3548387096774194,1.2434782608695651,0.966,33.0,0.0],[1.25,0.6764705882352942,0.875,-0.7096774193548387,-0.4260869565217391,0.696,37.0,0.0],[1.25,-0.11764705882352941,1.375,-0.12903225806451613,-0.4260869565217391,0.235,48.0,0.0],[1.25,1.4411764705882353,-0.375,-0.7096774193548387,-0.4260869565217391,0.294,40.0,0.0],[-0.25,1.0588235294117647,-0.875,-0.7096774193548387,-0.4260869565217391,0.564,29.0,0.0],[0.0,-1.1470588235294117,0.0,0.16129032258064516,-0.4260869565217391,0.586,22.0,0.0],[-0.25,-0.20588235294117646,0.625,-0.3548387096774194,0.28695652173913044,0.491,22.0,0.0],[-0.25,-0.2647058823529412,-1.25,-0.22580645161290322,-0.11304347826086956,0.526,26.0,0.0],[0.75,-0.6470588235294118,-0.25,-0.03225806451612903,-0.22608695652173913,0.342,30.0,0.0],[-0.25,-1.088235294117647,-1.25,-0.3870967741935484,-0.4260869565217391,0.248,21.0,0.0],[-0.5,-0.29411764705882354,1.125,1.2258064516129032,0.5304347826086957,0.962,31.0,0.0],[-0.5,1.0588235294117647,0.75,-0.7096774193548387,-0.4260869565217391,1.781,44.0,0.0],[-0.5,-0.14705882352941177,-0.375,0.6129032258064516,0.808695652173913,0.173,22.0,0.0],[1.5,0.6764705882352942,0.125,-0.7096774193548387,-0.4260869565217391,0.27,39.0,1.0],[0.0,0.9117647058823529,-0.75,0.3870967741935484,0.6869565217391305,0.699,24.0,0.0],[0.75,-0.3235294117647059,0.25,0.16129032258064516,-0.4260869565217391,0.203,32.0,0.0],[0.0,-0.029411764705882353,1.375,-0.7096774193548387,-0.4260869565217391,0.845,54.0,0.0],[-0.25,-0.4411764705882353,-0.25,-0.2903225806451613,-0.09565217391304348,0.334,25.0,0.0],[0.5,1.0588235294117647,0.9375,0.16129032258064516,0.4434782608695652,0.189,27.0,0.0],[0.0,-0.29411764705882354,-0.25,-0.06451612903225806,0.3565217391304348,0.867,28.0,1.0],[0.75,0.8529411764705882,-0.375,0.41935483870967744,0.7913043478260869,0.411,26.0,0.0],[0.5,0.5588235294117647,1.0,-0.06451612903225806,1.9217391304347826,0.231,23.0,0.0],[-0.25,-0.9117647058823529,0.3125,0.25806451612903225,-0.4260869565217391,0.396,22.0,0.0],[1.25,-1.411764705882353,0.5,-0.7096774193548387,-0.4260869565217391,0.391,41.0,0.0],[0.75,-0.4411764705882353,0.125,0.3548387096774194,-0.4260869565217391,0.37,27.0,0.0],[0.0,0.058823529411764705,-0.25,0.0,-0.4260869565217391,0.307,24.0,0.0],[0.25,0.08823529411764706,-1.625,-0.2903225806451613,-0.4260869565217391,0.14,22.0,0.0],[1.25,-0.7941176470588235,0.5,0.12903225806451613,0.19130434782608696,0.767,36.0,0.0],[-0.5,-0.2647058823529412,-0.3125,0.1935483870967742,-0.4260869565217391,0.237,22.0,0.0],[0.0,0.0,0.25,0.22580645161290322,0.6608695652173913,0.698,27.0,0.0],[0.0,-0.29411764705882354,-0.125,0.0967741935483871,0.19130434782608696,0.324,26.0,0.0],[-0.25,-0.08823529411764706,-0.125,-0.0967741935483871,-0.4260869565217391,0.165,24.0,0.0],[-0.25,-0.8823529411764706,-0.9375,-0.7096774193548387,-0.4260869565217391,0.258,21.0,0.0],[0.5,0.38235294117647056,0.625,-0.22580645161290322,1.1043478260869566,0.443,34.0,0.0],[1.25,-0.8529411764705882,0.5,0.5806451612903226,-0.008695652173913044,0.261,42.0,0.0],[0.0,0.9411764705882353,0.75,-0.12903225806451613,0.13043478260869565,0.761,21.0,0.0],[1.0,1.0,0.125,0.16129032258064516,1.5565217391304347,0.255,40.0,0.0],[0.0,-0.5294117647058824,-0.5,0.1935483870967742,-0.4260869565217391,0.13,24.0,0.0],[-0.25,-1.1470588235294117,-1.375,-0.12903225806451613,0.23478260869565218,0.323,22.0,0.0],[1.0,-0.5,-1.25,0.25806451612903225,0.13043478260869565,0.356,23.0,0.0],[-0.25,0.35294117647058826,1.25,0.9354838709677419,1.4869565217391305,0.325,31.0,1.0],[-0.25,1.2058823529411764,-0.625,-0.7096774193548387,-0.4260869565217391,0.179,22.0,0.0],[-0.5,0.4411764705882353,1.625,-0.7096774193548387,-0.4260869565217391,0.262,21.0,0.0],[-0.25,-0.8529411764705882,0.125,-0.12903225806451613,-0.0782608695652174,0.283,24.0,0.0],[0.0,-0.7352941176470589,-0.3125,-0.7096774193548387,-0.4260869565217391,0.93,27.0,0.0],[-0.25,0.47058823529411764,-0.875,0.22580645161290322,0.8956521739130435,0.801,21.0,0.0],[0.5,1.0,-0.75,0.1935483870967742,0.7913043478260869,0.287,37.0,0.0],[0.25,-0.7941176470588235,-0.75,0.2903225806451613,-0.26956521739130435,0.336,25.0,0.0],[-0.25,-0.6176470588235294,0.375,0.3870967741935484,-0.10434782608695652,0.192,23.0,0.0],[0.5,-1.0,-0.5,-0.7096774193548387,-0.4260869565217391,0.391,25.0,0.0],[0.75,-0.9411764705882353,-1.375,-0.7096774193548387,-0.4260869565217391,0.654,25.0,0.0],[0.5,-0.38235294117647056,-0.625,0.03225806451612903,-0.4260869565217391,0.443,22.0,0.0],[0.5,-0.3235294117647059,0.375,-0.22580645161290322,0.017391304347826087,0.223,21.0,0.0],[1.0,0.029411764705882353,-0.375,0.5483870967741935,-0.4260869565217391,0.26,24.0,0.0],[0.0,-0.08823529411764706,0.25,0.25806451612903225,0.4434782608695652,0.404,23.0,0.0],[0.75,0.6470588235294118,0.625,-0.7096774193548387,-0.4260869565217391,0.186,69.0,0.0],[0.25,0.29411764705882354,0.0,0.25806451612903225,0.7478260869565218,0.452,30.0,0.0],[-0.25,0.23529411764705882,-0.75,0.45161290322580644,0.391304347826087,0.261,23.0,0.0],[1.5,-0.7647058823529411,0.25,0.2903225806451613,-0.4260869565217391,0.457,39.0,0.0],[0.0,-0.4117647058823529,-0.125,-0.2903225806451613,0.0,0.647,26.0,0.0],[0.0,0.4411764705882353,-0.625,-0.06451612903225806,0.7913043478260869,0.088,31.0,0.0],[-0.5,-0.29411764705882354,0.0,0.12903225806451613,0.008695652173913044,0.597,21.0,0.0],[-0.5,-0.5,-0.625,0.0967741935483871,0.3739130434782609,0.532,22.0,0.0],[-0.5,0.5588235294117647,0.625,-0.7096774193548387,-0.4260869565217391,0.703,29.0,0.0],[0.25,0.5294117647058824,0.5,-0.7096774193548387,-0.4260869565217391,0.268,55.0,0.0],[0.75,-0.11764705882352941,0.75,0.25806451612903225,-0.4260869565217391,0.286,38.0,0.0],[0.0,-0.058823529411764705,-1.125,0.12903225806451613,0.12173913043478261,0.318,22.0,0.0],[0.5,1.2941176470588236,-0.5,0.2903225806451613,2.0434782608695654,0.237,23.0,0.0],[-0.5,-0.23529411764705882,0.3125,0.03225806451612903,-0.4260869565217391,0.572,21.0,0.0],[1.75,-1.5588235294117647,0.625,0.4838709677419355,-0.4260869565217391,0.096,41.0,0.0],[0.0,-0.11764705882352941,-0.375,0.41935483870967744,0.6086956521739131,1.4,34.0,0.0],[0.75,1.088235294117647,0.5,-0.7096774193548387,-0.4260869565217391,0.218,65.0,0.0],[0.0,-0.5882352941176471,0.0,-0.16129032258064516,-0.4260869565217391,0.085,22.0,0.0],[-0.25,0.7647058823529411,0.25,0.9032258064516129,1.3478260869565217,0.399,24.0,0.0],[0.5,0.11764705882352941,-0.3125,-0.7096774193548387,-0.4260869565217391,0.432,37.0,0.0],[0.0,-0.3235294117647059,-1.125,-0.22580645161290322,0.391304347826087,0.637,21.0,0.0],[-0.25,-0.029411764705882353,-0.875,-0.03225806451612903,0.7478260869565218,0.833,23.0,0.0],[0.0,-0.6470588235294118,0.25,-0.0967741935483871,0.034782608695652174,0.229,22.0,0.0],[0.5,1.2058823529411764,1.25,0.5161290322580645,-0.4260869565217391,0.294,36.0,0.0],[1.25,-0.23529411764705882,0.25,0.5806451612903226,0.48695652173913045,0.204,45.0,0.0],[-0.5,0.11764705882352941,0.625,0.3870967741935484,2.0521739130434784,0.167,27.0,0.0],[0.0,-0.29411764705882354,-0.375,0.03225806451612903,-0.4260869565217391,0.368,21.0,0.0],[-0.5,0.6176470588235294,1.125,-0.7096774193548387,-0.4260869565217391,0.743,32.0,1.0],[0.25,1.1176470588235294,-0.25,0.0967741935483871,-0.4260869565217391,0.256,22.0,0.0],[0.5,0.29411764705882354,-0.125,-0.7096774193548387,-0.4260869565217391,0.709,34.0,0.0],[0.5,0.0,-0.25,-0.7096774193548387,-0.4260869565217391,0.471,29.0,0.0],[0.25,0.029411764705882353,1.25,-0.3225806451612903,0.25217391304347825,0.495,29.0,0.0],[-0.25,-0.9117647058823529,-0.625,0.6451612903225806,-0.008695652173913044,0.678,23.0,0.0],[0.0,-1.0294117647058822,-0.375,0.06451612903225806,0.05217391304347826,0.37,33.0,0.0],[1.0,-0.7352941176470589,0.5,-0.7096774193548387,-0.4260869565217391,0.382,42.0,0.0],[0.75,0.9705882352941176,0.5,-0.7096774193548387,-0.4260869565217391,0.19,47.0,0.0],[1.0,-0.6764705882352942,0.625,-0.7096774193548387,-0.4260869565217391,0.084,32.0,0.0],[-0.5,0.2647058823529412,-0.375,-0.12903225806451613,0.3739130434782609,0.725,23.0,0.0],[0.75,-1.088235294117647,-0.625,-0.7096774193548387,-0.4260869565217391,0.268,27.0,0.0],[0.5,0.9117647058823529,0.25,-0.7096774193548387,-0.4260869565217391,0.244,40.0,0.0],[0.25,0.029411764705882353,-0.5,-0.7096774193548387,-0.4260869565217391,0.142,21.0,0.0],[1.75,0.38235294117647056,0.0,0.7096774193548387,0.391304347826087,0.374,40.0,0.0],[1.5,-0.7352941176470589,-0.9375,-0.06451612903225806,-0.4260869565217391,0.136,42.0,0.0],[-0.25,-0.14705882352941177,-0.75,-0.7096774193548387,-0.4260869565217391,0.187,21.0,0.0],[0.5,-0.029411764705882353,-0.375,0.7096774193548387,0.43478260869565216,0.905,26.0,1.0],[-0.5,0.08823529411764706,0.625,-0.1935483870967742,-0.4260869565217391,0.874,21.0,0.0],[-0.25,0.8235294117647058,0.75,-0.7096774193548387,-0.4260869565217391,0.236,28.0,0.0],[-0.5,-0.058823529411764705,-0.125,-0.06451612903225806,-0.4260869565217391,0.787,32.0,0.0],[0.0,-0.3235294117647059,0.0,-0.1935483870967742,-0.043478260869565216,0.235,27.0,0.0],[1.0,-0.20588235294117646,0.125,0.3225806451612903,1.2260869565217392,0.324,55.0,0.0],[0.75,0.029411764705882353,0.125,0.1935483870967742,-0.4260869565217391,0.407,27.0,0.0],[-0.25,-0.4117647058823529,-0.375,0.16129032258064516,0.33043478260869563,0.289,21.0,0.0],[0.0,-0.8529411764705882,-0.625,0.0,-0.4260869565217391,0.29,25.0,0.0],[-0.5,1.088235294117647,0.9375,1.032258064516129,-0.4260869565217391,0.375,24.0,0.0],[1.25,2.0294117647058822,1.5625,0.2903225806451613,-0.4260869565217391,0.164,60.0,0.0],[1.0,0.4411764705882353,-0.125,0.25806451612903225,0.6173913043478261,0.464,32.0,0.0],[1.25,0.9411764705882353,-0.625,0.3548387096774194,1.2260869565217392,0.687,61.0,0.0],[-0.25,-0.29411764705882354,-0.25,-0.22580645161290322,0.06086956521739131,0.666,26.0,0.0],[-0.25,-0.6764705882352942,0.5,0.16129032258064516,-0.14782608695652175,0.101,22.0,0.0],[-0.5,-0.2647058823529412,0.375,-0.7096774193548387,-0.4260869565217391,0.198,26.0,0.0],[0.25,1.5294117647058822,-1.125,0.5161290322580645,-0.4260869565217391,0.652,24.0,1.0],[-0.5,0.20588235294117646,0.625,0.2903225806451613,0.034782608695652174,0.089,24.0,0.0],[-0.25,-0.9117647058823529,0.625,0.0967741935483871,-0.10434782608695652,0.583,22.0,0.0],[0.5,0.35294117647058826,-0.125,-0.7096774193548387,-0.4260869565217391,0.394,29.0,0.0],[0.25,-1.0588235294117647,-0.125,0.1935483870967742,-0.034782608695652174,0.293,23.0,0.0],[0.5,1.7941176470588236,0.125,-0.7096774193548387,-0.4260869565217391,0.479,26.0,1.0],[1.75,1.588235294117647,0.875,-0.03225806451612903,-0.4260869565217391,0.831,32.0,1.0],[-0.5,-0.17647058823529413,0.375,-0.7096774193548387,-0.4260869565217391,0.582,27.0,0.0],[-0.25,-0.5588235294117647,-0.375,0.06451612903225806,-0.4260869565217391,0.192,21.0,0.0],[0.5,-0.5588235294117647,0.0,0.3225806451612903,0.3391304347826087,0.446,22.0,0.0],[0.25,0.8529411764705882,-1.0,-0.7096774193548387,-0.4260869565217391,0.402,22.0,1.0],[1.0,0.2647058823529412,-1.25,0.0,1.1043478260869566,1.318,33.0,1.0],[0.0,1.0588235294117647,0.375,0.41935483870967744,1.2608695652173914,0.329,29.0,0.0],[2.0,0.35294117647058826,-0.125,-0.7096774193548387,-0.4260869565217391,0.258,41.0,0.0],[-0.25,0.029411764705882353,1.0,-0.0967741935483871,-0.4260869565217391,0.143,23.0,0.0],[1.75,-0.11764705882352941,-1.125,-0.7096774193548387,-0.4260869565217391,0.38,42.0,0.0],[0.0,0.5588235294117647,0.875,-0.7096774193548387,-0.4260869565217391,0.284,27.0,0.0],[0.0,-0.5882352941176471,0.625,-0.25806451612903225,0.05217391304347826,0.249,24.0,0.0],[-0.5,-0.7058823529411765,-0.125,0.3225806451612903,-0.4260869565217391,0.238,25.0,0.0],[0.25,0.029411764705882353,-0.875,0.5483870967741935,-0.4260869565217391,0.557,30.0,0.0],[0.0,0.11764705882352941,-0.125,0.0,-0.4260869565217391,0.092,25.0,0.0],[0.5,-0.4411764705882353,0.0,0.3225806451612903,-0.4260869565217391,0.612,24.0,0.0],[0.25,0.9411764705882353,0.625,-0.22580645161290322,-0.4260869565217391,0.2,63.0,0.0],[0.5,0.38235294117647056,-0.5,-0.7096774193548387,-0.4260869565217391,0.226,35.0,1.0],[0.75,-0.4117647058823529,0.25,-0.12903225806451613,0.1565217391304348,0.997,43.0,0.0],[0.0,0.5294117647058824,-0.375,0.6451612903225806,-0.4260869565217391,1.101,24.0,0.0],[-0.5,-0.23529411764705882,-1.125,-0.7096774193548387,-0.4260869565217391,0.078,21.0,0.0],[0.0,-0.058823529411764705,-0.5,0.3225806451612903,0.06086956521739131,0.128,21.0,0.0],[0.25,0.35294117647058826,0.5,-0.7096774193548387,-0.4260869565217391,0.254,40.0,0.0],[-0.25,-1.1470588235294117,0.5,0.9032258064516129,-0.034782608695652174,0.422,21.0,0.0],[0.0,-0.29411764705882354,0.0,0.967741935483871,0.06956521739130435,0.677,25.0,0.0],[-0.5,-0.17647058823529413,-0.375,0.03225806451612903,0.5826086956521739,0.454,23.0,0.0],[0.75,0.11764705882352941,0.25,-0.7096774193548387,-0.4260869565217391,0.744,57.0,0.0],[0.0,-0.058823529411764705,-0.5,-0.3870967741935484,1.991304347826087,0.881,22.0,0.0],[2.0,0.5588235294117647,0.375,0.1935483870967742,0.6347826086956522,0.28,39.0,0.0],[1.25,0.6764705882352942,1.125,-0.22580645161290322,0.9217391304347826,0.262,37.0,0.0],[0.0,-0.058823529411764705,0.625,-0.7096774193548387,-0.4260869565217391,0.259,52.0,1.0],[1.25,0.7647058823529411,0.25,0.12903225806451613,0.7478260869565218,0.647,51.0,0.0],[0.5,-0.4117647058823529,-0.875,-0.16129032258064516,0.0,0.34,26.0,0.0],[0.75,-0.058823529411764705,0.125,0.6774193548387096,0.22608695652173913,0.263,33.0,0.0],[-0.5,-0.9411764705882353,1.125,0.22580645161290322,-0.0782608695652174,0.434,21.0,0.0],[-0.5,1.5,-1.25,-0.7096774193548387,-0.4260869565217391,0.254,65.0,0.0],[1.0,1.2058823529411764,-0.5,0.2903225806451613,0.6173913043478261,0.692,28.0,0.0],[-0.5,0.47058823529411764,0.875,0.22580645161290322,1.4434782608695653,0.52,24.0,0.0],[1.5,0.058823529411764705,0.125,-0.7096774193548387,-0.4260869565217391,0.84,58.0,0.0],[0.75,-0.9705882352941176,0.75,0.6129032258064516,-0.06086956521739131,0.156,35.0,0.0],[0.25,1.1764705882352942,0.375,-0.7096774193548387,-0.4260869565217391,0.207,37.0,0.0],[0.0,0.29411764705882354,0.375,0.4838709677419355,0.48695652173913045,0.215,29.0,0.0],[-0.5,0.7941176470588235,-0.125,-0.25806451612903225,0.8608695652173913,0.143,21.0,0.0],[1.0,-0.8823529411764706,-0.25,0.25806451612903225,-0.4260869565217391,0.313,41.0,0.0],[-0.5,-0.11764705882352941,0.0,0.4838709677419355,0.8608695652173913,0.605,22.0,0.0],[0.25,0.08823529411764706,-1.25,-0.3870967741935484,0.3130434782608696,0.626,25.0,0.0],[0.0,0.058823529411764705,-0.125,0.0,0.391304347826087,0.315,26.0,0.0],[0.25,-0.3235294117647059,0.625,-0.3548387096774194,0.13043478260869565,0.284,30.0,0.0],[0.25,0.14705882352941177,-0.25,0.5483870967741935,0.7913043478260869,0.15,28.0,0.0],[0.5,0.5588235294117647,-0.625,-0.3225806451612903,1.5826086956521739,0.527,31.0,0.0],[-0.5,0.4117647058823529,0.0,-0.06451612903225806,-0.4260869565217391,0.254,36.0,1.0],[0.0,0.058823529411764705,0.3125,0.3225806451612903,-0.4260869565217391,0.148,21.0,0.0],[-0.25,1.3823529411764706,0.125,-0.03225806451612903,1.0347826086956522,0.123,24.0,0.0],[2.0,2.0294117647058822,0.0,-0.7096774193548387,-0.4260869565217391,0.2,37.0,0.0],[1.0,-0.14705882352941177,0.0,0.3225806451612903,0.16521739130434782,0.122,37.0,0.0],[1.5,0.23529411764705882,0.125,-0.0967741935483871,-0.4260869565217391,1.476,46.0,0.0],[0.0,-0.6764705882352942,-0.75,-0.1935483870967742,0.02608695652173913,0.166,25.0,0.0],[-0.25,-0.4411764705882353,-0.625,-0.12903225806451613,0.0782608695652174,0.26,22.0,0.0],[-0.5,1.6176470588235294,0.375,0.6774193548387096,1.791304347826087,0.259,26.0,0.0],[-0.25,0.5882352941176471,0.0,-0.2903225806451613,0.48695652173913045,0.472,22.0,0.0],[-0.25,-0.4411764705882353,0.25,-0.03225806451612903,0.20869565217391303,0.673,36.0,0.0],[0.75,0.35294117647058826,1.0,-0.7096774193548387,-0.4260869565217391,0.29,33.0,0.0],[1.5,-0.4411764705882353,0.125,-0.7096774193548387,-0.4260869565217391,0.485,57.0,0.0],[1.5,0.47058823529411764,1.125,0.45161290322580644,0.5130434782608696,0.349,49.0,0.0],[-0.25,0.8529411764705882,-1.5,-0.0967741935483871,0.2956521739130435,0.654,22.0,0.0],[0.25,-0.3235294117647059,-0.5,-0.0967741935483871,0.21739130434782608,0.279,26.0,0.0],[0.5,-0.5294117647058824,0.625,-0.7096774193548387,-0.4260869565217391,0.237,29.0,0.0],[0.5,0.7941176470588235,0.875,-0.7096774193548387,-0.4260869565217391,0.252,30.0,0.0],[0.25,-1.4411764705882353,0.75,0.1935483870967742,-0.4260869565217391,0.243,46.0,0.0],[-0.25,-0.5882352941176471,-0.5,-0.3225806451612903,-0.05217391304347826,0.58,24.0,0.0],[0.25,-0.5882352941176471,0.5,-0.7096774193548387,-0.4260869565217391,0.559,21.0,0.0],[0.75,1.411764705882353,0.0,-0.7096774193548387,-0.4260869565217391,0.207,63.0,0.0],[0.5,1.0588235294117647,0.5,-0.7096774193548387,-0.4260869565217391,0.52,67.0,1.0],[0.75,-0.3235294117647059,-1.0,0.1935483870967742,0.2956521739130435,0.499,30.0,0.0],[1.0,0.4117647058823529,0.125,-0.7096774193548387,-0.4260869565217391,0.368,29.0,1.0],[-0.5,-0.2647058823529412,-0.375,-0.16129032258064516,-0.4260869565217391,0.252,21.0,0.0],[0.25,-0.8529411764705882,1.0,-0.1935483870967742,0.14782608695652175,0.306,22.0,0.0],[-0.5,0.23529411764705882,-0.375,0.03225806451612903,0.34782608695652173,1.731,21.0,0.0],[-0.5,-0.7647058823529411,-0.375,0.0,0.14782608695652175,0.545,21.0,0.0],[0.0,-0.14705882352941177,-0.75,0.5806451612903226,0.391304347826087,0.225,25.0,0.0],[0.0,0.35294117647058826,-1.125,0.6774193548387096,0.9478260869565217,0.816,28.0,0.0],[-0.5,-0.35294117647058826,0.75,-0.22580645161290322,0.30434782608695654,0.299,22.0,0.0],[-0.25,-0.6764705882352942,-0.625,0.4838709677419355,0.22608695652173913,0.509,22.0,0.0],[-0.5,-0.5,1.875,0.5483870967741935,0.2,1.021,35.0,0.0],[-0.25,-0.08823529411764706,0.125,0.25806451612903225,0.28695652173913044,0.821,24.0,0.0],[-0.5,-0.14705882352941177,-0.125,0.0,-0.4260869565217391,0.236,22.0,0.0],[-0.25,-0.029411764705882353,-0.625,-0.45161290322580644,1.1565217391304348,0.947,21.0,0.0],[-0.25,-0.5882352941176471,-0.5,-0.12903225806451613,0.08695652173913043,1.268,25.0,0.0],[-0.25,0.4411764705882353,0.0,0.06451612903225806,0.5304347826086957,0.221,25.0,0.0],[-0.25,0.2647058823529412,-1.0,-0.2903225806451613,0.008695652173913044,0.205,24.0,0.0],[0.25,-0.29411764705882354,-0.125,0.03225806451612903,0.2782608695652174,0.949,28.0,0.0],[-0.25,-0.29411764705882354,-0.25,0.22580645161290322,1.2782608695652173,0.444,42.0,0.0],[0.5,0.17647058823529413,0.125,-0.3225806451612903,0.33043478260869563,0.463,37.0,0.0],[0.0,0.5,-0.75,0.06451612903225806,1.9652173913043478,1.6,25.0,0.0],[0.25,-0.4117647058823529,-0.875,0.3870967741935484,0.5739130434782609,0.944,39.0,0.0],[-0.5,0.6176470588235294,-0.25,0.5806451612903226,-0.4260869565217391,0.196,22.0,1.0],[0.25,-0.8235294117647058,0.0,-0.7096774193548387,-0.4260869565217391,0.389,25.0,0.0],[1.0,0.7941176470588235,-0.5625,-0.7096774193548387,-0.4260869565217391,0.151,55.0,0.0],[0.75,0.7647058823529411,0.875,0.6129032258064516,0.3391304347826087,0.286,35.0,1.0],[1.75,-1.1176470588235294,0.5,0.0967741935483871,-0.4260869565217391,0.28,38.0,0.0],[0.0,0.38235294117647056,-1.375,0.3225806451612903,1.008695652173913,0.52,26.0,0.0],[-0.5,-0.2647058823529412,-0.5,-0.7096774193548387,-0.4260869565217391,0.336,25.0,0.0],[1.0,-0.23529411764705882,1.25,0.5483870967741935,-0.4260869565217391,0.674,28.0,0.0],[-0.25,0.058823529411764705,0.125,0.25806451612903225,1.1043478260869566,0.528,25.0,0.0],[-0.25,0.9705882352941176,0.25,0.0,0.10434782608695652,0.256,21.0,0.0],[-0.5,0.8235294117647058,-0.625,0.41935483870967744,1.0260869565217392,0.534,21.0,1.0],[-0.25,-0.38235294117647056,-0.125,-0.03225806451612903,-0.4260869565217391,1.095,22.0,0.0],[-0.25,-0.7941176470588235,-0.125,-0.7096774193548387,-0.4260869565217391,0.624,27.0,0.0],[-0.25,0.2647058823529412,1.125,0.6129032258064516,1.0521739130434782,0.507,26.0,0.0],[0.0,-0.47058823529411764,-0.125,-0.12903225806451613,0.23478260869565218,0.561,21.0,0.0],[-0.5,-0.23529411764705882,-0.375,0.7741935483870968,0.25217391304347825,0.496,21.0,0.0],[0.0,0.14705882352941177,-0.375,0.0,-0.4260869565217391,0.421,21.0,0.0],[-0.5,0.7352941176470589,1.5,0.7741935483870968,0.8347826086956521,0.284,26.0,0.0],[0.25,-0.6176470588235294,0.25,-0.1935483870967742,0.3130434782608696,0.551,38.0,0.0],[-0.25,-0.8823529411764706,0.25,-0.3548387096774194,0.09565217391304348,0.527,22.0,0.0],[0.0,0.8529411764705882,0.3125,-0.7096774193548387,-0.4260869565217391,0.167,29.0,0.0],[-0.25,-0.5882352941176471,-0.125,-0.45161290322580644,-0.4260869565217391,1.138,36.0,0.0],[0.75,1.088235294117647,0.3125,-0.7096774193548387,-0.4260869565217391,0.434,28.0,0.0],[-0.25,-0.38235294117647056,0.0,-0.22580645161290322,-0.4260869565217391,0.147,21.0,0.0],[1.0,-0.08823529411764706,1.125,-0.7096774193548387,-0.4260869565217391,0.727,31.0,0.0],[0.0,-0.7941176470588235,-0.25,0.03225806451612903,0.008695652173913044,0.497,22.0,0.0],[0.5,0.20588235294117646,-0.375,0.16129032258064516,0.6173913043478261,0.23,24.0,0.0],[-0.25,-0.29411764705882354,0.125,-0.3225806451612903,0.1826086956521739,0.658,28.0,0.0],[-0.5,-0.4411764705882353,0.625,0.7419354838709677,0.3739130434782609,0.33,26.0,0.0],[-0.5,0.29411764705882354,0.25,-0.12903225806451613,0.12173913043478261,0.285,26.0,0.0],[-0.25,-0.8235294117647058,-0.375,-0.2903225806451613,0.4,0.415,23.0,0.0],[-0.5,-0.5588235294117647,-0.125,0.3225806451612903,1.4,0.381,25.0,0.0],[0.0,-0.29411764705882354,-1.0,0.1935483870967742,0.48695652173913045,0.498,24.0,0.0],[-0.25,0.7352941176470589,-1.0,-0.7096774193548387,-0.4260869565217391,0.687,62.0,0.0],[0.75,-0.7058823529411765,-0.125,0.1935483870967742,0.19130434782608696,0.364,24.0,0.0],[1.75,0.7058823529411765,0.25,0.3548387096774194,0.09565217391304348,0.46,81.0,0.0],[1.75,0.29411764705882354,0.125,0.0,0.06086956521739131,0.733,48.0,0.0],[-0.25,-1.1470588235294117,-0.5,-0.7096774193548387,-0.4260869565217391,0.416,26.0,0.0],[1.5,-1.0588235294117647,0.0,0.5806451612903226,0.0,0.705,39.0,0.0],[0.75,-0.6470588235294118,0.5,0.25806451612903225,-0.4260869565217391,0.258,37.0,0.0],[2.0,0.14705882352941177,1.75,-0.7096774193548387,-0.4260869565217391,1.022,34.0,0.0],[-0.5,0.4117647058823529,-0.875,-0.2903225806451613,0.48695652173913045,0.452,21.0,0.0],[-0.5,-1.0588235294117647,-1.125,-0.3870967741935484,-0.11304347826086956,0.269,22.0,0.0],[-0.5,-0.38235294117647056,-0.375,0.45161290322580644,0.4434782608695652,0.6,25.0,0.0],[1.0,1.2941176470588236,0.5,0.6129032258064516,0.7913043478260869,0.571,27.0,0.0],[-0.25,1.0,0.75,0.5806451612903226,-0.4260869565217391,0.607,28.0,0.0],[-0.5,0.7941176470588235,0.0,0.5161290322580645,-0.4260869565217391,0.17,22.0,0.0],[-0.5,0.2647058823529412,-0.25,0.16129032258064516,-0.4260869565217391,0.259,22.0,0.0],[1.25,0.7647058823529411,1.25,-0.7096774193548387,-0.4260869565217391,0.21,50.0,0.0],[0.5,0.11764705882352941,-0.375,-0.7096774193548387,-0.4260869565217391,0.126,24.0,0.0],[-0.5,0.7941176470588235,0.875,0.16129032258064516,-0.4260869565217391,0.231,59.0,0.0],[1.25,0.11764705882352941,0.375,-0.16129032258064516,0.5304347826086957,0.466,31.0,0.0],[1.5,0.47058823529411764,0.25,0.5161290322580645,0.22608695652173913,0.162,39.0,0.0],[0.5,0.6470588235294118,1.0,0.2903225806451613,-0.4260869565217391,0.419,63.0,0.0],[-0.5,0.38235294117647056,1.125,0.4838709677419355,-0.4260869565217391,0.197,29.0,0.0],[0.5,-0.7352941176470589,-0.75,0.0,0.0,0.306,28.0,0.0],[-0.5,-0.7647058823529411,0.75,0.2903225806451613,0.6608695652173913,0.233,23.0,0.0],[-0.5,0.7352941176470589,-0.125,0.6451612903225806,1.7478260869565216,0.365,24.0,1.0],[-0.5,1.8529411764705883,0.5,0.3225806451612903,1.8782608695652174,1.159,58.0,0.0],[0.5,-0.3235294117647059,0.125,-0.16129032258064516,-0.4260869565217391,0.294,28.0,0.0],[0.0,-0.7941176470588235,-0.3125,0.1935483870967742,0.14782608695652175,0.629,24.0,0.0],[0.0,-0.6176470588235294,1.25,0.25806451612903225,-0.4260869565217391,0.292,42.0,0.0],[0.5,-0.3235294117647059,-0.125,0.5161290322580645,-0.4260869565217391,0.145,33.0,0.0],[1.0,1.6470588235294117,0.25,-0.7096774193548387,-0.4260869565217391,0.304,66.0,0.0],[0.75,0.0,-0.125,-0.7096774193548387,-0.4260869565217391,0.292,30.0,0.0],[0.0,-0.8529411764705882,0.125,-0.22580645161290322,0.23478260869565218,0.547,25.0,0.0],[1.0,1.2941176470588236,0.25,0.3225806451612903,1.2521739130434784,0.839,39.0,0.0],[0.0,0.20588235294117646,1.25,-0.0967741935483871,0.19130434782608696,0.313,21.0,0.0],[0.25,-0.7647058823529411,0.125,0.3225806451612903,-0.4260869565217391,0.267,28.0,0.0],[1.25,-0.47058823529411764,-0.375,0.0967741935483871,0.2608695652173913,0.738,41.0,0.0],[0.25,-0.4117647058823529,0.5,0.5483870967741935,-0.4260869565217391,0.238,40.0,0.0],[2.0,-1.0294117647058822,0.75,-0.7096774193548387,-0.4260869565217391,0.263,38.0,0.0],[-0.25,0.5882352941176471,-0.625,0.03225806451612903,1.0521739130434782,0.692,21.0,0.0],[0.0,-0.7647058823529411,-1.25,0.03225806451612903,0.23478260869565218,0.968,21.0,0.0],[1.5,0.29411764705882354,0.5,-0.7096774193548387,-0.4260869565217391,0.409,64.0,0.0],[-0.5,0.8529411764705882,-0.5,-0.16129032258064516,1.4,0.207,21.0,0.0],[1.75,-0.5588235294117647,-0.125,-0.7096774193548387,-0.4260869565217391,0.2,58.0,0.0],[0.0,-0.5588235294117647,-0.5,-0.7096774193548387,-0.4260869565217391,0.525,22.0,0.0],[0.25,-0.3235294117647059,-1.0,-0.0967741935483871,0.3217391304347826,0.154,24.0,0.0],[1.25,0.4411764705882353,1.0,-0.7096774193548387,-0.4260869565217391,0.304,51.0,0.0],[0.0,-1.2352941176470589,0.0,0.3225806451612903,0.14782608695652175,0.187,25.0,0.0],[0.25,0.4117647058823529,0.625,0.3548387096774194,0.7043478260869566,0.305,26.0,0.0],[0.25,0.4411764705882353,-0.75,-0.7096774193548387,-0.4260869565217391,0.151,24.0,0.0],[0.25,-0.6764705882352942,-0.625,-0.12903225806451613,-0.4260869565217391,0.444,21.0,0.0],[-0.25,-0.38235294117647056,-0.375,-0.0967741935483871,0.28695652173913044,0.299,21.0,0.0],[0.25,0.17647058823529413,0.25,-0.22580645161290322,0.48695652173913045,0.107,24.0,0.0],[-0.5,0.20588235294117646,-0.25,0.2903225806451613,1.208695652173913,0.493,22.0,0.0],[-0.5,0.029411764705882353,-0.3125,-0.7096774193548387,-0.4260869565217391,0.66,31.0,0.0],[0.0,0.35294117647058826,-0.625,-0.12903225806451613,0.4956521739130435,0.717,22.0,0.0],[-0.5,-0.08823529411764706,0.375,-0.7096774193548387,-0.4260869565217391,0.686,24.0,0.0],[-0.25,-0.7058823529411765,-0.25,0.967741935483871,0.1391304347826087,0.917,29.0,0.0],[-0.25,-0.9705882352941176,-0.875,0.25806451612903225,0.06086956521739131,1.251,24.0,0.0],[-0.5,-0.14705882352941177,1.25,-0.7096774193548387,-0.4260869565217391,0.197,46.0,0.0],[-0.5,-1.5588235294117647,-0.625,-0.7096774193548387,-0.4260869565217391,0.735,67.0,0.0],[-0.5,0.5,0.625,0.4838709677419355,1.4,0.804,23.0,0.0],[0.5,-0.7647058823529411,1.25,0.03225806451612903,0.06086956521739131,0.159,25.0,0.0],[-0.25,-0.6470588235294118,0.5,0.22580645161290322,0.23478260869565218,0.365,29.0,0.0],[0.5,0.6176470588235294,-0.125,-0.03225806451612903,1.017391304347826,0.16,28.0,0.0],[-0.25,1.588235294117647,0.75,0.6774193548387096,0.1565217391304348,0.341,50.0,0.0],[-0.25,0.17647058823529413,0.0,0.1935483870967742,-0.4260869565217391,0.204,21.0,0.0],[0.25,-0.7647058823529411,-0.125,0.25806451612903225,0.4956521739130435,0.591,25.0,0.0],[1.0,0.11764705882352941,1.125,-0.7096774193548387,-0.4260869565217391,0.247,66.0,0.0],[-0.25,-0.6470588235294118,-0.5,0.06451612903225806,-0.043478260869565216,0.422,23.0,0.0],[-0.25,-0.7647058823529411,-0.375,0.03225806451612903,0.5739130434782609,0.471,28.0,0.0],[1.25,0.4117647058823529,0.0,0.3548387096774194,1.4434782608695653,0.161,37.0,0.0],[-0.25,-0.38235294117647056,0.0,0.5806451612903226,-0.4260869565217391,0.218,30.0,0.0],[1.5,0.0,0.375,-0.7096774193548387,-0.4260869565217391,0.237,58.0,0.0],[-0.25,-0.6764705882352942,-0.125,0.3870967741935484,0.24347826086956523,0.401,24.0,0.0],[1.0,-0.3235294117647059,-0.625,-0.0967741935483871,0.043478260869565216,0.497,32.0,0.0],[-0.5,-0.5588235294117647,0.625,-0.7096774193548387,-0.4260869565217391,0.601,27.0,0.0],[0.0,-0.4411764705882353,-1.0,-0.25806451612903225,0.3391304347826087,0.748,22.0,0.0],[-0.25,-0.3235294117647059,0.125,0.25806451612903225,-0.26956521739130435,0.412,21.0,0.0],[1.0,-0.5294117647058824,-0.5,0.3225806451612903,0.6695652173913044,0.085,46.0,0.0],[0.5,1.2941176470588236,0.125,0.22580645161290322,0.6695652173913044,0.338,37.0,0.0],[-0.5,0.3235294117647059,-0.25,0.25806451612903225,1.008695652173913,0.203,33.0,1.0],[0.25,-0.9411764705882353,0.0,-0.7096774193548387,-0.4260869565217391,0.27,39.0,0.0],[0.0,0.5882352941176471,1.625,-0.7096774193548387,-0.4260869565217391,0.268,21.0,0.0],[0.25,0.029411764705882353,-0.75,0.2903225806451613,-0.043478260869565216,0.43,22.0,0.0],[0.0,-0.35294117647058826,-0.625,-0.16129032258064516,0.6173913043478261,0.198,22.0,0.0],[-0.25,0.2647058823529412,-1.625,0.8064516129032258,0.12173913043478261,0.28,25.0,0.0],[1.0,-0.058823529411764705,-1.625,-0.06451612903225806,0.7043478260869566,0.813,35.0,0.0],[2.0,0.6764705882352942,-0.125,-0.7096774193548387,-0.4260869565217391,0.245,36.0,0.0],[-0.5,1.2058823529411764,1.25,0.7741935483870968,-0.4260869565217391,0.371,21.0,1.0],[1.0,-0.029411764705882353,-0.625,0.16129032258064516,-0.4260869565217391,0.206,27.0,0.0],[1.5,-0.29411764705882354,0.375,-0.7096774193548387,-0.4260869565217391,0.19,42.0,0.0],[-0.25,-0.5,-0.875,-0.3548387096774194,-0.4260869565217391,0.417,22.0,0.0],[1.0,-0.20588235294117646,-0.25,-0.7096774193548387,-0.4260869565217391,0.249,29.0,0.0],[0.0,0.058823529411764705,0.5,0.9032258064516129,0.7913043478260869,0.175,24.0,0.0],[0.0,-0.8235294117647058,-1.125,0.0,0.5739130434782609,1.699,25.0,0.0],[1.0,0.38235294117647056,0.125,0.7419354838709677,1.5739130434782609,0.733,34.0,0.0],[-0.5,-1.2647058823529411,0.375,-0.7096774193548387,-0.4260869565217391,0.194,46.0,0.0],[-0.25,-0.058823529411764705,1.125,-0.0967741935483871,-0.4260869565217391,0.4,24.0,0.0],[-0.25,0.4117647058823529,0.25,0.45161290322580644,-0.4260869565217391,0.1,30.0,0.0],[1.25,1.1764705882352942,0.5,0.22580645161290322,0.6695652173913044,0.692,54.0,1.0],[-0.25,0.4117647058823529,-0.625,0.3225806451612903,-0.4260869565217391,0.514,21.0,0.0],[-0.25,-0.5294117647058824,-0.5,0.0967741935483871,-0.06956521739130435,0.482,25.0,0.0],[-0.5,1.2352941176470589,0.75,0.5483870967741935,1.9391304347826086,0.27,27.0,0.0],[-0.25,0.029411764705882353,-0.5,-0.2903225806451613,1.1565217391304348,0.138,23.0,0.0],[0.25,-0.11764705882352941,-1.0,-0.03225806451612903,0.9478260869565217,0.292,24.0,0.0],[1.0,-0.14705882352941177,0.625,0.1935483870967742,-0.4260869565217391,0.878,26.0,0.0],[0.25,-0.11764705882352941,0.125,-0.7096774193548387,-0.4260869565217391,0.207,27.0,0.0],[1.0,0.20588235294117646,1.625,-0.7096774193548387,-0.4260869565217391,0.157,30.0,0.0],[0.0,-1.2352941176470589,-0.5,-0.2903225806451613,-0.2956521739130435,0.257,23.0,0.0],[0.0,0.058823529411764705,1.0,0.6451612903225806,0.9652173913043478,0.246,28.0,0.0],[0.0,-0.5294117647058824,0.375,-0.06451612903225806,-0.4260869565217391,1.698,28.0,0.0],[-0.5,-0.47058823529411764,0.0,0.16129032258064516,0.5739130434782609,0.347,21.0,0.0],[0.0,-0.058823529411764705,-0.375,-0.7096774193548387,-0.4260869565217391,0.158,21.0,0.0],[0.5,-0.5882352941176471,1.125,0.8064516129032258,0.043478260869565216,0.362,29.0,0.0],[-0.5,0.4411764705882353,-0.125,-0.7096774193548387,-0.4260869565217391,0.206,21.0,0.0],[-0.5,0.6470588235294118,0.5,-0.7096774193548387,-0.4260869565217391,0.393,21.0,0.0],[0.75,0.5294117647058824,0.625,-0.7096774193548387,-0.4260869565217391,0.144,45.0,0.0],[0.5,-0.47058823529411764,-0.3125,0.0,-0.4260869565217391,0.148,21.0,0.0],[1.25,0.11764705882352941,-0.375,-0.7096774193548387,-0.4260869565217391,0.732,34.0,1.0],[-0.5,-0.23529411764705882,0.5,0.5806451612903226,0.3565217391304348,0.238,24.0,0.0],[0.0,0.029411764705882353,-0.625,-0.7096774193548387,-0.4260869565217391,0.343,23.0,0.0],[-0.25,0.5294117647058824,0.75,-0.16129032258064516,1.1652173913043478,0.115,22.0,0.0],[2.0,-0.5294117647058824,-0.5,-0.7096774193548387,-0.4260869565217391,0.167,31.0,0.0],[0.75,-0.17647058823529413,0.25,-0.7096774193548387,-0.4260869565217391,0.153,48.0,0.0],[0.0,-0.47058823529411764,0.375,-0.12903225806451613,0.14782608695652175,0.649,23.0,0.0],[-0.25,-0.29411764705882354,0.25,-0.3225806451612903,-0.02608695652173913,0.149,28.0,0.0],[-0.5,-0.23529411764705882,1.0,-0.16129032258064516,0.48695652173913045,0.695,27.0,0.0],[0.5,0.5294117647058824,0.0,-0.7096774193548387,-0.4260869565217391,0.303,24.0,0.0],[0.25,-0.20588235294117646,0.125,0.25806451612903225,0.8956521739130435,0.73,27.0,0.0],[-0.5,2.0294117647058822,-1.25,0.45161290322580644,0.9565217391304348,0.455,22.0,1.0],[-0.5,-0.08823529411764706,-0.625,0.0967741935483871,-0.4260869565217391,0.133,23.0,0.0],[-0.25,-0.5588235294117647,-1.0,0.0967741935483871,0.4434782608695652,0.234,23.0,0.0],[-0.25,0.20588235294117646,-0.625,0.03225806451612903,0.4956521739130435,0.466,27.0,0.0],[0.75,0.38235294117647056,0.25,0.5806451612903226,0.24347826086956523,0.269,28.0,0.0],[0.0,0.29411764705882354,-1.0,-0.7096774193548387,-0.4260869565217391,0.455,27.0,0.0],[-0.25,-0.11764705882352941,0.0,0.1935483870967742,0.7478260869565218,0.142,22.0,0.0],[0.0,-0.2647058823529412,-0.75,0.41935483870967744,0.3565217391304348,0.155,22.0,0.0],[-0.25,0.29411764705882354,0.625,0.8387096774193549,1.3130434782608695,1.162,41.0,0.0],[2.0,1.5294117647058822,0.875,-0.7096774193548387,-0.4260869565217391,0.182,54.0,0.0],[-0.25,0.058823529411764705,0.625,0.7419354838709677,0.7217391304347827,0.217,24.0,0.0],[1.0,-0.35294117647058826,-0.75,0.3548387096774194,1.2260869565217392,0.43,43.0,0.0],[1.75,1.2941176470588236,0.5,0.25806451612903225,0.4434782608695652,0.164,45.0,0.0],[1.0,1.6176470588235294,-0.125,0.12903225806451613,1.0347826086956522,0.631,49.0,0.0],[-0.25,-0.3235294117647059,-0.75,-0.3870967741935484,-0.4260869565217391,0.551,21.0,0.0],[0.25,0.38235294117647056,1.875,0.41935483870967744,1.6608695652173913,0.88,22.0,0.0],[1.5,-0.5588235294117647,0.75,-0.7096774193548387,-0.4260869565217391,0.587,68.0,0.0],[-0.5,-0.5,-0.625,-0.7096774193548387,-0.4260869565217391,0.263,25.0,0.0],[0.0,-0.2647058823529412,-0.75,-0.16129032258064516,1.8782608695652174,0.614,23.0,0.0],[0.0,-1.588235294117647,-0.875,0.1935483870967742,-0.034782608695652174,0.332,22.0,0.0],[-0.5,-0.4411764705882353,-0.375,0.5483870967741935,0.48695652173913045,0.366,22.0,0.0],[0.75,0.7647058823529411,0.75,-0.7096774193548387,-0.4260869565217391,0.64,69.0,0.0],[0.0,0.5588235294117647,0.25,0.12903225806451613,1.3565217391304347,0.591,25.0,0.0],[0.25,0.5882352941176471,-0.375,-0.7096774193548387,-0.4260869565217391,0.314,22.0,0.0],[-0.25,-0.08823529411764706,-1.25,-0.0967741935483871,-0.4260869565217391,0.181,29.0,0.0],[-0.25,0.8823529411764706,0.25,0.12903225806451613,1.1391304347826088,0.828,23.0,0.0],[1.5,-0.08823529411764706,0.625,-0.7096774193548387,-0.4260869565217391,0.856,34.0,0.0],[0.0,0.3235294117647059,0.0,0.3225806451612903,0.4,0.886,23.0,0.0],[0.0,-0.5882352941176471,-0.625,-0.7096774193548387,-0.4260869565217391,0.191,25.0,0.0],[0.5,0.5,1.125,-0.3548387096774194,0.9217391304347826,0.598,28.0,0.0],[0.5,0.23529411764705882,0.0,-0.7096774193548387,-0.4260869565217391,0.904,26.0,0.0],[0.0,0.35294117647058826,0.375,0.16129032258064516,1.3130434782608695,0.483,26.0,0.0],[-0.25,1.7058823529411764,1.125,0.22580645161290322,-0.4260869565217391,0.905,52.0,1.0],[0.5,0.0,0.375,-0.06451612903225806,0.4434782608695652,0.118,27.0,0.0],[1.0,-0.8823529411764706,0.625,0.45161290322580644,-0.4260869565217391,0.177,28.0,0.0],[0.75,0.47058823529411764,0.5,0.16129032258064516,-0.23478260869565218,0.439,40.0,0.0],[0.25,-0.23529411764705882,0.25,-0.7096774193548387,-0.4260869565217391,0.121,32.0,0.0],[2.0,-0.47058823529411764,0.125,-0.12903225806451613,-0.4260869565217391,0.595,56.0,0.0],[-0.25,-0.058823529411764705,-0.625,0.7741935483870968,1.1217391304347826,0.415,24.0,0.0],[0.5,-0.7941176470588235,1.0,-0.0967741935483871,-0.4260869565217391,0.317,34.0,0.0],[-0.25,0.11764705882352941,-0.25,0.45161290322580644,1.3130434782608695,0.289,21.0,0.0],[0.75,0.20588235294117646,1.0,0.25806451612903225,0.48695652173913045,0.251,42.0,0.0],[-0.25,0.029411764705882353,1.5,-0.7096774193548387,-0.4260869565217391,0.265,45.0,0.0],[0.5,0.058823529411764705,0.5,0.5806451612903226,-0.4260869565217391,0.236,38.0,0.0],[-0.25,0.17647058823529413,0.5,0.22580645161290322,1.1391304347826088,0.496,25.0,0.0],[-0.5,0.9117647058823529,0.875,0.12903225806451613,-0.4260869565217391,0.433,22.0,0.0],[0.0,1.911764705882353,1.125,-0.7096774193548387,-0.4260869565217391,0.326,22.0,0.0],[0.0,-0.5294117647058824,-1.125,-0.7096774193548387,-0.4260869565217391,0.141,22.0,0.0],[0.0,-0.11764705882352941,-0.875,0.16129032258064516,1.008695652173913,0.426,22.0,0.0],[0.0,-0.14705882352941177,0.3125,-0.7096774193548387,-0.4260869565217391,0.56,53.0,0.0],[0.5,-0.4411764705882353,-0.625,0.3225806451612903,-0.4260869565217391,0.284,28.0,0.0],[-0.5,0.47058823529411764,1.0,0.16129032258064516,0.6173913043478261,0.515,21.0,0.0],[1.5,-1.3235294117647058,0.125,0.03225806451612903,-0.4260869565217391,0.6,42.0,0.0],[0.0,-0.3235294117647059,-0.625,-0.16129032258064516,0.9652173913043478,0.453,21.0,0.0],[-0.25,-0.23529411764705882,0.25,-0.7096774193548387,-0.4260869565217391,0.293,42.0,1.0],[0.25,-0.23529411764705882,-1.625,-0.06451612903225806,0.391304347826087,0.4,26.0,0.0],[-0.25,-0.029411764705882353,-0.75,-0.12903225806451613,0.5826086956521739,0.219,22.0,0.0],[1.75,0.8823529411764706,1.5,-0.7096774193548387,-0.4260869565217391,0.734,45.0,1.0],[-0.25,-0.8529411764705882,0.25,0.6129032258064516,0.06956521739130435,1.096,32.0,0.0],[-0.25,0.3235294117647059,0.5,0.5483870967741935,0.21739130434782608,0.261,28.0,0.0],[0.25,-0.058823529411764705,-0.5,0.06451612903225806,-0.4260869565217391,0.223,25.0,0.0],[-0.25,0.5294117647058824,1.125,0.5483870967741935,0.5304347826086957,1.057,37.0,1.0],[1.25,0.7941176470588235,1.25,0.6129032258064516,-0.4260869565217391,0.391,39.0,0.0],[-0.25,-0.11764705882352941,0.375,-0.7096774193548387,-0.4260869565217391,0.197,26.0,0.0],[0.0,-0.6470588235294118,-0.75,0.12903225806451613,-0.28695652173913044,0.766,22.0,0.0],[1.75,-0.6176470588235294,-0.5,-0.7096774193548387,-0.4260869565217391,0.142,33.0,0.0],[2.0,-0.2647058823529412,0.375,0.8387096774193549,1.1391304347826088,0.171,63.0,0.0],[0.0,0.35294117647058826,0.0,0.16129032258064516,-0.4260869565217391,0.34,27.0,0.0],[0.75,0.3235294117647059,0.125,0.03225806451612903,0.5478260869565217,0.245,30.0,0.0],[-0.25,0.47058823529411764,-0.625,-0.7096774193548387,-0.4260869565217391,0.349,47.0,1.0],[-0.25,-0.5,0.0,0.2903225806451613,-0.4260869565217391,0.315,23.0,0.0]],\"hovertemplate\":\"F=%{x}<br>A=%{customdata[0]}<br>B=%{customdata[1]}<br>C=%{customdata[2]}<br>D=%{customdata[3]}<br>E=%{customdata[4]}<br>G=%{customdata[5]}<br>H=%{customdata[6]}<br>target=%{customdata[7]}<extra></extra>\",\"legendgroup\":\"\",\"marker\":{\"color\":\"#636efa\"},\"name\":\"\",\"notched\":true,\"offsetgroup\":\"\",\"showlegend\":false,\"x\":[26.6,28.1,25.6,37.6,27.1,25.8,39.3,35.4,31.1,23.2,34.1,36.0,31.6,24.8,19.9,27.6,24.0,40.2,22.7,27.4,29.7,28.0,19.4,24.2,24.4,23.0,46.8,40.5,41.5,32.9,25.4,29.0,42.7,19.6,28.9,32.9,28.6,35.1,32.0,32.6,37.7,25.0,22.4,29.3,24.6,32.4,38.5,26.5,19.1,32.0,46.7,24.7,33.9,31.6,20.4,28.7,49.7,26.1,22.5,26.6,39.6,28.7,29.5,34.3,31.2,34.0,33.7,28.2,23.2,34.2,33.6,26.8,42.9,33.3,38.3,21.1,33.8,30.8,28.7,31.2,21.1,39.5,32.5,32.8,0.0,32.8,30.5,33.7,27.3,37.4,21.9,24.6,25.2,29.0,29.7,37.2,44.2,29.7,31.6,32.5,29.6,31.9,28.4,43.5,29.7,31.2,45.0,23.2,34.9,26.8,27.6,22.6,33.1,24.4,24.3,34.8,31.0,40.1,27.3,20.4,37.7,23.9,33.2,27.7,42.8,34.2,30.0,28.8,23.6,34.6,35.7,37.2,45.2,25.4,35.0,29.7,43.6,30.8,18.4,29.2,33.1,25.6,27.1,38.2,31.2,30.1,31.2,28.0,24.4,35.8,30.1,28.7,32.1,32.4,32.0,33.6,40.0,25.1,25.2,23.0,33.2,40.5,27.8,24.9,25.3,35.9,32.4,27.0,26.0,20.8,36.1,36.9,21.9,35.5,30.7,23.6,35.8,21.0,39.7,24.8,26.2,39.4,29.5,34.1,19.3,38.1,27.5,27.4,35.7,25.6,35.1,30.8,23.1,32.7,23.9,47.9,25.9,25.9,34.7,36.8,38.5,28.7,21.8,42.2,31.2,34.4,27.2,42.7,29.8,38.5,34.0,27.6,21.0,27.5,0.0,35.8,34.9,36.2,25.2,37.2,43.4,30.8,20.0,25.4,25.1,24.3,22.3,31.6,32.0,22.1,27.7,24.7,34.3,21.1,24.2,35.0,31.6,42.1,21.9,35.7,34.4,26.2,34.6,27.2,18.2,45.3,26.0,40.6,30.8,40.6,30.4,30.0,25.6,24.5,29.9,18.2,36.8,32.2,33.2,25.3,36.5,30.5,21.2,39.9,37.8,26.7,30.2,25.9,20.8,21.8,35.3,27.6,24.0,21.8,27.8,36.8,46.1,41.3,33.2,38.8,29.9,28.9,27.3,23.8,25.9,28.0,35.2,27.8,38.2,42.3,46.5,25.6,36.8,33.5,32.8,26.6,26.0,30.1,29.3,25.2,37.2,33.3,37.3,33.3,28.6,30.4,25.0,22.1,24.2,27.3,25.6,37.6,25.0,33.2,31.6,21.8,18.2,26.3,30.8,24.6,29.8,45.3,41.3,33.3,29.6,21.7,36.3,39.5,32.0,33.1,32.8,27.4,31.9,27.8,29.9,36.9,25.5,38.1,27.8,37.6,26.9,32.4,26.1,38.6,32.0,31.3,34.3,32.5,22.6,29.5,34.7,35.5,24.0,27.0,42.1,25.0,38.7,22.5,24.3,39.4,28.5,33.6,45.3,27.1,27.8,35.2,35.8,19.5,41.5,24.0,30.9,32.5,25.8,28.7,20.1,38.4,24.2,43.5,30.8,37.7,24.7,32.4,34.6,24.7,27.4,34.5,26.2,27.5,25.9,28.8,31.6,19.5,29.3,34.3,27.6,37.8,26.4,25.2,33.8,34.1,26.8,34.2,21.8,38.9,27.7,34.8,34.0,30.9,33.6,25.4,57.3,35.6,35.3,24.2,24.2,44.6,0.0,33.2,23.1,28.3,24.1,24.6,39.1,23.5,34.5,44.5,35.9,35.0,28.4,39.8,29.6,29.5,23.1,35.5,29.3,38.1,39.1,32.8,39.4,36.1,32.4,22.9,30.1,29.0,23.3,35.4,27.4,32.0,36.6,39.5,30.8,28.5,32.7,46.3,39.0,26.0,36.5,32.0,37.5,28.4,22.5,32.9,36.8,26.2,30.1,30.4],\"xaxis\":\"x2\",\"yaxis\":\"y2\",\"type\":\"box\"}],                        {\"template\":{\"data\":{\"bar\":[{\"error_x\":{\"color\":\"#2a3f5f\"},\"error_y\":{\"color\":\"#2a3f5f\"},\"marker\":{\"line\":{\"color\":\"#E5ECF6\",\"width\":0.5},\"pattern\":{\"fillmode\":\"overlay\",\"size\":10,\"solidity\":0.2}},\"type\":\"bar\"}],\"barpolar\":[{\"marker\":{\"line\":{\"color\":\"#E5ECF6\",\"width\":0.5},\"pattern\":{\"fillmode\":\"overlay\",\"size\":10,\"solidity\":0.2}},\"type\":\"barpolar\"}],\"carpet\":[{\"aaxis\":{\"endlinecolor\":\"#2a3f5f\",\"gridcolor\":\"white\",\"linecolor\":\"white\",\"minorgridcolor\":\"white\",\"startlinecolor\":\"#2a3f5f\"},\"baxis\":{\"endlinecolor\":\"#2a3f5f\",\"gridcolor\":\"white\",\"linecolor\":\"white\",\"minorgridcolor\":\"white\",\"startlinecolor\":\"#2a3f5f\"},\"type\":\"carpet\"}],\"choropleth\":[{\"colorbar\":{\"outlinewidth\":0,\"ticks\":\"\"},\"type\":\"choropleth\"}],\"contour\":[{\"colorbar\":{\"outlinewidth\":0,\"ticks\":\"\"},\"colorscale\":[[0.0,\"#0d0887\"],[0.1111111111111111,\"#46039f\"],[0.2222222222222222,\"#7201a8\"],[0.3333333333333333,\"#9c179e\"],[0.4444444444444444,\"#bd3786\"],[0.5555555555555556,\"#d8576b\"],[0.6666666666666666,\"#ed7953\"],[0.7777777777777778,\"#fb9f3a\"],[0.8888888888888888,\"#fdca26\"],[1.0,\"#f0f921\"]],\"type\":\"contour\"}],\"contourcarpet\":[{\"colorbar\":{\"outlinewidth\":0,\"ticks\":\"\"},\"type\":\"contourcarpet\"}],\"heatmap\":[{\"colorbar\":{\"outlinewidth\":0,\"ticks\":\"\"},\"colorscale\":[[0.0,\"#0d0887\"],[0.1111111111111111,\"#46039f\"],[0.2222222222222222,\"#7201a8\"],[0.3333333333333333,\"#9c179e\"],[0.4444444444444444,\"#bd3786\"],[0.5555555555555556,\"#d8576b\"],[0.6666666666666666,\"#ed7953\"],[0.7777777777777778,\"#fb9f3a\"],[0.8888888888888888,\"#fdca26\"],[1.0,\"#f0f921\"]],\"type\":\"heatmap\"}],\"heatmapgl\":[{\"colorbar\":{\"outlinewidth\":0,\"ticks\":\"\"},\"colorscale\":[[0.0,\"#0d0887\"],[0.1111111111111111,\"#46039f\"],[0.2222222222222222,\"#7201a8\"],[0.3333333333333333,\"#9c179e\"],[0.4444444444444444,\"#bd3786\"],[0.5555555555555556,\"#d8576b\"],[0.6666666666666666,\"#ed7953\"],[0.7777777777777778,\"#fb9f3a\"],[0.8888888888888888,\"#fdca26\"],[1.0,\"#f0f921\"]],\"type\":\"heatmapgl\"}],\"histogram\":[{\"marker\":{\"pattern\":{\"fillmode\":\"overlay\",\"size\":10,\"solidity\":0.2}},\"type\":\"histogram\"}],\"histogram2d\":[{\"colorbar\":{\"outlinewidth\":0,\"ticks\":\"\"},\"colorscale\":[[0.0,\"#0d0887\"],[0.1111111111111111,\"#46039f\"],[0.2222222222222222,\"#7201a8\"],[0.3333333333333333,\"#9c179e\"],[0.4444444444444444,\"#bd3786\"],[0.5555555555555556,\"#d8576b\"],[0.6666666666666666,\"#ed7953\"],[0.7777777777777778,\"#fb9f3a\"],[0.8888888888888888,\"#fdca26\"],[1.0,\"#f0f921\"]],\"type\":\"histogram2d\"}],\"histogram2dcontour\":[{\"colorbar\":{\"outlinewidth\":0,\"ticks\":\"\"},\"colorscale\":[[0.0,\"#0d0887\"],[0.1111111111111111,\"#46039f\"],[0.2222222222222222,\"#7201a8\"],[0.3333333333333333,\"#9c179e\"],[0.4444444444444444,\"#bd3786\"],[0.5555555555555556,\"#d8576b\"],[0.6666666666666666,\"#ed7953\"],[0.7777777777777778,\"#fb9f3a\"],[0.8888888888888888,\"#fdca26\"],[1.0,\"#f0f921\"]],\"type\":\"histogram2dcontour\"}],\"mesh3d\":[{\"colorbar\":{\"outlinewidth\":0,\"ticks\":\"\"},\"type\":\"mesh3d\"}],\"parcoords\":[{\"line\":{\"colorbar\":{\"outlinewidth\":0,\"ticks\":\"\"}},\"type\":\"parcoords\"}],\"pie\":[{\"automargin\":true,\"type\":\"pie\"}],\"scatter\":[{\"marker\":{\"colorbar\":{\"outlinewidth\":0,\"ticks\":\"\"}},\"type\":\"scatter\"}],\"scatter3d\":[{\"line\":{\"colorbar\":{\"outlinewidth\":0,\"ticks\":\"\"}},\"marker\":{\"colorbar\":{\"outlinewidth\":0,\"ticks\":\"\"}},\"type\":\"scatter3d\"}],\"scattercarpet\":[{\"marker\":{\"colorbar\":{\"outlinewidth\":0,\"ticks\":\"\"}},\"type\":\"scattercarpet\"}],\"scattergeo\":[{\"marker\":{\"colorbar\":{\"outlinewidth\":0,\"ticks\":\"\"}},\"type\":\"scattergeo\"}],\"scattergl\":[{\"marker\":{\"colorbar\":{\"outlinewidth\":0,\"ticks\":\"\"}},\"type\":\"scattergl\"}],\"scattermapbox\":[{\"marker\":{\"colorbar\":{\"outlinewidth\":0,\"ticks\":\"\"}},\"type\":\"scattermapbox\"}],\"scatterpolar\":[{\"marker\":{\"colorbar\":{\"outlinewidth\":0,\"ticks\":\"\"}},\"type\":\"scatterpolar\"}],\"scatterpolargl\":[{\"marker\":{\"colorbar\":{\"outlinewidth\":0,\"ticks\":\"\"}},\"type\":\"scatterpolargl\"}],\"scatterternary\":[{\"marker\":{\"colorbar\":{\"outlinewidth\":0,\"ticks\":\"\"}},\"type\":\"scatterternary\"}],\"surface\":[{\"colorbar\":{\"outlinewidth\":0,\"ticks\":\"\"},\"colorscale\":[[0.0,\"#0d0887\"],[0.1111111111111111,\"#46039f\"],[0.2222222222222222,\"#7201a8\"],[0.3333333333333333,\"#9c179e\"],[0.4444444444444444,\"#bd3786\"],[0.5555555555555556,\"#d8576b\"],[0.6666666666666666,\"#ed7953\"],[0.7777777777777778,\"#fb9f3a\"],[0.8888888888888888,\"#fdca26\"],[1.0,\"#f0f921\"]],\"type\":\"surface\"}],\"table\":[{\"cells\":{\"fill\":{\"color\":\"#EBF0F8\"},\"line\":{\"color\":\"white\"}},\"header\":{\"fill\":{\"color\":\"#C8D4E3\"},\"line\":{\"color\":\"white\"}},\"type\":\"table\"}]},\"layout\":{\"annotationdefaults\":{\"arrowcolor\":\"#2a3f5f\",\"arrowhead\":0,\"arrowwidth\":1},\"autotypenumbers\":\"strict\",\"coloraxis\":{\"colorbar\":{\"outlinewidth\":0,\"ticks\":\"\"}},\"colorscale\":{\"diverging\":[[0,\"#8e0152\"],[0.1,\"#c51b7d\"],[0.2,\"#de77ae\"],[0.3,\"#f1b6da\"],[0.4,\"#fde0ef\"],[0.5,\"#f7f7f7\"],[0.6,\"#e6f5d0\"],[0.7,\"#b8e186\"],[0.8,\"#7fbc41\"],[0.9,\"#4d9221\"],[1,\"#276419\"]],\"sequential\":[[0.0,\"#0d0887\"],[0.1111111111111111,\"#46039f\"],[0.2222222222222222,\"#7201a8\"],[0.3333333333333333,\"#9c179e\"],[0.4444444444444444,\"#bd3786\"],[0.5555555555555556,\"#d8576b\"],[0.6666666666666666,\"#ed7953\"],[0.7777777777777778,\"#fb9f3a\"],[0.8888888888888888,\"#fdca26\"],[1.0,\"#f0f921\"]],\"sequentialminus\":[[0.0,\"#0d0887\"],[0.1111111111111111,\"#46039f\"],[0.2222222222222222,\"#7201a8\"],[0.3333333333333333,\"#9c179e\"],[0.4444444444444444,\"#bd3786\"],[0.5555555555555556,\"#d8576b\"],[0.6666666666666666,\"#ed7953\"],[0.7777777777777778,\"#fb9f3a\"],[0.8888888888888888,\"#fdca26\"],[1.0,\"#f0f921\"]]},\"colorway\":[\"#636efa\",\"#EF553B\",\"#00cc96\",\"#ab63fa\",\"#FFA15A\",\"#19d3f3\",\"#FF6692\",\"#B6E880\",\"#FF97FF\",\"#FECB52\"],\"font\":{\"color\":\"#2a3f5f\"},\"geo\":{\"bgcolor\":\"white\",\"lakecolor\":\"white\",\"landcolor\":\"#E5ECF6\",\"showlakes\":true,\"showland\":true,\"subunitcolor\":\"white\"},\"hoverlabel\":{\"align\":\"left\"},\"hovermode\":\"closest\",\"mapbox\":{\"style\":\"light\"},\"paper_bgcolor\":\"white\",\"plot_bgcolor\":\"#E5ECF6\",\"polar\":{\"angularaxis\":{\"gridcolor\":\"white\",\"linecolor\":\"white\",\"ticks\":\"\"},\"bgcolor\":\"#E5ECF6\",\"radialaxis\":{\"gridcolor\":\"white\",\"linecolor\":\"white\",\"ticks\":\"\"}},\"scene\":{\"xaxis\":{\"backgroundcolor\":\"#E5ECF6\",\"gridcolor\":\"white\",\"gridwidth\":2,\"linecolor\":\"white\",\"showbackground\":true,\"ticks\":\"\",\"zerolinecolor\":\"white\"},\"yaxis\":{\"backgroundcolor\":\"#E5ECF6\",\"gridcolor\":\"white\",\"gridwidth\":2,\"linecolor\":\"white\",\"showbackground\":true,\"ticks\":\"\",\"zerolinecolor\":\"white\"},\"zaxis\":{\"backgroundcolor\":\"#E5ECF6\",\"gridcolor\":\"white\",\"gridwidth\":2,\"linecolor\":\"white\",\"showbackground\":true,\"ticks\":\"\",\"zerolinecolor\":\"white\"}},\"shapedefaults\":{\"line\":{\"color\":\"#2a3f5f\"}},\"ternary\":{\"aaxis\":{\"gridcolor\":\"white\",\"linecolor\":\"white\",\"ticks\":\"\"},\"baxis\":{\"gridcolor\":\"white\",\"linecolor\":\"white\",\"ticks\":\"\"},\"bgcolor\":\"#E5ECF6\",\"caxis\":{\"gridcolor\":\"white\",\"linecolor\":\"white\",\"ticks\":\"\"}},\"title\":{\"x\":0.05},\"xaxis\":{\"automargin\":true,\"gridcolor\":\"white\",\"linecolor\":\"white\",\"ticks\":\"\",\"title\":{\"standoff\":15},\"zerolinecolor\":\"white\",\"zerolinewidth\":2},\"yaxis\":{\"automargin\":true,\"gridcolor\":\"white\",\"linecolor\":\"white\",\"ticks\":\"\",\"title\":{\"standoff\":15},\"zerolinecolor\":\"white\",\"zerolinewidth\":2}}},\"xaxis\":{\"anchor\":\"y\",\"domain\":[0.0,1.0],\"title\":{\"text\":\"F\"}},\"yaxis\":{\"anchor\":\"x\",\"domain\":[0.0,0.8316],\"title\":{\"text\":\"count\"}},\"xaxis2\":{\"anchor\":\"y2\",\"domain\":[0.0,1.0],\"matches\":\"x\",\"showticklabels\":false,\"showgrid\":true},\"yaxis2\":{\"anchor\":\"x2\",\"domain\":[0.8416,1.0],\"matches\":\"y2\",\"showticklabels\":false,\"showline\":false,\"ticks\":\"\",\"showgrid\":false},\"legend\":{\"tracegroupgap\":0},\"margin\":{\"t\":60},\"barmode\":\"relative\"},                        {\"responsive\": true}                    ).then(function(){\n",
              "                            \n",
              "var gd = document.getElementById('4d752b4d-417b-401c-9582-5322d4e81276');\n",
              "var x = new MutationObserver(function (mutations, observer) {{\n",
              "        var display = window.getComputedStyle(gd).display;\n",
              "        if (!display || display === 'none') {{\n",
              "            console.log([gd, 'removed!']);\n",
              "            Plotly.purge(gd);\n",
              "            observer.disconnect();\n",
              "        }}\n",
              "}});\n",
              "\n",
              "// Listen for the removal of the full notebook cells\n",
              "var notebookContainer = gd.closest('#notebook-container');\n",
              "if (notebookContainer) {{\n",
              "    x.observe(notebookContainer, {childList: true});\n",
              "}}\n",
              "\n",
              "// Listen for the clearing of the current output cell\n",
              "var outputEl = gd.closest('.output');\n",
              "if (outputEl) {{\n",
              "    x.observe(outputEl, {childList: true});\n",
              "}}\n",
              "\n",
              "                        })                };                            </script>        </div>\n",
              "</body>\n",
              "</html>"
            ]
          },
          "metadata": {}
        }
      ]
    },
    {
      "cell_type": "code",
      "source": [
        "print(\"skweness: \",df[\"F\"].skew())\n",
        "print(\"Kurtosis: \",df[\"F\"].kurt())"
      ],
      "metadata": {
        "colab": {
          "base_uri": "https://localhost:8080/"
        },
        "id": "um5cQjZKQY_M",
        "outputId": "c6e571e6-5282-43b7-b5b9-a49b1e58323c"
      },
      "execution_count": 55,
      "outputs": [
        {
          "output_type": "stream",
          "name": "stdout",
          "text": [
            "skweness:  -0.12203026596731152\n",
            "Kurtosis:  1.9619864051064235\n"
          ]
        }
      ]
    },
    {
      "cell_type": "code",
      "source": [
        "#standardizing dexa_freq_during_rx df\n",
        "scaled = StandardScaler().fit_transform(df['F'][:,np.newaxis]);\n",
        "low_range = scaled[scaled[:,0].argsort()][:10]\n",
        "high_range= scaled[scaled[:,0].argsort()][-10:]\n",
        "print('outer range (low) of the distribution:')\n",
        "print(low_range)\n",
        "print('\\nouter range (high) of the distribution:')\n",
        "print(high_range)"
      ],
      "metadata": {
        "colab": {
          "base_uri": "https://localhost:8080/"
        },
        "id": "-2U5VDDQRA9l",
        "outputId": "d8a59477-ff40-4e52-fb04-2ba069859972"
      },
      "execution_count": 56,
      "outputs": [
        {
          "output_type": "stream",
          "name": "stdout",
          "text": [
            "outer range (low) of the distribution:\n",
            "[[-4.46554368]\n",
            " [-4.46554368]\n",
            " [-4.46554368]\n",
            " [-1.82239359]\n",
            " [-1.82239359]\n",
            " [-1.82239359]\n",
            " [-1.79334798]\n",
            " [-1.69168836]\n",
            " [-1.66264276]\n",
            " [-1.64811995]]\n",
            "\n",
            "outer range (high) of the distribution:\n",
            "[[2.11328595]\n",
            " [2.11328595]\n",
            " [2.22946837]\n",
            " [2.25851397]\n",
            " [2.28755958]\n",
            " [2.31660519]\n",
            " [2.33112799]\n",
            " [2.49087882]\n",
            " [2.75228927]\n",
            " [3.85602227]]\n"
          ]
        }
      ]
    },
    {
      "cell_type": "code",
      "source": [
        "scaler = RobustScaler()\n",
        "df['F'] = scaler.fit_transform(df['F'].values.reshape(-1,1))"
      ],
      "metadata": {
        "id": "iw6y3kCRR7v7"
      },
      "execution_count": 57,
      "outputs": []
    },
    {
      "cell_type": "code",
      "execution_count": 58,
      "metadata": {
        "colab": {
          "base_uri": "https://localhost:8080/",
          "height": 0
        },
        "outputId": "e30c9eb2-bb4a-4ec7-ba6f-cbd6dfd90919",
        "id": "q11NEZSldfZi"
      },
      "outputs": [
        {
          "output_type": "execute_result",
          "data": {
            "text/plain": [
              "' Detection '"
            ],
            "application/vnd.google.colaboratory.intrinsic+json": {
              "type": "string"
            }
          },
          "metadata": {},
          "execution_count": 58
        },
        {
          "output_type": "stream",
          "name": "stdout",
          "text": [
            "Old Shape:  (466, 9)\n",
            "lower [ 84 214 416]\n",
            "Upper [ 56 410]\n"
          ]
        },
        {
          "output_type": "execute_result",
          "data": {
            "text/plain": [
              "' Removing the Outliers '"
            ],
            "application/vnd.google.colaboratory.intrinsic+json": {
              "type": "string"
            }
          },
          "metadata": {},
          "execution_count": 58
        },
        {
          "output_type": "stream",
          "name": "stdout",
          "text": [
            "New Shape:  (461, 9)\n"
          ]
        }
      ],
      "source": [
        "''' Detection '''\n",
        "# IQR\n",
        "Q1 = np.percentile(df['F'], 25, \n",
        "                   interpolation = 'midpoint') \n",
        "  \n",
        "Q3 = np.percentile(df['F'], 75,\n",
        "                   interpolation = 'midpoint') \n",
        "IQR = Q3 - Q1 \n",
        "  \n",
        "print(\"Old Shape: \", df.shape) \n",
        "  \n",
        "# Upper bound\n",
        "upper = np.where(df['F'] >= (Q3+1.5*IQR))\n",
        "# Lower bound\n",
        "lower = np.where(df['F'] <= (Q1-1.5*IQR))\n",
        "  \n",
        "print(\"lower\",lower[0])\n",
        "print(\"Upper\",upper[0])\n",
        "\n",
        "''' Removing the Outliers '''\n",
        "df.drop(upper[0], inplace = True)\n",
        "df.drop(lower[0], inplace = True)\n",
        "\n",
        "print(\"New Shape: \", df.shape)\n",
        "\n",
        "df = df.reset_index(drop=True)"
      ]
    },
    {
      "cell_type": "markdown",
      "source": [
        "### ***G***"
      ],
      "metadata": {
        "id": "zUYqwXFoRhXJ"
      }
    },
    {
      "cell_type": "code",
      "source": [
        "fig = px.histogram(df, x=\"G\",\n",
        "                   marginal=\"box\", # or violin, rug\n",
        "                   hover_data=df.columns)\n",
        "fig.show()"
      ],
      "metadata": {
        "colab": {
          "base_uri": "https://localhost:8080/",
          "height": 0
        },
        "id": "1lYlyUaUPe_B",
        "outputId": "2351a210-c2ab-4a29-d86a-549c5c95d9dc"
      },
      "execution_count": 59,
      "outputs": [
        {
          "output_type": "display_data",
          "data": {
            "text/html": [
              "<html>\n",
              "<head><meta charset=\"utf-8\" /></head>\n",
              "<body>\n",
              "    <div>            <script src=\"https://cdnjs.cloudflare.com/ajax/libs/mathjax/2.7.5/MathJax.js?config=TeX-AMS-MML_SVG\"></script><script type=\"text/javascript\">if (window.MathJax) {MathJax.Hub.Config({SVG: {font: \"STIX-Web\"}});}</script>                <script type=\"text/javascript\">window.PlotlyConfig = {MathJaxConfig: 'local'};</script>\n",
              "        <script src=\"https://cdn.plot.ly/plotly-2.8.3.min.js\"></script>                <div id=\"960b6c01-7d2a-48f9-87c3-6340d95c2824\" class=\"plotly-graph-div\" style=\"height:525px; width:100%;\"></div>            <script type=\"text/javascript\">                                    window.PLOTLYENV=window.PLOTLYENV || {};                                    if (document.getElementById(\"960b6c01-7d2a-48f9-87c3-6340d95c2824\")) {                    Plotly.newPlot(                        \"960b6c01-7d2a-48f9-87c3-6340d95c2824\",                        [{\"alignmentgroup\":\"True\",\"bingroup\":\"x\",\"hovertemplate\":\"G=%{x}<br>count=%{y}<extra></extra>\",\"legendgroup\":\"\",\"marker\":{\"color\":\"#636efa\",\"pattern\":{\"shape\":\"\"}},\"name\":\"\",\"offsetgroup\":\"\",\"orientation\":\"v\",\"showlegend\":false,\"x\":[0.351,0.167,0.201,0.191,1.441,0.587,0.704,0.388,0.205,0.487,0.337,0.546,0.851,0.267,0.188,0.512,0.966,0.696,0.235,0.294,0.564,0.586,0.491,0.526,0.342,0.248,0.962,1.781,0.173,0.27,0.699,0.203,0.845,0.334,0.189,0.867,0.411,0.231,0.396,0.391,0.37,0.307,0.14,0.767,0.237,0.698,0.324,0.165,0.258,0.443,0.261,0.761,0.255,0.13,0.323,0.356,0.179,0.262,0.283,0.93,0.801,0.287,0.336,0.192,0.391,0.654,0.443,0.223,0.26,0.404,0.186,0.452,0.261,0.457,0.647,0.088,0.597,0.532,0.703,0.268,0.286,0.318,0.237,0.096,1.4,0.218,0.085,0.399,0.432,0.637,0.833,0.229,0.294,0.204,0.167,0.368,0.743,0.256,0.709,0.471,0.495,0.678,0.37,0.382,0.19,0.084,0.725,0.268,0.244,0.142,0.374,0.136,0.187,0.905,0.874,0.236,0.787,0.235,0.324,0.407,0.289,0.29,0.375,0.164,0.464,0.687,0.666,0.101,0.198,0.652,0.089,0.583,0.394,0.293,0.479,0.831,0.582,0.192,0.446,0.402,1.318,0.329,0.258,0.143,0.38,0.284,0.249,0.238,0.557,0.092,0.612,0.2,0.226,0.997,1.101,0.078,0.128,0.254,0.422,0.677,0.454,0.744,0.881,0.28,0.262,0.259,0.647,0.34,0.263,0.434,0.254,0.692,0.52,0.84,0.156,0.207,0.215,0.143,0.313,0.605,0.626,0.315,0.284,0.15,0.527,0.254,0.148,0.123,0.2,0.122,1.476,0.166,0.26,0.259,0.472,0.673,0.29,0.485,0.349,0.654,0.279,0.237,0.252,0.243,0.58,0.559,0.207,0.52,0.499,0.368,0.252,0.306,0.545,0.225,0.816,0.299,0.509,1.021,0.821,0.236,0.947,1.268,0.221,0.205,0.949,0.444,0.463,1.6,0.944,0.196,0.389,0.151,0.286,0.28,0.52,0.336,0.674,0.528,0.256,0.534,1.095,0.624,0.507,0.561,0.496,0.421,0.284,0.551,0.527,0.167,1.138,0.434,0.147,0.727,0.497,0.23,0.658,0.33,0.285,0.415,0.381,0.498,0.687,0.364,0.46,0.733,0.416,0.705,0.258,1.022,0.452,0.269,0.6,0.571,0.607,0.17,0.259,0.21,0.126,0.231,0.466,0.162,0.419,0.197,0.306,0.233,0.365,1.159,0.294,0.629,0.292,0.145,0.304,0.292,0.547,0.839,0.313,0.267,0.738,0.238,0.263,0.692,0.968,0.409,0.207,0.2,0.525,0.154,0.304,0.187,0.305,0.151,0.444,0.299,0.107,0.493,0.66,0.717,0.686,0.917,1.251,0.197,0.735,0.804,0.159,0.365,0.16,0.341,0.204,0.591,0.247,0.422,0.471,0.161,0.218,0.237,0.401,0.497,0.601,0.748,0.412,0.085,0.338,0.203,0.27,0.268,0.43,0.198,0.28,0.813,0.245,0.371,0.206,0.19,0.417,0.249,0.175,1.699,0.733,0.194,0.4,0.1,0.692,0.514,0.482,0.27,0.138,0.292,0.878,0.207,0.157,0.257,0.246,1.698,0.347,0.158,0.362,0.206,0.393,0.144,0.148,0.732,0.238,0.343,0.115,0.167,0.153,0.649,0.149,0.695,0.303,0.73,0.455,0.133,0.234,0.466,0.269,0.455,0.142,0.155,1.162,0.182,0.217,0.43,0.164,0.631,0.551,0.587,0.263,0.614,0.332,0.366,0.591,0.314,0.181,0.828,0.856,0.886,0.191,0.598,0.904,0.483,0.905,0.118,0.177,0.439,0.121,0.595,0.415,0.317,0.289,0.251,0.265,0.236,0.496,0.433,0.326,0.141,0.426,0.56,0.284,0.515,0.6,0.453,0.293,0.4,0.219,0.734,1.096,0.261,0.223,1.057,0.391,0.197,0.766,0.142,0.171,0.34,0.245,0.349,0.315],\"xaxis\":\"x\",\"yaxis\":\"y\",\"type\":\"histogram\"},{\"alignmentgroup\":\"True\",\"customdata\":[[-0.25,-0.7352941176470589,-0.25,0.22580645161290322,-0.4260869565217391,-0.4130434782608691,31.0,0.0],[-0.25,-0.6176470588235294,-0.25,0.03225806451612903,0.391304347826087,-0.2499999999999996,21.0,0.0],[0.75,0.17647058823529413,0.25,-0.7096774193548387,-0.4260869565217391,-0.5217391304347822,30.0,0.0],[0.5,0.0,1.375,-0.7096774193548387,-0.4260869565217391,0.782608695652174,30.0,0.0],[2.0,0.8529411764705882,0.625,-0.7096774193548387,-0.4260869565217391,-0.35869565217391264,57.0,0.0],[0.75,1.6470588235294117,0.125,-0.0967741935483871,1.0956521739130434,-0.4999999999999996,51.0,1.0],[0.25,0.47058823529411764,1.125,0.6129032258064516,1.617391304347826,0.9673913043478256,27.0,0.0],[1.5,-0.3235294117647059,0.875,-0.7096774193548387,-0.4260869565217391,0.5434782608695651,50.0,0.0],[2.0,0.4411764705882353,0.0,0.12903225806451613,0.5739130434782609,0.07608695652173941,41.0,1.0],[-0.25,-0.38235294117647056,-0.25,-0.22580645161290322,0.7913043478260869,-0.7826086956521736,22.0,0.0],[0.75,0.20588235294117646,1.375,-0.7096774193548387,-0.4260869565217391,0.40217391304347844,38.0,0.0],[0.75,-0.029411764705882353,0.3125,0.12903225806451613,-0.4260869565217391,0.608695652173913,60.0,0.0],[0.25,1.411764705882353,0.375,0.45161290322580644,1.7043478260869565,0.13043478260869593,28.0,1.0],[0.25,-0.6470588235294118,-0.75,-0.3548387096774194,0.043478260869565216,-0.6086956521739126,22.0,0.0],[1.0,-0.5294117647058824,1.375,-0.7096774193548387,-0.4260869565217391,-1.1413043478260867,28.0,0.0],[2.0,0.35294117647058826,0.5,0.2903225806451613,-0.4260869565217391,-0.3043478260869561,45.0,0.0],[0.5,-0.20588235294117646,-0.625,0.3548387096774194,1.2434782608695651,-0.6956521739130431,33.0,0.0],[1.25,0.6764705882352942,0.875,-0.7096774193548387,-0.4260869565217391,1.065217391304348,37.0,0.0],[1.25,-0.11764705882352941,1.375,-0.12903225806451613,-0.4260869565217391,-0.83695652173913,48.0,0.0],[1.25,1.4411764705882353,-0.375,-0.7096774193548387,-0.4260869565217391,-0.326086956521739,40.0,0.0],[-0.25,1.0588235294117647,-0.875,-0.7096774193548387,-0.4260869565217391,-0.07608695652173902,29.0,0.0],[0.0,-1.1470588235294117,0.0,0.16129032258064516,-0.4260869565217391,-0.2608695652173911,22.0,0.0],[-0.25,-0.20588235294117646,0.625,-0.3548387096774194,0.28695652173913044,-1.195652173913043,22.0,0.0],[-0.25,-0.2647058823529412,-1.25,-0.22580645161290322,-0.11304347826086956,-0.6739130434782605,26.0,0.0],[0.75,-0.6470588235294118,-0.25,-0.03225806451612903,-0.22608695652173913,-0.652173913043478,30.0,0.0],[-0.25,-1.088235294117647,-1.25,-0.3870967741935484,-0.4260869565217391,-0.8043478260869561,21.0,0.0],[-0.5,-0.29411764705882354,1.125,1.2258064516129032,0.5304347826086957,1.7826086956521732,31.0,0.0],[-0.5,1.0588235294117647,0.75,-0.7096774193548387,-0.4260869565217391,1.0978260869565215,44.0,0.0],[-0.5,-0.14705882352941177,-0.375,0.6129032258064516,0.808695652173913,1.2065217391304346,22.0,0.0],[1.5,0.6764705882352942,0.125,-0.7096774193548387,-0.4260869565217391,0.27173913043478254,39.0,1.0],[0.0,0.9117647058823529,-0.75,0.3870967741935484,0.6869565217391305,-0.5434782608695651,24.0,0.0],[0.75,-0.3235294117647059,0.25,0.16129032258064516,-0.4260869565217391,-0.15217391304347805,32.0,0.0],[0.0,-0.029411764705882353,1.375,-0.7096774193548387,-0.4260869565217391,1.3369565217391304,54.0,0.0],[-0.25,-0.4411764705882353,-0.25,-0.2903225806451613,-0.09565217391304348,-1.17391304347826,25.0,0.0],[0.5,1.0588235294117647,0.9375,0.16129032258064516,0.4434782608695652,-0.1630434782608695,27.0,0.0],[0.0,-0.29411764705882354,-0.25,-0.06451612903225806,0.3565217391304348,0.27173913043478254,28.0,1.0],[0.75,0.8529411764705882,-0.375,0.41935483870967744,0.7913043478260869,-0.1956521739130431,26.0,0.0],[0.5,0.5588235294117647,1.0,-0.06451612903225806,1.9217391304347826,0.5108695652173915,23.0,0.0],[-0.25,-0.9117647058823529,0.3125,0.25806451612903225,-0.4260869565217391,0.17391304347826098,22.0,0.0],[1.25,-1.411764705882353,0.5,-0.7096774193548387,-0.4260869565217391,0.23913043478260892,41.0,0.0],[0.75,-0.4411764705882353,0.125,0.3548387096774194,-0.4260869565217391,0.7934782608695654,27.0,0.0],[0.0,0.058823529411764705,-0.25,0.0,-0.4260869565217391,-0.58695652173913,24.0,0.0],[0.25,0.08823529411764706,-1.625,-0.2903225806451613,-0.4260869565217391,-0.8695652173913041,22.0,0.0],[1.25,-0.7941176470588235,0.5,0.12903225806451613,0.19130434782608696,-0.11956521739130407,36.0,0.0],[-0.5,-0.2647058823529412,-0.3125,0.1935483870967742,-0.4260869565217391,-0.6304347826086951,22.0,0.0],[0.0,0.0,0.25,0.22580645161290322,0.6608695652173913,0.21739130434782603,27.0,0.0],[0.0,-0.29411764705882354,-0.125,0.0967741935483871,0.19130434782608696,0.8804347826086956,26.0,0.0],[-0.25,-0.08823529411764706,-0.125,-0.0967741935483871,-0.4260869565217391,-0.4239130434782606,24.0,0.0],[-0.25,-0.8823529411764706,-0.9375,-0.7096774193548387,-0.4260869565217391,-1.2282608695652166,21.0,0.0],[0.5,0.38235294117647056,0.625,-0.22580645161290322,1.1043478260869566,0.17391304347826098,34.0,0.0],[1.25,-0.8529411764705882,0.5,0.5806451612903226,-0.008695652173913044,1.7717391304347825,42.0,0.0],[0.0,0.9411764705882353,0.75,-0.12903225806451613,0.13043478260869565,-0.6195652173913041,21.0,0.0],[1.0,1.0,0.125,0.16129032258064516,1.5565217391304347,0.3804347826086955,40.0,0.0],[0.0,-0.5294117647058824,-0.5,0.1935483870967742,-0.4260869565217391,0.13043478260869593,24.0,0.0],[-0.25,-1.1470588235294117,-1.375,-0.12903225806451613,0.23478260869565218,-1.0869565217391302,22.0,0.0],[1.0,-0.5,-1.25,0.25806451612903225,0.13043478260869565,-0.18478260869565205,23.0,0.0],[-0.25,1.2058823529411764,-0.625,-0.7096774193548387,-0.4260869565217391,-0.4673913043478256,22.0,0.0],[-0.5,0.4411764705882353,1.625,-0.7096774193548387,-0.4260869565217391,-0.8586956521739126,21.0,0.0],[-0.25,-0.8529411764705882,0.125,-0.12903225806451613,-0.0782608695652174,-0.4130434782608691,24.0,0.0],[0.0,-0.7352941176470589,-0.3125,-0.7096774193548387,-0.4260869565217391,1.0,27.0,0.0],[-0.25,0.47058823529411764,-0.875,0.22580645161290322,0.8956521739130435,-0.18478260869565205,21.0,0.0],[0.5,1.0,-0.75,0.1935483870967742,0.7913043478260869,-0.09782608695652155,37.0,0.0],[0.25,-0.7941176470588235,-0.75,0.2903225806451613,-0.26956521739130435,0.4239130434782606,25.0,0.0],[-0.25,-0.6176470588235294,0.375,0.3870967741935484,-0.10434782608695652,0.08695652173913049,23.0,0.0],[0.5,-1.0,-0.5,-0.7096774193548387,-0.4260869565217391,0.391304347826087,25.0,0.0],[0.75,-0.9411764705882353,-1.375,-0.7096774193548387,-0.4260869565217391,0.3586956521739134,25.0,0.0],[0.5,-0.38235294117647056,-0.625,0.03225806451612903,-0.4260869565217391,-0.23913043478260854,22.0,0.0],[0.5,-0.3235294117647059,0.375,-0.22580645161290322,0.017391304347826087,-0.7826086956521736,21.0,0.0],[1.0,0.029411764705882353,-0.375,0.5483870967741935,-0.4260869565217391,0.4130434782608699,24.0,0.0],[0.0,-0.08823529411764706,0.25,0.25806451612903225,0.4434782608695652,0.34782608695652195,23.0,0.0],[0.75,0.6470588235294118,0.625,-0.7096774193548387,-0.4260869565217391,-0.3913043478260866,69.0,0.0],[0.25,0.29411764705882354,0.0,0.25806451612903225,0.7478260869565218,1.3586956521739126,30.0,0.0],[-0.25,0.23529411764705882,-0.75,0.45161290322580644,0.391304347826087,0.31521739130434756,23.0,0.0],[1.5,-0.7647058823529411,0.25,0.2903225806451613,-0.4260869565217391,0.8586956521739126,39.0,0.0],[0.0,-0.4117647058823529,-0.125,-0.2903225806451613,0.0,-1.0108695652173907,26.0,0.0],[0.0,0.4411764705882353,-0.625,-0.06451612903225806,0.7913043478260869,0.3695652173913041,31.0,0.0],[-0.5,-0.29411764705882354,0.0,0.12903225806451613,0.008695652173913044,0.04347826086956544,21.0,0.0],[-0.5,-0.5,-0.625,0.0967741935483871,0.3739130434782609,-0.18478260869565205,22.0,0.0],[-0.5,0.5588235294117647,0.625,-0.7096774193548387,-0.4260869565217391,0.08695652173913049,29.0,0.0],[0.25,0.5294117647058824,0.5,-0.7096774193548387,-0.4260869565217391,-1.0108695652173907,55.0,0.0],[0.75,-0.11764705882352941,0.75,0.25806451612903225,-0.4260869565217391,0.9891304347826085,38.0,0.0],[0.0,-0.058823529411764705,-1.125,0.12903225806451613,0.12173913043478261,0.2282608695652175,22.0,0.0],[0.5,1.2941176470588236,-0.5,0.2903225806451613,2.0434782608695654,0.2608695652173911,23.0,0.0],[1.75,-1.5588235294117647,0.625,0.4838709677419355,-0.4260869565217391,0.2608695652173911,41.0,0.0],[0.0,-0.11764705882352941,-0.375,0.41935483870967744,0.6086956521739131,0.010869565217391455,34.0,0.0],[0.75,1.088235294117647,0.5,-0.7096774193548387,-0.4260869565217391,0.3586956521739134,65.0,0.0],[0.0,-0.5882352941176471,0.0,-0.16129032258064516,-0.4260869565217391,-0.3369565217391301,22.0,0.0],[-0.25,0.7647058823529411,0.25,0.9032258064516129,1.3478260869565217,0.760869565217391,24.0,0.0],[0.5,0.11764705882352941,-0.3125,-0.7096774193548387,-0.4260869565217391,-0.9239130434782605,37.0,0.0],[0.0,-0.3235294117647059,-1.125,-0.22580645161290322,0.391304347826087,-0.6304347826086951,21.0,0.0],[-0.25,-0.029411764705882353,-0.875,-0.03225806451612903,0.7478260869565218,-0.5652173913043476,23.0,0.0],[0.0,-0.6470588235294118,0.25,-0.0967741935483871,0.034782608695652174,-0.15217391304347805,22.0,0.0],[0.5,1.2058823529411764,1.25,0.5161290322580645,-0.4260869565217391,-0.07608695652173902,36.0,0.0],[1.25,-0.23529411764705882,0.25,0.5806451612903226,0.48695652173913045,0.739130434782609,45.0,0.0],[-0.5,0.11764705882352941,0.625,0.3870967741935484,2.0521739130434784,1.5,27.0,0.0],[0.0,-0.29411764705882354,-0.375,0.03225806451612903,-0.4260869565217391,-0.07608695652173902,21.0,0.0],[-0.5,0.6176470588235294,1.125,-0.7096774193548387,-0.4260869565217391,0.13043478260869593,32.0,1.0],[0.25,1.1176470588235294,-0.25,0.0967741935483871,-0.4260869565217391,0.2282608695652175,22.0,0.0],[0.5,0.29411764705882354,-0.125,-0.7096774193548387,-0.4260869565217391,-0.0869565217391301,34.0,0.0],[0.5,0.0,-0.25,-0.7096774193548387,-0.4260869565217391,0.1630434782608695,29.0,0.0],[0.25,0.029411764705882353,1.25,-0.3225806451612903,0.25217391304347825,-0.21739130434782603,29.0,0.0],[-0.25,-0.9117647058823529,-0.625,0.6451612903225806,-0.008695652173913044,1.4239130434782605,23.0,0.0],[0.0,-1.0294117647058822,-0.375,0.06451612903225806,0.05217391304347826,-0.07608695652173902,33.0,0.0],[1.0,-0.7352941176470589,0.5,-0.7096774193548387,-0.4260869565217391,0.08695652173913049,42.0,0.0],[0.75,0.9705882352941176,0.5,-0.7096774193548387,-0.4260869565217391,1.5869565217391302,47.0,0.0],[1.0,-0.6764705882352942,0.625,-0.7096774193548387,-0.4260869565217391,-0.7826086956521736,32.0,0.0],[-0.5,0.2647058823529412,-0.375,-0.12903225806451613,0.3739130434782609,0.48913043478260854,23.0,0.0],[0.75,-1.088235294117647,-0.625,-0.7096774193548387,-0.4260869565217391,-0.3913043478260866,27.0,0.0],[0.5,0.9117647058823529,0.25,-0.7096774193548387,-0.4260869565217391,-0.3043478260869561,40.0,0.0],[0.25,0.029411764705882353,-0.5,-0.7096774193548387,-0.4260869565217391,-0.8478260869565212,21.0,0.0],[1.75,0.38235294117647056,0.0,0.7096774193548387,0.391304347826087,0.2934782608695654,40.0,0.0],[1.5,-0.7352941176470589,-0.9375,-0.06451612903225806,-0.4260869565217391,-0.652173913043478,42.0,0.0],[-0.25,-0.14705882352941177,-0.75,-0.7096774193548387,-0.4260869565217391,-0.6630434782608692,21.0,0.0],[0.5,-0.029411764705882353,-0.375,0.7096774193548387,0.43478260869565216,0.4782608695652171,26.0,1.0],[-0.5,0.08823529411764706,0.625,-0.1935483870967742,-0.4260869565217391,0.06521739130434796,21.0,0.0],[-0.25,0.8235294117647058,0.75,-0.7096774193548387,-0.4260869565217391,1.0543478260869565,28.0,0.0],[-0.5,-0.058823529411764705,-0.125,-0.06451612903225806,-0.4260869565217391,-0.3369565217391301,32.0,0.0],[0.0,-0.3235294117647059,0.0,-0.1935483870967742,-0.043478260869565216,-1.0869565217391302,27.0,0.0],[1.0,-0.20588235294117646,0.125,0.3225806451612903,1.2260869565217392,0.7934782608695654,55.0,0.0],[0.75,0.029411764705882353,0.125,0.1935483870967742,-0.4260869565217391,-0.7065217391304346,27.0,0.0],[-0.25,-0.4117647058823529,-0.375,0.16129032258064516,0.33043478260869563,0.3043478260869569,21.0,0.0],[0.0,-0.8529411764705882,-0.625,0.0,-0.4260869565217391,-0.293478260869565,25.0,0.0],[-0.5,1.088235294117647,0.9375,1.032258064516129,-0.4260869565217391,1.347826086956521,24.0,0.0],[1.25,2.0294117647058822,1.5625,0.2903225806451613,-0.4260869565217391,0.4130434782608699,60.0,0.0],[1.0,0.4411764705882353,-0.125,0.25806451612903225,0.6173913043478261,-0.04347826086956505,32.0,0.0],[1.25,0.9411764705882353,-0.625,0.3548387096774194,1.2260869565217392,-0.1739130434782606,61.0,0.0],[-0.25,-0.29411764705882354,-0.25,-0.22580645161290322,0.06086956521739131,-0.7391304347826082,26.0,0.0],[-0.25,-0.6764705882352942,0.5,0.16129032258064516,-0.14782608695652175,0.456521739130435,22.0,0.0],[-0.5,-0.2647058823529412,0.375,-0.7096774193548387,-0.4260869565217391,0.5760869565217395,26.0,0.0],[0.25,1.5294117647058822,-1.125,0.5161290322580645,-0.4260869565217391,0.739130434782609,24.0,1.0],[-0.5,0.20588235294117646,0.625,0.2903225806451613,0.034782608695652174,1.608695652173913,24.0,0.0],[-0.25,-0.9117647058823529,0.625,0.0967741935483871,-0.10434782608695652,-0.5434782608695651,22.0,0.0],[0.5,0.35294117647058826,-0.125,-0.7096774193548387,-0.4260869565217391,0.5,29.0,0.0],[0.25,-1.0588235294117647,-0.125,0.1935483870967742,-0.034782608695652174,-0.07608695652173902,23.0,0.0],[0.5,1.7941176470588236,0.125,-0.7096774193548387,-0.4260869565217391,1.434782608695652,26.0,1.0],[1.75,1.588235294117647,0.875,-0.03225806451612903,-0.4260869565217391,0.04347826086956544,32.0,1.0],[-0.5,-0.17647058823529413,0.375,-0.7096774193548387,-0.4260869565217391,-1.304347826086956,27.0,0.0],[-0.25,-0.5588235294117647,-0.375,0.06451612903225806,-0.4260869565217391,-0.13043478260869554,21.0,0.0],[0.5,-0.5588235294117647,0.0,0.3225806451612903,0.3391304347826087,0.2934782608695654,22.0,0.0],[0.25,0.8529411764705882,-1.0,-0.7096774193548387,-0.4260869565217391,-0.5217391304347822,22.0,1.0],[1.0,0.2647058823529412,-1.25,0.0,1.1043478260869566,-0.35869565217391264,33.0,1.0],[0.0,1.0588235294117647,0.375,0.41935483870967744,1.2608695652173914,0.847826086956522,29.0,0.0],[2.0,0.35294117647058826,-0.125,-0.7096774193548387,-0.4260869565217391,0.08695652173913049,41.0,0.0],[-0.25,0.029411764705882353,1.0,-0.0967741935483871,-0.4260869565217391,-0.03260869565217359,23.0,0.0],[1.75,-0.11764705882352941,-1.125,-0.7096774193548387,-0.4260869565217391,0.08695652173913049,42.0,0.0],[0.0,0.5588235294117647,0.875,-0.7096774193548387,-0.4260869565217391,-0.2608695652173911,27.0,0.0],[0.0,-0.5882352941176471,0.625,-0.25806451612903225,0.05217391304347826,-0.652173913043478,24.0,0.0],[-0.5,-0.7058823529411765,-0.125,0.3225806451612903,-0.4260869565217391,0.58695652173913,25.0,0.0],[0.25,0.029411764705882353,-0.875,0.5483870967741935,-0.4260869565217391,-0.03260869565217359,30.0,0.0],[0.0,0.11764705882352941,-0.125,0.0,-0.4260869565217391,-0.18478260869565205,25.0,0.0],[0.5,-0.4411764705882353,0.0,0.3225806451612903,-0.4260869565217391,0.18478260869565244,24.0,0.0],[0.25,0.9411764705882353,0.625,-0.22580645161290322,-0.4260869565217391,0.21739130434782603,63.0,0.0],[0.5,0.38235294117647056,-0.5,-0.7096774193548387,-0.4260869565217391,0.17391304347826098,35.0,1.0],[0.75,-0.4117647058823529,0.25,-0.12903225806451613,0.1565217391304348,0.34782608695652195,43.0,0.0],[0.0,0.5294117647058824,-0.375,0.6451612903225806,-0.4260869565217391,1.043478260869565,24.0,0.0],[-0.5,-0.23529411764705882,-1.125,-0.7096774193548387,-0.4260869565217391,-0.5760869565217387,21.0,0.0],[0.0,-0.058823529411764705,-0.5,0.3225806451612903,0.06086956521739131,-0.5652173913043476,21.0,0.0],[0.25,0.35294117647058826,0.5,-0.7096774193548387,-0.4260869565217391,-0.8043478260869561,40.0,0.0],[-0.25,-1.1470588235294117,0.5,0.9032258064516129,-0.034782608695652174,0.3043478260869569,21.0,0.0],[0.0,-0.29411764705882354,0.0,0.967741935483871,0.06956521739130435,1.0978260869565215,25.0,0.0],[-0.5,-0.17647058823529413,-0.375,0.03225806451612903,0.5826086956521739,-0.2826086956521736,23.0,0.0],[0.75,0.11764705882352941,0.25,-0.7096774193548387,-0.4260869565217391,-0.5978260869565215,57.0,0.0],[0.0,-0.058823529411764705,-0.5,-0.3870967741935484,1.991304347826087,-0.5543478260869561,22.0,0.0],[2.0,0.5588235294117647,0.375,0.1935483870967742,0.6347826086956522,0.5978260869565215,39.0,0.0],[1.25,0.6764705882352942,1.125,-0.22580645161290322,0.9217391304347826,0.21739130434782603,37.0,0.0],[0.0,-0.058823529411764705,0.625,-0.7096774193548387,-0.4260869565217391,-0.3695652173913041,52.0,1.0],[1.25,0.7647058823529411,0.25,0.12903225806451613,0.7478260869565218,-0.4782608695652171,51.0,0.0],[0.5,-0.4117647058823529,-0.875,-0.16129032258064516,0.0,-1.0434782608695647,26.0,0.0],[0.75,-0.058823529411764705,0.125,0.6774193548387096,0.22608695652173913,0.6195652173913044,33.0,0.0],[-0.5,-0.9411764705882353,1.125,0.22580645161290322,-0.0782608695652174,0.7065217391304346,21.0,0.0],[-0.5,1.5,-1.25,-0.7096774193548387,-0.4260869565217391,-0.9239130434782605,65.0,0.0],[1.0,1.2058823529411764,-0.5,0.2903225806451613,0.6173913043478261,0.5543478260869565,28.0,0.0],[-0.5,0.47058823529411764,0.875,0.22580645161290322,1.4434782608695653,0.03260869565217398,24.0,0.0],[1.5,0.058823529411764705,0.125,-0.7096774193548387,-0.4260869565217391,-0.7391304347826082,58.0,0.0],[0.75,-0.9705882352941176,0.75,0.6129032258064516,-0.06086956521739131,0.58695652173913,35.0,0.0],[0.25,1.1764705882352942,0.375,-0.7096774193548387,-0.4260869565217391,-1.021739130434782,37.0,0.0],[0.0,0.29411764705882354,0.375,0.4838709677419355,0.48695652173913045,1.0108695652173914,29.0,0.0],[-0.5,0.7941176470588235,-0.125,-0.25806451612903225,0.8608695652173913,-0.6086956521739126,21.0,0.0],[1.0,-0.8823529411764706,-0.25,0.25806451612903225,-0.4260869565217391,-0.4565217391304346,41.0,0.0],[-0.5,-0.11764705882352941,0.0,0.4838709677419355,0.8608695652173913,0.9782608695652171,22.0,0.0],[0.25,0.08823529411764706,-1.25,-0.3870967741935484,0.3130434782608696,-0.09782608695652155,25.0,0.0],[0.0,0.058823529411764705,-0.125,0.0,0.391304347826087,0.40217391304347844,26.0,0.0],[0.25,-0.3235294117647059,0.625,-0.3548387096774194,0.13043478260869565,-1.2065217391304341,30.0,0.0],[0.25,0.14705882352941177,-0.25,0.5483870967741935,0.7913043478260869,0.8369565217391305,28.0,0.0],[0.5,0.5588235294117647,-0.625,-0.3225806451612903,1.5826086956521739,-0.31521739130434756,31.0,0.0],[-0.5,0.4117647058823529,0.0,-0.06451612903225806,-0.4260869565217391,-0.326086956521739,36.0,1.0],[0.0,0.058823529411764705,0.3125,0.3225806451612903,-0.4260869565217391,0.5760869565217395,21.0,0.0],[-0.25,1.3823529411764706,0.125,-0.03225806451612903,1.0347826086956522,-0.5217391304347822,24.0,0.0],[2.0,2.0294117647058822,0.0,-0.7096774193548387,-0.4260869565217391,0.5108695652173915,37.0,0.0],[1.0,-0.14705882352941177,0.0,0.3225806451612903,0.16521739130434782,0.04347826086956544,37.0,0.0],[1.5,0.23529411764705882,0.125,-0.0967741935483871,-0.4260869565217391,-0.7934782608695646,46.0,0.0],[0.0,-0.6764705882352942,-0.75,-0.1935483870967742,0.02608695652173913,0.2500000000000004,25.0,0.0],[-0.25,-0.4411764705882353,-0.625,-0.12903225806451613,0.0782608695652174,-0.7065217391304346,22.0,0.0],[-0.5,1.6176470588235294,0.375,0.6774193548387096,1.791304347826087,1.9021739130434776,26.0,0.0],[-0.25,0.5882352941176471,0.0,-0.2903225806451613,0.48695652173913045,-0.48913043478260854,22.0,0.0],[-0.25,-0.4411764705882353,0.25,-0.03225806451612903,0.20869565217391303,-0.48913043478260854,36.0,0.0],[0.75,0.35294117647058826,1.0,-0.7096774193548387,-0.4260869565217391,0.4673913043478264,33.0,0.0],[1.5,-0.4411764705882353,0.125,-0.7096774193548387,-0.4260869565217391,0.6956521739130431,57.0,0.0],[1.5,0.47058823529411764,1.125,0.45161290322580644,0.5130434782608696,0.8804347826086956,49.0,0.0],[-0.25,0.8529411764705882,-1.5,-0.0967741935483871,0.2956521739130435,-0.18478260869565205,22.0,0.0],[0.25,-0.3235294117647059,-0.5,-0.0967741935483871,0.21739130434782608,-0.9347826086956517,26.0,0.0],[0.5,-0.5294117647058824,0.625,-0.7096774193548387,-0.4260869565217391,1.282608695652174,29.0,0.0],[0.5,0.7941176470588235,0.875,-0.7096774193548387,-0.4260869565217391,0.08695652173913049,30.0,0.0],[0.25,-1.4411764705882353,0.75,0.1935483870967742,-0.4260869565217391,0.43478260869565205,46.0,0.0],[-0.25,-0.5882352941176471,-0.5,-0.3225806451612903,-0.05217391304347826,-0.34782608695652156,24.0,0.0],[0.25,-0.5882352941176471,0.5,-0.7096774193548387,-0.4260869565217391,1.3369565217391304,21.0,0.0],[0.75,1.411764705882353,0.0,-0.7096774193548387,-0.4260869565217391,-0.06521739130434757,63.0,0.0],[0.5,1.0588235294117647,0.5,-0.7096774193548387,-0.4260869565217391,0.8804347826086956,67.0,1.0],[0.75,-0.3235294117647059,-1.0,0.1935483870967742,0.2956521739130435,0.391304347826087,30.0,0.0],[1.0,0.4117647058823529,0.125,-0.7096774193548387,-0.4260869565217391,-0.3043478260869561,29.0,1.0],[-0.5,-0.2647058823529412,-0.375,-0.16129032258064516,-0.4260869565217391,-1.021739130434782,21.0,0.0],[0.25,-0.8529411764705882,1.0,-0.1935483870967742,0.14782608695652175,-0.31521739130434756,22.0,0.0],[-0.5,-0.7647058823529411,-0.375,0.0,0.14782608695652175,0.58695652173913,21.0,0.0],[0.0,-0.14705882352941177,-0.75,0.5806451612903226,0.391304347826087,0.48913043478260854,25.0,0.0],[0.0,0.35294117647058826,-1.125,0.6774193548387096,0.9478260869565217,0.6304347826086959,28.0,0.0],[-0.5,-0.35294117647058826,0.75,-0.22580645161290322,0.30434782608695654,-0.5652173913043476,22.0,0.0],[-0.25,-0.6764705882352942,-0.625,0.4838709677419355,0.22608695652173913,0.739130434782609,22.0,0.0],[-0.5,-0.5,1.875,0.5483870967741935,0.2,1.4130434782608692,35.0,0.0],[-0.25,-0.08823529411764706,0.125,0.25806451612903225,0.28695652173913044,0.04347826086956544,24.0,0.0],[-0.5,-0.14705882352941177,-0.125,0.0,-0.4260869565217391,-1.1304347826086951,22.0,0.0],[-0.25,-0.029411764705882353,-0.625,-0.45161290322580644,1.1565217391304348,-0.5434782608695651,21.0,0.0],[-0.25,-0.5882352941176471,-0.5,-0.12903225806451613,0.08695652173913043,-0.5760869565217387,25.0,0.0],[-0.25,0.4411764705882353,0.0,0.06451612903225806,0.5304347826086957,-0.6630434782608692,25.0,0.0],[-0.25,0.2647058823529412,-1.0,-0.2903225806451613,0.008695652173913044,-0.8804347826086951,24.0,0.0],[0.25,-0.29411764705882354,-0.125,0.03225806451612903,0.2782608695652174,0.13043478260869593,28.0,0.0],[-0.25,-0.29411764705882354,-0.25,0.22580645161290322,1.2782608695652173,0.17391304347826098,42.0,0.0],[0.5,0.17647058823529413,0.125,-0.3225806451612903,0.33043478260869563,-0.9021739130434777,37.0,0.0],[0.0,0.5,-0.75,0.06451612903225806,1.9652173913043478,-0.293478260869565,25.0,0.0],[0.25,-0.4117647058823529,-0.875,0.3870967741935484,0.5739130434782609,-0.6195652173913041,39.0,0.0],[-0.5,0.6176470588235294,-0.25,0.5806451612903226,-0.4260869565217391,0.4239130434782606,22.0,1.0],[0.25,-0.8235294117647058,0.0,-0.7096774193548387,-0.4260869565217391,-1.0108695652173907,25.0,0.0],[1.0,0.7941176470588235,-0.5625,-0.7096774193548387,-0.4260869565217391,-0.6739130434782605,55.0,0.0],[0.75,0.7647058823529411,0.875,0.6129032258064516,0.3391304347826087,0.5,35.0,1.0],[1.75,-1.1176470588235294,0.5,0.0967741935483871,-0.4260869565217391,0.13043478260869593,38.0,0.0],[0.0,0.38235294117647056,-1.375,0.3225806451612903,1.008695652173913,1.2717391304347825,26.0,0.0],[-0.5,-0.2647058823529412,-0.5,-0.7096774193548387,-0.4260869565217391,-0.9239130434782605,25.0,0.0],[1.0,-0.23529411764705882,1.25,0.5483870967741935,-0.4260869565217391,0.5760869565217395,28.0,0.0],[-0.25,0.058823529411764705,0.125,0.25806451612903225,1.1043478260869566,0.43478260869565205,25.0,0.0],[-0.25,0.9705882352941176,0.25,0.0,0.10434782608695652,-0.4565217391304346,21.0,0.0],[-0.5,0.8235294117647058,-0.625,0.41935483870967744,1.0260869565217392,0.456521739130435,21.0,1.0],[-0.25,-0.38235294117647056,-0.125,-0.03225806451612903,-0.4260869565217391,-0.34782608695652156,22.0,0.0],[-0.25,-0.7941176470588235,-0.125,-0.7096774193548387,-0.4260869565217391,-1.3260869565217386,27.0,0.0],[-0.25,0.2647058823529412,1.125,0.6129032258064516,1.0521739130434782,1.6195652173913038,26.0,0.0],[0.0,-0.47058823529411764,-0.125,-0.12903225806451613,0.23478260869565218,-0.4782608695652171,21.0,0.0],[-0.5,-0.23529411764705882,-0.375,0.7741935483870968,0.25217391304347825,1.108695652173913,21.0,0.0],[0.0,0.14705882352941177,-0.375,0.0,-0.4260869565217391,0.04347826086956544,21.0,0.0],[-0.5,0.7352941176470589,1.5,0.7741935483870968,0.8347826086956521,1.108695652173913,26.0,0.0],[0.25,-0.6176470588235294,0.25,-0.1935483870967742,0.3130434782608696,0.0,38.0,0.0],[-0.25,-0.8823529411764706,0.25,-0.3548387096774194,0.09565217391304348,-0.04347826086956505,22.0,0.0],[0.0,0.8529411764705882,0.3125,-0.7096774193548387,-0.4260869565217391,-0.5217391304347822,29.0,0.0],[-0.25,-0.5882352941176471,-0.125,-0.45161290322580644,-0.4260869565217391,-0.6413043478260866,36.0,0.0],[0.75,1.088235294117647,0.3125,-0.7096774193548387,-0.4260869565217391,-0.054347826086956506,28.0,0.0],[-0.25,-0.38235294117647056,0.0,-0.22580645161290322,-0.4260869565217391,-1.3260869565217386,21.0,0.0],[1.0,-0.08823529411764706,1.125,-0.7096774193548387,-0.4260869565217391,0.6956521739130431,31.0,0.0],[0.0,-0.7941176470588235,-0.25,0.03225806451612903,0.008695652173913044,0.19565217391304388,22.0,0.0],[0.5,0.20588235294117646,-0.375,0.16129032258064516,0.6173913043478261,0.3043478260869569,24.0,0.0],[-0.25,-0.29411764705882354,0.125,-0.3225806451612903,0.1826086956521739,-0.5543478260869561,28.0,0.0],[-0.5,-0.4411764705882353,0.625,0.7419354838709677,0.3739130434782609,0.6630434782608695,26.0,0.0],[-0.5,0.29411764705882354,0.25,-0.12903225806451613,0.12173913043478261,0.010869565217391455,26.0,0.0],[-0.25,-0.8235294117647058,-0.375,-0.2903225806451613,0.4,-0.9999999999999997,23.0,0.0],[-0.5,-0.5588235294117647,-0.125,0.3225806451612903,1.4,1.0326086956521736,25.0,0.0],[0.0,-0.29411764705882354,-1.0,0.1935483870967742,0.48695652173913045,0.8043478260869561,24.0,0.0],[-0.25,0.7352941176470589,-1.0,-0.7096774193548387,-0.4260869565217391,-0.40217391304347805,62.0,0.0],[0.75,-0.7058823529411765,-0.125,0.1935483870967742,0.19130434782608696,-0.021739130434782525,24.0,0.0],[1.75,0.7058823529411765,0.25,0.3548387096774194,0.09565217391304348,-0.48913043478260854,81.0,0.0],[1.75,0.29411764705882354,0.125,0.0,0.06086956521739131,-1.0434782608695647,48.0,0.0],[-0.25,-1.1470588235294117,-0.5,-0.7096774193548387,-0.4260869565217391,-0.9347826086956517,26.0,0.0],[1.5,-1.0588235294117647,0.0,0.5806451612903226,0.0,0.5326086956521736,39.0,0.0],[0.75,-0.6470588235294118,0.5,0.25806451612903225,-0.4260869565217391,-0.3043478260869561,37.0,0.0],[2.0,0.14705882352941177,1.75,-0.7096774193548387,-0.4260869565217391,-0.6956521739130431,34.0,0.0],[-0.5,0.4117647058823529,-0.875,-0.2903225806451613,0.48695652173913045,-0.9347826086956517,21.0,0.0],[-0.5,-1.0588235294117647,-1.125,-0.3870967741935484,-0.11304347826086956,-0.2826086956521736,22.0,0.0],[-0.5,-0.38235294117647056,-0.375,0.45161290322580644,0.4434782608695652,0.6956521739130431,25.0,0.0],[1.0,1.2941176470588236,0.5,0.6129032258064516,0.7913043478260869,1.7065217391304346,27.0,0.0],[-0.25,1.0,0.75,0.5806451612903226,-0.4260869565217391,1.1847826086956517,28.0,0.0],[-0.5,0.7941176470588235,0.0,0.5161290322580645,-0.4260869565217391,0.3043478260869569,22.0,0.0],[-0.5,0.2647058823529412,-0.25,0.16129032258064516,-0.4260869565217391,0.9130434782608692,22.0,0.0],[1.25,0.7647058823529411,1.25,-0.7096774193548387,-0.4260869565217391,-0.054347826086956506,50.0,0.0],[0.5,0.11764705882352941,-0.375,-0.7096774193548387,-0.4260869565217391,-0.1630434782608695,24.0,0.0],[-0.5,0.7941176470588235,0.875,0.16129032258064516,-0.4260869565217391,-0.3369565217391301,59.0,0.0],[1.25,0.11764705882352941,0.375,-0.16129032258064516,0.5304347826086957,-0.7173913043478256,31.0,0.0],[1.5,0.47058823529411764,0.25,0.5161290322580645,0.22608695652173913,-0.48913043478260854,39.0,0.0],[0.5,0.6470588235294118,1.0,0.2903225806451613,-0.4260869565217391,-0.2608695652173911,63.0,0.0],[-0.5,0.38235294117647056,1.125,0.4838709677419355,-0.4260869565217391,0.5217391304347829,29.0,0.0],[0.5,-0.7352941176470589,-0.75,0.0,0.0,-0.2826086956521736,28.0,0.0],[-0.5,-0.7647058823529411,0.75,0.2903225806451613,0.6608695652173913,0.847826086956522,23.0,0.0],[-0.5,0.7352941176470589,-0.125,0.6451612903225806,1.7478260869565216,1.2934782608695647,24.0,1.0],[-0.5,1.8529411764705883,0.5,0.3225806451612903,1.8782608695652174,1.7499999999999996,58.0,0.0],[0.5,-0.3235294117647059,0.125,-0.16129032258064516,-0.4260869565217391,-0.5217391304347822,28.0,0.0],[0.0,-0.7941176470588235,-0.3125,0.1935483870967742,0.14782608695652175,0.6956521739130431,24.0,0.0],[0.0,-0.6176470588235294,1.25,0.25806451612903225,-0.4260869565217391,0.3369565217391305,42.0,0.0],[0.5,-0.3235294117647059,-0.125,0.5161290322580645,-0.4260869565217391,0.2608695652173911,33.0,0.0],[1.0,1.6470588235294117,0.25,-0.7096774193548387,-0.4260869565217391,-0.4130434782608691,66.0,0.0],[0.75,0.0,-0.125,-0.7096774193548387,-0.4260869565217391,-0.4782608695652171,30.0,0.0],[0.0,-0.8529411764705882,0.125,-0.22580645161290322,0.23478260869565218,-0.03260869565217359,25.0,0.0],[1.0,1.2941176470588236,0.25,0.3225806451612903,1.2521739130434784,-0.11956521739130407,39.0,0.0],[0.0,0.20588235294117646,1.25,-0.0967741935483871,0.19130434782608696,-0.5652173913043476,21.0,0.0],[0.25,-0.7647058823529411,0.125,0.3225806451612903,-0.4260869565217391,0.739130434782609,28.0,0.0],[1.25,-0.47058823529411764,-0.375,0.0967741935483871,0.2608695652173913,0.31521739130434756,41.0,0.0],[0.25,-0.4117647058823529,0.5,0.5483870967741935,-0.4260869565217391,0.7499999999999997,40.0,0.0],[2.0,-1.0294117647058822,0.75,-0.7096774193548387,-0.4260869565217391,0.31521739130434756,38.0,0.0],[-0.25,0.5882352941176471,-0.625,0.03225806451612903,1.0521739130434782,-0.1956521739130431,21.0,0.0],[0.0,-0.7647058823529411,-1.25,0.03225806451612903,0.23478260869565218,0.0,21.0,0.0],[1.5,0.29411764705882354,0.5,-0.7096774193548387,-0.4260869565217391,-0.58695652173913,64.0,0.0],[-0.5,0.8529411764705882,-0.5,-0.16129032258064516,1.4,-0.9021739130434777,21.0,0.0],[1.75,-0.5588235294117647,-0.125,-0.7096774193548387,-0.4260869565217391,-0.6739130434782605,58.0,0.0],[0.0,-0.5588235294117647,-0.5,-0.7096774193548387,-0.4260869565217391,-0.3369565217391301,22.0,0.0],[0.25,-0.3235294117647059,-1.0,-0.0967741935483871,0.3217391304347826,-0.5217391304347822,24.0,0.0],[1.25,0.4411764705882353,1.0,-0.7096774193548387,-0.4260869565217391,0.782608695652174,51.0,0.0],[0.0,-1.2352941176470589,0.0,0.3225806451612903,0.14782608695652175,-0.58695652173913,25.0,0.0],[0.25,0.4117647058823529,0.625,0.3548387096774194,0.7043478260869566,0.3043478260869569,26.0,0.0],[0.25,0.4411764705882353,-0.75,-0.7096774193548387,-0.4260869565217391,0.13043478260869593,24.0,0.0],[0.25,-0.6764705882352942,-0.625,-0.12903225806451613,-0.4260869565217391,-0.9347826086956517,21.0,0.0],[-0.25,-0.38235294117647056,-0.375,-0.0967741935483871,0.28695652173913044,-1.3260869565217386,21.0,0.0],[0.25,0.17647058823529413,0.25,-0.22580645161290322,0.48695652173913045,-0.4456521739130431,24.0,0.0],[-0.5,0.20588235294117646,-0.25,0.2903225806451613,1.208695652173913,0.04347826086956544,22.0,0.0],[-0.5,0.029411764705882353,-0.3125,-0.7096774193548387,-0.4260869565217391,-0.6304347826086951,31.0,0.0],[0.0,0.35294117647058826,-0.625,-0.12903225806451613,0.4956521739130435,-0.06521739130434757,22.0,0.0],[-0.5,-0.08823529411764706,0.375,-0.7096774193548387,-0.4260869565217391,1.6195652173913038,24.0,0.0],[-0.25,-0.7058823529411765,-0.25,0.967741935483871,0.1391304347826087,1.1847826086956517,29.0,0.0],[-0.25,-0.9705882352941176,-0.875,0.25806451612903225,0.06086956521739131,0.31521739130434756,24.0,0.0],[-0.5,-0.14705882352941177,1.25,-0.7096774193548387,-0.4260869565217391,-0.0869565217391301,46.0,0.0],[-0.5,-1.5588235294117647,-0.625,-0.7096774193548387,-0.4260869565217391,-0.9456521739130431,67.0,0.0],[-0.5,0.5,0.625,0.4838709677419355,1.4,0.6413043478260866,23.0,0.0],[0.5,-0.7647058823529411,1.25,0.03225806451612903,0.06086956521739131,0.9891304347826085,25.0,0.0],[-0.25,-0.6470588235294118,0.5,0.22580645161290322,0.23478260869565218,0.17391304347826098,29.0,0.0],[0.5,0.6176470588235294,-0.125,-0.03225806451612903,1.017391304347826,0.2934782608695654,28.0,0.0],[-0.25,1.588235294117647,0.75,0.6774193548387096,0.1565217391304348,0.2608695652173911,50.0,0.0],[-0.25,0.17647058823529413,0.0,0.1935483870967742,-0.4260869565217391,-0.326086956521739,21.0,0.0],[0.25,-0.7647058823529411,-0.125,0.25806451612903225,0.4956521739130435,0.1630434782608695,25.0,0.0],[1.0,0.11764705882352941,1.125,-0.7096774193548387,-0.4260869565217391,-0.2826086956521736,66.0,0.0],[-0.25,-0.6470588235294118,-0.5,0.06451612903225806,-0.043478260869565216,-0.054347826086956506,23.0,0.0],[-0.25,-0.7647058823529411,-0.375,0.03225806451612903,0.5739130434782609,0.7065217391304346,28.0,0.0],[1.25,0.4117647058823529,0.0,0.3548387096774194,1.4434782608695653,-0.5326086956521736,37.0,0.0],[-0.25,-0.38235294117647056,0.0,0.5806451612903226,-0.4260869565217391,0.8369565217391305,30.0,0.0],[1.5,0.0,0.375,-0.7096774193548387,-0.4260869565217391,-0.2826086956521736,58.0,0.0],[-0.25,-0.6764705882352942,-0.125,0.3870967741935484,0.24347826086956523,0.782608695652174,24.0,0.0],[1.0,-0.3235294117647059,-0.625,-0.0967741935483871,0.043478260869565216,-0.3804347826086955,32.0,0.0],[-0.5,-0.5588235294117647,0.625,-0.7096774193548387,-0.4260869565217391,0.21739130434782603,27.0,0.0],[0.0,-0.4411764705882353,-1.0,-0.25806451612903225,0.3391304347826087,-0.4673913043478256,22.0,0.0],[-0.25,-0.3235294117647059,0.125,0.25806451612903225,-0.26956521739130435,0.891304347826087,21.0,0.0],[1.0,-0.5294117647058824,-0.5,0.3225806451612903,0.6695652173913044,0.17391304347826098,46.0,0.0],[0.5,1.2941176470588236,0.125,0.22580645161290322,0.6695652173913044,0.09782608695652194,37.0,0.0],[-0.5,0.3235294117647059,-0.25,0.25806451612903225,1.008695652173913,0.4239130434782606,33.0,1.0],[0.25,-0.9411764705882353,0.0,-0.7096774193548387,-0.4260869565217391,0.2282608695652175,39.0,0.0],[0.0,0.5882352941176471,1.625,-0.7096774193548387,-0.4260869565217391,-0.8478260869565212,21.0,0.0],[0.25,0.029411764705882353,-0.75,0.2903225806451613,-0.043478260869565216,-0.09782608695652155,22.0,0.0],[0.0,-0.35294117647058826,-0.625,-0.16129032258064516,0.6173913043478261,0.4673913043478264,22.0,0.0],[-0.25,0.2647058823529412,-1.625,0.8064516129032258,0.12173913043478261,0.5543478260869565,25.0,0.0],[1.0,-0.058823529411764705,-1.625,-0.06451612903225806,0.7043478260869566,-0.6956521739130431,35.0,0.0],[2.0,0.6764705882352942,-0.125,-0.7096774193548387,-0.4260869565217391,-0.3695652173913041,36.0,0.0],[-0.5,1.2058823529411764,1.25,0.7741935483870968,-0.4260869565217391,1.2717391304347825,21.0,1.0],[1.0,-0.029411764705882353,-0.625,0.16129032258064516,-0.4260869565217391,-0.58695652173913,27.0,0.0],[1.5,-0.29411764705882354,0.375,-0.7096774193548387,-0.4260869565217391,0.9021739130434785,42.0,0.0],[-0.25,-0.5,-0.875,-0.3548387096774194,-0.4260869565217391,-0.8586956521739126,22.0,0.0],[1.0,-0.20588235294117646,-0.25,-0.7096774193548387,-0.4260869565217391,-0.6630434782608692,29.0,0.0],[0.0,0.058823529411764705,0.5,0.9032258064516129,0.7913043478260869,0.9782608695652171,24.0,0.0],[0.0,-0.8235294117647058,-1.125,0.0,0.5739130434782609,-0.20652173913043456,25.0,0.0],[1.0,0.38235294117647056,0.125,0.7419354838709677,1.5739130434782609,0.34782608695652195,34.0,0.0],[-0.5,-1.2647058823529411,0.375,-0.7096774193548387,-0.4260869565217391,1.6195652173913038,46.0,0.0],[-0.25,-0.058823529411764705,1.125,-0.0967741935483871,-0.4260869565217391,-0.35869565217391264,24.0,0.0],[-0.25,0.4117647058823529,0.25,0.45161290322580644,-0.4260869565217391,-0.2826086956521736,30.0,0.0],[1.25,1.1764705882352942,0.5,0.22580645161290322,0.6695652173913044,0.5217391304347829,54.0,1.0],[-0.25,0.4117647058823529,-0.625,0.3225806451612903,-0.4260869565217391,0.58695652173913,21.0,0.0],[-0.25,-0.5294117647058824,-0.5,0.0967741935483871,-0.06956521739130435,-1.1847826086956517,25.0,0.0],[-0.5,1.2352941176470589,0.75,0.5483870967741935,1.9391304347826086,1.2065217391304346,27.0,0.0],[-0.25,0.029411764705882353,-0.5,-0.2903225806451613,1.1565217391304348,-0.6956521739130431,23.0,0.0],[0.25,-0.11764705882352941,-1.0,-0.03225806451612903,0.9478260869565217,0.054347826086956506,24.0,0.0],[1.0,-0.14705882352941177,0.625,0.1935483870967742,-0.4260869565217391,0.2282608695652175,26.0,0.0],[0.25,-0.11764705882352941,0.125,-0.7096774193548387,-0.4260869565217391,-0.4999999999999996,27.0,0.0],[1.0,0.20588235294117646,1.625,-0.7096774193548387,-0.4260869565217391,-0.18478260869565205,30.0,0.0],[0.0,-1.2352941176470589,-0.5,-0.2903225806451613,-0.2956521739130435,-1.1195652173913038,23.0,0.0],[0.0,0.058823529411764705,1.0,0.6451612903225806,0.9652173913043478,0.8695652173913041,28.0,0.0],[0.0,-0.5294117647058824,0.375,-0.06451612903225806,-0.4260869565217391,-0.6739130434782605,28.0,0.0],[-0.5,-0.47058823529411764,0.0,0.16129032258064516,0.5739130434782609,1.4239130434782605,21.0,0.0],[0.0,-0.058823529411764705,-0.375,-0.7096774193548387,-0.4260869565217391,0.04347826086956544,21.0,0.0],[0.5,-0.5882352941176471,1.125,0.8064516129032258,0.043478260869565216,0.7934782608695654,29.0,0.0],[-0.5,0.4411764705882353,-0.125,-0.7096774193548387,-0.4260869565217391,-0.6195652173913041,21.0,0.0],[-0.5,0.6470588235294118,0.5,-0.7096774193548387,-0.4260869565217391,0.21739130434782603,21.0,0.0],[0.75,0.5294117647058824,0.625,-0.7096774193548387,-0.4260869565217391,0.456521739130435,45.0,0.0],[0.5,-0.47058823529411764,-0.3125,0.0,-0.4260869565217391,-0.6195652173913041,21.0,0.0],[1.25,0.11764705882352941,-0.375,-0.7096774193548387,-0.4260869565217391,-0.326086956521739,34.0,1.0],[-0.5,-0.23529411764705882,0.5,0.5806451612903226,0.3565217391304348,0.4456521739130435,24.0,0.0],[0.0,0.029411764705882353,-0.625,-0.7096774193548387,-0.4260869565217391,-0.4565217391304346,23.0,0.0],[-0.25,0.5294117647058824,0.75,-0.16129032258064516,1.1652173913043478,-0.31521739130434756,22.0,0.0],[2.0,-0.5294117647058824,-0.5,-0.7096774193548387,-0.4260869565217391,-0.48913043478260854,31.0,0.0],[0.75,-0.17647058823529413,0.25,-0.7096774193548387,-0.4260869565217391,-0.1739130434782606,48.0,0.0],[0.0,-0.47058823529411764,0.375,-0.12903225806451613,0.14782608695652175,0.13043478260869593,23.0,0.0],[-0.25,-0.29411764705882354,0.25,-0.3225806451612903,-0.02608695652173913,-1.1847826086956517,28.0,0.0],[-0.5,-0.23529411764705882,1.0,-0.16129032258064516,0.48695652173913045,-0.11956521739130407,27.0,0.0],[0.5,0.5294117647058824,0.0,-0.7096774193548387,-0.4260869565217391,0.4239130434782606,24.0,0.0],[0.25,-0.20588235294117646,0.125,0.25806451612903225,0.8956521739130435,-0.3043478260869561,27.0,0.0],[-0.5,2.0294117647058822,-1.25,0.45161290322580644,0.9565217391304348,0.8043478260869561,22.0,1.0],[-0.5,-0.08823529411764706,-0.625,0.0967741935483871,-0.4260869565217391,-0.43478260869565205,23.0,0.0],[-0.25,-0.5588235294117647,-1.0,0.0967741935483871,0.4434782608695652,-0.5652173913043476,23.0,0.0],[-0.25,0.20588235294117646,-0.625,0.03225806451612903,0.4956521739130435,0.3695652173913041,27.0,0.0],[0.75,0.38235294117647056,0.25,0.5806451612903226,0.24347826086956523,0.40217391304347844,28.0,0.0],[0.0,0.29411764705882354,-1.0,-0.7096774193548387,-0.4260869565217391,-0.3913043478260866,27.0,0.0],[-0.25,-0.11764705882352941,0.0,0.1935483870967742,0.7478260869565218,0.4130434782608699,22.0,0.0],[0.0,-0.2647058823529412,-0.75,0.41935483870967744,0.3565217391304348,-0.9347826086956517,22.0,0.0],[-0.25,0.29411764705882354,0.625,0.8387096774193549,1.3130434782608695,0.9239130434782605,41.0,0.0],[2.0,1.5294117647058822,0.875,-0.7096774193548387,-0.4260869565217391,-0.293478260869565,54.0,0.0],[-0.25,0.058823529411764705,0.625,0.7419354838709677,0.7217391304347827,0.4782608695652171,24.0,0.0],[1.0,-0.35294117647058826,-0.75,0.3548387096774194,1.2260869565217392,0.391304347826087,43.0,0.0],[1.75,1.2941176470588236,0.5,0.25806451612903225,0.4434782608695652,0.054347826086956506,45.0,0.0],[1.0,1.6176470588235294,-0.125,0.12903225806451613,1.0347826086956522,0.34782608695652195,49.0,0.0],[-0.25,-0.3235294117647059,-0.75,-0.3870967741935484,-0.4260869565217391,-0.5434782608695651,21.0,0.0],[1.5,-0.5588235294117647,0.75,-0.7096774193548387,-0.4260869565217391,0.565217391304348,68.0,0.0],[-0.5,-0.5,-0.625,-0.7096774193548387,-0.4260869565217391,0.5326086956521736,25.0,0.0],[0.0,-0.2647058823529412,-0.75,-0.16129032258064516,1.8782608695652174,-0.6739130434782605,23.0,0.0],[0.0,-1.588235294117647,-0.875,0.1935483870967742,-0.034782608695652174,-0.6739130434782605,22.0,0.0],[-0.5,-0.4411764705882353,-0.375,0.5483870967741935,0.48695652173913045,1.543478260869565,22.0,0.0],[0.0,0.5588235294117647,0.25,0.12903225806451613,1.3565217391304347,0.3043478260869569,25.0,0.0],[0.25,0.5882352941176471,-0.375,-0.7096774193548387,-0.4260869565217391,-0.7934782608695646,22.0,0.0],[-0.25,-0.08823529411764706,-1.25,-0.0967741935483871,-0.4260869565217391,-0.2282608695652171,29.0,0.0],[-0.25,0.8823529411764706,0.25,0.12903225806451613,1.1391304347826088,-0.6847826086956517,23.0,0.0],[1.5,-0.08823529411764706,0.625,-0.7096774193548387,-0.4260869565217391,-0.6304347826086951,34.0,0.0],[0.0,0.3235294117647059,0.0,0.3225806451612903,0.4,0.9456521739130435,23.0,0.0],[0.0,-0.5882352941176471,-0.625,-0.7096774193548387,-0.4260869565217391,-0.7499999999999997,25.0,0.0],[0.5,0.5,1.125,-0.3548387096774194,0.9217391304347826,0.4456521739130435,28.0,0.0],[0.5,0.23529411764705882,0.0,-0.7096774193548387,-0.4260869565217391,1.5326086956521736,26.0,0.0],[0.0,0.35294117647058826,0.375,0.16129032258064516,1.3130434782608695,0.5978260869565215,26.0,0.0],[-0.25,1.7058823529411764,1.125,0.22580645161290322,-0.4260869565217391,0.5,52.0,1.0],[0.5,0.0,0.375,-0.06451612903225806,0.4434782608695652,-0.21739130434782603,27.0,0.0],[1.0,-0.8823529411764706,0.625,0.45161290322580644,-0.4260869565217391,1.021739130434782,28.0,0.0],[0.75,0.47058823529411764,0.5,0.16129032258064516,-0.23478260869565218,-0.0869565217391301,40.0,0.0],[0.25,-0.23529411764705882,0.25,-0.7096774193548387,-0.4260869565217391,-0.09782608695652155,32.0,0.0],[2.0,-0.47058823529411764,0.125,-0.12903225806451613,-0.4260869565217391,-0.7934782608695646,56.0,0.0],[-0.25,-0.058823529411764705,-0.625,0.7741935483870968,1.1217391304347826,0.5543478260869565,24.0,0.0],[0.5,-0.7941176470588235,1.0,-0.0967741935483871,-0.4260869565217391,-0.11956521739130407,34.0,0.0],[-0.25,0.11764705882352941,-0.25,0.45161290322580644,1.3130434782608695,0.8369565217391305,21.0,0.0],[0.75,0.20588235294117646,1.0,0.25806451612903225,0.48695652173913045,0.9456521739130435,42.0,0.0],[-0.25,0.029411764705882353,1.5,-0.7096774193548387,-0.4260869565217391,0.2608695652173911,45.0,0.0],[0.5,0.058823529411764705,0.5,0.5806451612903226,-0.4260869565217391,0.9782608695652171,38.0,0.0],[-0.25,0.17647058823529413,0.5,0.22580645161290322,1.1391304347826088,0.6195652173913044,25.0,0.0],[-0.5,0.9117647058823529,0.875,0.12903225806451613,-0.4260869565217391,0.21739130434782603,22.0,0.0],[0.0,1.911764705882353,1.125,-0.7096774193548387,-0.4260869565217391,-0.8152173913043476,22.0,0.0],[0.0,-0.5294117647058824,-1.125,-0.7096774193548387,-0.4260869565217391,-0.03260869565217359,22.0,0.0],[0.0,-0.11764705882352941,-0.875,0.16129032258064516,1.008695652173913,-0.15217391304347805,22.0,0.0],[0.0,-0.14705882352941177,0.3125,-0.7096774193548387,-0.4260869565217391,-0.7717391304347822,53.0,0.0],[0.5,-0.4411764705882353,-0.625,0.3225806451612903,-0.4260869565217391,0.5434782608695651,28.0,0.0],[-0.5,0.47058823529411764,1.0,0.16129032258064516,0.6173913043478261,-0.326086956521739,21.0,0.0],[1.5,-1.3235294117647058,0.125,0.03225806451612903,-0.4260869565217391,0.17391304347826098,42.0,0.0],[0.0,-0.3235294117647059,-0.625,-0.16129032258064516,0.9652173913043478,0.673913043478261,21.0,0.0],[-0.25,-0.23529411764705882,0.25,-0.7096774193548387,-0.4260869565217391,0.9891304347826085,42.0,1.0],[0.25,-0.23529411764705882,-1.625,-0.06451612903225806,0.391304347826087,0.04347826086956544,26.0,0.0],[-0.25,-0.029411764705882353,-0.75,-0.12903225806451613,0.5826086956521739,-0.20652173913043456,22.0,0.0],[1.75,0.8823529411764706,1.5,-0.7096774193548387,-0.4260869565217391,0.2500000000000004,45.0,1.0],[-0.25,-0.8529411764705882,0.25,0.6129032258064516,0.06956521739130435,1.7282608695652166,32.0,0.0],[-0.25,0.3235294117647059,0.5,0.5483870967741935,0.21739130434782608,0.934782608695652,28.0,0.0],[0.25,-0.058823529411764705,-0.5,0.06451612903225806,-0.4260869565217391,-0.4782608695652171,25.0,0.0],[-0.25,0.5294117647058824,1.125,0.5483870967741935,0.5304347826086957,0.6630434782608695,37.0,1.0],[1.25,0.7941176470588235,1.25,0.6129032258064516,-0.4260869565217391,0.17391304347826098,39.0,0.0],[-0.25,-0.11764705882352941,0.375,-0.7096774193548387,-0.4260869565217391,0.7717391304347825,26.0,0.0],[0.0,-0.6470588235294118,-0.75,0.12903225806451613,-0.28695652173913044,-0.21739130434782603,22.0,0.0],[1.75,-0.6176470588235294,-0.5,-0.7096774193548387,-0.4260869565217391,-0.8586956521739126,33.0,0.0],[2.0,-0.2647058823529412,0.375,0.8387096774193549,1.1391304347826088,0.27173913043478254,63.0,0.0],[0.0,0.35294117647058826,0.0,0.16129032258064516,-0.4260869565217391,0.6956521739130431,27.0,0.0],[0.75,0.3235294117647059,0.125,0.03225806451612903,0.5478260869565217,-0.4565217391304346,30.0,0.0],[-0.25,0.47058823529411764,-0.625,-0.7096774193548387,-0.4260869565217391,-0.03260869565217359,47.0,1.0],[-0.25,-0.5,0.0,0.2903225806451613,-0.4260869565217391,0.0,23.0,0.0]],\"hovertemplate\":\"G=%{x}<br>A=%{customdata[0]}<br>B=%{customdata[1]}<br>C=%{customdata[2]}<br>D=%{customdata[3]}<br>E=%{customdata[4]}<br>F=%{customdata[5]}<br>H=%{customdata[6]}<br>target=%{customdata[7]}<extra></extra>\",\"legendgroup\":\"\",\"marker\":{\"color\":\"#636efa\"},\"name\":\"\",\"notched\":true,\"offsetgroup\":\"\",\"showlegend\":false,\"x\":[0.351,0.167,0.201,0.191,1.441,0.587,0.704,0.388,0.205,0.487,0.337,0.546,0.851,0.267,0.188,0.512,0.966,0.696,0.235,0.294,0.564,0.586,0.491,0.526,0.342,0.248,0.962,1.781,0.173,0.27,0.699,0.203,0.845,0.334,0.189,0.867,0.411,0.231,0.396,0.391,0.37,0.307,0.14,0.767,0.237,0.698,0.324,0.165,0.258,0.443,0.261,0.761,0.255,0.13,0.323,0.356,0.179,0.262,0.283,0.93,0.801,0.287,0.336,0.192,0.391,0.654,0.443,0.223,0.26,0.404,0.186,0.452,0.261,0.457,0.647,0.088,0.597,0.532,0.703,0.268,0.286,0.318,0.237,0.096,1.4,0.218,0.085,0.399,0.432,0.637,0.833,0.229,0.294,0.204,0.167,0.368,0.743,0.256,0.709,0.471,0.495,0.678,0.37,0.382,0.19,0.084,0.725,0.268,0.244,0.142,0.374,0.136,0.187,0.905,0.874,0.236,0.787,0.235,0.324,0.407,0.289,0.29,0.375,0.164,0.464,0.687,0.666,0.101,0.198,0.652,0.089,0.583,0.394,0.293,0.479,0.831,0.582,0.192,0.446,0.402,1.318,0.329,0.258,0.143,0.38,0.284,0.249,0.238,0.557,0.092,0.612,0.2,0.226,0.997,1.101,0.078,0.128,0.254,0.422,0.677,0.454,0.744,0.881,0.28,0.262,0.259,0.647,0.34,0.263,0.434,0.254,0.692,0.52,0.84,0.156,0.207,0.215,0.143,0.313,0.605,0.626,0.315,0.284,0.15,0.527,0.254,0.148,0.123,0.2,0.122,1.476,0.166,0.26,0.259,0.472,0.673,0.29,0.485,0.349,0.654,0.279,0.237,0.252,0.243,0.58,0.559,0.207,0.52,0.499,0.368,0.252,0.306,0.545,0.225,0.816,0.299,0.509,1.021,0.821,0.236,0.947,1.268,0.221,0.205,0.949,0.444,0.463,1.6,0.944,0.196,0.389,0.151,0.286,0.28,0.52,0.336,0.674,0.528,0.256,0.534,1.095,0.624,0.507,0.561,0.496,0.421,0.284,0.551,0.527,0.167,1.138,0.434,0.147,0.727,0.497,0.23,0.658,0.33,0.285,0.415,0.381,0.498,0.687,0.364,0.46,0.733,0.416,0.705,0.258,1.022,0.452,0.269,0.6,0.571,0.607,0.17,0.259,0.21,0.126,0.231,0.466,0.162,0.419,0.197,0.306,0.233,0.365,1.159,0.294,0.629,0.292,0.145,0.304,0.292,0.547,0.839,0.313,0.267,0.738,0.238,0.263,0.692,0.968,0.409,0.207,0.2,0.525,0.154,0.304,0.187,0.305,0.151,0.444,0.299,0.107,0.493,0.66,0.717,0.686,0.917,1.251,0.197,0.735,0.804,0.159,0.365,0.16,0.341,0.204,0.591,0.247,0.422,0.471,0.161,0.218,0.237,0.401,0.497,0.601,0.748,0.412,0.085,0.338,0.203,0.27,0.268,0.43,0.198,0.28,0.813,0.245,0.371,0.206,0.19,0.417,0.249,0.175,1.699,0.733,0.194,0.4,0.1,0.692,0.514,0.482,0.27,0.138,0.292,0.878,0.207,0.157,0.257,0.246,1.698,0.347,0.158,0.362,0.206,0.393,0.144,0.148,0.732,0.238,0.343,0.115,0.167,0.153,0.649,0.149,0.695,0.303,0.73,0.455,0.133,0.234,0.466,0.269,0.455,0.142,0.155,1.162,0.182,0.217,0.43,0.164,0.631,0.551,0.587,0.263,0.614,0.332,0.366,0.591,0.314,0.181,0.828,0.856,0.886,0.191,0.598,0.904,0.483,0.905,0.118,0.177,0.439,0.121,0.595,0.415,0.317,0.289,0.251,0.265,0.236,0.496,0.433,0.326,0.141,0.426,0.56,0.284,0.515,0.6,0.453,0.293,0.4,0.219,0.734,1.096,0.261,0.223,1.057,0.391,0.197,0.766,0.142,0.171,0.34,0.245,0.349,0.315],\"xaxis\":\"x2\",\"yaxis\":\"y2\",\"type\":\"box\"}],                        {\"template\":{\"data\":{\"bar\":[{\"error_x\":{\"color\":\"#2a3f5f\"},\"error_y\":{\"color\":\"#2a3f5f\"},\"marker\":{\"line\":{\"color\":\"#E5ECF6\",\"width\":0.5},\"pattern\":{\"fillmode\":\"overlay\",\"size\":10,\"solidity\":0.2}},\"type\":\"bar\"}],\"barpolar\":[{\"marker\":{\"line\":{\"color\":\"#E5ECF6\",\"width\":0.5},\"pattern\":{\"fillmode\":\"overlay\",\"size\":10,\"solidity\":0.2}},\"type\":\"barpolar\"}],\"carpet\":[{\"aaxis\":{\"endlinecolor\":\"#2a3f5f\",\"gridcolor\":\"white\",\"linecolor\":\"white\",\"minorgridcolor\":\"white\",\"startlinecolor\":\"#2a3f5f\"},\"baxis\":{\"endlinecolor\":\"#2a3f5f\",\"gridcolor\":\"white\",\"linecolor\":\"white\",\"minorgridcolor\":\"white\",\"startlinecolor\":\"#2a3f5f\"},\"type\":\"carpet\"}],\"choropleth\":[{\"colorbar\":{\"outlinewidth\":0,\"ticks\":\"\"},\"type\":\"choropleth\"}],\"contour\":[{\"colorbar\":{\"outlinewidth\":0,\"ticks\":\"\"},\"colorscale\":[[0.0,\"#0d0887\"],[0.1111111111111111,\"#46039f\"],[0.2222222222222222,\"#7201a8\"],[0.3333333333333333,\"#9c179e\"],[0.4444444444444444,\"#bd3786\"],[0.5555555555555556,\"#d8576b\"],[0.6666666666666666,\"#ed7953\"],[0.7777777777777778,\"#fb9f3a\"],[0.8888888888888888,\"#fdca26\"],[1.0,\"#f0f921\"]],\"type\":\"contour\"}],\"contourcarpet\":[{\"colorbar\":{\"outlinewidth\":0,\"ticks\":\"\"},\"type\":\"contourcarpet\"}],\"heatmap\":[{\"colorbar\":{\"outlinewidth\":0,\"ticks\":\"\"},\"colorscale\":[[0.0,\"#0d0887\"],[0.1111111111111111,\"#46039f\"],[0.2222222222222222,\"#7201a8\"],[0.3333333333333333,\"#9c179e\"],[0.4444444444444444,\"#bd3786\"],[0.5555555555555556,\"#d8576b\"],[0.6666666666666666,\"#ed7953\"],[0.7777777777777778,\"#fb9f3a\"],[0.8888888888888888,\"#fdca26\"],[1.0,\"#f0f921\"]],\"type\":\"heatmap\"}],\"heatmapgl\":[{\"colorbar\":{\"outlinewidth\":0,\"ticks\":\"\"},\"colorscale\":[[0.0,\"#0d0887\"],[0.1111111111111111,\"#46039f\"],[0.2222222222222222,\"#7201a8\"],[0.3333333333333333,\"#9c179e\"],[0.4444444444444444,\"#bd3786\"],[0.5555555555555556,\"#d8576b\"],[0.6666666666666666,\"#ed7953\"],[0.7777777777777778,\"#fb9f3a\"],[0.8888888888888888,\"#fdca26\"],[1.0,\"#f0f921\"]],\"type\":\"heatmapgl\"}],\"histogram\":[{\"marker\":{\"pattern\":{\"fillmode\":\"overlay\",\"size\":10,\"solidity\":0.2}},\"type\":\"histogram\"}],\"histogram2d\":[{\"colorbar\":{\"outlinewidth\":0,\"ticks\":\"\"},\"colorscale\":[[0.0,\"#0d0887\"],[0.1111111111111111,\"#46039f\"],[0.2222222222222222,\"#7201a8\"],[0.3333333333333333,\"#9c179e\"],[0.4444444444444444,\"#bd3786\"],[0.5555555555555556,\"#d8576b\"],[0.6666666666666666,\"#ed7953\"],[0.7777777777777778,\"#fb9f3a\"],[0.8888888888888888,\"#fdca26\"],[1.0,\"#f0f921\"]],\"type\":\"histogram2d\"}],\"histogram2dcontour\":[{\"colorbar\":{\"outlinewidth\":0,\"ticks\":\"\"},\"colorscale\":[[0.0,\"#0d0887\"],[0.1111111111111111,\"#46039f\"],[0.2222222222222222,\"#7201a8\"],[0.3333333333333333,\"#9c179e\"],[0.4444444444444444,\"#bd3786\"],[0.5555555555555556,\"#d8576b\"],[0.6666666666666666,\"#ed7953\"],[0.7777777777777778,\"#fb9f3a\"],[0.8888888888888888,\"#fdca26\"],[1.0,\"#f0f921\"]],\"type\":\"histogram2dcontour\"}],\"mesh3d\":[{\"colorbar\":{\"outlinewidth\":0,\"ticks\":\"\"},\"type\":\"mesh3d\"}],\"parcoords\":[{\"line\":{\"colorbar\":{\"outlinewidth\":0,\"ticks\":\"\"}},\"type\":\"parcoords\"}],\"pie\":[{\"automargin\":true,\"type\":\"pie\"}],\"scatter\":[{\"marker\":{\"colorbar\":{\"outlinewidth\":0,\"ticks\":\"\"}},\"type\":\"scatter\"}],\"scatter3d\":[{\"line\":{\"colorbar\":{\"outlinewidth\":0,\"ticks\":\"\"}},\"marker\":{\"colorbar\":{\"outlinewidth\":0,\"ticks\":\"\"}},\"type\":\"scatter3d\"}],\"scattercarpet\":[{\"marker\":{\"colorbar\":{\"outlinewidth\":0,\"ticks\":\"\"}},\"type\":\"scattercarpet\"}],\"scattergeo\":[{\"marker\":{\"colorbar\":{\"outlinewidth\":0,\"ticks\":\"\"}},\"type\":\"scattergeo\"}],\"scattergl\":[{\"marker\":{\"colorbar\":{\"outlinewidth\":0,\"ticks\":\"\"}},\"type\":\"scattergl\"}],\"scattermapbox\":[{\"marker\":{\"colorbar\":{\"outlinewidth\":0,\"ticks\":\"\"}},\"type\":\"scattermapbox\"}],\"scatterpolar\":[{\"marker\":{\"colorbar\":{\"outlinewidth\":0,\"ticks\":\"\"}},\"type\":\"scatterpolar\"}],\"scatterpolargl\":[{\"marker\":{\"colorbar\":{\"outlinewidth\":0,\"ticks\":\"\"}},\"type\":\"scatterpolargl\"}],\"scatterternary\":[{\"marker\":{\"colorbar\":{\"outlinewidth\":0,\"ticks\":\"\"}},\"type\":\"scatterternary\"}],\"surface\":[{\"colorbar\":{\"outlinewidth\":0,\"ticks\":\"\"},\"colorscale\":[[0.0,\"#0d0887\"],[0.1111111111111111,\"#46039f\"],[0.2222222222222222,\"#7201a8\"],[0.3333333333333333,\"#9c179e\"],[0.4444444444444444,\"#bd3786\"],[0.5555555555555556,\"#d8576b\"],[0.6666666666666666,\"#ed7953\"],[0.7777777777777778,\"#fb9f3a\"],[0.8888888888888888,\"#fdca26\"],[1.0,\"#f0f921\"]],\"type\":\"surface\"}],\"table\":[{\"cells\":{\"fill\":{\"color\":\"#EBF0F8\"},\"line\":{\"color\":\"white\"}},\"header\":{\"fill\":{\"color\":\"#C8D4E3\"},\"line\":{\"color\":\"white\"}},\"type\":\"table\"}]},\"layout\":{\"annotationdefaults\":{\"arrowcolor\":\"#2a3f5f\",\"arrowhead\":0,\"arrowwidth\":1},\"autotypenumbers\":\"strict\",\"coloraxis\":{\"colorbar\":{\"outlinewidth\":0,\"ticks\":\"\"}},\"colorscale\":{\"diverging\":[[0,\"#8e0152\"],[0.1,\"#c51b7d\"],[0.2,\"#de77ae\"],[0.3,\"#f1b6da\"],[0.4,\"#fde0ef\"],[0.5,\"#f7f7f7\"],[0.6,\"#e6f5d0\"],[0.7,\"#b8e186\"],[0.8,\"#7fbc41\"],[0.9,\"#4d9221\"],[1,\"#276419\"]],\"sequential\":[[0.0,\"#0d0887\"],[0.1111111111111111,\"#46039f\"],[0.2222222222222222,\"#7201a8\"],[0.3333333333333333,\"#9c179e\"],[0.4444444444444444,\"#bd3786\"],[0.5555555555555556,\"#d8576b\"],[0.6666666666666666,\"#ed7953\"],[0.7777777777777778,\"#fb9f3a\"],[0.8888888888888888,\"#fdca26\"],[1.0,\"#f0f921\"]],\"sequentialminus\":[[0.0,\"#0d0887\"],[0.1111111111111111,\"#46039f\"],[0.2222222222222222,\"#7201a8\"],[0.3333333333333333,\"#9c179e\"],[0.4444444444444444,\"#bd3786\"],[0.5555555555555556,\"#d8576b\"],[0.6666666666666666,\"#ed7953\"],[0.7777777777777778,\"#fb9f3a\"],[0.8888888888888888,\"#fdca26\"],[1.0,\"#f0f921\"]]},\"colorway\":[\"#636efa\",\"#EF553B\",\"#00cc96\",\"#ab63fa\",\"#FFA15A\",\"#19d3f3\",\"#FF6692\",\"#B6E880\",\"#FF97FF\",\"#FECB52\"],\"font\":{\"color\":\"#2a3f5f\"},\"geo\":{\"bgcolor\":\"white\",\"lakecolor\":\"white\",\"landcolor\":\"#E5ECF6\",\"showlakes\":true,\"showland\":true,\"subunitcolor\":\"white\"},\"hoverlabel\":{\"align\":\"left\"},\"hovermode\":\"closest\",\"mapbox\":{\"style\":\"light\"},\"paper_bgcolor\":\"white\",\"plot_bgcolor\":\"#E5ECF6\",\"polar\":{\"angularaxis\":{\"gridcolor\":\"white\",\"linecolor\":\"white\",\"ticks\":\"\"},\"bgcolor\":\"#E5ECF6\",\"radialaxis\":{\"gridcolor\":\"white\",\"linecolor\":\"white\",\"ticks\":\"\"}},\"scene\":{\"xaxis\":{\"backgroundcolor\":\"#E5ECF6\",\"gridcolor\":\"white\",\"gridwidth\":2,\"linecolor\":\"white\",\"showbackground\":true,\"ticks\":\"\",\"zerolinecolor\":\"white\"},\"yaxis\":{\"backgroundcolor\":\"#E5ECF6\",\"gridcolor\":\"white\",\"gridwidth\":2,\"linecolor\":\"white\",\"showbackground\":true,\"ticks\":\"\",\"zerolinecolor\":\"white\"},\"zaxis\":{\"backgroundcolor\":\"#E5ECF6\",\"gridcolor\":\"white\",\"gridwidth\":2,\"linecolor\":\"white\",\"showbackground\":true,\"ticks\":\"\",\"zerolinecolor\":\"white\"}},\"shapedefaults\":{\"line\":{\"color\":\"#2a3f5f\"}},\"ternary\":{\"aaxis\":{\"gridcolor\":\"white\",\"linecolor\":\"white\",\"ticks\":\"\"},\"baxis\":{\"gridcolor\":\"white\",\"linecolor\":\"white\",\"ticks\":\"\"},\"bgcolor\":\"#E5ECF6\",\"caxis\":{\"gridcolor\":\"white\",\"linecolor\":\"white\",\"ticks\":\"\"}},\"title\":{\"x\":0.05},\"xaxis\":{\"automargin\":true,\"gridcolor\":\"white\",\"linecolor\":\"white\",\"ticks\":\"\",\"title\":{\"standoff\":15},\"zerolinecolor\":\"white\",\"zerolinewidth\":2},\"yaxis\":{\"automargin\":true,\"gridcolor\":\"white\",\"linecolor\":\"white\",\"ticks\":\"\",\"title\":{\"standoff\":15},\"zerolinecolor\":\"white\",\"zerolinewidth\":2}}},\"xaxis\":{\"anchor\":\"y\",\"domain\":[0.0,1.0],\"title\":{\"text\":\"G\"}},\"yaxis\":{\"anchor\":\"x\",\"domain\":[0.0,0.8316],\"title\":{\"text\":\"count\"}},\"xaxis2\":{\"anchor\":\"y2\",\"domain\":[0.0,1.0],\"matches\":\"x\",\"showticklabels\":false,\"showgrid\":true},\"yaxis2\":{\"anchor\":\"x2\",\"domain\":[0.8416,1.0],\"matches\":\"y2\",\"showticklabels\":false,\"showline\":false,\"ticks\":\"\",\"showgrid\":false},\"legend\":{\"tracegroupgap\":0},\"margin\":{\"t\":60},\"barmode\":\"relative\"},                        {\"responsive\": true}                    ).then(function(){\n",
              "                            \n",
              "var gd = document.getElementById('960b6c01-7d2a-48f9-87c3-6340d95c2824');\n",
              "var x = new MutationObserver(function (mutations, observer) {{\n",
              "        var display = window.getComputedStyle(gd).display;\n",
              "        if (!display || display === 'none') {{\n",
              "            console.log([gd, 'removed!']);\n",
              "            Plotly.purge(gd);\n",
              "            observer.disconnect();\n",
              "        }}\n",
              "}});\n",
              "\n",
              "// Listen for the removal of the full notebook cells\n",
              "var notebookContainer = gd.closest('#notebook-container');\n",
              "if (notebookContainer) {{\n",
              "    x.observe(notebookContainer, {childList: true});\n",
              "}}\n",
              "\n",
              "// Listen for the clearing of the current output cell\n",
              "var outputEl = gd.closest('.output');\n",
              "if (outputEl) {{\n",
              "    x.observe(outputEl, {childList: true});\n",
              "}}\n",
              "\n",
              "                        })                };                            </script>        </div>\n",
              "</body>\n",
              "</html>"
            ]
          },
          "metadata": {}
        }
      ]
    },
    {
      "cell_type": "code",
      "source": [
        "print(\"skweness: \",df[\"G\"].skew())\n",
        "print(\"Kurtosis: \",df[\"G\"].kurt())"
      ],
      "metadata": {
        "colab": {
          "base_uri": "https://localhost:8080/"
        },
        "id": "SV2P6b3vQbKQ",
        "outputId": "c7667e97-bc16-42e6-d0e3-ab2b841f189d"
      },
      "execution_count": 60,
      "outputs": [
        {
          "output_type": "stream",
          "name": "stdout",
          "text": [
            "skweness:  1.614963507730963\n",
            "Kurtosis:  3.462860541735615\n"
          ]
        }
      ]
    },
    {
      "cell_type": "code",
      "source": [
        "#standardizing dexa_freq_during_rx df\n",
        "scaled = StandardScaler().fit_transform(df['G'][:,np.newaxis]);\n",
        "low_range = scaled[scaled[:,0].argsort()][:10]\n",
        "high_range= scaled[scaled[:,0].argsort()][-10:]\n",
        "print('outer range (low) of the distribution:')\n",
        "print(low_range)\n",
        "print('\\nouter range (high) of the distribution:')\n",
        "print(high_range)"
      ],
      "metadata": {
        "colab": {
          "base_uri": "https://localhost:8080/"
        },
        "id": "pfQMZPQCRCwt",
        "outputId": "8cf1284f-1209-406f-a804-eda225b09612"
      },
      "execution_count": 61,
      "outputs": [
        {
          "output_type": "stream",
          "name": "stdout",
          "text": [
            "outer range (low) of the distribution:\n",
            "[[-1.25070944]\n",
            " [-1.22953822]\n",
            " [-1.22600968]\n",
            " [-1.22600968]\n",
            " [-1.21542407]\n",
            " [-1.21189553]\n",
            " [-1.20130992]\n",
            " [-1.18719577]\n",
            " [-1.17308163]\n",
            " [-1.16955309]]\n",
            "\n",
            "outer range (high) of the distribution:\n",
            "[[2.8882644 ]\n",
            " [2.94824953]\n",
            " [3.12467638]\n",
            " [3.41401641]\n",
            " [3.55868642]\n",
            " [3.68218522]\n",
            " [4.1197238 ]\n",
            " [4.46552042]\n",
            " [4.46904896]\n",
            " [4.75838898]]\n"
          ]
        }
      ]
    },
    {
      "cell_type": "code",
      "source": [
        "scaler = RobustScaler()\n",
        "df['G'] = scaler.fit_transform(df['G'].values.reshape(-1,1))"
      ],
      "metadata": {
        "id": "sk8EYvAUR-9h"
      },
      "execution_count": 62,
      "outputs": []
    },
    {
      "cell_type": "code",
      "execution_count": 63,
      "metadata": {
        "colab": {
          "base_uri": "https://localhost:8080/",
          "height": 0
        },
        "outputId": "4e2755c5-2c6b-4419-c1ee-b09d05a75686",
        "id": "X8BI7sYddu_4"
      },
      "outputs": [
        {
          "output_type": "execute_result",
          "data": {
            "text/plain": [
              "' Detection '"
            ],
            "application/vnd.google.colaboratory.intrinsic+json": {
              "type": "string"
            }
          },
          "metadata": {},
          "execution_count": 63
        },
        {
          "output_type": "stream",
          "name": "stdout",
          "text": [
            "Old Shape:  (461, 9)\n",
            "lower []\n",
            "Upper [  4  27  84 140 154 190 221 227 250 287 320 357 373 400]\n"
          ]
        },
        {
          "output_type": "execute_result",
          "data": {
            "text/plain": [
              "' Removing the Outliers '"
            ],
            "application/vnd.google.colaboratory.intrinsic+json": {
              "type": "string"
            }
          },
          "metadata": {},
          "execution_count": 63
        },
        {
          "output_type": "stream",
          "name": "stdout",
          "text": [
            "New Shape:  (447, 9)\n"
          ]
        }
      ],
      "source": [
        "''' Detection '''\n",
        "# IQR\n",
        "Q1 = np.percentile(df['G'], 25, \n",
        "                   interpolation = 'midpoint') \n",
        "  \n",
        "Q3 = np.percentile(df['G'], 75,\n",
        "                   interpolation = 'midpoint') \n",
        "IQR = Q3 - Q1 \n",
        "  \n",
        "print(\"Old Shape: \", df.shape) \n",
        "  \n",
        "# Upper bound\n",
        "upper = np.where(df['G'] >= (Q3+1.5*IQR))\n",
        "# Lower bound\n",
        "lower = np.where(df['G'] <= (Q1-1.5*IQR))\n",
        "  \n",
        "print(\"lower\",lower[0])\n",
        "print(\"Upper\",upper[0])\n",
        "\n",
        "''' Removing the Outliers '''\n",
        "df.drop(upper[0], inplace = True)\n",
        "df.drop(lower[0], inplace = True)\n",
        "\n",
        "print(\"New Shape: \", df.shape)\n",
        "\n",
        "df = df.reset_index(drop=True)"
      ]
    },
    {
      "cell_type": "markdown",
      "source": [
        "### ***H***"
      ],
      "metadata": {
        "id": "CaitG_GhRjQ5"
      }
    },
    {
      "cell_type": "code",
      "source": [
        "fig = px.histogram(df, x=\"H\",\n",
        "                   marginal=\"box\", # or violin, rug\n",
        "                   hover_data=df.columns)\n",
        "fig.show()"
      ],
      "metadata": {
        "colab": {
          "base_uri": "https://localhost:8080/",
          "height": 0
        },
        "id": "RWqyqvwqPf5x",
        "outputId": "3577a464-8272-4447-e843-67f3fd4a8fd0"
      },
      "execution_count": 64,
      "outputs": [
        {
          "output_type": "display_data",
          "data": {
            "text/html": [
              "<html>\n",
              "<head><meta charset=\"utf-8\" /></head>\n",
              "<body>\n",
              "    <div>            <script src=\"https://cdnjs.cloudflare.com/ajax/libs/mathjax/2.7.5/MathJax.js?config=TeX-AMS-MML_SVG\"></script><script type=\"text/javascript\">if (window.MathJax) {MathJax.Hub.Config({SVG: {font: \"STIX-Web\"}});}</script>                <script type=\"text/javascript\">window.PlotlyConfig = {MathJaxConfig: 'local'};</script>\n",
              "        <script src=\"https://cdn.plot.ly/plotly-2.8.3.min.js\"></script>                <div id=\"0265c37f-c6b1-40f7-93ae-f97d2c17a68a\" class=\"plotly-graph-div\" style=\"height:525px; width:100%;\"></div>            <script type=\"text/javascript\">                                    window.PLOTLYENV=window.PLOTLYENV || {};                                    if (document.getElementById(\"0265c37f-c6b1-40f7-93ae-f97d2c17a68a\")) {                    Plotly.newPlot(                        \"0265c37f-c6b1-40f7-93ae-f97d2c17a68a\",                        [{\"alignmentgroup\":\"True\",\"bingroup\":\"x\",\"hovertemplate\":\"H=%{x}<br>count=%{y}<extra></extra>\",\"legendgroup\":\"\",\"marker\":{\"color\":\"#636efa\",\"pattern\":{\"shape\":\"\"}},\"name\":\"\",\"offsetgroup\":\"\",\"orientation\":\"v\",\"showlegend\":false,\"x\":[31,21,30,30,51,27,50,41,22,38,60,28,22,28,45,33,37,48,40,29,22,22,26,30,21,31,22,39,24,32,54,25,27,28,26,23,22,41,27,24,22,36,22,27,26,24,21,34,42,21,40,24,22,23,22,21,24,27,21,37,25,23,25,25,22,21,24,23,69,30,23,39,26,31,21,22,29,55,38,22,23,41,65,22,24,37,21,23,22,36,45,27,21,32,22,34,29,29,23,33,42,47,32,23,27,40,21,40,42,21,26,21,28,32,27,55,27,21,25,24,60,32,61,26,22,26,24,24,22,29,23,26,32,27,21,22,22,29,41,23,42,27,24,25,30,25,24,63,35,43,21,21,40,21,25,23,57,22,39,37,52,51,26,33,21,65,28,24,58,35,37,29,21,41,22,25,26,30,28,31,36,21,24,37,37,25,22,26,22,36,33,57,49,22,26,29,30,46,24,21,63,67,30,29,21,22,21,25,28,22,22,35,24,22,21,25,24,28,42,37,39,22,25,55,35,38,26,25,28,25,21,21,22,27,26,21,21,21,26,38,22,29,28,21,31,22,24,28,26,26,23,25,24,62,24,81,48,26,39,37,34,21,22,25,27,28,22,22,50,24,59,31,39,63,29,28,23,24,28,24,42,33,66,30,25,39,21,28,41,40,38,21,21,64,21,58,22,24,51,25,26,24,21,21,24,22,31,22,24,29,46,67,23,25,29,28,50,21,25,66,23,28,37,30,58,24,32,27,22,21,46,37,33,39,21,22,22,25,35,36,21,27,42,22,29,24,34,46,24,30,54,21,25,27,23,24,26,27,30,23,28,21,21,29,21,21,45,21,34,24,23,22,31,48,23,28,27,24,27,22,23,23,27,28,27,22,22,54,24,43,45,49,21,68,25,23,22,22,25,22,29,23,34,23,25,28,26,26,52,27,28,40,32,56,24,34,21,42,45,38,25,22,22,22,22,53,28,21,42,21,42,26,22,45,32,28,25,37,39,26,22,33,63,27,30,47,23],\"xaxis\":\"x\",\"yaxis\":\"y\",\"type\":\"histogram\"},{\"alignmentgroup\":\"True\",\"customdata\":[[-0.25,-0.7352941176470589,-0.25,0.22580645161290322,-0.4260869565217391,-0.4130434782608691,0.02318840579710131,0.0],[-0.25,-0.6176470588235294,-0.25,0.03225806451612903,0.391304347826087,-0.2499999999999996,-0.510144927536232,0.0],[0.75,0.17647058823529413,0.25,-0.7096774193548387,-0.4260869565217391,-0.5217391304347822,-0.4115942028985508,0.0],[0.5,0.0,1.375,-0.7096774193548387,-0.4260869565217391,0.782608695652174,-0.44057971014492764,0.0],[0.75,1.6470588235294117,0.125,-0.0967741935483871,1.0956521739130434,-0.4999999999999996,0.7072463768115941,1.0],[0.25,0.47058823529411764,1.125,0.6129032258064516,1.617391304347826,0.9673913043478256,1.0463768115942027,0.0],[1.5,-0.3235294117647059,0.875,-0.7096774193548387,-0.4260869565217391,0.5434782608695651,0.13043478260869562,0.0],[2.0,0.4411764705882353,0.0,0.12903225806451613,0.5739130434782609,0.07608695652173941,-0.40000000000000013,1.0],[-0.25,-0.38235294117647056,-0.25,-0.22580645161290322,0.7913043478260869,-0.7826086956521736,0.417391304347826,0.0],[0.75,0.20588235294117646,1.375,-0.7096774193548387,-0.4260869565217391,0.40217391304347844,-0.017391304347826105,0.0],[0.75,-0.029411764705882353,0.3125,0.12903225806451613,-0.4260869565217391,0.608695652173913,0.5884057971014494,0.0],[0.25,1.411764705882353,0.375,0.45161290322580644,1.7043478260869565,0.13043478260869593,1.4724637681159423,1.0],[0.25,-0.6470588235294118,-0.75,-0.3548387096774194,0.043478260869565216,-0.6086956521739126,-0.22028985507246382,0.0],[1.0,-0.5294117647058824,1.375,-0.7096774193548387,-0.4260869565217391,-1.1413043478260867,-0.4492753623188407,0.0],[2.0,0.35294117647058826,0.5,0.2903225806451613,-0.4260869565217391,-0.3043478260869561,0.4898550724637681,0.0],[0.5,-0.20588235294117646,-0.625,0.3548387096774194,1.2434782608695651,-0.6956521739130431,1.8057971014492755,0.0],[1.25,0.6764705882352942,0.875,-0.7096774193548387,-0.4260869565217391,1.065217391304348,1.0231884057971012,0.0],[1.25,-0.11764705882352941,1.375,-0.12903225806451613,-0.4260869565217391,-0.83695652173913,-0.3130434782608697,0.0],[1.25,1.4411764705882353,-0.375,-0.7096774193548387,-0.4260869565217391,-0.326086956521739,-0.14202898550724652,0.0],[-0.25,1.0588235294117647,-0.875,-0.7096774193548387,-0.4260869565217391,-0.07608695652173902,0.6405797101449273,0.0],[0.0,-1.1470588235294117,0.0,0.16129032258064516,-0.4260869565217391,-0.2608695652173911,0.7043478260869565,0.0],[-0.25,-0.20588235294117646,0.625,-0.3548387096774194,0.28695652173913044,-1.195652173913043,0.42898550724637674,0.0],[-0.25,-0.2647058823529412,-1.25,-0.22580645161290322,-0.11304347826086956,-0.6739130434782605,0.5304347826086957,0.0],[0.75,-0.6470588235294118,-0.25,-0.03225806451612903,-0.22608695652173913,-0.652173913043478,-0.002898550724637684,0.0],[-0.25,-1.088235294117647,-1.25,-0.3870967741935484,-0.4260869565217391,-0.8043478260869561,-0.2753623188405798,0.0],[-0.5,-0.29411764705882354,1.125,1.2258064516129032,0.5304347826086957,1.7826086956521732,1.7942028985507248,0.0],[-0.5,-0.14705882352941177,-0.375,0.6129032258064516,0.808695652173913,1.2065217391304346,-0.49275362318840593,0.0],[1.5,0.6764705882352942,0.125,-0.7096774193548387,-0.4260869565217391,0.27173913043478254,-0.21159420289855077,1.0],[0.0,0.9117647058823529,-0.75,0.3870967741935484,0.6869565217391305,-0.5434782608695651,1.0318840579710145,0.0],[0.75,-0.3235294117647059,0.25,0.16129032258064516,-0.4260869565217391,-0.15217391304347805,-0.40579710144927544,0.0],[0.0,-0.029411764705882353,1.375,-0.7096774193548387,-0.4260869565217391,1.3369565217391304,1.455072463768116,0.0],[-0.25,-0.4411764705882353,-0.25,-0.2903225806451613,-0.09565217391304348,-1.17391304347826,-0.026086956521739157,0.0],[0.5,1.0588235294117647,0.9375,0.16129032258064516,0.4434782608695652,-0.1630434782608695,-0.446376811594203,0.0],[0.0,-0.29411764705882354,-0.25,-0.06451612903225806,0.3565217391304348,0.27173913043478254,1.5188405797101452,1.0],[0.75,0.8529411764705882,-0.375,0.41935483870967744,0.7913043478260869,-0.1956521739130431,0.1971014492753622,0.0],[0.5,0.5588235294117647,1.0,-0.06451612903225806,1.9217391304347826,0.5108695652173915,-0.3246376811594204,0.0],[-0.25,-0.9117647058823529,0.3125,0.25806451612903225,-0.4260869565217391,0.17391304347826098,0.15362318840579708,0.0],[1.25,-1.411764705882353,0.5,-0.7096774193548387,-0.4260869565217391,0.23913043478260892,0.13913043478260867,0.0],[0.75,-0.4411764705882353,0.125,0.3548387096774194,-0.4260869565217391,0.7934782608695654,0.0782608695652173,0.0],[0.0,0.058823529411764705,-0.25,0.0,-0.4260869565217391,-0.58695652173913,-0.10434782608695663,0.0],[0.25,0.08823529411764706,-1.625,-0.2903225806451613,-0.4260869565217391,-0.8695652173913041,-0.5884057971014494,0.0],[1.25,-0.7941176470588235,0.5,0.12903225806451613,0.19130434782608696,-0.11956521739130407,1.228985507246377,0.0],[-0.5,-0.2647058823529412,-0.3125,0.1935483870967742,-0.4260869565217391,-0.6304347826086951,-0.30724637681159433,0.0],[0.0,0.0,0.25,0.22580645161290322,0.6608695652173913,0.21739130434782603,1.0289855072463767,0.0],[0.0,-0.29411764705882354,-0.125,0.0967741935483871,0.19130434782608696,0.8804347826086956,-0.055072463768115996,0.0],[-0.25,-0.08823529411764706,-0.125,-0.0967741935483871,-0.4260869565217391,-0.4239130434782606,-0.5159420289855073,0.0],[-0.25,-0.8823529411764706,-0.9375,-0.7096774193548387,-0.4260869565217391,-1.2282608695652166,-0.24637681159420297,0.0],[0.5,0.38235294117647056,0.625,-0.22580645161290322,1.1043478260869566,0.17391304347826098,0.28985507246376807,0.0],[1.25,-0.8529411764705882,0.5,0.5806451612903226,-0.008695652173913044,1.7717391304347825,-0.23768115942028992,0.0],[0.0,0.9411764705882353,0.75,-0.12903225806451613,0.13043478260869565,-0.6195652173913041,1.2115942028985507,0.0],[1.0,1.0,0.125,0.16129032258064516,1.5565217391304347,0.3804347826086955,-0.25507246376811604,0.0],[0.0,-0.5294117647058824,-0.5,0.1935483870967742,-0.4260869565217391,0.13043478260869593,-0.6173913043478262,0.0],[-0.25,-1.1470588235294117,-1.375,-0.12903225806451613,0.23478260869565218,-1.0869565217391302,-0.05797101449275368,0.0],[1.0,-0.5,-1.25,0.25806451612903225,0.13043478260869565,-0.18478260869565205,0.03768115942028973,0.0],[-0.25,1.2058823529411764,-0.625,-0.7096774193548387,-0.4260869565217391,-0.4673913043478256,-0.47536231884057983,0.0],[-0.5,0.4411764705882353,1.625,-0.7096774193548387,-0.4260869565217391,-0.8586956521739126,-0.23478260869565223,0.0],[-0.25,-0.8529411764705882,0.125,-0.12903225806451613,-0.0782608695652174,-0.4130434782608691,-0.17391304347826103,0.0],[0.0,-0.7352941176470589,-0.3125,-0.7096774193548387,-0.4260869565217391,1.0,1.701449275362319,0.0],[-0.25,0.47058823529411764,-0.875,0.22580645161290322,0.8956521739130435,-0.18478260869565205,1.3275362318840582,0.0],[0.5,1.0,-0.75,0.1935483870967742,0.7913043478260869,-0.09782608695652155,-0.1623188405797103,0.0],[0.25,-0.7941176470588235,-0.75,0.2903225806451613,-0.26956521739130435,0.4239130434782606,-0.020289855072463787,0.0],[-0.25,-0.6176470588235294,0.375,0.3870967741935484,-0.10434782608695652,0.08695652173913049,-0.43768115942028996,0.0],[0.5,-1.0,-0.5,-0.7096774193548387,-0.4260869565217391,0.391304347826087,0.13913043478260867,0.0],[0.75,-0.9411764705882353,-1.375,-0.7096774193548387,-0.4260869565217391,0.3586956521739134,0.9014492753623189,0.0],[0.5,-0.38235294117647056,-0.625,0.03225806451612903,-0.4260869565217391,-0.23913043478260854,0.28985507246376807,0.0],[0.5,-0.3235294117647059,0.375,-0.22580645161290322,0.017391304347826087,-0.7826086956521736,-0.34782608695652184,0.0],[1.0,0.029411764705882353,-0.375,0.5483870967741935,-0.4260869565217391,0.4130434782608699,-0.2405797101449276,0.0],[0.0,-0.08823529411764706,0.25,0.25806451612903225,0.4434782608695652,0.34782608695652195,0.17681159420289855,0.0],[0.75,0.6470588235294118,0.625,-0.7096774193548387,-0.4260869565217391,-0.3913043478260866,-0.45507246376811605,0.0],[0.25,0.29411764705882354,0.0,0.25806451612903225,0.7478260869565218,1.3586956521739126,0.3159420289855072,0.0],[-0.25,0.23529411764705882,-0.75,0.45161290322580644,0.391304347826087,0.31521739130434756,-0.23768115942028992,0.0],[1.5,-0.7647058823529411,0.25,0.2903225806451613,-0.4260869565217391,0.8586956521739126,0.33043478260869563,0.0],[0.0,-0.4117647058823529,-0.125,-0.2903225806451613,0.0,-1.0108695652173907,0.8811594202898552,0.0],[0.0,0.4411764705882353,-0.625,-0.06451612903225806,0.7913043478260869,0.3695652173913041,-0.7391304347826088,0.0],[-0.5,-0.29411764705882354,0.0,0.12903225806451613,0.008695652173913044,0.04347826086956544,0.7362318840579709,0.0],[-0.5,-0.5,-0.625,0.0967741935483871,0.3739130434782609,-0.18478260869565205,0.5478260869565218,0.0],[-0.5,0.5588235294117647,0.625,-0.7096774193548387,-0.4260869565217391,0.08695652173913049,1.0434782608695652,0.0],[0.25,0.5294117647058824,0.5,-0.7096774193548387,-0.4260869565217391,-1.0108695652173907,-0.21739130434782614,0.0],[0.75,-0.11764705882352941,0.75,0.25806451612903225,-0.4260869565217391,0.9891304347826085,-0.16521739130434798,0.0],[0.0,-0.058823529411764705,-1.125,0.12903225806451613,0.12173913043478261,0.2282608695652175,-0.0724637681159421,0.0],[0.5,1.2941176470588236,-0.5,0.2903225806451613,2.0434782608695654,0.2608695652173911,-0.30724637681159433,0.0],[1.75,-1.5588235294117647,0.625,0.4838709677419355,-0.4260869565217391,0.2608695652173911,-0.7159420289855074,0.0],[0.75,1.088235294117647,0.5,-0.7096774193548387,-0.4260869565217391,0.3586956521739134,-0.36231884057971026,0.0],[0.0,-0.5882352941176471,0.0,-0.16129032258064516,-0.4260869565217391,-0.3369565217391301,-0.7478260869565219,0.0],[-0.25,0.7647058823529411,0.25,0.9032258064516129,1.3478260869565217,0.760869565217391,0.16231884057971013,0.0],[0.5,0.11764705882352941,-0.3125,-0.7096774193548387,-0.4260869565217391,-0.9239130434782605,0.25797101449275356,0.0],[0.0,-0.3235294117647059,-1.125,-0.22580645161290322,0.391304347826087,-0.6304347826086951,0.8521739130434782,0.0],[-0.25,-0.029411764705882353,-0.875,-0.03225806451612903,0.7478260869565218,-0.5652173913043476,1.4202898550724636,0.0],[0.0,-0.6470588235294118,0.25,-0.0967741935483871,0.034782608695652174,-0.15217391304347805,-0.33043478260869574,0.0],[0.5,1.2058823529411764,1.25,0.5161290322580645,-0.4260869565217391,-0.07608695652173902,-0.14202898550724652,0.0],[1.25,-0.23529411764705882,0.25,0.5806451612903226,0.48695652173913045,0.739130434782609,-0.4028985507246378,0.0],[-0.5,0.11764705882352941,0.625,0.3870967741935484,2.0521739130434784,1.5,-0.510144927536232,0.0],[0.0,-0.29411764705882354,-0.375,0.03225806451612903,-0.4260869565217391,-0.07608695652173902,0.07246376811594193,0.0],[-0.5,0.6176470588235294,1.125,-0.7096774193548387,-0.4260869565217391,0.13043478260869593,1.1594202898550725,1.0],[0.25,1.1176470588235294,-0.25,0.0967741935483871,-0.4260869565217391,0.2282608695652175,-0.25217391304347836,0.0],[0.5,0.29411764705882354,-0.125,-0.7096774193548387,-0.4260869565217391,-0.0869565217391301,1.0608695652173912,0.0],[0.5,0.0,-0.25,-0.7096774193548387,-0.4260869565217391,0.1630434782608695,0.3710144927536231,0.0],[0.25,0.029411764705882353,1.25,-0.3225806451612903,0.25217391304347825,-0.21739130434782603,0.44057971014492747,0.0],[-0.25,-0.9117647058823529,-0.625,0.6451612903225806,-0.008695652173913044,1.4239130434782605,0.9710144927536233,0.0],[0.0,-1.0294117647058822,-0.375,0.06451612903225806,0.05217391304347826,-0.07608695652173902,0.0782608695652173,0.0],[1.0,-0.7352941176470589,0.5,-0.7096774193548387,-0.4260869565217391,0.08695652173913049,0.11304347826086951,0.0],[0.75,0.9705882352941176,0.5,-0.7096774193548387,-0.4260869565217391,1.5869565217391302,-0.4434782608695653,0.0],[1.0,-0.6764705882352942,0.625,-0.7096774193548387,-0.4260869565217391,-0.7826086956521736,-0.7507246376811595,0.0],[-0.5,0.2647058823529412,-0.375,-0.12903225806451613,0.3739130434782609,0.48913043478260854,1.107246376811594,0.0],[0.75,-1.088235294117647,-0.625,-0.7096774193548387,-0.4260869565217391,-0.3913043478260866,-0.21739130434782614,0.0],[0.5,0.9117647058823529,0.25,-0.7096774193548387,-0.4260869565217391,-0.3043478260869561,-0.28695652173913055,0.0],[0.25,0.029411764705882353,-0.5,-0.7096774193548387,-0.4260869565217391,-0.8478260869565212,-0.5826086956521741,0.0],[1.75,0.38235294117647056,0.0,0.7096774193548387,0.391304347826087,0.2934782608695654,0.08985507246376805,0.0],[1.5,-0.7352941176470589,-0.9375,-0.06451612903225806,-0.4260869565217391,-0.652173913043478,-0.6000000000000001,0.0],[-0.25,-0.14705882352941177,-0.75,-0.7096774193548387,-0.4260869565217391,-0.6630434782608692,-0.45217391304347837,0.0],[0.5,-0.029411764705882353,-0.375,0.7096774193548387,0.43478260869565216,0.4782608695652171,1.628985507246377,1.0],[-0.5,0.08823529411764706,0.625,-0.1935483870967742,-0.4260869565217391,0.06521739130434796,1.5391304347826085,0.0],[-0.25,0.8235294117647058,0.75,-0.7096774193548387,-0.4260869565217391,1.0543478260869565,-0.310144927536232,0.0],[-0.5,-0.058823529411764705,-0.125,-0.06451612903225806,-0.4260869565217391,-0.3369565217391301,1.2869565217391306,0.0],[0.0,-0.3235294117647059,0.0,-0.1935483870967742,-0.043478260869565216,-1.0869565217391302,-0.3130434782608697,0.0],[1.0,-0.20588235294117646,0.125,0.3225806451612903,1.2260869565217392,0.7934782608695654,-0.055072463768115996,0.0],[0.75,0.029411764705882353,0.125,0.1935483870967742,-0.4260869565217391,-0.7065217391304346,0.18550724637681146,0.0],[-0.25,-0.4117647058823529,-0.375,0.16129032258064516,0.33043478260869563,0.3043478260869569,-0.15652173913043493,0.0],[0.0,-0.8529411764705882,-0.625,0.0,-0.4260869565217391,-0.293478260869565,-0.15362318840579725,0.0],[-0.5,1.088235294117647,0.9375,1.032258064516129,-0.4260869565217391,1.347826086956521,0.09275362318840573,0.0],[1.25,2.0294117647058822,1.5625,0.2903225806451613,-0.4260869565217391,0.4130434782608699,-0.5188405797101451,0.0],[1.0,0.4411764705882353,-0.125,0.25806451612903225,0.6173913043478261,-0.04347826086956505,0.3507246376811594,0.0],[1.25,0.9411764705882353,-0.625,0.3548387096774194,1.2260869565217392,-0.1739130434782606,0.9971014492753625,0.0],[-0.25,-0.29411764705882354,-0.25,-0.22580645161290322,0.06086956521739131,-0.7391304347826082,0.9362318840579711,0.0],[-0.25,-0.6764705882352942,0.5,0.16129032258064516,-0.14782608695652175,0.456521739130435,-0.7014492753623189,0.0],[-0.5,-0.2647058823529412,0.375,-0.7096774193548387,-0.4260869565217391,0.5760869565217395,-0.42028985507246386,0.0],[0.25,1.5294117647058822,-1.125,0.5161290322580645,-0.4260869565217391,0.739130434782609,0.8956521739130435,1.0],[-0.5,0.20588235294117646,0.625,0.2903225806451613,0.034782608695652174,1.608695652173913,-0.7362318840579711,0.0],[-0.25,-0.9117647058823529,0.625,0.0967741935483871,-0.10434782608695652,-0.5434782608695651,0.6956521739130433,0.0],[0.5,0.35294117647058826,-0.125,-0.7096774193548387,-0.4260869565217391,0.5,0.14782608695652172,0.0],[0.25,-1.0588235294117647,-0.125,0.1935483870967742,-0.034782608695652174,-0.07608695652173902,-0.1449275362318842,0.0],[0.5,1.7941176470588236,0.125,-0.7096774193548387,-0.4260869565217391,1.434782608695652,0.39420289855072455,1.0],[1.75,1.588235294117647,0.875,-0.03225806451612903,-0.4260869565217391,0.04347826086956544,1.4144927536231884,1.0],[-0.5,-0.17647058823529413,0.375,-0.7096774193548387,-0.4260869565217391,-1.304347826086956,0.6927536231884056,0.0],[-0.25,-0.5588235294117647,-0.375,0.06451612903225806,-0.4260869565217391,-0.13043478260869554,-0.43768115942028996,0.0],[0.5,-0.5588235294117647,0.0,0.3225806451612903,0.3391304347826087,0.2934782608695654,0.2985507246376811,0.0],[0.25,0.8529411764705882,-1.0,-0.7096774193548387,-0.4260869565217391,-0.5217391304347822,0.17101449275362318,1.0],[0.0,1.0588235294117647,0.375,0.41935483870967744,1.2608695652173914,0.847826086956522,-0.040579710144927575,0.0],[2.0,0.35294117647058826,-0.125,-0.7096774193548387,-0.4260869565217391,0.08695652173913049,-0.24637681159420297,0.0],[-0.25,0.029411764705882353,1.0,-0.0967741935483871,-0.4260869565217391,-0.03260869565217359,-0.5797101449275364,0.0],[1.75,-0.11764705882352941,-1.125,-0.7096774193548387,-0.4260869565217391,0.08695652173913049,0.10724637681159414,0.0],[0.0,0.5588235294117647,0.875,-0.7096774193548387,-0.4260869565217391,-0.2608695652173911,-0.17101449275362335,0.0],[0.0,-0.5882352941176471,0.625,-0.25806451612903225,0.05217391304347826,-0.652173913043478,-0.27246376811594214,0.0],[-0.5,-0.7058823529411765,-0.125,0.3225806451612903,-0.4260869565217391,0.58695652173913,-0.30434782608695665,0.0],[0.25,0.029411764705882353,-0.875,0.5483870967741935,-0.4260869565217391,-0.03260869565217359,0.6202898550724639,0.0],[0.0,0.11764705882352941,-0.125,0.0,-0.4260869565217391,-0.18478260869565205,-0.727536231884058,0.0],[0.5,-0.4411764705882353,0.0,0.3225806451612903,-0.4260869565217391,0.18478260869565244,0.7797101449275362,0.0],[0.25,0.9411764705882353,0.625,-0.22580645161290322,-0.4260869565217391,0.21739130434782603,-0.4144927536231885,0.0],[0.5,0.38235294117647056,-0.5,-0.7096774193548387,-0.4260869565217391,0.17391304347826098,-0.3391304347826088,1.0],[0.75,-0.4117647058823529,0.25,-0.12903225806451613,0.1565217391304348,0.34782608695652195,1.8956521739130434,0.0],[-0.5,-0.23529411764705882,-1.125,-0.7096774193548387,-0.4260869565217391,-0.5760869565217387,-0.7681159420289856,0.0],[0.0,-0.058823529411764705,-0.5,0.3225806451612903,0.06086956521739131,-0.5652173913043476,-0.6231884057971016,0.0],[0.25,0.35294117647058826,0.5,-0.7096774193548387,-0.4260869565217391,-0.8043478260869561,-0.2579710144927537,0.0],[-0.25,-1.1470588235294117,0.5,0.9032258064516129,-0.034782608695652174,0.3043478260869569,0.2289855072463767,0.0],[0.0,-0.29411764705882354,0.0,0.967741935483871,0.06956521739130435,1.0978260869565215,0.9681159420289857,0.0],[-0.5,-0.17647058823529413,-0.375,0.03225806451612903,0.5826086956521739,-0.2826086956521736,0.3217391304347826,0.0],[0.75,0.11764705882352941,0.25,-0.7096774193548387,-0.4260869565217391,-0.5978260869565215,1.1623188405797102,0.0],[0.0,-0.058823529411764705,-0.5,-0.3870967741935484,1.991304347826087,-0.5543478260869561,1.5594202898550726,0.0],[2.0,0.5588235294117647,0.375,0.1935483870967742,0.6347826086956522,0.5978260869565215,-0.18260869565217394,0.0],[1.25,0.6764705882352942,1.125,-0.22580645161290322,0.9217391304347826,0.21739130434782603,-0.23478260869565223,0.0],[0.0,-0.058823529411764705,0.625,-0.7096774193548387,-0.4260869565217391,-0.3695652173913041,-0.24347826086956528,1.0],[1.25,0.7647058823529411,0.25,0.12903225806451613,0.7478260869565218,-0.4782608695652171,0.8811594202898552,0.0],[0.5,-0.4117647058823529,-0.875,-0.16129032258064516,0.0,-1.0434782608695647,-0.008695652173913052,0.0],[0.75,-0.058823529411764705,0.125,0.6774193548387096,0.22608695652173913,0.6195652173913044,-0.23188405797101455,0.0],[-0.5,-0.9411764705882353,1.125,0.22580645161290322,-0.0782608695652174,0.7065217391304346,0.2637681159420289,0.0],[-0.5,1.5,-1.25,-0.7096774193548387,-0.4260869565217391,-0.9239130434782605,-0.2579710144927537,0.0],[1.0,1.2058823529411764,-0.5,0.2903225806451613,0.6173913043478261,0.5543478260869565,1.0115942028985505,0.0],[-0.5,0.47058823529411764,0.875,0.22580645161290322,1.4434782608695653,0.03260869565217398,0.5130434782608696,0.0],[1.5,0.058823529411764705,0.125,-0.7096774193548387,-0.4260869565217391,-0.7391304347826082,1.4405797101449276,0.0],[0.75,-0.9705882352941176,0.75,0.6129032258064516,-0.06086956521739131,0.58695652173913,-0.5420289855072465,0.0],[0.25,1.1764705882352942,0.375,-0.7096774193548387,-0.4260869565217391,-1.021739130434782,-0.39420289855072477,0.0],[0.0,0.29411764705882354,0.375,0.4838709677419355,0.48695652173913045,1.0108695652173914,-0.3710144927536233,0.0],[-0.5,0.7941176470588235,-0.125,-0.25806451612903225,0.8608695652173913,-0.6086956521739126,-0.5797101449275364,0.0],[1.0,-0.8823529411764706,-0.25,0.25806451612903225,-0.4260869565217391,-0.4565217391304346,-0.08695652173913052,0.0],[-0.5,-0.11764705882352941,0.0,0.4838709677419355,0.8608695652173913,0.9782608695652171,0.7594202898550724,0.0],[0.25,0.08823529411764706,-1.25,-0.3870967741935484,0.3130434782608696,-0.09782608695652155,0.8202898550724638,0.0],[0.0,0.058823529411764705,-0.125,0.0,0.391304347826087,0.40217391304347844,-0.08115942028985515,0.0],[0.25,-0.3235294117647059,0.625,-0.3548387096774194,0.13043478260869565,-1.2065217391304341,-0.17101449275362335,0.0],[0.25,0.14705882352941177,-0.25,0.5483870967741935,0.7913043478260869,0.8369565217391305,-0.5594202898550726,0.0],[0.5,0.5588235294117647,-0.625,-0.3225806451612903,1.5826086956521739,-0.31521739130434756,0.5333333333333333,0.0],[-0.5,0.4117647058823529,0.0,-0.06451612903225806,-0.4260869565217391,-0.326086956521739,-0.2579710144927537,1.0],[0.0,0.058823529411764705,0.3125,0.3225806451612903,-0.4260869565217391,0.5760869565217395,-0.565217391304348,0.0],[-0.25,1.3823529411764706,0.125,-0.03225806451612903,1.0347826086956522,-0.5217391304347822,-0.63768115942029,0.0],[2.0,2.0294117647058822,0.0,-0.7096774193548387,-0.4260869565217391,0.5108695652173915,-0.4144927536231885,0.0],[1.0,-0.14705882352941177,0.0,0.3225806451612903,0.16521739130434782,0.04347826086956544,-0.6405797101449276,0.0],[0.0,-0.6764705882352942,-0.75,-0.1935483870967742,0.02608695652173913,0.2500000000000004,-0.5130434782608697,0.0],[-0.25,-0.4411764705882353,-0.625,-0.12903225806451613,0.0782608695652174,-0.7065217391304346,-0.2405797101449276,0.0],[-0.5,1.6176470588235294,0.375,0.6774193548387096,1.791304347826087,1.9021739130434776,-0.24347826086956528,0.0],[-0.25,0.5882352941176471,0.0,-0.2903225806451613,0.48695652173913045,-0.48913043478260854,0.37391304347826076,0.0],[-0.25,-0.4411764705882353,0.25,-0.03225806451612903,0.20869565217391303,-0.48913043478260854,0.9565217391304349,0.0],[0.75,0.35294117647058826,1.0,-0.7096774193548387,-0.4260869565217391,0.4673913043478264,-0.15362318840579725,0.0],[1.5,-0.4411764705882353,0.125,-0.7096774193548387,-0.4260869565217391,0.6956521739130431,0.41159420289855064,0.0],[1.5,0.47058823529411764,1.125,0.45161290322580644,0.5130434782608696,0.8804347826086956,0.01739130434782594,0.0],[-0.25,0.8529411764705882,-1.5,-0.0967741935483871,0.2956521739130435,-0.18478260869565205,0.9014492753623189,0.0],[0.25,-0.3235294117647059,-0.5,-0.0967741935483871,0.21739130434782608,-0.9347826086956517,-0.18550724637681162,0.0],[0.5,-0.5294117647058824,0.625,-0.7096774193548387,-0.4260869565217391,1.282608695652174,-0.30724637681159433,0.0],[0.5,0.7941176470588235,0.875,-0.7096774193548387,-0.4260869565217391,0.08695652173913049,-0.2637681159420291,0.0],[0.25,-1.4411764705882353,0.75,0.1935483870967742,-0.4260869565217391,0.43478260869565205,-0.28985507246376824,0.0],[-0.25,-0.5882352941176471,-0.5,-0.3225806451612903,-0.05217391304347826,-0.34782608695652156,0.6869565217391302,0.0],[0.25,-0.5882352941176471,0.5,-0.7096774193548387,-0.4260869565217391,1.3369565217391304,0.6260869565217393,0.0],[0.75,1.411764705882353,0.0,-0.7096774193548387,-0.4260869565217391,-0.06521739130434757,-0.39420289855072477,0.0],[0.5,1.0588235294117647,0.5,-0.7096774193548387,-0.4260869565217391,0.8804347826086956,0.5130434782608696,1.0],[0.75,-0.3235294117647059,-1.0,0.1935483870967742,0.2956521739130435,0.391304347826087,0.4521739130434782,0.0],[1.0,0.4117647058823529,0.125,-0.7096774193548387,-0.4260869565217391,-0.3043478260869561,0.07246376811594193,1.0],[-0.5,-0.2647058823529412,-0.375,-0.16129032258064516,-0.4260869565217391,-1.021739130434782,-0.2637681159420291,0.0],[0.25,-0.8529411764705882,1.0,-0.1935483870967742,0.14782608695652175,-0.31521739130434756,-0.10724637681159431,0.0],[-0.5,-0.7647058823529411,-0.375,0.0,0.14782608695652175,0.58695652173913,0.5855072463768117,0.0],[0.0,-0.14705882352941177,-0.75,0.5806451612903226,0.391304347826087,0.48913043478260854,-0.3420289855072465,0.0],[0.0,0.35294117647058826,-1.125,0.6774193548387096,0.9478260869565217,0.6304347826086959,1.371014492753623,0.0],[-0.5,-0.35294117647058826,0.75,-0.22580645161290322,0.30434782608695654,-0.5652173913043476,-0.1275362318840581,0.0],[-0.25,-0.6764705882352942,-0.625,0.4838709677419355,0.22608695652173913,0.739130434782609,0.48115942028985503,0.0],[-0.5,-0.5,1.875,0.5483870967741935,0.2,1.4130434782608692,1.9652173913043478,0.0],[-0.25,-0.08823529411764706,0.125,0.25806451612903225,0.28695652173913044,0.04347826086956544,1.3855072463768114,0.0],[-0.5,-0.14705882352941177,-0.125,0.0,-0.4260869565217391,-1.1304347826086951,-0.310144927536232,0.0],[-0.25,-0.029411764705882353,-0.625,-0.45161290322580644,1.1565217391304348,-0.5434782608695651,1.7507246376811592,0.0],[-0.25,0.4411764705882353,0.0,0.06451612903225806,0.5304347826086957,-0.6630434782608692,-0.3536231884057972,0.0],[-0.25,0.2647058823529412,-1.0,-0.2903225806451613,0.008695652173913044,-0.8804347826086951,-0.40000000000000013,0.0],[0.25,-0.29411764705882354,-0.125,0.03225806451612903,0.2782608695652174,0.13043478260869593,1.7565217391304346,0.0],[-0.25,-0.29411764705882354,-0.25,0.22580645161290322,1.2782608695652173,0.17391304347826098,0.29275362318840575,0.0],[0.5,0.17647058823529413,0.125,-0.3225806451612903,0.33043478260869563,-0.9021739130434777,0.34782608695652173,0.0],[0.25,-0.4117647058823529,-0.875,0.3870967741935484,0.5739130434782609,-0.6195652173913041,1.7420289855072464,0.0],[-0.5,0.6176470588235294,-0.25,0.5806451612903226,-0.4260869565217391,0.4239130434782606,-0.4260869565217392,1.0],[0.25,-0.8235294117647058,0.0,-0.7096774193548387,-0.4260869565217391,-1.0108695652173907,0.1333333333333333,0.0],[1.0,0.7941176470588235,-0.5625,-0.7096774193548387,-0.4260869565217391,-0.6739130434782605,-0.5565217391304349,0.0],[0.75,0.7647058823529411,0.875,0.6129032258064516,0.3391304347826087,0.5,-0.16521739130434798,1.0],[1.75,-1.1176470588235294,0.5,0.0967741935483871,-0.4260869565217391,0.13043478260869593,-0.18260869565217394,0.0],[0.0,0.38235294117647056,-1.375,0.3225806451612903,1.008695652173913,1.2717391304347825,0.5130434782608696,0.0],[-0.5,-0.2647058823529412,-0.5,-0.7096774193548387,-0.4260869565217391,-0.9239130434782605,-0.020289855072463787,0.0],[1.0,-0.23529411764705882,1.25,0.5483870967741935,-0.4260869565217391,0.5760869565217395,0.9594202898550726,0.0],[-0.25,0.058823529411764705,0.125,0.25806451612903225,1.1043478260869566,0.43478260869565205,0.5362318840579711,0.0],[-0.25,0.9705882352941176,0.25,0.0,0.10434782608695652,-0.4565217391304346,-0.25217391304347836,0.0],[-0.5,0.8235294117647058,-0.625,0.41935483870967744,1.0260869565217392,0.456521739130435,0.5536231884057972,1.0],[-0.25,-0.38235294117647056,-0.125,-0.03225806451612903,-0.4260869565217391,-0.34782608695652156,2.1797101449275362,0.0],[-0.25,-0.7941176470588235,-0.125,-0.7096774193548387,-0.4260869565217391,-1.3260869565217386,0.8144927536231884,0.0],[-0.25,0.2647058823529412,1.125,0.6129032258064516,1.0521739130434782,1.6195652173913038,0.47536231884057967,0.0],[0.0,-0.47058823529411764,-0.125,-0.12903225806451613,0.23478260869565218,-0.4782608695652171,0.6318840579710147,0.0],[-0.5,-0.23529411764705882,-0.375,0.7741935483870968,0.25217391304347825,1.108695652173913,0.44347826086956516,0.0],[0.0,0.14705882352941177,-0.375,0.0,-0.4260869565217391,0.04347826086956544,0.22608695652173902,0.0],[-0.5,0.7352941176470589,1.5,0.7741935483870968,0.8347826086956521,1.108695652173913,-0.17101449275362335,0.0],[0.25,-0.6176470588235294,0.25,-0.1935483870967742,0.3130434782608696,0.0,0.6028985507246378,0.0],[-0.25,-0.8823529411764706,0.25,-0.3548387096774194,0.09565217391304348,-0.04347826086956505,0.5333333333333333,0.0],[0.0,0.8529411764705882,0.3125,-0.7096774193548387,-0.4260869565217391,-0.5217391304347822,-0.510144927536232,0.0],[0.75,1.088235294117647,0.3125,-0.7096774193548387,-0.4260869565217391,-0.054347826086956506,0.2637681159420289,0.0],[-0.25,-0.38235294117647056,0.0,-0.22580645161290322,-0.4260869565217391,-1.3260869565217386,-0.5681159420289856,0.0],[1.0,-0.08823529411764706,1.125,-0.7096774193548387,-0.4260869565217391,0.6956521739130431,1.1130434782608696,0.0],[0.0,-0.7941176470588235,-0.25,0.03225806451612903,0.008695652173913044,0.19565217391304388,0.44637681159420284,0.0],[0.5,0.20588235294117646,-0.375,0.16129032258064516,0.6173913043478261,0.3043478260869569,-0.32753623188405806,0.0],[-0.25,-0.29411764705882354,0.125,-0.3225806451612903,0.1826086956521739,-0.5543478260869561,0.9130434782608696,0.0],[-0.5,-0.4411764705882353,0.625,0.7419354838709677,0.3739130434782609,0.6630434782608695,-0.03768115942028989,0.0],[-0.5,0.29411764705882354,0.25,-0.12903225806451613,0.12173913043478261,0.010869565217391455,-0.16811594202898567,0.0],[-0.25,-0.8235294117647058,-0.375,-0.2903225806451613,0.4,-0.9999999999999997,0.20869565217391292,0.0],[-0.5,-0.5588235294117647,-0.125,0.3225806451612903,1.4,1.0326086956521736,0.11014492753623183,0.0],[0.0,-0.29411764705882354,-1.0,0.1935483870967742,0.48695652173913045,0.8043478260869561,0.4492753623188405,0.0],[-0.25,0.7352941176470589,-1.0,-0.7096774193548387,-0.4260869565217391,-0.40217391304347805,0.9971014492753625,0.0],[0.75,-0.7058823529411765,-0.125,0.1935483870967742,0.19130434782608696,-0.021739130434782525,0.0608695652173912,0.0],[1.75,0.7058823529411765,0.25,0.3548387096774194,0.09565217391304348,-0.48913043478260854,0.3391304347826087,0.0],[1.75,0.29411764705882354,0.125,0.0,0.06086956521739131,-1.0434782608695647,1.1304347826086956,0.0],[-0.25,-1.1470588235294117,-0.5,-0.7096774193548387,-0.4260869565217391,-0.9347826086956517,0.2115942028985506,0.0],[1.5,-1.0588235294117647,0.0,0.5806451612903226,0.0,0.5326086956521736,1.0492753623188404,0.0],[0.75,-0.6470588235294118,0.5,0.25806451612903225,-0.4260869565217391,-0.3043478260869561,-0.24637681159420297,0.0],[2.0,0.14705882352941177,1.75,-0.7096774193548387,-0.4260869565217391,-0.6956521739130431,1.9681159420289858,0.0],[-0.5,0.4117647058823529,-0.875,-0.2903225806451613,0.48695652173913045,-0.9347826086956517,0.3159420289855072,0.0],[-0.5,-1.0588235294117647,-1.125,-0.3870967741935484,-0.11304347826086956,-0.2826086956521736,-0.21449275362318845,0.0],[-0.5,-0.38235294117647056,-0.375,0.45161290322580644,0.4434782608695652,0.6956521739130431,0.744927536231884,0.0],[1.0,1.2941176470588236,0.5,0.6129032258064516,0.7913043478260869,1.7065217391304346,0.6608695652173912,0.0],[-0.25,1.0,0.75,0.5806451612903226,-0.4260869565217391,1.1847826086956517,0.7652173913043477,0.0],[-0.5,0.7941176470588235,0.0,0.5161290322580645,-0.4260869565217391,0.3043478260869569,-0.5014492753623189,0.0],[-0.5,0.2647058823529412,-0.25,0.16129032258064516,-0.4260869565217391,0.9130434782608692,-0.24347826086956528,0.0],[1.25,0.7647058823529411,1.25,-0.7096774193548387,-0.4260869565217391,-0.054347826086956506,-0.3855072463768117,0.0],[0.5,0.11764705882352941,-0.375,-0.7096774193548387,-0.4260869565217391,-0.1630434782608695,-0.6289855072463769,0.0],[-0.5,0.7941176470588235,0.875,0.16129032258064516,-0.4260869565217391,-0.3369565217391301,-0.3246376811594204,0.0],[1.25,0.11764705882352941,0.375,-0.16129032258064516,0.5304347826086957,-0.7173913043478256,0.3565217391304348,0.0],[1.5,0.47058823529411764,0.25,0.5161290322580645,0.22608695652173913,-0.48913043478260854,-0.5246376811594204,0.0],[0.5,0.6470588235294118,1.0,0.2903225806451613,-0.4260869565217391,-0.2608695652173911,0.22028985507246365,0.0],[-0.5,0.38235294117647056,1.125,0.4838709677419355,-0.4260869565217391,0.5217391304347829,-0.42318840579710154,0.0],[0.5,-0.7352941176470589,-0.75,0.0,0.0,-0.2826086956521736,-0.10724637681159431,0.0],[-0.5,-0.7647058823529411,0.75,0.2903225806451613,0.6608695652173913,0.847826086956522,-0.318840579710145,0.0],[-0.5,0.7352941176470589,-0.125,0.6451612903225806,1.7478260869565216,1.2934782608695647,0.06376811594202889,1.0],[0.5,-0.3235294117647059,0.125,-0.16129032258064516,-0.4260869565217391,-0.5217391304347822,-0.14202898550724652,0.0],[0.0,-0.7941176470588235,-0.3125,0.1935483870967742,0.14782608695652175,0.6956521739130431,0.8289855072463768,0.0],[0.0,-0.6176470588235294,1.25,0.25806451612903225,-0.4260869565217391,0.3369565217391305,-0.14782608695652188,0.0],[0.5,-0.3235294117647059,-0.125,0.5161290322580645,-0.4260869565217391,0.2608695652173911,-0.573913043478261,0.0],[1.0,1.6470588235294117,0.25,-0.7096774193548387,-0.4260869565217391,-0.4130434782608691,-0.11304347826086968,0.0],[0.75,0.0,-0.125,-0.7096774193548387,-0.4260869565217391,-0.4782608695652171,-0.14782608695652188,0.0],[0.0,-0.8529411764705882,0.125,-0.22580645161290322,0.23478260869565218,-0.03260869565217359,0.5913043478260871,0.0],[1.0,1.2941176470588236,0.25,0.3225806451612903,1.2521739130434784,-0.11956521739130407,1.4376811594202898,0.0],[0.0,0.20588235294117646,1.25,-0.0967741935483871,0.19130434782608696,-0.5652173913043476,-0.08695652173913052,0.0],[0.25,-0.7647058823529411,0.125,0.3225806451612903,-0.4260869565217391,0.739130434782609,-0.22028985507246382,0.0],[1.25,-0.47058823529411764,-0.375,0.0967741935483871,0.2608695652173913,0.31521739130434756,1.144927536231884,0.0],[0.25,-0.4117647058823529,0.5,0.5483870967741935,-0.4260869565217391,0.7499999999999997,-0.30434782608695665,0.0],[2.0,-1.0294117647058822,0.75,-0.7096774193548387,-0.4260869565217391,0.31521739130434756,-0.23188405797101455,0.0],[-0.25,0.5882352941176471,-0.625,0.03225806451612903,1.0521739130434782,-0.1956521739130431,1.0115942028985505,0.0],[0.0,-0.7647058823529411,-1.25,0.03225806451612903,0.23478260869565218,0.0,1.8115942028985508,0.0],[1.5,0.29411764705882354,0.5,-0.7096774193548387,-0.4260869565217391,-0.58695652173913,0.19130434782608682,0.0],[-0.5,0.8529411764705882,-0.5,-0.16129032258064516,1.4,-0.9021739130434777,-0.39420289855072477,0.0],[1.75,-0.5588235294117647,-0.125,-0.7096774193548387,-0.4260869565217391,-0.6739130434782605,-0.4144927536231885,0.0],[0.0,-0.5588235294117647,-0.5,-0.7096774193548387,-0.4260869565217391,-0.3369565217391301,0.527536231884058,0.0],[0.25,-0.3235294117647059,-1.0,-0.0967741935483871,0.3217391304347826,-0.5217391304347822,-0.5478260869565219,0.0],[1.25,0.4411764705882353,1.0,-0.7096774193548387,-0.4260869565217391,0.782608695652174,-0.11304347826086968,0.0],[0.0,-1.2352941176470589,0.0,0.3225806451612903,0.14782608695652175,-0.58695652173913,-0.45217391304347837,0.0],[0.25,0.4117647058823529,0.625,0.3548387096774194,0.7043478260869566,0.3043478260869569,-0.11014492753623199,0.0],[0.25,0.4411764705882353,-0.75,-0.7096774193548387,-0.4260869565217391,0.13043478260869593,-0.5565217391304349,0.0],[0.25,-0.6764705882352942,-0.625,-0.12903225806451613,-0.4260869565217391,-0.9347826086956517,0.29275362318840575,0.0],[-0.25,-0.38235294117647056,-0.375,-0.0967741935483871,0.28695652173913044,-1.3260869565217386,-0.1275362318840581,0.0],[0.25,0.17647058823529413,0.25,-0.22580645161290322,0.48695652173913045,-0.4456521739130431,-0.684057971014493,0.0],[-0.5,0.20588235294117646,-0.25,0.2903225806451613,1.208695652173913,0.04347826086956544,0.4347826086956521,0.0],[-0.5,0.029411764705882353,-0.3125,-0.7096774193548387,-0.4260869565217391,-0.6304347826086951,0.918840579710145,0.0],[0.0,0.35294117647058826,-0.625,-0.12903225806451613,0.4956521739130435,-0.06521739130434757,1.0840579710144926,0.0],[-0.5,-0.08823529411764706,0.375,-0.7096774193548387,-0.4260869565217391,1.6195652173913038,0.9942028985507247,0.0],[-0.25,-0.7058823529411765,-0.25,0.967741935483871,0.1391304347826087,1.1847826086956517,1.6637681159420292,0.0],[-0.5,-0.14705882352941177,1.25,-0.7096774193548387,-0.4260869565217391,-0.0869565217391301,-0.42318840579710154,0.0],[-0.5,-1.5588235294117647,-0.625,-0.7096774193548387,-0.4260869565217391,-0.9456521739130431,1.136231884057971,0.0],[-0.5,0.5,0.625,0.4838709677419355,1.4,0.6413043478260866,1.3362318840579712,0.0],[0.5,-0.7647058823529411,1.25,0.03225806451612903,0.06086956521739131,0.9891304347826085,-0.5333333333333334,0.0],[-0.25,-0.6470588235294118,0.5,0.22580645161290322,0.23478260869565218,0.17391304347826098,0.06376811594202889,0.0],[0.5,0.6176470588235294,-0.125,-0.03225806451612903,1.017391304347826,0.2934782608695654,-0.5304347826086958,0.0],[-0.25,1.588235294117647,0.75,0.6774193548387096,0.1565217391304348,0.2608695652173911,-0.005797101449275368,0.0],[-0.25,0.17647058823529413,0.0,0.1935483870967742,-0.4260869565217391,-0.326086956521739,-0.4028985507246378,0.0],[0.25,-0.7647058823529411,-0.125,0.25806451612903225,0.4956521739130435,0.1630434782608695,0.7188405797101448,0.0],[1.0,0.11764705882352941,1.125,-0.7096774193548387,-0.4260869565217391,-0.2826086956521736,-0.2782608695652175,0.0],[-0.25,-0.6470588235294118,-0.5,0.06451612903225806,-0.043478260869565216,-0.054347826086956506,0.2289855072463767,0.0],[-0.25,-0.7647058823529411,-0.375,0.03225806451612903,0.5739130434782609,0.7065217391304346,0.3710144927536231,0.0],[1.25,0.4117647058823529,0.0,0.3548387096774194,1.4434782608695653,-0.5326086956521736,-0.5275362318840581,0.0],[-0.25,-0.38235294117647056,0.0,0.5806451612903226,-0.4260869565217391,0.8369565217391305,-0.36231884057971026,0.0],[1.5,0.0,0.375,-0.7096774193548387,-0.4260869565217391,-0.2826086956521736,-0.30724637681159433,0.0],[-0.25,-0.6764705882352942,-0.125,0.3870967741935484,0.24347826086956523,0.782608695652174,0.1681159420289855,0.0],[1.0,-0.3235294117647059,-0.625,-0.0967741935483871,0.043478260869565216,-0.3804347826086955,0.44637681159420284,0.0],[-0.5,-0.5588235294117647,0.625,-0.7096774193548387,-0.4260869565217391,0.21739130434782603,0.7478260869565216,0.0],[0.0,-0.4411764705882353,-1.0,-0.25806451612903225,0.3391304347826087,-0.4673913043478256,1.173913043478261,0.0],[-0.25,-0.3235294117647059,0.125,0.25806451612903225,-0.26956521739130435,0.891304347826087,0.19999999999999987,0.0],[1.0,-0.5294117647058824,-0.5,0.3225806451612903,0.6695652173913044,0.17391304347826098,-0.7478260869565219,0.0],[0.5,1.2941176470588236,0.125,0.22580645161290322,0.6695652173913044,0.09782608695652194,-0.01449275362318842,0.0],[-0.5,0.3235294117647059,-0.25,0.25806451612903225,1.008695652173913,0.4239130434782606,-0.40579710144927544,1.0],[0.25,-0.9411764705882353,0.0,-0.7096774193548387,-0.4260869565217391,0.2282608695652175,-0.21159420289855077,0.0],[0.0,0.5882352941176471,1.625,-0.7096774193548387,-0.4260869565217391,-0.8478260869565212,-0.21739130434782614,0.0],[0.25,0.029411764705882353,-0.75,0.2903225806451613,-0.043478260869565216,-0.09782608695652155,0.2521739130434782,0.0],[0.0,-0.35294117647058826,-0.625,-0.16129032258064516,0.6173913043478261,0.4673913043478264,-0.42028985507246386,0.0],[-0.25,0.2647058823529412,-1.625,0.8064516129032258,0.12173913043478261,0.5543478260869565,-0.18260869565217394,0.0],[1.0,-0.058823529411764705,-1.625,-0.06451612903225806,0.7043478260869566,-0.6956521739130431,1.36231884057971,0.0],[2.0,0.6764705882352942,-0.125,-0.7096774193548387,-0.4260869565217391,-0.3695652173913041,-0.28405797101449287,0.0],[-0.5,1.2058823529411764,1.25,0.7741935483870968,-0.4260869565217391,1.2717391304347825,0.08115942028985498,1.0],[1.0,-0.029411764705882353,-0.625,0.16129032258064516,-0.4260869565217391,-0.58695652173913,-0.39710144927536245,0.0],[1.5,-0.29411764705882354,0.375,-0.7096774193548387,-0.4260869565217391,0.9021739130434785,-0.4434782608695653,0.0],[-0.25,-0.5,-0.875,-0.3548387096774194,-0.4260869565217391,-0.8586956521739126,0.2144927536231883,0.0],[1.0,-0.20588235294117646,-0.25,-0.7096774193548387,-0.4260869565217391,-0.6630434782608692,-0.27246376811594214,0.0],[0.0,0.058823529411764705,0.5,0.9032258064516129,0.7913043478260869,0.9782608695652171,-0.48695652173913057,0.0],[1.0,0.38235294117647056,0.125,0.7419354838709677,1.5739130434782609,0.34782608695652195,1.1304347826086956,0.0],[-0.5,-1.2647058823529411,0.375,-0.7096774193548387,-0.4260869565217391,1.6195652173913038,-0.4318840579710146,0.0],[-0.25,-0.058823529411764705,1.125,-0.0967741935483871,-0.4260869565217391,-0.35869565217391264,0.16521739130434782,0.0],[-0.25,0.4117647058823529,0.25,0.45161290322580644,-0.4260869565217391,-0.2826086956521736,-0.7043478260869567,0.0],[1.25,1.1764705882352942,0.5,0.22580645161290322,0.6695652173913044,0.5217391304347829,1.0115942028985505,1.0],[-0.25,0.4117647058823529,-0.625,0.3225806451612903,-0.4260869565217391,0.58695652173913,0.49565217391304345,0.0],[-0.25,-0.5294117647058824,-0.5,0.0967741935483871,-0.06956521739130435,-1.1847826086956517,0.4028985507246376,0.0],[-0.5,1.2352941176470589,0.75,0.5483870967741935,1.9391304347826086,1.2065217391304346,-0.21159420289855077,0.0],[-0.25,0.029411764705882353,-0.5,-0.2903225806451613,1.1565217391304348,-0.6956521739130431,-0.5942028985507247,0.0],[0.25,-0.11764705882352941,-1.0,-0.03225806451612903,0.9478260869565217,0.054347826086956506,-0.14782608695652188,0.0],[1.0,-0.14705882352941177,0.625,0.1935483870967742,-0.4260869565217391,0.2282608695652175,1.5507246376811592,0.0],[0.25,-0.11764705882352941,0.125,-0.7096774193548387,-0.4260869565217391,-0.4999999999999996,-0.39420289855072477,0.0],[1.0,0.20588235294117646,1.625,-0.7096774193548387,-0.4260869565217391,-0.18478260869565205,-0.5391304347826088,0.0],[0.0,-1.2352941176470589,-0.5,-0.2903225806451613,-0.2956521739130435,-1.1195652173913038,-0.24927536231884065,0.0],[0.0,0.058823529411764705,1.0,0.6451612903225806,0.9652173913043478,0.8695652173913041,-0.2811594202898552,0.0],[-0.5,-0.47058823529411764,0.0,0.16129032258064516,0.5739130434782609,1.4239130434782605,0.011594202898550576,0.0],[0.0,-0.058823529411764705,-0.375,-0.7096774193548387,-0.4260869565217391,0.04347826086956544,-0.5362318840579712,0.0],[0.5,-0.5882352941176471,1.125,0.8064516129032258,0.043478260869565216,0.7934782608695654,0.05507246376811584,0.0],[-0.5,0.4411764705882353,-0.125,-0.7096774193548387,-0.4260869565217391,-0.6195652173913041,-0.39710144927536245,0.0],[-0.5,0.6470588235294118,0.5,-0.7096774193548387,-0.4260869565217391,0.21739130434782603,0.14492753623188404,0.0],[0.75,0.5294117647058824,0.625,-0.7096774193548387,-0.4260869565217391,0.456521739130435,-0.5768115942028987,0.0],[0.5,-0.47058823529411764,-0.3125,0.0,-0.4260869565217391,-0.6195652173913041,-0.565217391304348,0.0],[1.25,0.11764705882352941,-0.375,-0.7096774193548387,-0.4260869565217391,-0.326086956521739,1.1275362318840578,1.0],[-0.5,-0.23529411764705882,0.5,0.5806451612903226,0.3565217391304348,0.4456521739130435,-0.30434782608695665,0.0],[0.0,0.029411764705882353,-0.625,-0.7096774193548387,-0.4260869565217391,-0.4565217391304346,0.0,0.0],[-0.25,0.5294117647058824,0.75,-0.16129032258064516,1.1652173913043478,-0.31521739130434756,-0.6608695652173915,0.0],[2.0,-0.5294117647058824,-0.5,-0.7096774193548387,-0.4260869565217391,-0.48913043478260854,-0.510144927536232,0.0],[0.75,-0.17647058823529413,0.25,-0.7096774193548387,-0.4260869565217391,-0.1739130434782606,-0.5507246376811595,0.0],[0.0,-0.47058823529411764,0.375,-0.12903225806451613,0.14782608695652175,0.13043478260869593,0.8869565217391305,0.0],[-0.25,-0.29411764705882354,0.25,-0.3225806451612903,-0.02608695652173913,-1.1847826086956517,-0.5623188405797103,0.0],[-0.5,-0.23529411764705882,1.0,-0.16129032258064516,0.48695652173913045,-0.11956521739130407,1.0202898550724637,0.0],[0.5,0.5294117647058824,0.0,-0.7096774193548387,-0.4260869565217391,0.4239130434782606,-0.11594202898550736,0.0],[0.25,-0.20588235294117646,0.125,0.25806451612903225,0.8956521739130435,-0.3043478260869561,1.1217391304347826,0.0],[-0.5,2.0294117647058822,-1.25,0.45161290322580644,0.9565217391304348,0.8043478260869561,0.32463768115942027,1.0],[-0.5,-0.08823529411764706,-0.625,0.0967741935483871,-0.4260869565217391,-0.43478260869565205,-0.6086956521739132,0.0],[-0.25,-0.5588235294117647,-1.0,0.0967741935483871,0.4434782608695652,-0.5652173913043476,-0.31594202898550733,0.0],[-0.25,0.20588235294117646,-0.625,0.03225806451612903,0.4956521739130435,0.3695652173913041,0.3565217391304348,0.0],[0.75,0.38235294117647056,0.25,0.5806451612903226,0.24347826086956523,0.40217391304347844,-0.21449275362318845,0.0],[0.0,0.29411764705882354,-1.0,-0.7096774193548387,-0.4260869565217391,-0.3913043478260866,0.32463768115942027,0.0],[-0.25,-0.11764705882352941,0.0,0.1935483870967742,0.7478260869565218,0.4130434782608699,-0.5826086956521741,0.0],[0.0,-0.2647058823529412,-0.75,0.41935483870967744,0.3565217391304348,-0.9347826086956517,-0.5449275362318842,0.0],[2.0,1.5294117647058822,0.875,-0.7096774193548387,-0.4260869565217391,-0.293478260869565,-0.4666666666666668,0.0],[-0.25,0.058823529411764705,0.625,0.7419354838709677,0.7217391304347827,0.4782608695652171,-0.36521739130434794,0.0],[1.0,-0.35294117647058826,-0.75,0.3548387096774194,1.2260869565217392,0.391304347826087,0.2521739130434782,0.0],[1.75,1.2941176470588236,0.5,0.25806451612903225,0.4434782608695652,0.054347826086956506,-0.5188405797101451,0.0],[1.0,1.6176470588235294,-0.125,0.12903225806451613,1.0347826086956522,0.34782608695652195,0.8347826086956521,0.0],[-0.25,-0.3235294117647059,-0.75,-0.3870967741935484,-0.4260869565217391,-0.5434782608695651,0.6028985507246378,0.0],[1.5,-0.5588235294117647,0.75,-0.7096774193548387,-0.4260869565217391,0.565217391304348,0.7072463768115941,0.0],[-0.5,-0.5,-0.625,-0.7096774193548387,-0.4260869565217391,0.5326086956521736,-0.23188405797101455,0.0],[0.0,-0.2647058823529412,-0.75,-0.16129032258064516,1.8782608695652174,-0.6739130434782605,0.7855072463768116,0.0],[0.0,-1.588235294117647,-0.875,0.1935483870967742,-0.034782608695652174,-0.6739130434782605,-0.031884057971014526,0.0],[-0.5,-0.4411764705882353,-0.375,0.5483870967741935,0.48695652173913045,1.543478260869565,0.06666666666666657,0.0],[0.0,0.5588235294117647,0.25,0.12903225806451613,1.3565217391304347,0.3043478260869569,0.7188405797101448,0.0],[0.25,0.5882352941176471,-0.375,-0.7096774193548387,-0.4260869565217391,-0.7934782608695646,-0.08405797101449283,0.0],[-0.25,-0.08823529411764706,-1.25,-0.0967741935483871,-0.4260869565217391,-0.2282608695652171,-0.46956521739130447,0.0],[-0.25,0.8823529411764706,0.25,0.12903225806451613,1.1391304347826088,-0.6847826086956517,1.4057971014492752,0.0],[1.5,-0.08823529411764706,0.625,-0.7096774193548387,-0.4260869565217391,-0.6304347826086951,1.4869565217391303,0.0],[0.0,0.3235294117647059,0.0,0.3225806451612903,0.4,0.9456521739130435,1.5739130434782609,0.0],[0.0,-0.5882352941176471,-0.625,-0.7096774193548387,-0.4260869565217391,-0.7499999999999997,-0.44057971014492764,0.0],[0.5,0.5,1.125,-0.3548387096774194,0.9217391304347826,0.4456521739130435,0.7391304347826086,0.0],[0.5,0.23529411764705882,0.0,-0.7096774193548387,-0.4260869565217391,1.5326086956521736,1.626086956521739,0.0],[0.0,0.35294117647058826,0.375,0.16129032258064516,1.3130434782608695,0.5978260869565215,0.4057971014492753,0.0],[-0.25,1.7058823529411764,1.125,0.22580645161290322,-0.4260869565217391,0.5,1.628985507246377,1.0],[0.5,0.0,0.375,-0.06451612903225806,0.4434782608695652,-0.21739130434782603,-0.6521739130434784,0.0],[1.0,-0.8823529411764706,0.625,0.45161290322580644,-0.4260869565217391,1.021739130434782,-0.4811594202898552,0.0],[0.75,0.47058823529411764,0.5,0.16129032258064516,-0.23478260869565218,-0.0869565217391301,0.27826086956521734,0.0],[0.25,-0.23529411764705882,0.25,-0.7096774193548387,-0.4260869565217391,-0.09782608695652155,-0.6434782608695654,0.0],[2.0,-0.47058823529411764,0.125,-0.12903225806451613,-0.4260869565217391,-0.7934782608695646,0.7304347826086955,0.0],[-0.25,-0.058823529411764705,-0.625,0.7741935483870968,1.1217391304347826,0.5543478260869565,0.20869565217391292,0.0],[0.5,-0.7941176470588235,1.0,-0.0967741935483871,-0.4260869565217391,-0.11956521739130407,-0.07536231884057978,0.0],[-0.25,0.11764705882352941,-0.25,0.45161290322580644,1.3130434782608695,0.8369565217391305,-0.15652173913043493,0.0],[0.75,0.20588235294117646,1.0,0.25806451612903225,0.48695652173913045,0.9456521739130435,-0.2666666666666668,0.0],[-0.25,0.029411764705882353,1.5,-0.7096774193548387,-0.4260869565217391,0.2608695652173911,-0.22608695652173919,0.0],[0.5,0.058823529411764705,0.5,0.5806451612903226,-0.4260869565217391,0.9782608695652171,-0.310144927536232,0.0],[-0.25,0.17647058823529413,0.5,0.22580645161290322,1.1391304347826088,0.6195652173913044,0.44347826086956516,0.0],[-0.5,0.9117647058823529,0.875,0.12903225806451613,-0.4260869565217391,0.21739130434782603,0.26086956521739124,0.0],[0.0,1.911764705882353,1.125,-0.7096774193548387,-0.4260869565217391,-0.8152173913043476,-0.04927536231884063,0.0],[0.0,-0.5294117647058824,-1.125,-0.7096774193548387,-0.4260869565217391,-0.03260869565217359,-0.5855072463768117,0.0],[0.0,-0.11764705882352941,-0.875,0.16129032258064516,1.008695652173913,-0.15217391304347805,0.24057971014492743,0.0],[0.0,-0.14705882352941177,0.3125,-0.7096774193548387,-0.4260869565217391,-0.7717391304347822,0.6289855072463769,0.0],[0.5,-0.4411764705882353,-0.625,0.3225806451612903,-0.4260869565217391,0.5434782608695651,-0.17101449275362335,0.0],[-0.5,0.47058823529411764,1.0,0.16129032258064516,0.6173913043478261,-0.326086956521739,0.49855072463768113,0.0],[1.5,-1.3235294117647058,0.125,0.03225806451612903,-0.4260869565217391,0.17391304347826098,0.744927536231884,0.0],[0.0,-0.3235294117647059,-0.625,-0.16129032258064516,0.9652173913043478,0.673913043478261,0.3188405797101449,0.0],[-0.25,-0.23529411764705882,0.25,-0.7096774193548387,-0.4260869565217391,0.9891304347826085,-0.1449275362318842,1.0],[0.25,-0.23529411764705882,-1.625,-0.06451612903225806,0.391304347826087,0.04347826086956544,0.16521739130434782,0.0],[-0.25,-0.029411764705882353,-0.75,-0.12903225806451613,0.5826086956521739,-0.20652173913043456,-0.35942028985507257,0.0],[1.75,0.8823529411764706,1.5,-0.7096774193548387,-0.4260869565217391,0.2500000000000004,1.1333333333333333,1.0],[-0.25,-0.8529411764705882,0.25,0.6129032258064516,0.06956521739130435,1.7282608695652166,2.182608695652174,0.0],[-0.25,0.3235294117647059,0.5,0.5483870967741935,0.21739130434782608,0.934782608695652,-0.23768115942028992,0.0],[0.25,-0.058823529411764705,-0.5,0.06451612903225806,-0.4260869565217391,-0.4782608695652171,-0.34782608695652184,0.0],[-0.25,0.5294117647058824,1.125,0.5483870967741935,0.5304347826086957,0.6630434782608695,2.0695652173913044,1.0],[1.25,0.7941176470588235,1.25,0.6129032258064516,-0.4260869565217391,0.17391304347826098,0.13913043478260867,0.0],[-0.25,-0.11764705882352941,0.375,-0.7096774193548387,-0.4260869565217391,0.7717391304347825,-0.42318840579710154,0.0],[0.0,-0.6470588235294118,-0.75,0.12903225806451613,-0.28695652173913044,-0.21739130434782603,1.2260869565217392,0.0],[1.75,-0.6176470588235294,-0.5,-0.7096774193548387,-0.4260869565217391,-0.8586956521739126,-0.5826086956521741,0.0],[2.0,-0.2647058823529412,0.375,0.8387096774193549,1.1391304347826088,0.27173913043478254,-0.49855072463768124,0.0],[0.0,0.35294117647058826,0.0,0.16129032258064516,-0.4260869565217391,0.6956521739130431,-0.008695652173913052,0.0],[0.75,0.3235294117647059,0.125,0.03225806451612903,0.5478260869565217,-0.4565217391304346,-0.28405797101449287,0.0],[-0.25,0.47058823529411764,-0.625,-0.7096774193548387,-0.4260869565217391,-0.03260869565217359,0.01739130434782594,1.0],[-0.25,-0.5,0.0,0.2903225806451613,-0.4260869565217391,0.0,-0.08115942028985515,0.0]],\"hovertemplate\":\"H=%{x}<br>A=%{customdata[0]}<br>B=%{customdata[1]}<br>C=%{customdata[2]}<br>D=%{customdata[3]}<br>E=%{customdata[4]}<br>F=%{customdata[5]}<br>G=%{customdata[6]}<br>target=%{customdata[7]}<extra></extra>\",\"legendgroup\":\"\",\"marker\":{\"color\":\"#636efa\"},\"name\":\"\",\"notched\":true,\"offsetgroup\":\"\",\"showlegend\":false,\"x\":[31,21,30,30,51,27,50,41,22,38,60,28,22,28,45,33,37,48,40,29,22,22,26,30,21,31,22,39,24,32,54,25,27,28,26,23,22,41,27,24,22,36,22,27,26,24,21,34,42,21,40,24,22,23,22,21,24,27,21,37,25,23,25,25,22,21,24,23,69,30,23,39,26,31,21,22,29,55,38,22,23,41,65,22,24,37,21,23,22,36,45,27,21,32,22,34,29,29,23,33,42,47,32,23,27,40,21,40,42,21,26,21,28,32,27,55,27,21,25,24,60,32,61,26,22,26,24,24,22,29,23,26,32,27,21,22,22,29,41,23,42,27,24,25,30,25,24,63,35,43,21,21,40,21,25,23,57,22,39,37,52,51,26,33,21,65,28,24,58,35,37,29,21,41,22,25,26,30,28,31,36,21,24,37,37,25,22,26,22,36,33,57,49,22,26,29,30,46,24,21,63,67,30,29,21,22,21,25,28,22,22,35,24,22,21,25,24,28,42,37,39,22,25,55,35,38,26,25,28,25,21,21,22,27,26,21,21,21,26,38,22,29,28,21,31,22,24,28,26,26,23,25,24,62,24,81,48,26,39,37,34,21,22,25,27,28,22,22,50,24,59,31,39,63,29,28,23,24,28,24,42,33,66,30,25,39,21,28,41,40,38,21,21,64,21,58,22,24,51,25,26,24,21,21,24,22,31,22,24,29,46,67,23,25,29,28,50,21,25,66,23,28,37,30,58,24,32,27,22,21,46,37,33,39,21,22,22,25,35,36,21,27,42,22,29,24,34,46,24,30,54,21,25,27,23,24,26,27,30,23,28,21,21,29,21,21,45,21,34,24,23,22,31,48,23,28,27,24,27,22,23,23,27,28,27,22,22,54,24,43,45,49,21,68,25,23,22,22,25,22,29,23,34,23,25,28,26,26,52,27,28,40,32,56,24,34,21,42,45,38,25,22,22,22,22,53,28,21,42,21,42,26,22,45,32,28,25,37,39,26,22,33,63,27,30,47,23],\"xaxis\":\"x2\",\"yaxis\":\"y2\",\"type\":\"box\"}],                        {\"template\":{\"data\":{\"bar\":[{\"error_x\":{\"color\":\"#2a3f5f\"},\"error_y\":{\"color\":\"#2a3f5f\"},\"marker\":{\"line\":{\"color\":\"#E5ECF6\",\"width\":0.5},\"pattern\":{\"fillmode\":\"overlay\",\"size\":10,\"solidity\":0.2}},\"type\":\"bar\"}],\"barpolar\":[{\"marker\":{\"line\":{\"color\":\"#E5ECF6\",\"width\":0.5},\"pattern\":{\"fillmode\":\"overlay\",\"size\":10,\"solidity\":0.2}},\"type\":\"barpolar\"}],\"carpet\":[{\"aaxis\":{\"endlinecolor\":\"#2a3f5f\",\"gridcolor\":\"white\",\"linecolor\":\"white\",\"minorgridcolor\":\"white\",\"startlinecolor\":\"#2a3f5f\"},\"baxis\":{\"endlinecolor\":\"#2a3f5f\",\"gridcolor\":\"white\",\"linecolor\":\"white\",\"minorgridcolor\":\"white\",\"startlinecolor\":\"#2a3f5f\"},\"type\":\"carpet\"}],\"choropleth\":[{\"colorbar\":{\"outlinewidth\":0,\"ticks\":\"\"},\"type\":\"choropleth\"}],\"contour\":[{\"colorbar\":{\"outlinewidth\":0,\"ticks\":\"\"},\"colorscale\":[[0.0,\"#0d0887\"],[0.1111111111111111,\"#46039f\"],[0.2222222222222222,\"#7201a8\"],[0.3333333333333333,\"#9c179e\"],[0.4444444444444444,\"#bd3786\"],[0.5555555555555556,\"#d8576b\"],[0.6666666666666666,\"#ed7953\"],[0.7777777777777778,\"#fb9f3a\"],[0.8888888888888888,\"#fdca26\"],[1.0,\"#f0f921\"]],\"type\":\"contour\"}],\"contourcarpet\":[{\"colorbar\":{\"outlinewidth\":0,\"ticks\":\"\"},\"type\":\"contourcarpet\"}],\"heatmap\":[{\"colorbar\":{\"outlinewidth\":0,\"ticks\":\"\"},\"colorscale\":[[0.0,\"#0d0887\"],[0.1111111111111111,\"#46039f\"],[0.2222222222222222,\"#7201a8\"],[0.3333333333333333,\"#9c179e\"],[0.4444444444444444,\"#bd3786\"],[0.5555555555555556,\"#d8576b\"],[0.6666666666666666,\"#ed7953\"],[0.7777777777777778,\"#fb9f3a\"],[0.8888888888888888,\"#fdca26\"],[1.0,\"#f0f921\"]],\"type\":\"heatmap\"}],\"heatmapgl\":[{\"colorbar\":{\"outlinewidth\":0,\"ticks\":\"\"},\"colorscale\":[[0.0,\"#0d0887\"],[0.1111111111111111,\"#46039f\"],[0.2222222222222222,\"#7201a8\"],[0.3333333333333333,\"#9c179e\"],[0.4444444444444444,\"#bd3786\"],[0.5555555555555556,\"#d8576b\"],[0.6666666666666666,\"#ed7953\"],[0.7777777777777778,\"#fb9f3a\"],[0.8888888888888888,\"#fdca26\"],[1.0,\"#f0f921\"]],\"type\":\"heatmapgl\"}],\"histogram\":[{\"marker\":{\"pattern\":{\"fillmode\":\"overlay\",\"size\":10,\"solidity\":0.2}},\"type\":\"histogram\"}],\"histogram2d\":[{\"colorbar\":{\"outlinewidth\":0,\"ticks\":\"\"},\"colorscale\":[[0.0,\"#0d0887\"],[0.1111111111111111,\"#46039f\"],[0.2222222222222222,\"#7201a8\"],[0.3333333333333333,\"#9c179e\"],[0.4444444444444444,\"#bd3786\"],[0.5555555555555556,\"#d8576b\"],[0.6666666666666666,\"#ed7953\"],[0.7777777777777778,\"#fb9f3a\"],[0.8888888888888888,\"#fdca26\"],[1.0,\"#f0f921\"]],\"type\":\"histogram2d\"}],\"histogram2dcontour\":[{\"colorbar\":{\"outlinewidth\":0,\"ticks\":\"\"},\"colorscale\":[[0.0,\"#0d0887\"],[0.1111111111111111,\"#46039f\"],[0.2222222222222222,\"#7201a8\"],[0.3333333333333333,\"#9c179e\"],[0.4444444444444444,\"#bd3786\"],[0.5555555555555556,\"#d8576b\"],[0.6666666666666666,\"#ed7953\"],[0.7777777777777778,\"#fb9f3a\"],[0.8888888888888888,\"#fdca26\"],[1.0,\"#f0f921\"]],\"type\":\"histogram2dcontour\"}],\"mesh3d\":[{\"colorbar\":{\"outlinewidth\":0,\"ticks\":\"\"},\"type\":\"mesh3d\"}],\"parcoords\":[{\"line\":{\"colorbar\":{\"outlinewidth\":0,\"ticks\":\"\"}},\"type\":\"parcoords\"}],\"pie\":[{\"automargin\":true,\"type\":\"pie\"}],\"scatter\":[{\"marker\":{\"colorbar\":{\"outlinewidth\":0,\"ticks\":\"\"}},\"type\":\"scatter\"}],\"scatter3d\":[{\"line\":{\"colorbar\":{\"outlinewidth\":0,\"ticks\":\"\"}},\"marker\":{\"colorbar\":{\"outlinewidth\":0,\"ticks\":\"\"}},\"type\":\"scatter3d\"}],\"scattercarpet\":[{\"marker\":{\"colorbar\":{\"outlinewidth\":0,\"ticks\":\"\"}},\"type\":\"scattercarpet\"}],\"scattergeo\":[{\"marker\":{\"colorbar\":{\"outlinewidth\":0,\"ticks\":\"\"}},\"type\":\"scattergeo\"}],\"scattergl\":[{\"marker\":{\"colorbar\":{\"outlinewidth\":0,\"ticks\":\"\"}},\"type\":\"scattergl\"}],\"scattermapbox\":[{\"marker\":{\"colorbar\":{\"outlinewidth\":0,\"ticks\":\"\"}},\"type\":\"scattermapbox\"}],\"scatterpolar\":[{\"marker\":{\"colorbar\":{\"outlinewidth\":0,\"ticks\":\"\"}},\"type\":\"scatterpolar\"}],\"scatterpolargl\":[{\"marker\":{\"colorbar\":{\"outlinewidth\":0,\"ticks\":\"\"}},\"type\":\"scatterpolargl\"}],\"scatterternary\":[{\"marker\":{\"colorbar\":{\"outlinewidth\":0,\"ticks\":\"\"}},\"type\":\"scatterternary\"}],\"surface\":[{\"colorbar\":{\"outlinewidth\":0,\"ticks\":\"\"},\"colorscale\":[[0.0,\"#0d0887\"],[0.1111111111111111,\"#46039f\"],[0.2222222222222222,\"#7201a8\"],[0.3333333333333333,\"#9c179e\"],[0.4444444444444444,\"#bd3786\"],[0.5555555555555556,\"#d8576b\"],[0.6666666666666666,\"#ed7953\"],[0.7777777777777778,\"#fb9f3a\"],[0.8888888888888888,\"#fdca26\"],[1.0,\"#f0f921\"]],\"type\":\"surface\"}],\"table\":[{\"cells\":{\"fill\":{\"color\":\"#EBF0F8\"},\"line\":{\"color\":\"white\"}},\"header\":{\"fill\":{\"color\":\"#C8D4E3\"},\"line\":{\"color\":\"white\"}},\"type\":\"table\"}]},\"layout\":{\"annotationdefaults\":{\"arrowcolor\":\"#2a3f5f\",\"arrowhead\":0,\"arrowwidth\":1},\"autotypenumbers\":\"strict\",\"coloraxis\":{\"colorbar\":{\"outlinewidth\":0,\"ticks\":\"\"}},\"colorscale\":{\"diverging\":[[0,\"#8e0152\"],[0.1,\"#c51b7d\"],[0.2,\"#de77ae\"],[0.3,\"#f1b6da\"],[0.4,\"#fde0ef\"],[0.5,\"#f7f7f7\"],[0.6,\"#e6f5d0\"],[0.7,\"#b8e186\"],[0.8,\"#7fbc41\"],[0.9,\"#4d9221\"],[1,\"#276419\"]],\"sequential\":[[0.0,\"#0d0887\"],[0.1111111111111111,\"#46039f\"],[0.2222222222222222,\"#7201a8\"],[0.3333333333333333,\"#9c179e\"],[0.4444444444444444,\"#bd3786\"],[0.5555555555555556,\"#d8576b\"],[0.6666666666666666,\"#ed7953\"],[0.7777777777777778,\"#fb9f3a\"],[0.8888888888888888,\"#fdca26\"],[1.0,\"#f0f921\"]],\"sequentialminus\":[[0.0,\"#0d0887\"],[0.1111111111111111,\"#46039f\"],[0.2222222222222222,\"#7201a8\"],[0.3333333333333333,\"#9c179e\"],[0.4444444444444444,\"#bd3786\"],[0.5555555555555556,\"#d8576b\"],[0.6666666666666666,\"#ed7953\"],[0.7777777777777778,\"#fb9f3a\"],[0.8888888888888888,\"#fdca26\"],[1.0,\"#f0f921\"]]},\"colorway\":[\"#636efa\",\"#EF553B\",\"#00cc96\",\"#ab63fa\",\"#FFA15A\",\"#19d3f3\",\"#FF6692\",\"#B6E880\",\"#FF97FF\",\"#FECB52\"],\"font\":{\"color\":\"#2a3f5f\"},\"geo\":{\"bgcolor\":\"white\",\"lakecolor\":\"white\",\"landcolor\":\"#E5ECF6\",\"showlakes\":true,\"showland\":true,\"subunitcolor\":\"white\"},\"hoverlabel\":{\"align\":\"left\"},\"hovermode\":\"closest\",\"mapbox\":{\"style\":\"light\"},\"paper_bgcolor\":\"white\",\"plot_bgcolor\":\"#E5ECF6\",\"polar\":{\"angularaxis\":{\"gridcolor\":\"white\",\"linecolor\":\"white\",\"ticks\":\"\"},\"bgcolor\":\"#E5ECF6\",\"radialaxis\":{\"gridcolor\":\"white\",\"linecolor\":\"white\",\"ticks\":\"\"}},\"scene\":{\"xaxis\":{\"backgroundcolor\":\"#E5ECF6\",\"gridcolor\":\"white\",\"gridwidth\":2,\"linecolor\":\"white\",\"showbackground\":true,\"ticks\":\"\",\"zerolinecolor\":\"white\"},\"yaxis\":{\"backgroundcolor\":\"#E5ECF6\",\"gridcolor\":\"white\",\"gridwidth\":2,\"linecolor\":\"white\",\"showbackground\":true,\"ticks\":\"\",\"zerolinecolor\":\"white\"},\"zaxis\":{\"backgroundcolor\":\"#E5ECF6\",\"gridcolor\":\"white\",\"gridwidth\":2,\"linecolor\":\"white\",\"showbackground\":true,\"ticks\":\"\",\"zerolinecolor\":\"white\"}},\"shapedefaults\":{\"line\":{\"color\":\"#2a3f5f\"}},\"ternary\":{\"aaxis\":{\"gridcolor\":\"white\",\"linecolor\":\"white\",\"ticks\":\"\"},\"baxis\":{\"gridcolor\":\"white\",\"linecolor\":\"white\",\"ticks\":\"\"},\"bgcolor\":\"#E5ECF6\",\"caxis\":{\"gridcolor\":\"white\",\"linecolor\":\"white\",\"ticks\":\"\"}},\"title\":{\"x\":0.05},\"xaxis\":{\"automargin\":true,\"gridcolor\":\"white\",\"linecolor\":\"white\",\"ticks\":\"\",\"title\":{\"standoff\":15},\"zerolinecolor\":\"white\",\"zerolinewidth\":2},\"yaxis\":{\"automargin\":true,\"gridcolor\":\"white\",\"linecolor\":\"white\",\"ticks\":\"\",\"title\":{\"standoff\":15},\"zerolinecolor\":\"white\",\"zerolinewidth\":2}}},\"xaxis\":{\"anchor\":\"y\",\"domain\":[0.0,1.0],\"title\":{\"text\":\"H\"}},\"yaxis\":{\"anchor\":\"x\",\"domain\":[0.0,0.8316],\"title\":{\"text\":\"count\"}},\"xaxis2\":{\"anchor\":\"y2\",\"domain\":[0.0,1.0],\"matches\":\"x\",\"showticklabels\":false,\"showgrid\":true},\"yaxis2\":{\"anchor\":\"x2\",\"domain\":[0.8416,1.0],\"matches\":\"y2\",\"showticklabels\":false,\"showline\":false,\"ticks\":\"\",\"showgrid\":false},\"legend\":{\"tracegroupgap\":0},\"margin\":{\"t\":60},\"barmode\":\"relative\"},                        {\"responsive\": true}                    ).then(function(){\n",
              "                            \n",
              "var gd = document.getElementById('0265c37f-c6b1-40f7-93ae-f97d2c17a68a');\n",
              "var x = new MutationObserver(function (mutations, observer) {{\n",
              "        var display = window.getComputedStyle(gd).display;\n",
              "        if (!display || display === 'none') {{\n",
              "            console.log([gd, 'removed!']);\n",
              "            Plotly.purge(gd);\n",
              "            observer.disconnect();\n",
              "        }}\n",
              "}});\n",
              "\n",
              "// Listen for the removal of the full notebook cells\n",
              "var notebookContainer = gd.closest('#notebook-container');\n",
              "if (notebookContainer) {{\n",
              "    x.observe(notebookContainer, {childList: true});\n",
              "}}\n",
              "\n",
              "// Listen for the clearing of the current output cell\n",
              "var outputEl = gd.closest('.output');\n",
              "if (outputEl) {{\n",
              "    x.observe(outputEl, {childList: true});\n",
              "}}\n",
              "\n",
              "                        })                };                            </script>        </div>\n",
              "</body>\n",
              "</html>"
            ]
          },
          "metadata": {}
        }
      ]
    },
    {
      "cell_type": "code",
      "source": [
        "print(\"skweness: \",df[\"H\"].skew())\n",
        "print(\"Kurtosis: \",df[\"H\"].kurt())"
      ],
      "metadata": {
        "colab": {
          "base_uri": "https://localhost:8080/"
        },
        "id": "r5YUPDxlQdim",
        "outputId": "eb1e1454-537c-483f-b195-6c079b73df6f"
      },
      "execution_count": 65,
      "outputs": [
        {
          "output_type": "stream",
          "name": "stdout",
          "text": [
            "skweness:  1.6173645063958677\n",
            "Kurtosis:  2.2081002673568064\n"
          ]
        }
      ]
    },
    {
      "cell_type": "code",
      "source": [
        "#standardizing dexa_freq_during_rx df\n",
        "scaled = StandardScaler().fit_transform(df['H'][:,np.newaxis]);\n",
        "low_range = scaled[scaled[:,0].argsort()][:10]\n",
        "high_range= scaled[scaled[:,0].argsort()][-10:]\n",
        "print('outer range (low) of the distribution:')\n",
        "print(low_range)\n",
        "print('\\nouter range (high) of the distribution:')\n",
        "print(high_range)"
      ],
      "metadata": {
        "colab": {
          "base_uri": "https://localhost:8080/"
        },
        "id": "RzFoqYXgREwO",
        "outputId": "0b4caea3-2258-4939-9833-41dead797d01"
      },
      "execution_count": 66,
      "outputs": [
        {
          "output_type": "stream",
          "name": "stdout",
          "text": [
            "outer range (low) of the distribution:\n",
            "[[-0.8740103]\n",
            " [-0.8740103]\n",
            " [-0.8740103]\n",
            " [-0.8740103]\n",
            " [-0.8740103]\n",
            " [-0.8740103]\n",
            " [-0.8740103]\n",
            " [-0.8740103]\n",
            " [-0.8740103]\n",
            " [-0.8740103]]\n",
            "\n",
            "outer range (high) of the distribution:\n",
            "[[2.93191447]\n",
            " [3.02042434]\n",
            " [3.02042434]\n",
            " [3.10893422]\n",
            " [3.10893422]\n",
            " [3.1974441 ]\n",
            " [3.1974441 ]\n",
            " [3.28595398]\n",
            " [3.37446386]\n",
            " [4.4365824 ]]\n"
          ]
        }
      ]
    },
    {
      "cell_type": "code",
      "source": [
        "scaler = RobustScaler()\n",
        "df['H'] = scaler.fit_transform(df['H'].values.reshape(-1,1))"
      ],
      "metadata": {
        "id": "f6qiZWJkSCLo"
      },
      "execution_count": 67,
      "outputs": []
    },
    {
      "cell_type": "code",
      "execution_count": 68,
      "metadata": {
        "colab": {
          "base_uri": "https://localhost:8080/",
          "height": 0
        },
        "outputId": "f9339805-ec8b-41ec-c4a6-48e6c784d134",
        "id": "pkxhHj0nd1-z"
      },
      "outputs": [
        {
          "output_type": "execute_result",
          "data": {
            "text/plain": [
              "' Detection '"
            ],
            "application/vnd.google.colaboratory.intrinsic+json": {
              "type": "string"
            }
          },
          "metadata": {},
          "execution_count": 68
        },
        {
          "output_type": "stream",
          "name": "stdout",
          "text": [
            "Old Shape:  (447, 9)\n",
            "lower []\n",
            "Upper [ 10  68  82 120 122 147 156 165 168 191 200 201 253 255 270 273 282 293\n",
            " 295 311 319 324 393 413 442]\n"
          ]
        },
        {
          "output_type": "execute_result",
          "data": {
            "text/plain": [
              "' Removing the Outliers '"
            ],
            "application/vnd.google.colaboratory.intrinsic+json": {
              "type": "string"
            }
          },
          "metadata": {},
          "execution_count": 68
        },
        {
          "output_type": "stream",
          "name": "stdout",
          "text": [
            "New Shape:  (422, 9)\n"
          ]
        }
      ],
      "source": [
        "''' Detection '''\n",
        "# IQR\n",
        "Q1 = np.percentile(df['H'], 25, \n",
        "                   interpolation = 'midpoint') \n",
        "  \n",
        "Q3 = np.percentile(df['H'], 75,\n",
        "                   interpolation = 'midpoint') \n",
        "IQR = Q3 - Q1 \n",
        "  \n",
        "print(\"Old Shape: \", df.shape) \n",
        "  \n",
        "# Upper bound\n",
        "upper = np.where(df['H'] >= (Q3+1.5*IQR))\n",
        "# Lower bound\n",
        "lower = np.where(df['H'] <= (Q1-1.5*IQR))\n",
        "  \n",
        "print(\"lower\",lower[0])\n",
        "print(\"Upper\",upper[0])\n",
        "\n",
        "''' Removing the Outliers '''\n",
        "df.drop(upper[0], inplace = True)\n",
        "df.drop(lower[0], inplace = True)\n",
        "\n",
        "print(\"New Shape: \", df.shape)\n",
        "\n",
        "df = df.reset_index(drop=True)"
      ]
    },
    {
      "cell_type": "markdown",
      "source": [
        "## **Describe Data**"
      ],
      "metadata": {
        "id": "oBmR2zFteDyO"
      }
    },
    {
      "cell_type": "code",
      "source": [
        "df.groupby(['target']).mean().T"
      ],
      "metadata": {
        "colab": {
          "base_uri": "https://localhost:8080/",
          "height": 0
        },
        "id": "tfTDR48HeH10",
        "outputId": "b3025be9-b358-45c2-d54b-d96d650a9e20"
      },
      "execution_count": 69,
      "outputs": [
        {
          "output_type": "execute_result",
          "data": {
            "text/plain": [
              "target         0         1\n",
              "A       0.222010  0.318966\n",
              "B      -0.065409  0.776876\n",
              "C       0.017812  0.116379\n",
              "D      -0.044242 -0.052280\n",
              "E       0.107910  0.110345\n",
              "F       0.041183  0.326462\n",
              "G       0.145053  0.512144\n",
              "H       0.122137  0.549072"
            ],
            "text/html": [
              "\n",
              "  <div id=\"df-b18039da-d196-436a-9eac-78c6d531801b\">\n",
              "    <div class=\"colab-df-container\">\n",
              "      <div>\n",
              "<style scoped>\n",
              "    .dataframe tbody tr th:only-of-type {\n",
              "        vertical-align: middle;\n",
              "    }\n",
              "\n",
              "    .dataframe tbody tr th {\n",
              "        vertical-align: top;\n",
              "    }\n",
              "\n",
              "    .dataframe thead th {\n",
              "        text-align: right;\n",
              "    }\n",
              "</style>\n",
              "<table border=\"1\" class=\"dataframe\">\n",
              "  <thead>\n",
              "    <tr style=\"text-align: right;\">\n",
              "      <th>target</th>\n",
              "      <th>0</th>\n",
              "      <th>1</th>\n",
              "    </tr>\n",
              "  </thead>\n",
              "  <tbody>\n",
              "    <tr>\n",
              "      <th>A</th>\n",
              "      <td>0.222010</td>\n",
              "      <td>0.318966</td>\n",
              "    </tr>\n",
              "    <tr>\n",
              "      <th>B</th>\n",
              "      <td>-0.065409</td>\n",
              "      <td>0.776876</td>\n",
              "    </tr>\n",
              "    <tr>\n",
              "      <th>C</th>\n",
              "      <td>0.017812</td>\n",
              "      <td>0.116379</td>\n",
              "    </tr>\n",
              "    <tr>\n",
              "      <th>D</th>\n",
              "      <td>-0.044242</td>\n",
              "      <td>-0.052280</td>\n",
              "    </tr>\n",
              "    <tr>\n",
              "      <th>E</th>\n",
              "      <td>0.107910</td>\n",
              "      <td>0.110345</td>\n",
              "    </tr>\n",
              "    <tr>\n",
              "      <th>F</th>\n",
              "      <td>0.041183</td>\n",
              "      <td>0.326462</td>\n",
              "    </tr>\n",
              "    <tr>\n",
              "      <th>G</th>\n",
              "      <td>0.145053</td>\n",
              "      <td>0.512144</td>\n",
              "    </tr>\n",
              "    <tr>\n",
              "      <th>H</th>\n",
              "      <td>0.122137</td>\n",
              "      <td>0.549072</td>\n",
              "    </tr>\n",
              "  </tbody>\n",
              "</table>\n",
              "</div>\n",
              "      <button class=\"colab-df-convert\" onclick=\"convertToInteractive('df-b18039da-d196-436a-9eac-78c6d531801b')\"\n",
              "              title=\"Convert this dataframe to an interactive table.\"\n",
              "              style=\"display:none;\">\n",
              "        \n",
              "  <svg xmlns=\"http://www.w3.org/2000/svg\" height=\"24px\"viewBox=\"0 0 24 24\"\n",
              "       width=\"24px\">\n",
              "    <path d=\"M0 0h24v24H0V0z\" fill=\"none\"/>\n",
              "    <path d=\"M18.56 5.44l.94 2.06.94-2.06 2.06-.94-2.06-.94-.94-2.06-.94 2.06-2.06.94zm-11 1L8.5 8.5l.94-2.06 2.06-.94-2.06-.94L8.5 2.5l-.94 2.06-2.06.94zm10 10l.94 2.06.94-2.06 2.06-.94-2.06-.94-.94-2.06-.94 2.06-2.06.94z\"/><path d=\"M17.41 7.96l-1.37-1.37c-.4-.4-.92-.59-1.43-.59-.52 0-1.04.2-1.43.59L10.3 9.45l-7.72 7.72c-.78.78-.78 2.05 0 2.83L4 21.41c.39.39.9.59 1.41.59.51 0 1.02-.2 1.41-.59l7.78-7.78 2.81-2.81c.8-.78.8-2.07 0-2.86zM5.41 20L4 18.59l7.72-7.72 1.47 1.35L5.41 20z\"/>\n",
              "  </svg>\n",
              "      </button>\n",
              "      \n",
              "  <style>\n",
              "    .colab-df-container {\n",
              "      display:flex;\n",
              "      flex-wrap:wrap;\n",
              "      gap: 12px;\n",
              "    }\n",
              "\n",
              "    .colab-df-convert {\n",
              "      background-color: #E8F0FE;\n",
              "      border: none;\n",
              "      border-radius: 50%;\n",
              "      cursor: pointer;\n",
              "      display: none;\n",
              "      fill: #1967D2;\n",
              "      height: 32px;\n",
              "      padding: 0 0 0 0;\n",
              "      width: 32px;\n",
              "    }\n",
              "\n",
              "    .colab-df-convert:hover {\n",
              "      background-color: #E2EBFA;\n",
              "      box-shadow: 0px 1px 2px rgba(60, 64, 67, 0.3), 0px 1px 3px 1px rgba(60, 64, 67, 0.15);\n",
              "      fill: #174EA6;\n",
              "    }\n",
              "\n",
              "    [theme=dark] .colab-df-convert {\n",
              "      background-color: #3B4455;\n",
              "      fill: #D2E3FC;\n",
              "    }\n",
              "\n",
              "    [theme=dark] .colab-df-convert:hover {\n",
              "      background-color: #434B5C;\n",
              "      box-shadow: 0px 1px 3px 1px rgba(0, 0, 0, 0.15);\n",
              "      filter: drop-shadow(0px 1px 2px rgba(0, 0, 0, 0.3));\n",
              "      fill: #FFFFFF;\n",
              "    }\n",
              "  </style>\n",
              "\n",
              "      <script>\n",
              "        const buttonEl =\n",
              "          document.querySelector('#df-b18039da-d196-436a-9eac-78c6d531801b button.colab-df-convert');\n",
              "        buttonEl.style.display =\n",
              "          google.colab.kernel.accessAllowed ? 'block' : 'none';\n",
              "\n",
              "        async function convertToInteractive(key) {\n",
              "          const element = document.querySelector('#df-b18039da-d196-436a-9eac-78c6d531801b');\n",
              "          const dataTable =\n",
              "            await google.colab.kernel.invokeFunction('convertToInteractive',\n",
              "                                                     [key], {});\n",
              "          if (!dataTable) return;\n",
              "\n",
              "          const docLinkHtml = 'Like what you see? Visit the ' +\n",
              "            '<a target=\"_blank\" href=https://colab.research.google.com/notebooks/data_table.ipynb>data table notebook</a>'\n",
              "            + ' to learn more about interactive tables.';\n",
              "          element.innerHTML = '';\n",
              "          dataTable['output_type'] = 'display_data';\n",
              "          await google.colab.output.renderOutput(dataTable, element);\n",
              "          const docLink = document.createElement('div');\n",
              "          docLink.innerHTML = docLinkHtml;\n",
              "          element.appendChild(docLink);\n",
              "        }\n",
              "      </script>\n",
              "    </div>\n",
              "  </div>\n",
              "  "
            ]
          },
          "metadata": {},
          "execution_count": 69
        }
      ]
    },
    {
      "cell_type": "markdown",
      "source": [
        "# **Data Wrangling and Transformation**"
      ],
      "metadata": {
        "id": "K-AW2YGVeb3m"
      }
    },
    {
      "cell_type": "code",
      "source": [
        "cat_corr = df.apply(lambda x : pd.factorize(x)[0]).corr(method='pearson', min_periods=1)[['target']]\n",
        "np.abs(cat_corr).sort_values(by=['target'], ascending=False)"
      ],
      "metadata": {
        "colab": {
          "base_uri": "https://localhost:8080/",
          "height": 331
        },
        "id": "WRo6y34Ho_SG",
        "outputId": "2a287973-13ab-43a8-b341-4c3d760c1f53"
      },
      "execution_count": 70,
      "outputs": [
        {
          "output_type": "execute_result",
          "data": {
            "text/plain": [
              "          target\n",
              "target  1.000000\n",
              "B       0.138838\n",
              "H       0.106578\n",
              "D       0.069261\n",
              "A       0.060348\n",
              "F       0.059816\n",
              "C       0.057350\n",
              "E       0.055858\n",
              "G       0.048426"
            ],
            "text/html": [
              "\n",
              "  <div id=\"df-4bb2832f-2196-4680-827d-7a2949e21a73\">\n",
              "    <div class=\"colab-df-container\">\n",
              "      <div>\n",
              "<style scoped>\n",
              "    .dataframe tbody tr th:only-of-type {\n",
              "        vertical-align: middle;\n",
              "    }\n",
              "\n",
              "    .dataframe tbody tr th {\n",
              "        vertical-align: top;\n",
              "    }\n",
              "\n",
              "    .dataframe thead th {\n",
              "        text-align: right;\n",
              "    }\n",
              "</style>\n",
              "<table border=\"1\" class=\"dataframe\">\n",
              "  <thead>\n",
              "    <tr style=\"text-align: right;\">\n",
              "      <th></th>\n",
              "      <th>target</th>\n",
              "    </tr>\n",
              "  </thead>\n",
              "  <tbody>\n",
              "    <tr>\n",
              "      <th>target</th>\n",
              "      <td>1.000000</td>\n",
              "    </tr>\n",
              "    <tr>\n",
              "      <th>B</th>\n",
              "      <td>0.138838</td>\n",
              "    </tr>\n",
              "    <tr>\n",
              "      <th>H</th>\n",
              "      <td>0.106578</td>\n",
              "    </tr>\n",
              "    <tr>\n",
              "      <th>D</th>\n",
              "      <td>0.069261</td>\n",
              "    </tr>\n",
              "    <tr>\n",
              "      <th>A</th>\n",
              "      <td>0.060348</td>\n",
              "    </tr>\n",
              "    <tr>\n",
              "      <th>F</th>\n",
              "      <td>0.059816</td>\n",
              "    </tr>\n",
              "    <tr>\n",
              "      <th>C</th>\n",
              "      <td>0.057350</td>\n",
              "    </tr>\n",
              "    <tr>\n",
              "      <th>E</th>\n",
              "      <td>0.055858</td>\n",
              "    </tr>\n",
              "    <tr>\n",
              "      <th>G</th>\n",
              "      <td>0.048426</td>\n",
              "    </tr>\n",
              "  </tbody>\n",
              "</table>\n",
              "</div>\n",
              "      <button class=\"colab-df-convert\" onclick=\"convertToInteractive('df-4bb2832f-2196-4680-827d-7a2949e21a73')\"\n",
              "              title=\"Convert this dataframe to an interactive table.\"\n",
              "              style=\"display:none;\">\n",
              "        \n",
              "  <svg xmlns=\"http://www.w3.org/2000/svg\" height=\"24px\"viewBox=\"0 0 24 24\"\n",
              "       width=\"24px\">\n",
              "    <path d=\"M0 0h24v24H0V0z\" fill=\"none\"/>\n",
              "    <path d=\"M18.56 5.44l.94 2.06.94-2.06 2.06-.94-2.06-.94-.94-2.06-.94 2.06-2.06.94zm-11 1L8.5 8.5l.94-2.06 2.06-.94-2.06-.94L8.5 2.5l-.94 2.06-2.06.94zm10 10l.94 2.06.94-2.06 2.06-.94-2.06-.94-.94-2.06-.94 2.06-2.06.94z\"/><path d=\"M17.41 7.96l-1.37-1.37c-.4-.4-.92-.59-1.43-.59-.52 0-1.04.2-1.43.59L10.3 9.45l-7.72 7.72c-.78.78-.78 2.05 0 2.83L4 21.41c.39.39.9.59 1.41.59.51 0 1.02-.2 1.41-.59l7.78-7.78 2.81-2.81c.8-.78.8-2.07 0-2.86zM5.41 20L4 18.59l7.72-7.72 1.47 1.35L5.41 20z\"/>\n",
              "  </svg>\n",
              "      </button>\n",
              "      \n",
              "  <style>\n",
              "    .colab-df-container {\n",
              "      display:flex;\n",
              "      flex-wrap:wrap;\n",
              "      gap: 12px;\n",
              "    }\n",
              "\n",
              "    .colab-df-convert {\n",
              "      background-color: #E8F0FE;\n",
              "      border: none;\n",
              "      border-radius: 50%;\n",
              "      cursor: pointer;\n",
              "      display: none;\n",
              "      fill: #1967D2;\n",
              "      height: 32px;\n",
              "      padding: 0 0 0 0;\n",
              "      width: 32px;\n",
              "    }\n",
              "\n",
              "    .colab-df-convert:hover {\n",
              "      background-color: #E2EBFA;\n",
              "      box-shadow: 0px 1px 2px rgba(60, 64, 67, 0.3), 0px 1px 3px 1px rgba(60, 64, 67, 0.15);\n",
              "      fill: #174EA6;\n",
              "    }\n",
              "\n",
              "    [theme=dark] .colab-df-convert {\n",
              "      background-color: #3B4455;\n",
              "      fill: #D2E3FC;\n",
              "    }\n",
              "\n",
              "    [theme=dark] .colab-df-convert:hover {\n",
              "      background-color: #434B5C;\n",
              "      box-shadow: 0px 1px 3px 1px rgba(0, 0, 0, 0.15);\n",
              "      filter: drop-shadow(0px 1px 2px rgba(0, 0, 0, 0.3));\n",
              "      fill: #FFFFFF;\n",
              "    }\n",
              "  </style>\n",
              "\n",
              "      <script>\n",
              "        const buttonEl =\n",
              "          document.querySelector('#df-4bb2832f-2196-4680-827d-7a2949e21a73 button.colab-df-convert');\n",
              "        buttonEl.style.display =\n",
              "          google.colab.kernel.accessAllowed ? 'block' : 'none';\n",
              "\n",
              "        async function convertToInteractive(key) {\n",
              "          const element = document.querySelector('#df-4bb2832f-2196-4680-827d-7a2949e21a73');\n",
              "          const dataTable =\n",
              "            await google.colab.kernel.invokeFunction('convertToInteractive',\n",
              "                                                     [key], {});\n",
              "          if (!dataTable) return;\n",
              "\n",
              "          const docLinkHtml = 'Like what you see? Visit the ' +\n",
              "            '<a target=\"_blank\" href=https://colab.research.google.com/notebooks/data_table.ipynb>data table notebook</a>'\n",
              "            + ' to learn more about interactive tables.';\n",
              "          element.innerHTML = '';\n",
              "          dataTable['output_type'] = 'display_data';\n",
              "          await google.colab.output.renderOutput(dataTable, element);\n",
              "          const docLink = document.createElement('div');\n",
              "          docLink.innerHTML = docLinkHtml;\n",
              "          element.appendChild(docLink);\n",
              "        }\n",
              "      </script>\n",
              "    </div>\n",
              "  </div>\n",
              "  "
            ]
          },
          "metadata": {},
          "execution_count": 70
        }
      ]
    },
    {
      "cell_type": "code",
      "source": [
        "plt.subplots(figsize=(15,10))\n",
        "sns.heatmap(df.corr())"
      ],
      "metadata": {
        "colab": {
          "base_uri": "https://localhost:8080/",
          "height": 633
        },
        "id": "hJKA81e0iDZD",
        "outputId": "82a95105-6ab0-4c2e-ad37-7d947cefcb40"
      },
      "execution_count": 71,
      "outputs": [
        {
          "output_type": "execute_result",
          "data": {
            "text/plain": [
              "(<Figure size 1080x720 with 1 Axes>,\n",
              " <matplotlib.axes._subplots.AxesSubplot at 0x7f5aae8ad150>)"
            ]
          },
          "metadata": {},
          "execution_count": 71
        },
        {
          "output_type": "execute_result",
          "data": {
            "text/plain": [
              "<matplotlib.axes._subplots.AxesSubplot at 0x7f5aae8ad150>"
            ]
          },
          "metadata": {},
          "execution_count": 71
        },
        {
          "output_type": "display_data",
          "data": {
            "text/plain": [
              "<Figure size 1080x720 with 2 Axes>"
            ],
            "image/png": "[encoded data removed]"
          },
          "metadata": {
            "needs_background": "light"
          }
        }
      ]
    },
    {
      "cell_type": "code",
      "source": [
        "X=df.drop(['target'],axis=1)\n",
        "y=df['target']\n",
        "\n",
        "X.columns=[x.lower() for x in X.columns]\n",
        "X_train,X_test,y_train,y_test=train_test_split(X,y,random_state=42,test_size=0.3, stratify=y)"
      ],
      "metadata": {
        "id": "l3eVLiQ3ijx4"
      },
      "execution_count": 72,
      "outputs": []
    },
    {
      "cell_type": "code",
      "source": [
        "df_train = X_train.copy()\n",
        "df_train['target'] = y_train\n",
        "df_train.head()"
      ],
      "metadata": {
        "colab": {
          "base_uri": "https://localhost:8080/",
          "height": 206
        },
        "id": "Gxg9kLJki7Cw",
        "outputId": "a3f78e8c-f817-4cc9-9336-d6c12e33ae22"
      },
      "execution_count": 73,
      "outputs": [
        {
          "output_type": "execute_result",
          "data": {
            "text/plain": [
              "        a         b      c         d         e         f         g         h  \\\n",
              "140  0.00  0.117647 -0.125  0.000000 -0.426087 -0.184783 -0.727536 -0.153846   \n",
              "241  0.75 -0.705882 -0.125  0.193548  0.191304 -0.021739  0.060870 -0.230769   \n",
              "291 -0.50 -0.147059  1.250 -0.709677 -0.426087 -0.086957 -0.423188  1.461538   \n",
              "49   1.00  1.000000  0.125  0.161290  1.556522  0.380435 -0.255072  1.000000   \n",
              "274 -0.25  0.588235 -0.625  0.032258  1.052174 -0.195652  1.011594 -0.461538   \n",
              "\n",
              "     target  \n",
              "140       0  \n",
              "241       0  \n",
              "291       0  \n",
              "49        0  \n",
              "274       0  "
            ],
            "text/html": [
              "\n",
              "  <div id=\"df-aedca7d2-3f8d-4f72-902e-cd34cc731f4b\">\n",
              "    <div class=\"colab-df-container\">\n",
              "      <div>\n",
              "<style scoped>\n",
              "    .dataframe tbody tr th:only-of-type {\n",
              "        vertical-align: middle;\n",
              "    }\n",
              "\n",
              "    .dataframe tbody tr th {\n",
              "        vertical-align: top;\n",
              "    }\n",
              "\n",
              "    .dataframe thead th {\n",
              "        text-align: right;\n",
              "    }\n",
              "</style>\n",
              "<table border=\"1\" class=\"dataframe\">\n",
              "  <thead>\n",
              "    <tr style=\"text-align: right;\">\n",
              "      <th></th>\n",
              "      <th>a</th>\n",
              "      <th>b</th>\n",
              "      <th>c</th>\n",
              "      <th>d</th>\n",
              "      <th>e</th>\n",
              "      <th>f</th>\n",
              "      <th>g</th>\n",
              "      <th>h</th>\n",
              "      <th>target</th>\n",
              "    </tr>\n",
              "  </thead>\n",
              "  <tbody>\n",
              "    <tr>\n",
              "      <th>140</th>\n",
              "      <td>0.00</td>\n",
              "      <td>0.117647</td>\n",
              "      <td>-0.125</td>\n",
              "      <td>0.000000</td>\n",
              "      <td>-0.426087</td>\n",
              "      <td>-0.184783</td>\n",
              "      <td>-0.727536</td>\n",
              "      <td>-0.153846</td>\n",
              "      <td>0</td>\n",
              "    </tr>\n",
              "    <tr>\n",
              "      <th>241</th>\n",
              "      <td>0.75</td>\n",
              "      <td>-0.705882</td>\n",
              "      <td>-0.125</td>\n",
              "      <td>0.193548</td>\n",
              "      <td>0.191304</td>\n",
              "      <td>-0.021739</td>\n",
              "      <td>0.060870</td>\n",
              "      <td>-0.230769</td>\n",
              "      <td>0</td>\n",
              "    </tr>\n",
              "    <tr>\n",
              "      <th>291</th>\n",
              "      <td>-0.50</td>\n",
              "      <td>-0.147059</td>\n",
              "      <td>1.250</td>\n",
              "      <td>-0.709677</td>\n",
              "      <td>-0.426087</td>\n",
              "      <td>-0.086957</td>\n",
              "      <td>-0.423188</td>\n",
              "      <td>1.461538</td>\n",
              "      <td>0</td>\n",
              "    </tr>\n",
              "    <tr>\n",
              "      <th>49</th>\n",
              "      <td>1.00</td>\n",
              "      <td>1.000000</td>\n",
              "      <td>0.125</td>\n",
              "      <td>0.161290</td>\n",
              "      <td>1.556522</td>\n",
              "      <td>0.380435</td>\n",
              "      <td>-0.255072</td>\n",
              "      <td>1.000000</td>\n",
              "      <td>0</td>\n",
              "    </tr>\n",
              "    <tr>\n",
              "      <th>274</th>\n",
              "      <td>-0.25</td>\n",
              "      <td>0.588235</td>\n",
              "      <td>-0.625</td>\n",
              "      <td>0.032258</td>\n",
              "      <td>1.052174</td>\n",
              "      <td>-0.195652</td>\n",
              "      <td>1.011594</td>\n",
              "      <td>-0.461538</td>\n",
              "      <td>0</td>\n",
              "    </tr>\n",
              "  </tbody>\n",
              "</table>\n",
              "</div>\n",
              "      <button class=\"colab-df-convert\" onclick=\"convertToInteractive('df-aedca7d2-3f8d-4f72-902e-cd34cc731f4b')\"\n",
              "              title=\"Convert this dataframe to an interactive table.\"\n",
              "              style=\"display:none;\">\n",
              "        \n",
              "  <svg xmlns=\"http://www.w3.org/2000/svg\" height=\"24px\"viewBox=\"0 0 24 24\"\n",
              "       width=\"24px\">\n",
              "    <path d=\"M0 0h24v24H0V0z\" fill=\"none\"/>\n",
              "    <path d=\"M18.56 5.44l.94 2.06.94-2.06 2.06-.94-2.06-.94-.94-2.06-.94 2.06-2.06.94zm-11 1L8.5 8.5l.94-2.06 2.06-.94-2.06-.94L8.5 2.5l-.94 2.06-2.06.94zm10 10l.94 2.06.94-2.06 2.06-.94-2.06-.94-.94-2.06-.94 2.06-2.06.94z\"/><path d=\"M17.41 7.96l-1.37-1.37c-.4-.4-.92-.59-1.43-.59-.52 0-1.04.2-1.43.59L10.3 9.45l-7.72 7.72c-.78.78-.78 2.05 0 2.83L4 21.41c.39.39.9.59 1.41.59.51 0 1.02-.2 1.41-.59l7.78-7.78 2.81-2.81c.8-.78.8-2.07 0-2.86zM5.41 20L4 18.59l7.72-7.72 1.47 1.35L5.41 20z\"/>\n",
              "  </svg>\n",
              "      </button>\n",
              "      \n",
              "  <style>\n",
              "    .colab-df-container {\n",
              "      display:flex;\n",
              "      flex-wrap:wrap;\n",
              "      gap: 12px;\n",
              "    }\n",
              "\n",
              "    .colab-df-convert {\n",
              "      background-color: #E8F0FE;\n",
              "      border: none;\n",
              "      border-radius: 50%;\n",
              "      cursor: pointer;\n",
              "      display: none;\n",
              "      fill: #1967D2;\n",
              "      height: 32px;\n",
              "      padding: 0 0 0 0;\n",
              "      width: 32px;\n",
              "    }\n",
              "\n",
              "    .colab-df-convert:hover {\n",
              "      background-color: #E2EBFA;\n",
              "      box-shadow: 0px 1px 2px rgba(60, 64, 67, 0.3), 0px 1px 3px 1px rgba(60, 64, 67, 0.15);\n",
              "      fill: #174EA6;\n",
              "    }\n",
              "\n",
              "    [theme=dark] .colab-df-convert {\n",
              "      background-color: #3B4455;\n",
              "      fill: #D2E3FC;\n",
              "    }\n",
              "\n",
              "    [theme=dark] .colab-df-convert:hover {\n",
              "      background-color: #434B5C;\n",
              "      box-shadow: 0px 1px 3px 1px rgba(0, 0, 0, 0.15);\n",
              "      filter: drop-shadow(0px 1px 2px rgba(0, 0, 0, 0.3));\n",
              "      fill: #FFFFFF;\n",
              "    }\n",
              "  </style>\n",
              "\n",
              "      <script>\n",
              "        const buttonEl =\n",
              "          document.querySelector('#df-aedca7d2-3f8d-4f72-902e-cd34cc731f4b button.colab-df-convert');\n",
              "        buttonEl.style.display =\n",
              "          google.colab.kernel.accessAllowed ? 'block' : 'none';\n",
              "\n",
              "        async function convertToInteractive(key) {\n",
              "          const element = document.querySelector('#df-aedca7d2-3f8d-4f72-902e-cd34cc731f4b');\n",
              "          const dataTable =\n",
              "            await google.colab.kernel.invokeFunction('convertToInteractive',\n",
              "                                                     [key], {});\n",
              "          if (!dataTable) return;\n",
              "\n",
              "          const docLinkHtml = 'Like what you see? Visit the ' +\n",
              "            '<a target=\"_blank\" href=https://colab.research.google.com/notebooks/data_table.ipynb>data table notebook</a>'\n",
              "            + ' to learn more about interactive tables.';\n",
              "          element.innerHTML = '';\n",
              "          dataTable['output_type'] = 'display_data';\n",
              "          await google.colab.output.renderOutput(dataTable, element);\n",
              "          const docLink = document.createElement('div');\n",
              "          docLink.innerHTML = docLinkHtml;\n",
              "          element.appendChild(docLink);\n",
              "        }\n",
              "      </script>\n",
              "    </div>\n",
              "  </div>\n",
              "  "
            ]
          },
          "metadata": {},
          "execution_count": 73
        }
      ]
    },
    {
      "cell_type": "markdown",
      "source": [
        "### *Come Imbalanced dataset*"
      ],
      "metadata": {
        "id": "-l4Jwzs3jB2-"
      }
    },
    {
      "cell_type": "code",
      "source": [
        "classes=df_train['target'].value_counts()\n",
        "normal_share=round(classes[0]/df_train['target'].count()*100,2)\n",
        "fraud_share=round(classes[1]/df_train['target'].count()*100, 2)\n",
        "print(\"target : {} %\".format(normal_share))\n",
        "print(\"target : {} %\".format(fraud_share))"
      ],
      "metadata": {
        "colab": {
          "base_uri": "https://localhost:8080/"
        },
        "id": "OwOdMn6QjCY5",
        "outputId": "6c894fe6-d067-44eb-d5eb-68bd876f1ac4"
      },
      "execution_count": 74,
      "outputs": [
        {
          "output_type": "stream",
          "name": "stdout",
          "text": [
            "target : 93.22 %\n",
            "target : 6.78 %\n"
          ]
        }
      ]
    },
    {
      "cell_type": "code",
      "source": [
        "fig = px.histogram(df_train, x=\"target\", color=\"target\", title=\"target histogram\")\n",
        "fig.show()"
      ],
      "metadata": {
        "colab": {
          "base_uri": "https://localhost:8080/",
          "height": 542
        },
        "id": "Rt-KcYRZjKQV",
        "outputId": "3ed0b9f5-5fc4-4fdb-fc98-02a089ded4ed"
      },
      "execution_count": 75,
      "outputs": [
        {
          "output_type": "display_data",
          "data": {
            "text/html": [
              "<html>\n",
              "<head><meta charset=\"utf-8\" /></head>\n",
              "<body>\n",
              "    <div>            <script src=\"https://cdnjs.cloudflare.com/ajax/libs/mathjax/2.7.5/MathJax.js?config=TeX-AMS-MML_SVG\"></script><script type=\"text/javascript\">if (window.MathJax) {MathJax.Hub.Config({SVG: {font: \"STIX-Web\"}});}</script>                <script type=\"text/javascript\">window.PlotlyConfig = {MathJaxConfig: 'local'};</script>\n",
              "        <script src=\"https://cdn.plot.ly/plotly-2.8.3.min.js\"></script>                <div id=\"373c654e-9705-4fb7-adfc-5de72439c943\" class=\"plotly-graph-div\" style=\"height:525px; width:100%;\"></div>            <script type=\"text/javascript\">                                    window.PLOTLYENV=window.PLOTLYENV || {};                                    if (document.getElementById(\"373c654e-9705-4fb7-adfc-5de72439c943\")) {                    Plotly.newPlot(                        \"373c654e-9705-4fb7-adfc-5de72439c943\",                        [{\"alignmentgroup\":\"True\",\"bingroup\":\"x\",\"hovertemplate\":\"target=%{x}<br>count=%{y}<extra></extra>\",\"legendgroup\":\"0\",\"marker\":{\"color\":\"#636efa\",\"pattern\":{\"shape\":\"\"}},\"name\":\"0\",\"offsetgroup\":\"0\",\"orientation\":\"v\",\"showlegend\":true,\"x\":[0,0,0,0,0,0,0,0,0,0,0,0,0,0,0,0,0,0,0,0,0,0,0,0,0,0,0,0,0,0,0,0,0,0,0,0,0,0,0,0,0,0,0,0,0,0,0,0,0,0,0,0,0,0,0,0,0,0,0,0,0,0,0,0,0,0,0,0,0,0,0,0,0,0,0,0,0,0,0,0,0,0,0,0,0,0,0,0,0,0,0,0,0,0,0,0,0,0,0,0,0,0,0,0,0,0,0,0,0,0,0,0,0,0,0,0,0,0,0,0,0,0,0,0,0,0,0,0,0,0,0,0,0,0,0,0,0,0,0,0,0,0,0,0,0,0,0,0,0,0,0,0,0,0,0,0,0,0,0,0,0,0,0,0,0,0,0,0,0,0,0,0,0,0,0,0,0,0,0,0,0,0,0,0,0,0,0,0,0,0,0,0,0,0,0,0,0,0,0,0,0,0,0,0,0,0,0,0,0,0,0,0,0,0,0,0,0,0,0,0,0,0,0,0,0,0,0,0,0,0,0,0,0,0,0,0,0,0,0,0,0,0,0,0,0,0,0,0,0,0,0,0,0,0,0,0,0,0,0,0,0,0,0,0,0,0,0,0,0,0,0,0,0,0,0],\"xaxis\":\"x\",\"yaxis\":\"y\",\"type\":\"histogram\"},{\"alignmentgroup\":\"True\",\"bingroup\":\"x\",\"hovertemplate\":\"target=%{x}<br>count=%{y}<extra></extra>\",\"legendgroup\":\"1\",\"marker\":{\"color\":\"#EF553B\",\"pattern\":{\"shape\":\"\"}},\"name\":\"1\",\"offsetgroup\":\"1\",\"orientation\":\"v\",\"showlegend\":true,\"x\":[1,1,1,1,1,1,1,1,1,1,1,1,1,1,1,1,1,1,1,1],\"xaxis\":\"x\",\"yaxis\":\"y\",\"type\":\"histogram\"}],                        {\"template\":{\"data\":{\"bar\":[{\"error_x\":{\"color\":\"#2a3f5f\"},\"error_y\":{\"color\":\"#2a3f5f\"},\"marker\":{\"line\":{\"color\":\"#E5ECF6\",\"width\":0.5},\"pattern\":{\"fillmode\":\"overlay\",\"size\":10,\"solidity\":0.2}},\"type\":\"bar\"}],\"barpolar\":[{\"marker\":{\"line\":{\"color\":\"#E5ECF6\",\"width\":0.5},\"pattern\":{\"fillmode\":\"overlay\",\"size\":10,\"solidity\":0.2}},\"type\":\"barpolar\"}],\"carpet\":[{\"aaxis\":{\"endlinecolor\":\"#2a3f5f\",\"gridcolor\":\"white\",\"linecolor\":\"white\",\"minorgridcolor\":\"white\",\"startlinecolor\":\"#2a3f5f\"},\"baxis\":{\"endlinecolor\":\"#2a3f5f\",\"gridcolor\":\"white\",\"linecolor\":\"white\",\"minorgridcolor\":\"white\",\"startlinecolor\":\"#2a3f5f\"},\"type\":\"carpet\"}],\"choropleth\":[{\"colorbar\":{\"outlinewidth\":0,\"ticks\":\"\"},\"type\":\"choropleth\"}],\"contour\":[{\"colorbar\":{\"outlinewidth\":0,\"ticks\":\"\"},\"colorscale\":[[0.0,\"#0d0887\"],[0.1111111111111111,\"#46039f\"],[0.2222222222222222,\"#7201a8\"],[0.3333333333333333,\"#9c179e\"],[0.4444444444444444,\"#bd3786\"],[0.5555555555555556,\"#d8576b\"],[0.6666666666666666,\"#ed7953\"],[0.7777777777777778,\"#fb9f3a\"],[0.8888888888888888,\"#fdca26\"],[1.0,\"#f0f921\"]],\"type\":\"contour\"}],\"contourcarpet\":[{\"colorbar\":{\"outlinewidth\":0,\"ticks\":\"\"},\"type\":\"contourcarpet\"}],\"heatmap\":[{\"colorbar\":{\"outlinewidth\":0,\"ticks\":\"\"},\"colorscale\":[[0.0,\"#0d0887\"],[0.1111111111111111,\"#46039f\"],[0.2222222222222222,\"#7201a8\"],[0.3333333333333333,\"#9c179e\"],[0.4444444444444444,\"#bd3786\"],[0.5555555555555556,\"#d8576b\"],[0.6666666666666666,\"#ed7953\"],[0.7777777777777778,\"#fb9f3a\"],[0.8888888888888888,\"#fdca26\"],[1.0,\"#f0f921\"]],\"type\":\"heatmap\"}],\"heatmapgl\":[{\"colorbar\":{\"outlinewidth\":0,\"ticks\":\"\"},\"colorscale\":[[0.0,\"#0d0887\"],[0.1111111111111111,\"#46039f\"],[0.2222222222222222,\"#7201a8\"],[0.3333333333333333,\"#9c179e\"],[0.4444444444444444,\"#bd3786\"],[0.5555555555555556,\"#d8576b\"],[0.6666666666666666,\"#ed7953\"],[0.7777777777777778,\"#fb9f3a\"],[0.8888888888888888,\"#fdca26\"],[1.0,\"#f0f921\"]],\"type\":\"heatmapgl\"}],\"histogram\":[{\"marker\":{\"pattern\":{\"fillmode\":\"overlay\",\"size\":10,\"solidity\":0.2}},\"type\":\"histogram\"}],\"histogram2d\":[{\"colorbar\":{\"outlinewidth\":0,\"ticks\":\"\"},\"colorscale\":[[0.0,\"#0d0887\"],[0.1111111111111111,\"#46039f\"],[0.2222222222222222,\"#7201a8\"],[0.3333333333333333,\"#9c179e\"],[0.4444444444444444,\"#bd3786\"],[0.5555555555555556,\"#d8576b\"],[0.6666666666666666,\"#ed7953\"],[0.7777777777777778,\"#fb9f3a\"],[0.8888888888888888,\"#fdca26\"],[1.0,\"#f0f921\"]],\"type\":\"histogram2d\"}],\"histogram2dcontour\":[{\"colorbar\":{\"outlinewidth\":0,\"ticks\":\"\"},\"colorscale\":[[0.0,\"#0d0887\"],[0.1111111111111111,\"#46039f\"],[0.2222222222222222,\"#7201a8\"],[0.3333333333333333,\"#9c179e\"],[0.4444444444444444,\"#bd3786\"],[0.5555555555555556,\"#d8576b\"],[0.6666666666666666,\"#ed7953\"],[0.7777777777777778,\"#fb9f3a\"],[0.8888888888888888,\"#fdca26\"],[1.0,\"#f0f921\"]],\"type\":\"histogram2dcontour\"}],\"mesh3d\":[{\"colorbar\":{\"outlinewidth\":0,\"ticks\":\"\"},\"type\":\"mesh3d\"}],\"parcoords\":[{\"line\":{\"colorbar\":{\"outlinewidth\":0,\"ticks\":\"\"}},\"type\":\"parcoords\"}],\"pie\":[{\"automargin\":true,\"type\":\"pie\"}],\"scatter\":[{\"marker\":{\"colorbar\":{\"outlinewidth\":0,\"ticks\":\"\"}},\"type\":\"scatter\"}],\"scatter3d\":[{\"line\":{\"colorbar\":{\"outlinewidth\":0,\"ticks\":\"\"}},\"marker\":{\"colorbar\":{\"outlinewidth\":0,\"ticks\":\"\"}},\"type\":\"scatter3d\"}],\"scattercarpet\":[{\"marker\":{\"colorbar\":{\"outlinewidth\":0,\"ticks\":\"\"}},\"type\":\"scattercarpet\"}],\"scattergeo\":[{\"marker\":{\"colorbar\":{\"outlinewidth\":0,\"ticks\":\"\"}},\"type\":\"scattergeo\"}],\"scattergl\":[{\"marker\":{\"colorbar\":{\"outlinewidth\":0,\"ticks\":\"\"}},\"type\":\"scattergl\"}],\"scattermapbox\":[{\"marker\":{\"colorbar\":{\"outlinewidth\":0,\"ticks\":\"\"}},\"type\":\"scattermapbox\"}],\"scatterpolar\":[{\"marker\":{\"colorbar\":{\"outlinewidth\":0,\"ticks\":\"\"}},\"type\":\"scatterpolar\"}],\"scatterpolargl\":[{\"marker\":{\"colorbar\":{\"outlinewidth\":0,\"ticks\":\"\"}},\"type\":\"scatterpolargl\"}],\"scatterternary\":[{\"marker\":{\"colorbar\":{\"outlinewidth\":0,\"ticks\":\"\"}},\"type\":\"scatterternary\"}],\"surface\":[{\"colorbar\":{\"outlinewidth\":0,\"ticks\":\"\"},\"colorscale\":[[0.0,\"#0d0887\"],[0.1111111111111111,\"#46039f\"],[0.2222222222222222,\"#7201a8\"],[0.3333333333333333,\"#9c179e\"],[0.4444444444444444,\"#bd3786\"],[0.5555555555555556,\"#d8576b\"],[0.6666666666666666,\"#ed7953\"],[0.7777777777777778,\"#fb9f3a\"],[0.8888888888888888,\"#fdca26\"],[1.0,\"#f0f921\"]],\"type\":\"surface\"}],\"table\":[{\"cells\":{\"fill\":{\"color\":\"#EBF0F8\"},\"line\":{\"color\":\"white\"}},\"header\":{\"fill\":{\"color\":\"#C8D4E3\"},\"line\":{\"color\":\"white\"}},\"type\":\"table\"}]},\"layout\":{\"annotationdefaults\":{\"arrowcolor\":\"#2a3f5f\",\"arrowhead\":0,\"arrowwidth\":1},\"autotypenumbers\":\"strict\",\"coloraxis\":{\"colorbar\":{\"outlinewidth\":0,\"ticks\":\"\"}},\"colorscale\":{\"diverging\":[[0,\"#8e0152\"],[0.1,\"#c51b7d\"],[0.2,\"#de77ae\"],[0.3,\"#f1b6da\"],[0.4,\"#fde0ef\"],[0.5,\"#f7f7f7\"],[0.6,\"#e6f5d0\"],[0.7,\"#b8e186\"],[0.8,\"#7fbc41\"],[0.9,\"#4d9221\"],[1,\"#276419\"]],\"sequential\":[[0.0,\"#0d0887\"],[0.1111111111111111,\"#46039f\"],[0.2222222222222222,\"#7201a8\"],[0.3333333333333333,\"#9c179e\"],[0.4444444444444444,\"#bd3786\"],[0.5555555555555556,\"#d8576b\"],[0.6666666666666666,\"#ed7953\"],[0.7777777777777778,\"#fb9f3a\"],[0.8888888888888888,\"#fdca26\"],[1.0,\"#f0f921\"]],\"sequentialminus\":[[0.0,\"#0d0887\"],[0.1111111111111111,\"#46039f\"],[0.2222222222222222,\"#7201a8\"],[0.3333333333333333,\"#9c179e\"],[0.4444444444444444,\"#bd3786\"],[0.5555555555555556,\"#d8576b\"],[0.6666666666666666,\"#ed7953\"],[0.7777777777777778,\"#fb9f3a\"],[0.8888888888888888,\"#fdca26\"],[1.0,\"#f0f921\"]]},\"colorway\":[\"#636efa\",\"#EF553B\",\"#00cc96\",\"#ab63fa\",\"#FFA15A\",\"#19d3f3\",\"#FF6692\",\"#B6E880\",\"#FF97FF\",\"#FECB52\"],\"font\":{\"color\":\"#2a3f5f\"},\"geo\":{\"bgcolor\":\"white\",\"lakecolor\":\"white\",\"landcolor\":\"#E5ECF6\",\"showlakes\":true,\"showland\":true,\"subunitcolor\":\"white\"},\"hoverlabel\":{\"align\":\"left\"},\"hovermode\":\"closest\",\"mapbox\":{\"style\":\"light\"},\"paper_bgcolor\":\"white\",\"plot_bgcolor\":\"#E5ECF6\",\"polar\":{\"angularaxis\":{\"gridcolor\":\"white\",\"linecolor\":\"white\",\"ticks\":\"\"},\"bgcolor\":\"#E5ECF6\",\"radialaxis\":{\"gridcolor\":\"white\",\"linecolor\":\"white\",\"ticks\":\"\"}},\"scene\":{\"xaxis\":{\"backgroundcolor\":\"#E5ECF6\",\"gridcolor\":\"white\",\"gridwidth\":2,\"linecolor\":\"white\",\"showbackground\":true,\"ticks\":\"\",\"zerolinecolor\":\"white\"},\"yaxis\":{\"backgroundcolor\":\"#E5ECF6\",\"gridcolor\":\"white\",\"gridwidth\":2,\"linecolor\":\"white\",\"showbackground\":true,\"ticks\":\"\",\"zerolinecolor\":\"white\"},\"zaxis\":{\"backgroundcolor\":\"#E5ECF6\",\"gridcolor\":\"white\",\"gridwidth\":2,\"linecolor\":\"white\",\"showbackground\":true,\"ticks\":\"\",\"zerolinecolor\":\"white\"}},\"shapedefaults\":{\"line\":{\"color\":\"#2a3f5f\"}},\"ternary\":{\"aaxis\":{\"gridcolor\":\"white\",\"linecolor\":\"white\",\"ticks\":\"\"},\"baxis\":{\"gridcolor\":\"white\",\"linecolor\":\"white\",\"ticks\":\"\"},\"bgcolor\":\"#E5ECF6\",\"caxis\":{\"gridcolor\":\"white\",\"linecolor\":\"white\",\"ticks\":\"\"}},\"title\":{\"x\":0.05},\"xaxis\":{\"automargin\":true,\"gridcolor\":\"white\",\"linecolor\":\"white\",\"ticks\":\"\",\"title\":{\"standoff\":15},\"zerolinecolor\":\"white\",\"zerolinewidth\":2},\"yaxis\":{\"automargin\":true,\"gridcolor\":\"white\",\"linecolor\":\"white\",\"ticks\":\"\",\"title\":{\"standoff\":15},\"zerolinecolor\":\"white\",\"zerolinewidth\":2}}},\"xaxis\":{\"anchor\":\"y\",\"domain\":[0.0,1.0],\"title\":{\"text\":\"target\"},\"categoryorder\":\"array\",\"categoryarray\":[0,1]},\"yaxis\":{\"anchor\":\"x\",\"domain\":[0.0,1.0],\"title\":{\"text\":\"count\"}},\"legend\":{\"title\":{\"text\":\"target\"},\"tracegroupgap\":0},\"title\":{\"text\":\"target histogram\"},\"barmode\":\"relative\"},                        {\"responsive\": true}                    ).then(function(){\n",
              "                            \n",
              "var gd = document.getElementById('373c654e-9705-4fb7-adfc-5de72439c943');\n",
              "var x = new MutationObserver(function (mutations, observer) {{\n",
              "        var display = window.getComputedStyle(gd).display;\n",
              "        if (!display || display === 'none') {{\n",
              "            console.log([gd, 'removed!']);\n",
              "            Plotly.purge(gd);\n",
              "            observer.disconnect();\n",
              "        }}\n",
              "}});\n",
              "\n",
              "// Listen for the removal of the full notebook cells\n",
              "var notebookContainer = gd.closest('#notebook-container');\n",
              "if (notebookContainer) {{\n",
              "    x.observe(notebookContainer, {childList: true});\n",
              "}}\n",
              "\n",
              "// Listen for the clearing of the current output cell\n",
              "var outputEl = gd.closest('.output');\n",
              "if (outputEl) {{\n",
              "    x.observe(outputEl, {childList: true});\n",
              "}}\n",
              "\n",
              "                        })                };                            </script>        </div>\n",
              "</body>\n",
              "</html>"
            ]
          },
          "metadata": {}
        }
      ]
    },
    {
      "cell_type": "markdown",
      "source": [
        "### *Upsampling*"
      ],
      "metadata": {
        "id": "g6vEUlwMjebH"
      }
    },
    {
      "cell_type": "code",
      "source": [
        "# Upsampling\n",
        "df_minority_upsampled = resample(df_train[df_train['target'] == 1], \n",
        "                                 replace=True,     # sample with replacement\n",
        "                                 n_samples=len(df_train[df_train['target'] == 0]),    # to match majority class\n",
        "                                 random_state=123) # reproducible results\n",
        " \n",
        "# Combine majority class with upsampled minority class\n",
        "df_train = pd.concat([df_train[df_train['target'] == 0], df_minority_upsampled])\n",
        " \n",
        "# Display new class counts\n",
        "df_train.target.value_counts()"
      ],
      "metadata": {
        "colab": {
          "base_uri": "https://localhost:8080/"
        },
        "id": "UTKx5LAJjcVX",
        "outputId": "c9d21535-06d0-4f5a-da70-c32aa15f6227"
      },
      "execution_count": 76,
      "outputs": [
        {
          "output_type": "execute_result",
          "data": {
            "text/plain": [
              "0    275\n",
              "1    275\n",
              "Name: target, dtype: int64"
            ]
          },
          "metadata": {},
          "execution_count": 76
        }
      ]
    },
    {
      "cell_type": "code",
      "source": [
        "X_train=df_train.drop(['target'],axis=1)\n",
        "y_train=df_train['target']"
      ],
      "metadata": {
        "id": "WvY4EUThjgOq"
      },
      "execution_count": 77,
      "outputs": []
    },
    {
      "cell_type": "code",
      "source": [
        "fig = px.histogram(df_train, x=\"target\", color=\"target\", title=\"target histogram\")\n",
        "fig.show()"
      ],
      "metadata": {
        "colab": {
          "base_uri": "https://localhost:8080/",
          "height": 542
        },
        "id": "92WM9YoSjrRt",
        "outputId": "722aa09d-53ac-46c6-ad09-2bbc187503d2"
      },
      "execution_count": 78,
      "outputs": [
        {
          "output_type": "display_data",
          "data": {
            "text/html": [
              "<html>\n",
              "<head><meta charset=\"utf-8\" /></head>\n",
              "<body>\n",
              "    <div>            <script src=\"https://cdnjs.cloudflare.com/ajax/libs/mathjax/2.7.5/MathJax.js?config=TeX-AMS-MML_SVG\"></script><script type=\"text/javascript\">if (window.MathJax) {MathJax.Hub.Config({SVG: {font: \"STIX-Web\"}});}</script>                <script type=\"text/javascript\">window.PlotlyConfig = {MathJaxConfig: 'local'};</script>\n",
              "        <script src=\"https://cdn.plot.ly/plotly-2.8.3.min.js\"></script>                <div id=\"345e9912-06b7-4aea-93f7-dbeaeccf1e25\" class=\"plotly-graph-div\" style=\"height:525px; width:100%;\"></div>            <script type=\"text/javascript\">                                    window.PLOTLYENV=window.PLOTLYENV || {};                                    if (document.getElementById(\"345e9912-06b7-4aea-93f7-dbeaeccf1e25\")) {                    Plotly.newPlot(                        \"345e9912-06b7-4aea-93f7-dbeaeccf1e25\",                        [{\"alignmentgroup\":\"True\",\"bingroup\":\"x\",\"hovertemplate\":\"target=%{x}<br>count=%{y}<extra></extra>\",\"legendgroup\":\"0\",\"marker\":{\"color\":\"#636efa\",\"pattern\":{\"shape\":\"\"}},\"name\":\"0\",\"offsetgroup\":\"0\",\"orientation\":\"v\",\"showlegend\":true,\"x\":[0,0,0,0,0,0,0,0,0,0,0,0,0,0,0,0,0,0,0,0,0,0,0,0,0,0,0,0,0,0,0,0,0,0,0,0,0,0,0,0,0,0,0,0,0,0,0,0,0,0,0,0,0,0,0,0,0,0,0,0,0,0,0,0,0,0,0,0,0,0,0,0,0,0,0,0,0,0,0,0,0,0,0,0,0,0,0,0,0,0,0,0,0,0,0,0,0,0,0,0,0,0,0,0,0,0,0,0,0,0,0,0,0,0,0,0,0,0,0,0,0,0,0,0,0,0,0,0,0,0,0,0,0,0,0,0,0,0,0,0,0,0,0,0,0,0,0,0,0,0,0,0,0,0,0,0,0,0,0,0,0,0,0,0,0,0,0,0,0,0,0,0,0,0,0,0,0,0,0,0,0,0,0,0,0,0,0,0,0,0,0,0,0,0,0,0,0,0,0,0,0,0,0,0,0,0,0,0,0,0,0,0,0,0,0,0,0,0,0,0,0,0,0,0,0,0,0,0,0,0,0,0,0,0,0,0,0,0,0,0,0,0,0,0,0,0,0,0,0,0,0,0,0,0,0,0,0,0,0,0,0,0,0,0,0,0,0,0,0,0,0,0,0,0,0],\"xaxis\":\"x\",\"yaxis\":\"y\",\"type\":\"histogram\"},{\"alignmentgroup\":\"True\",\"bingroup\":\"x\",\"hovertemplate\":\"target=%{x}<br>count=%{y}<extra></extra>\",\"legendgroup\":\"1\",\"marker\":{\"color\":\"#EF553B\",\"pattern\":{\"shape\":\"\"}},\"name\":\"1\",\"offsetgroup\":\"1\",\"orientation\":\"v\",\"showlegend\":true,\"x\":[1,1,1,1,1,1,1,1,1,1,1,1,1,1,1,1,1,1,1,1,1,1,1,1,1,1,1,1,1,1,1,1,1,1,1,1,1,1,1,1,1,1,1,1,1,1,1,1,1,1,1,1,1,1,1,1,1,1,1,1,1,1,1,1,1,1,1,1,1,1,1,1,1,1,1,1,1,1,1,1,1,1,1,1,1,1,1,1,1,1,1,1,1,1,1,1,1,1,1,1,1,1,1,1,1,1,1,1,1,1,1,1,1,1,1,1,1,1,1,1,1,1,1,1,1,1,1,1,1,1,1,1,1,1,1,1,1,1,1,1,1,1,1,1,1,1,1,1,1,1,1,1,1,1,1,1,1,1,1,1,1,1,1,1,1,1,1,1,1,1,1,1,1,1,1,1,1,1,1,1,1,1,1,1,1,1,1,1,1,1,1,1,1,1,1,1,1,1,1,1,1,1,1,1,1,1,1,1,1,1,1,1,1,1,1,1,1,1,1,1,1,1,1,1,1,1,1,1,1,1,1,1,1,1,1,1,1,1,1,1,1,1,1,1,1,1,1,1,1,1,1,1,1,1,1,1,1,1,1,1,1,1,1,1,1,1,1,1,1,1,1,1,1,1,1],\"xaxis\":\"x\",\"yaxis\":\"y\",\"type\":\"histogram\"}],                        {\"template\":{\"data\":{\"bar\":[{\"error_x\":{\"color\":\"#2a3f5f\"},\"error_y\":{\"color\":\"#2a3f5f\"},\"marker\":{\"line\":{\"color\":\"#E5ECF6\",\"width\":0.5},\"pattern\":{\"fillmode\":\"overlay\",\"size\":10,\"solidity\":0.2}},\"type\":\"bar\"}],\"barpolar\":[{\"marker\":{\"line\":{\"color\":\"#E5ECF6\",\"width\":0.5},\"pattern\":{\"fillmode\":\"overlay\",\"size\":10,\"solidity\":0.2}},\"type\":\"barpolar\"}],\"carpet\":[{\"aaxis\":{\"endlinecolor\":\"#2a3f5f\",\"gridcolor\":\"white\",\"linecolor\":\"white\",\"minorgridcolor\":\"white\",\"startlinecolor\":\"#2a3f5f\"},\"baxis\":{\"endlinecolor\":\"#2a3f5f\",\"gridcolor\":\"white\",\"linecolor\":\"white\",\"minorgridcolor\":\"white\",\"startlinecolor\":\"#2a3f5f\"},\"type\":\"carpet\"}],\"choropleth\":[{\"colorbar\":{\"outlinewidth\":0,\"ticks\":\"\"},\"type\":\"choropleth\"}],\"contour\":[{\"colorbar\":{\"outlinewidth\":0,\"ticks\":\"\"},\"colorscale\":[[0.0,\"#0d0887\"],[0.1111111111111111,\"#46039f\"],[0.2222222222222222,\"#7201a8\"],[0.3333333333333333,\"#9c179e\"],[0.4444444444444444,\"#bd3786\"],[0.5555555555555556,\"#d8576b\"],[0.6666666666666666,\"#ed7953\"],[0.7777777777777778,\"#fb9f3a\"],[0.8888888888888888,\"#fdca26\"],[1.0,\"#f0f921\"]],\"type\":\"contour\"}],\"contourcarpet\":[{\"colorbar\":{\"outlinewidth\":0,\"ticks\":\"\"},\"type\":\"contourcarpet\"}],\"heatmap\":[{\"colorbar\":{\"outlinewidth\":0,\"ticks\":\"\"},\"colorscale\":[[0.0,\"#0d0887\"],[0.1111111111111111,\"#46039f\"],[0.2222222222222222,\"#7201a8\"],[0.3333333333333333,\"#9c179e\"],[0.4444444444444444,\"#bd3786\"],[0.5555555555555556,\"#d8576b\"],[0.6666666666666666,\"#ed7953\"],[0.7777777777777778,\"#fb9f3a\"],[0.8888888888888888,\"#fdca26\"],[1.0,\"#f0f921\"]],\"type\":\"heatmap\"}],\"heatmapgl\":[{\"colorbar\":{\"outlinewidth\":0,\"ticks\":\"\"},\"colorscale\":[[0.0,\"#0d0887\"],[0.1111111111111111,\"#46039f\"],[0.2222222222222222,\"#7201a8\"],[0.3333333333333333,\"#9c179e\"],[0.4444444444444444,\"#bd3786\"],[0.5555555555555556,\"#d8576b\"],[0.6666666666666666,\"#ed7953\"],[0.7777777777777778,\"#fb9f3a\"],[0.8888888888888888,\"#fdca26\"],[1.0,\"#f0f921\"]],\"type\":\"heatmapgl\"}],\"histogram\":[{\"marker\":{\"pattern\":{\"fillmode\":\"overlay\",\"size\":10,\"solidity\":0.2}},\"type\":\"histogram\"}],\"histogram2d\":[{\"colorbar\":{\"outlinewidth\":0,\"ticks\":\"\"},\"colorscale\":[[0.0,\"#0d0887\"],[0.1111111111111111,\"#46039f\"],[0.2222222222222222,\"#7201a8\"],[0.3333333333333333,\"#9c179e\"],[0.4444444444444444,\"#bd3786\"],[0.5555555555555556,\"#d8576b\"],[0.6666666666666666,\"#ed7953\"],[0.7777777777777778,\"#fb9f3a\"],[0.8888888888888888,\"#fdca26\"],[1.0,\"#f0f921\"]],\"type\":\"histogram2d\"}],\"histogram2dcontour\":[{\"colorbar\":{\"outlinewidth\":0,\"ticks\":\"\"},\"colorscale\":[[0.0,\"#0d0887\"],[0.1111111111111111,\"#46039f\"],[0.2222222222222222,\"#7201a8\"],[0.3333333333333333,\"#9c179e\"],[0.4444444444444444,\"#bd3786\"],[0.5555555555555556,\"#d8576b\"],[0.6666666666666666,\"#ed7953\"],[0.7777777777777778,\"#fb9f3a\"],[0.8888888888888888,\"#fdca26\"],[1.0,\"#f0f921\"]],\"type\":\"histogram2dcontour\"}],\"mesh3d\":[{\"colorbar\":{\"outlinewidth\":0,\"ticks\":\"\"},\"type\":\"mesh3d\"}],\"parcoords\":[{\"line\":{\"colorbar\":{\"outlinewidth\":0,\"ticks\":\"\"}},\"type\":\"parcoords\"}],\"pie\":[{\"automargin\":true,\"type\":\"pie\"}],\"scatter\":[{\"marker\":{\"colorbar\":{\"outlinewidth\":0,\"ticks\":\"\"}},\"type\":\"scatter\"}],\"scatter3d\":[{\"line\":{\"colorbar\":{\"outlinewidth\":0,\"ticks\":\"\"}},\"marker\":{\"colorbar\":{\"outlinewidth\":0,\"ticks\":\"\"}},\"type\":\"scatter3d\"}],\"scattercarpet\":[{\"marker\":{\"colorbar\":{\"outlinewidth\":0,\"ticks\":\"\"}},\"type\":\"scattercarpet\"}],\"scattergeo\":[{\"marker\":{\"colorbar\":{\"outlinewidth\":0,\"ticks\":\"\"}},\"type\":\"scattergeo\"}],\"scattergl\":[{\"marker\":{\"colorbar\":{\"outlinewidth\":0,\"ticks\":\"\"}},\"type\":\"scattergl\"}],\"scattermapbox\":[{\"marker\":{\"colorbar\":{\"outlinewidth\":0,\"ticks\":\"\"}},\"type\":\"scattermapbox\"}],\"scatterpolar\":[{\"marker\":{\"colorbar\":{\"outlinewidth\":0,\"ticks\":\"\"}},\"type\":\"scatterpolar\"}],\"scatterpolargl\":[{\"marker\":{\"colorbar\":{\"outlinewidth\":0,\"ticks\":\"\"}},\"type\":\"scatterpolargl\"}],\"scatterternary\":[{\"marker\":{\"colorbar\":{\"outlinewidth\":0,\"ticks\":\"\"}},\"type\":\"scatterternary\"}],\"surface\":[{\"colorbar\":{\"outlinewidth\":0,\"ticks\":\"\"},\"colorscale\":[[0.0,\"#0d0887\"],[0.1111111111111111,\"#46039f\"],[0.2222222222222222,\"#7201a8\"],[0.3333333333333333,\"#9c179e\"],[0.4444444444444444,\"#bd3786\"],[0.5555555555555556,\"#d8576b\"],[0.6666666666666666,\"#ed7953\"],[0.7777777777777778,\"#fb9f3a\"],[0.8888888888888888,\"#fdca26\"],[1.0,\"#f0f921\"]],\"type\":\"surface\"}],\"table\":[{\"cells\":{\"fill\":{\"color\":\"#EBF0F8\"},\"line\":{\"color\":\"white\"}},\"header\":{\"fill\":{\"color\":\"#C8D4E3\"},\"line\":{\"color\":\"white\"}},\"type\":\"table\"}]},\"layout\":{\"annotationdefaults\":{\"arrowcolor\":\"#2a3f5f\",\"arrowhead\":0,\"arrowwidth\":1},\"autotypenumbers\":\"strict\",\"coloraxis\":{\"colorbar\":{\"outlinewidth\":0,\"ticks\":\"\"}},\"colorscale\":{\"diverging\":[[0,\"#8e0152\"],[0.1,\"#c51b7d\"],[0.2,\"#de77ae\"],[0.3,\"#f1b6da\"],[0.4,\"#fde0ef\"],[0.5,\"#f7f7f7\"],[0.6,\"#e6f5d0\"],[0.7,\"#b8e186\"],[0.8,\"#7fbc41\"],[0.9,\"#4d9221\"],[1,\"#276419\"]],\"sequential\":[[0.0,\"#0d0887\"],[0.1111111111111111,\"#46039f\"],[0.2222222222222222,\"#7201a8\"],[0.3333333333333333,\"#9c179e\"],[0.4444444444444444,\"#bd3786\"],[0.5555555555555556,\"#d8576b\"],[0.6666666666666666,\"#ed7953\"],[0.7777777777777778,\"#fb9f3a\"],[0.8888888888888888,\"#fdca26\"],[1.0,\"#f0f921\"]],\"sequentialminus\":[[0.0,\"#0d0887\"],[0.1111111111111111,\"#46039f\"],[0.2222222222222222,\"#7201a8\"],[0.3333333333333333,\"#9c179e\"],[0.4444444444444444,\"#bd3786\"],[0.5555555555555556,\"#d8576b\"],[0.6666666666666666,\"#ed7953\"],[0.7777777777777778,\"#fb9f3a\"],[0.8888888888888888,\"#fdca26\"],[1.0,\"#f0f921\"]]},\"colorway\":[\"#636efa\",\"#EF553B\",\"#00cc96\",\"#ab63fa\",\"#FFA15A\",\"#19d3f3\",\"#FF6692\",\"#B6E880\",\"#FF97FF\",\"#FECB52\"],\"font\":{\"color\":\"#2a3f5f\"},\"geo\":{\"bgcolor\":\"white\",\"lakecolor\":\"white\",\"landcolor\":\"#E5ECF6\",\"showlakes\":true,\"showland\":true,\"subunitcolor\":\"white\"},\"hoverlabel\":{\"align\":\"left\"},\"hovermode\":\"closest\",\"mapbox\":{\"style\":\"light\"},\"paper_bgcolor\":\"white\",\"plot_bgcolor\":\"#E5ECF6\",\"polar\":{\"angularaxis\":{\"gridcolor\":\"white\",\"linecolor\":\"white\",\"ticks\":\"\"},\"bgcolor\":\"#E5ECF6\",\"radialaxis\":{\"gridcolor\":\"white\",\"linecolor\":\"white\",\"ticks\":\"\"}},\"scene\":{\"xaxis\":{\"backgroundcolor\":\"#E5ECF6\",\"gridcolor\":\"white\",\"gridwidth\":2,\"linecolor\":\"white\",\"showbackground\":true,\"ticks\":\"\",\"zerolinecolor\":\"white\"},\"yaxis\":{\"backgroundcolor\":\"#E5ECF6\",\"gridcolor\":\"white\",\"gridwidth\":2,\"linecolor\":\"white\",\"showbackground\":true,\"ticks\":\"\",\"zerolinecolor\":\"white\"},\"zaxis\":{\"backgroundcolor\":\"#E5ECF6\",\"gridcolor\":\"white\",\"gridwidth\":2,\"linecolor\":\"white\",\"showbackground\":true,\"ticks\":\"\",\"zerolinecolor\":\"white\"}},\"shapedefaults\":{\"line\":{\"color\":\"#2a3f5f\"}},\"ternary\":{\"aaxis\":{\"gridcolor\":\"white\",\"linecolor\":\"white\",\"ticks\":\"\"},\"baxis\":{\"gridcolor\":\"white\",\"linecolor\":\"white\",\"ticks\":\"\"},\"bgcolor\":\"#E5ECF6\",\"caxis\":{\"gridcolor\":\"white\",\"linecolor\":\"white\",\"ticks\":\"\"}},\"title\":{\"x\":0.05},\"xaxis\":{\"automargin\":true,\"gridcolor\":\"white\",\"linecolor\":\"white\",\"ticks\":\"\",\"title\":{\"standoff\":15},\"zerolinecolor\":\"white\",\"zerolinewidth\":2},\"yaxis\":{\"automargin\":true,\"gridcolor\":\"white\",\"linecolor\":\"white\",\"ticks\":\"\",\"title\":{\"standoff\":15},\"zerolinecolor\":\"white\",\"zerolinewidth\":2}}},\"xaxis\":{\"anchor\":\"y\",\"domain\":[0.0,1.0],\"title\":{\"text\":\"target\"},\"categoryorder\":\"array\",\"categoryarray\":[0,1]},\"yaxis\":{\"anchor\":\"x\",\"domain\":[0.0,1.0],\"title\":{\"text\":\"count\"}},\"legend\":{\"title\":{\"text\":\"target\"},\"tracegroupgap\":0},\"title\":{\"text\":\"target histogram\"},\"barmode\":\"relative\"},                        {\"responsive\": true}                    ).then(function(){\n",
              "                            \n",
              "var gd = document.getElementById('345e9912-06b7-4aea-93f7-dbeaeccf1e25');\n",
              "var x = new MutationObserver(function (mutations, observer) {{\n",
              "        var display = window.getComputedStyle(gd).display;\n",
              "        if (!display || display === 'none') {{\n",
              "            console.log([gd, 'removed!']);\n",
              "            Plotly.purge(gd);\n",
              "            observer.disconnect();\n",
              "        }}\n",
              "}});\n",
              "\n",
              "// Listen for the removal of the full notebook cells\n",
              "var notebookContainer = gd.closest('#notebook-container');\n",
              "if (notebookContainer) {{\n",
              "    x.observe(notebookContainer, {childList: true});\n",
              "}}\n",
              "\n",
              "// Listen for the clearing of the current output cell\n",
              "var outputEl = gd.closest('.output');\n",
              "if (outputEl) {{\n",
              "    x.observe(outputEl, {childList: true});\n",
              "}}\n",
              "\n",
              "                        })                };                            </script>        </div>\n",
              "</body>\n",
              "</html>"
            ]
          },
          "metadata": {}
        }
      ]
    },
    {
      "cell_type": "markdown",
      "source": [
        "# **Model Creation**"
      ],
      "metadata": {
        "id": "l-sVZVuPjx9O"
      }
    },
    {
      "cell_type": "markdown",
      "source": [
        "## **Linear Models**"
      ],
      "metadata": {
        "id": "f4XxyctajyCo"
      }
    },
    {
      "cell_type": "markdown",
      "source": [
        "### LogisticRegression"
      ],
      "metadata": {
        "id": "ZMbJh97MkJST"
      }
    },
    {
      "cell_type": "code",
      "source": [
        "logistic(X_train,X_test,y_train,y_test)"
      ],
      "metadata": {
        "colab": {
          "base_uri": "https://localhost:8080/",
          "height": 845
        },
        "id": "aK7Q4wvxkIts",
        "outputId": "599d0a6b-8e0e-482c-9cba-f77e7bba4b8b"
      },
      "execution_count": 79,
      "outputs": [
        {
          "output_type": "stream",
          "name": "stdout",
          "text": [
            "Accuracy : 0.7795275590551181\n",
            "Precision : 0.21212121212121213\n",
            "Recall : 0.7777777777777778\n",
            "F1 Score : 0.3333333333333333\n",
            "              precision    recall  f1-score   support\n",
            "\n",
            "           0       0.98      0.78      0.87       118\n",
            "           1       0.21      0.78      0.33         9\n",
            "\n",
            "    accuracy                           0.78       127\n",
            "   macro avg       0.60      0.78      0.60       127\n",
            "weighted avg       0.92      0.78      0.83       127\n",
            "\n",
            "AUC : 0.7787193973634652\n"
          ]
        },
        {
          "output_type": "display_data",
          "data": {
            "text/plain": [
              "<Figure size 432x288 with 1 Axes>"
            ],
            "image/png": "[encoded data removed]"
          },
          "metadata": {
            "needs_background": "light"
          }
        },
        {
          "output_type": "display_data",
          "data": {
            "text/plain": [
              "<Figure size 432x288 with 1 Axes>"
            ],
            "image/png": "[encoded data removed]"
          },
          "metadata": {
            "needs_background": "light"
          }
        }
      ]
    },
    {
      "cell_type": "markdown",
      "metadata": {
        "id": "tck_vaYVn-5m"
      },
      "source": [
        "### RidgeClassifier"
      ]
    },
    {
      "cell_type": "code",
      "execution_count": 80,
      "metadata": {
        "colab": {
          "base_uri": "https://localhost:8080/",
          "height": 845
        },
        "id": "gW0a4yCampnJ",
        "outputId": "d2c1aa71-5b13-4926-effb-9292091d3f7f"
      },
      "outputs": [
        {
          "output_type": "stream",
          "name": "stdout",
          "text": [
            "Accuracy : 0.8267716535433071\n",
            "Precision : 0.25925925925925924\n",
            "Recall : 0.7777777777777778\n",
            "F1 Score : 0.3888888888888889\n",
            "              precision    recall  f1-score   support\n",
            "\n",
            "           0       0.98      0.83      0.90       118\n",
            "           1       0.26      0.78      0.39         9\n",
            "\n",
            "    accuracy                           0.83       127\n",
            "   macro avg       0.62      0.80      0.64       127\n",
            "weighted avg       0.93      0.83      0.86       127\n",
            "\n",
            "AUC : 0.8041431261770244\n"
          ]
        },
        {
          "output_type": "display_data",
          "data": {
            "text/plain": [
              "<Figure size 432x288 with 1 Axes>"
            ],
            "image/png": "[encoded data removed]"
          },
          "metadata": {
            "needs_background": "light"
          }
        },
        {
          "output_type": "display_data",
          "data": {
            "text/plain": [
              "<Figure size 432x288 with 1 Axes>"
            ],
            "image/png": "[encoded data removed]"
          },
          "metadata": {
            "needs_background": "light"
          }
        }
      ],
      "source": [
        "Ridge(X_train,X_test,y_train,y_test)"
      ]
    },
    {
      "cell_type": "markdown",
      "metadata": {
        "id": "uWVc-Ww7oKwL"
      },
      "source": [
        "### SGDClassifier"
      ]
    },
    {
      "cell_type": "code",
      "execution_count": 81,
      "metadata": {
        "colab": {
          "base_uri": "https://localhost:8080/",
          "height": 845
        },
        "id": "Wv-4wykzm1IG",
        "outputId": "ea1eff4f-6bb9-4faa-bd30-59f0dce2a6cc"
      },
      "outputs": [
        {
          "output_type": "stream",
          "name": "stdout",
          "text": [
            "Accuracy : 0.7952755905511811\n",
            "Precision : 0.20689655172413793\n",
            "Recall : 0.6666666666666666\n",
            "F1 Score : 0.31578947368421056\n",
            "              precision    recall  f1-score   support\n",
            "\n",
            "           0       0.97      0.81      0.88       118\n",
            "           1       0.21      0.67      0.32         9\n",
            "\n",
            "    accuracy                           0.80       127\n",
            "   macro avg       0.59      0.74      0.60       127\n",
            "weighted avg       0.92      0.80      0.84       127\n",
            "\n",
            "AUC : 0.7358757062146892\n"
          ]
        },
        {
          "output_type": "display_data",
          "data": {
            "text/plain": [
              "<Figure size 432x288 with 1 Axes>"
            ],
            "image/png": "[encoded data removed]"
          },
          "metadata": {
            "needs_background": "light"
          }
        },
        {
          "output_type": "display_data",
          "data": {
            "text/plain": [
              "<Figure size 432x288 with 1 Axes>"
            ],
            "image/png": "[encoded data removed]"
          },
          "metadata": {
            "needs_background": "light"
          }
        }
      ],
      "source": [
        "SGD(X_train,X_test,y_train,y_test)"
      ]
    },
    {
      "cell_type": "markdown",
      "metadata": {
        "id": "nTIH_OAzkQKU"
      },
      "source": [
        "## **Ensemble and Boosting Models**"
      ]
    },
    {
      "cell_type": "markdown",
      "metadata": {
        "id": "y3IoL-MpoeOw"
      },
      "source": [
        "### RandomForestClassifier"
      ]
    },
    {
      "cell_type": "code",
      "execution_count": 82,
      "metadata": {
        "colab": {
          "base_uri": "https://localhost:8080/",
          "height": 845
        },
        "id": "HAc5oFwzozCJ",
        "outputId": "eed759f7-dca2-4dba-e018-c67f60976373"
      },
      "outputs": [
        {
          "output_type": "stream",
          "name": "stdout",
          "text": [
            "Accuracy : 0.937007874015748\n",
            "Precision : 1.0\n",
            "Recall : 0.1111111111111111\n",
            "F1 Score : 0.19999999999999998\n",
            "              precision    recall  f1-score   support\n",
            "\n",
            "           0       0.94      1.00      0.97       118\n",
            "           1       1.00      0.11      0.20         9\n",
            "\n",
            "    accuracy                           0.94       127\n",
            "   macro avg       0.97      0.56      0.58       127\n",
            "weighted avg       0.94      0.94      0.91       127\n",
            "\n",
            "AUC : 0.5555555555555556\n"
          ]
        },
        {
          "output_type": "display_data",
          "data": {
            "text/plain": [
              "<Figure size 432x288 with 1 Axes>"
            ],
            "image/png": "[encoded data removed]"
          },
          "metadata": {
            "needs_background": "light"
          }
        },
        {
          "output_type": "display_data",
          "data": {
            "text/plain": [
              "<Figure size 432x288 with 1 Axes>"
            ],
            "image/png": "[encoded data removed]"
          },
          "metadata": {
            "needs_background": "light"
          }
        }
      ],
      "source": [
        "RF(X_train,X_test,y_train,y_test)"
      ]
    },
    {
      "cell_type": "markdown",
      "metadata": {
        "id": "QKBiozY0S4xN"
      },
      "source": [
        "### BaggingClassifier"
      ]
    },
    {
      "cell_type": "code",
      "execution_count": 83,
      "metadata": {
        "colab": {
          "base_uri": "https://localhost:8080/",
          "height": 845
        },
        "id": "f5jUUv-mStyB",
        "outputId": "11ba4d67-0576-48ea-9eb8-6a77b6e6a78e"
      },
      "outputs": [
        {
          "output_type": "stream",
          "name": "stdout",
          "text": [
            "Accuracy : 0.84251968503937\n",
            "Precision : 0.17647058823529413\n",
            "Recall : 0.3333333333333333\n",
            "F1 Score : 0.23076923076923078\n",
            "              precision    recall  f1-score   support\n",
            "\n",
            "           0       0.95      0.88      0.91       118\n",
            "           1       0.18      0.33      0.23         9\n",
            "\n",
            "    accuracy                           0.84       127\n",
            "   macro avg       0.56      0.61      0.57       127\n",
            "weighted avg       0.89      0.84      0.86       127\n",
            "\n",
            "AUC : 0.6073446327683615\n"
          ]
        },
        {
          "output_type": "display_data",
          "data": {
            "text/plain": [
              "<Figure size 432x288 with 1 Axes>"
            ],
            "image/png": "[encoded data removed]"
          },
          "metadata": {
            "needs_background": "light"
          }
        },
        {
          "output_type": "display_data",
          "data": {
            "text/plain": [
              "<Figure size 432x288 with 1 Axes>"
            ],
            "image/png": "[encoded data removed]"
          },
          "metadata": {
            "needs_background": "light"
          }
        }
      ],
      "source": [
        "Bagging(X_train,X_test,y_train,y_test)"
      ]
    },
    {
      "cell_type": "markdown",
      "metadata": {
        "id": "Ea8QmaQZWId2"
      },
      "source": [
        "### AdaBoostClassifier"
      ]
    },
    {
      "cell_type": "code",
      "execution_count": 84,
      "metadata": {
        "colab": {
          "base_uri": "https://localhost:8080/",
          "height": 845
        },
        "id": "QXr2C6RxWId3",
        "outputId": "5bd1c322-73d8-40b7-fb83-bc81c1e97daf"
      },
      "outputs": [
        {
          "output_type": "stream",
          "name": "stdout",
          "text": [
            "Accuracy : 0.8740157480314961\n",
            "Precision : 0.0\n",
            "Recall : 0.0\n",
            "F1 Score : 0.0\n",
            "              precision    recall  f1-score   support\n",
            "\n",
            "           0       0.93      0.94      0.93       118\n",
            "           1       0.00      0.00      0.00         9\n",
            "\n",
            "    accuracy                           0.87       127\n",
            "   macro avg       0.46      0.47      0.47       127\n",
            "weighted avg       0.86      0.87      0.87       127\n",
            "\n",
            "AUC : 0.4703389830508475\n"
          ]
        },
        {
          "output_type": "display_data",
          "data": {
            "text/plain": [
              "<Figure size 432x288 with 1 Axes>"
            ],
            "image/png": "[encoded data removed]"
          },
          "metadata": {
            "needs_background": "light"
          }
        },
        {
          "output_type": "display_data",
          "data": {
            "text/plain": [
              "<Figure size 432x288 with 1 Axes>"
            ],
            "image/png": "[encoded data removed]"
          },
          "metadata": {
            "needs_background": "light"
          }
        }
      ],
      "source": [
        "AdaBoost(X_train,X_test,y_train,y_test)"
      ]
    },
    {
      "cell_type": "markdown",
      "metadata": {
        "id": "QnZ-ZCcCWzQo"
      },
      "source": [
        "### ExtraTreesClassifier"
      ]
    },
    {
      "cell_type": "code",
      "execution_count": 85,
      "metadata": {
        "colab": {
          "base_uri": "https://localhost:8080/",
          "height": 845
        },
        "id": "BIUzfxdCWzQp",
        "outputId": "11d2b2ff-efc4-4fce-eebf-7b99df90e235"
      },
      "outputs": [
        {
          "output_type": "stream",
          "name": "stdout",
          "text": [
            "Accuracy : 0.9291338582677166\n",
            "Precision : 0.0\n",
            "Recall : 0.0\n",
            "F1 Score : 0.0\n",
            "              precision    recall  f1-score   support\n",
            "\n",
            "           0       0.93      1.00      0.96       118\n",
            "           1       0.00      0.00      0.00         9\n",
            "\n",
            "    accuracy                           0.93       127\n",
            "   macro avg       0.46      0.50      0.48       127\n",
            "weighted avg       0.86      0.93      0.90       127\n",
            "\n",
            "AUC : 0.5\n"
          ]
        },
        {
          "output_type": "display_data",
          "data": {
            "text/plain": [
              "<Figure size 432x288 with 1 Axes>"
            ],
            "image/png": "[encoded data removed]"
          },
          "metadata": {
            "needs_background": "light"
          }
        },
        {
          "output_type": "display_data",
          "data": {
            "text/plain": [
              "<Figure size 432x288 with 1 Axes>"
            ],
            "image/png": "[encoded data removed]"
          },
          "metadata": {
            "needs_background": "light"
          }
        }
      ],
      "source": [
        "ExtraTrees(X_train,X_test,y_train,y_test)"
      ]
    },
    {
      "cell_type": "markdown",
      "metadata": {
        "id": "ZXaIQPiDY6Wz"
      },
      "source": [
        "### GradientBoostingClassifier"
      ]
    },
    {
      "cell_type": "code",
      "execution_count": 86,
      "metadata": {
        "colab": {
          "base_uri": "https://localhost:8080/",
          "height": 845
        },
        "id": "dRx92jehY6Xb",
        "outputId": "324293c9-908e-4411-f703-2f4eaa9ff689"
      },
      "outputs": [
        {
          "output_type": "stream",
          "name": "stdout",
          "text": [
            "Accuracy : 0.9212598425196851\n",
            "Precision : 0.42857142857142855\n",
            "Recall : 0.3333333333333333\n",
            "F1 Score : 0.375\n",
            "              precision    recall  f1-score   support\n",
            "\n",
            "           0       0.95      0.97      0.96       118\n",
            "           1       0.43      0.33      0.38         9\n",
            "\n",
            "    accuracy                           0.92       127\n",
            "   macro avg       0.69      0.65      0.67       127\n",
            "weighted avg       0.91      0.92      0.92       127\n",
            "\n",
            "AUC : 0.6497175141242937\n"
          ]
        },
        {
          "output_type": "display_data",
          "data": {
            "text/plain": [
              "<Figure size 432x288 with 1 Axes>"
            ],
            "image/png": "[encoded data removed]"
          },
          "metadata": {
            "needs_background": "light"
          }
        },
        {
          "output_type": "display_data",
          "data": {
            "text/plain": [
              "<Figure size 432x288 with 1 Axes>"
            ],
            "image/png": "[encoded data removed]"
          },
          "metadata": {
            "needs_background": "light"
          }
        }
      ],
      "source": [
        "GradientBoosting(X_train,X_test,y_train,y_test)"
      ]
    },
    {
      "cell_type": "markdown",
      "metadata": {
        "id": "BXJepAnWY_rn"
      },
      "source": [
        "### StackingClassifier"
      ]
    },
    {
      "cell_type": "code",
      "execution_count": 87,
      "metadata": {
        "colab": {
          "base_uri": "https://localhost:8080/",
          "height": 845
        },
        "id": "DFjzfTb1Y_rn",
        "outputId": "1371a524-c2b2-4263-bff6-0aaf2f924d3a"
      },
      "outputs": [
        {
          "output_type": "stream",
          "name": "stdout",
          "text": [
            "Accuracy : 0.9291338582677166\n",
            "Precision : 0.5\n",
            "Recall : 0.1111111111111111\n",
            "F1 Score : 0.1818181818181818\n",
            "              precision    recall  f1-score   support\n",
            "\n",
            "           0       0.94      0.99      0.96       118\n",
            "           1       0.50      0.11      0.18         9\n",
            "\n",
            "    accuracy                           0.93       127\n",
            "   macro avg       0.72      0.55      0.57       127\n",
            "weighted avg       0.91      0.93      0.91       127\n",
            "\n",
            "AUC : 0.5513182674199624\n"
          ]
        },
        {
          "output_type": "display_data",
          "data": {
            "text/plain": [
              "<Figure size 432x288 with 1 Axes>"
            ],
            "image/png": "[encoded data removed]"
          },
          "metadata": {
            "needs_background": "light"
          }
        },
        {
          "output_type": "display_data",
          "data": {
            "text/plain": [
              "<Figure size 432x288 with 1 Axes>"
            ],
            "image/png": "[encoded data removed]"
          },
          "metadata": {
            "needs_background": "light"
          }
        }
      ],
      "source": [
        "Stacking(X_train,X_test,y_train,y_test)"
      ]
    },
    {
      "cell_type": "markdown",
      "metadata": {
        "id": "Slty-t9bo8iq"
      },
      "source": [
        "### XGBoostClassifier"
      ]
    },
    {
      "cell_type": "code",
      "execution_count": 88,
      "metadata": {
        "colab": {
          "base_uri": "https://localhost:8080/",
          "height": 845
        },
        "id": "XtCbXLuJpDse",
        "outputId": "ca9c1e91-be2b-4c0a-ce86-9c7476f59fd1"
      },
      "outputs": [
        {
          "output_type": "stream",
          "name": "stdout",
          "text": [
            "Accuracy : 0.889763779527559\n",
            "Precision : 0.2222222222222222\n",
            "Recall : 0.2222222222222222\n",
            "F1 Score : 0.2222222222222222\n",
            "              precision    recall  f1-score   support\n",
            "\n",
            "           0       0.94      0.94      0.94       118\n",
            "           1       0.22      0.22      0.22         9\n",
            "\n",
            "    accuracy                           0.89       127\n",
            "   macro avg       0.58      0.58      0.58       127\n",
            "weighted avg       0.89      0.89      0.89       127\n",
            "\n",
            "AUC : 0.5814500941619586\n"
          ]
        },
        {
          "output_type": "display_data",
          "data": {
            "text/plain": [
              "<Figure size 432x288 with 1 Axes>"
            ],
            "image/png": "[encoded data removed]"
          },
          "metadata": {
            "needs_background": "light"
          }
        },
        {
          "output_type": "display_data",
          "data": {
            "text/plain": [
              "<Figure size 432x288 with 1 Axes>"
            ],
            "image/png": "[encoded data removed]"
          },
          "metadata": {
            "needs_background": "light"
          }
        }
      ],
      "source": [
        "XGBOOST(X_train.values,X_test.values,y_train,y_test)"
      ]
    },
    {
      "cell_type": "markdown",
      "metadata": {
        "id": "rVZeSt7WagEG"
      },
      "source": [
        "# **Conclusion**"
      ]
    },
    {
      "cell_type": "markdown",
      "metadata": {
        "id": "CndMSYCjajN2"
      },
      "source": [
        "RidgeClassifier (Linear) has the best score overall as we can see:\n",
        "\n",
        "It has aroun 82% Accuracy, 25% Precision, 77% Recall, 38% F1 Score, 80% AUC.\n",
        "We can also see the results for each classifier as well.\n",
        "\n",
        "PS, in this case we have limited data but if we have much records and data we can tune hyper parameters for better results as well.\n",
        "\n"
      ]
    }
  ]
}